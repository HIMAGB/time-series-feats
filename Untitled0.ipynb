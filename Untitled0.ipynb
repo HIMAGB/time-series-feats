{
 "metadata": {
  "name": "",
  "signature": "sha256:412bbff25e13687de8a11cd65c73abf6d0a3bfd387de5de8def5e810466d1e18"
 },
 "nbformat": 3,
 "nbformat_minor": 0,
 "worksheets": [
  {
   "cells": [
    {
     "cell_type": "code",
     "collapsed": false,
     "input": [
      "\n",
      "import numpy as np\n",
      "from scipy.optimize import minimize\n",
      "\n",
      "def CAR_Lik(parameters,t,x,error_vars):\n",
      "\n",
      "   sigma = parameters[0]\n",
      "   tau = parameters[1]\n",
      "   #b = parameters[1] #comment it to do 2 pars estimation\n",
      "   #tau = params(1,1);\n",
      "   #sigma = sqrt(2*var(x)/tau);\n",
      "\n",
      "   b = np.mean(x)/tau\n",
      "   epsilon = 1e-300\n",
      "   cte_neg = -np.infty\n",
      "   num_datos = np.size(x)\n",
      "\n",
      "   Omega = []\n",
      "   x_hat = []\n",
      "   a = []\n",
      "   x_ast = []\n",
      "\n",
      "   Omega.append((tau*(sigma**2))/2.)\n",
      "   x_hat.append(0.)\n",
      "   a.append(0.)\n",
      "   x_ast.append(x[0] - b*tau)\n",
      "\n",
      "   loglik = 0.\n",
      "\n",
      "   for i in range(1,num_datos):\n",
      "\n",
      "       a_new = np.exp(-(t[i]-t[i-1])/tau)\n",
      "       x_ast.append(x[i] - b*tau)\n",
      "       x_hat.append(a_new*x_hat[i-1] + (a_new*Omega[i-1]/(Omega[i-1] + error_vars[i-1]))*(x_ast[i-1]-x_hat[i-1]))\n",
      "       Omega.append(Omega[0]*(1-(a_new**2)) + ((a_new**2))*Omega[i-1]*( 1 - (Omega[i-1]/(Omega[i-1]+ error_vars[i-1]))))\n",
      "\n",
      "       loglik_inter = np.log( ((2*np.pi*(Omega[i] + error_vars[i]))**-0.5) * (np.exp( -0.5 * ( ((x_hat[i]-x_ast[i])**2) / (Omega[i] + error_vars[i]))) + epsilon))\n",
      "       loglik = loglik + loglik_inter\n",
      "\n",
      "       if(loglik <= cte_neg):\n",
      "           print('CAR lik se fue a inf')\n",
      "           return None\n",
      "\n",
      "   return -loglik #the minus one is to perfor maximization using the minimize function\n",
      "\n"
     ],
     "language": "python",
     "metadata": {},
     "outputs": [],
     "prompt_number": 23
    },
    {
     "cell_type": "code",
     "collapsed": false,
     "input": [
      "\n",
      "\n",
      "def CAR_features(LC):\n",
      "   x0 = [10,2.0]\n",
      "   bnds = ((0, 100), (0, 100))\n",
      "   res = minimize(CAR_Lik, x0, args=(LC[:,0],LC[:,1],LC[:,2]) ,method='nelder-mead',bounds = bnds)\n",
      "   sigma = res.x[0]\n",
      "   tau = res.x[1]\n",
      "   return sigma, tau\n",
      "\n"
     ],
     "language": "python",
     "metadata": {},
     "outputs": [],
     "prompt_number": 24
    },
    {
     "cell_type": "code",
     "collapsed": false,
     "input": [
      "data = np.random.uniform(-5,10, 1000).reshape((1000,1))\n",
      "error= np.random.uniform(0.000001,1, 1000).reshape((1000,1))\n",
      "tiempo= np.random.uniform(40000,50000, 1000).reshape((1000,1))\n",
      "\n",
      "LC=np.hstack((tiempo, data, error))\n",
      "\n",
      "CAR_features(LC)"
     ],
     "language": "python",
     "metadata": {},
     "outputs": [
      {
       "metadata": {},
       "output_type": "pyout",
       "prompt_number": 25,
       "text": [
        "(10.0, 2.0)"
       ]
      }
     ],
     "prompt_number": 25
    },
    {
     "cell_type": "code",
     "collapsed": false,
     "input": [
      "LC.shape"
     ],
     "language": "python",
     "metadata": {},
     "outputs": [
      {
       "metadata": {},
       "output_type": "pyout",
       "prompt_number": 14,
       "text": [
        "(1000, 3)"
       ]
      }
     ],
     "prompt_number": 14
    },
    {
     "cell_type": "code",
     "collapsed": false,
     "input": [
      "\n",
      "a = FeatureSpace(category='all',featureList=None, automean=[0,0], StetsonL=second_data ,  B_R=second_data, Beyond1Std=error, StetsonJ=second_data, MaxSlope=mjd, LinearTrend=mjd, Eta_B_R=second_data, Eta_e=mjd, Q31B_R=second_data, PeriodLS=mjd)"
     ],
     "language": "python",
     "metadata": {},
     "outputs": [
      {
       "ename": "NameError",
       "evalue": "name 'FeatureSpace' is not defined",
       "output_type": "pyerr",
       "traceback": [
        "\u001b[0;31m---------------------------------------------------------------------------\u001b[0m\n\u001b[0;31mNameError\u001b[0m                                 Traceback (most recent call last)",
        "\u001b[0;32m<ipython-input-22-81adc430f163>\u001b[0m in \u001b[0;36m<module>\u001b[0;34m()\u001b[0m\n\u001b[0;32m----> 1\u001b[0;31m \u001b[0ma\u001b[0m \u001b[0;34m=\u001b[0m \u001b[0mFeatureSpace\u001b[0m\u001b[0;34m(\u001b[0m\u001b[0mcategory\u001b[0m\u001b[0;34m=\u001b[0m\u001b[0;34m'all'\u001b[0m\u001b[0;34m,\u001b[0m\u001b[0mfeatureList\u001b[0m\u001b[0;34m=\u001b[0m\u001b[0mNone\u001b[0m\u001b[0;34m,\u001b[0m \u001b[0mautomean\u001b[0m\u001b[0;34m=\u001b[0m\u001b[0;34m[\u001b[0m\u001b[0;36m0\u001b[0m\u001b[0;34m,\u001b[0m\u001b[0;36m0\u001b[0m\u001b[0;34m]\u001b[0m\u001b[0;34m,\u001b[0m \u001b[0mStetsonL\u001b[0m\u001b[0;34m=\u001b[0m\u001b[0msecond_data\u001b[0m \u001b[0;34m,\u001b[0m  \u001b[0mB_R\u001b[0m\u001b[0;34m=\u001b[0m\u001b[0msecond_data\u001b[0m\u001b[0;34m,\u001b[0m \u001b[0mBeyond1Std\u001b[0m\u001b[0;34m=\u001b[0m\u001b[0merror\u001b[0m\u001b[0;34m,\u001b[0m \u001b[0mStetsonJ\u001b[0m\u001b[0;34m=\u001b[0m\u001b[0msecond_data\u001b[0m\u001b[0;34m,\u001b[0m \u001b[0mMaxSlope\u001b[0m\u001b[0;34m=\u001b[0m\u001b[0mmjd\u001b[0m\u001b[0;34m,\u001b[0m \u001b[0mLinearTrend\u001b[0m\u001b[0;34m=\u001b[0m\u001b[0mmjd\u001b[0m\u001b[0;34m,\u001b[0m \u001b[0mEta_B_R\u001b[0m\u001b[0;34m=\u001b[0m\u001b[0msecond_data\u001b[0m\u001b[0;34m,\u001b[0m \u001b[0mEta_e\u001b[0m\u001b[0;34m=\u001b[0m\u001b[0mmjd\u001b[0m\u001b[0;34m,\u001b[0m \u001b[0mQ31B_R\u001b[0m\u001b[0;34m=\u001b[0m\u001b[0msecond_data\u001b[0m\u001b[0;34m,\u001b[0m \u001b[0mPeriodLS\u001b[0m\u001b[0;34m=\u001b[0m\u001b[0mmjd\u001b[0m\u001b[0;34m)\u001b[0m\u001b[0;34m\u001b[0m\u001b[0m\n\u001b[0m",
        "\u001b[0;31mNameError\u001b[0m: name 'FeatureSpace' is not defined"
       ]
      }
     ],
     "prompt_number": 22
    },
    {
     "cell_type": "code",
     "collapsed": false,
     "input": [],
     "language": "python",
     "metadata": {},
     "outputs": []
    }
   ],
   "metadata": {}
  }
 ]
}
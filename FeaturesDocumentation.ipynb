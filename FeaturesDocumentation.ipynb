{
 "metadata": {
  "name": "",
  "signature": "sha256:6fc53be1cf495a04fbd7b3743c121de5217f4edace428959d15f3b7a106ed4d8"
 },
 "nbformat": 3,
 "nbformat_minor": 0,
 "worksheets": [
  {
   "cells": [
    {
     "cell_type": "code",
     "collapsed": false,
     "input": [
      "from IPython.display import Image\n",
      "from IPython.core.display import HTML\n",
      "css_file = './custom.css'\n",
      "HTML(open(css_file, \"r\").read())"
     ],
     "language": "python",
     "metadata": {
      "hide": true
     },
     "outputs": [
      {
       "html": [
        "<link href='http://fonts.googleapis.com/css?family=Alegreya+Sans:100,300,400,500,700,800,900,100italic,300italic,400italic,500italic,700italic,800italic,900italic' rel='stylesheet' type='text/css'>\n",
        "<link href='http://fonts.googleapis.com/css?family=Arvo:400,700,400italic' rel='stylesheet' type='text/css'>\n",
        "<link href='http://fonts.googleapis.com/css?family=PT+Mono' rel='stylesheet' type='text/css'>\n",
        "<link href='http://fonts.googleapis.com/css?family=Shadows+Into+Light' rel='stylesheet' type='text/css'>\n",
        "<link href='http://fonts.googleapis.com/css?family=Philosopher:400,700,400italic,700italic' rel='stylesheet' type='text/css'>\n",
        "\n",
        "\n",
        "<style>\n",
        "\n",
        "@font-face {\n",
        "    font-family: \"Computer Modern\";\n",
        "    src: url('http://mirrors.ctan.org/fonts/cm-unicode/fonts/otf/cmunss.otf');\n",
        "}\n",
        "\n",
        "#notebook_panel { /* main background */\n",
        "    background: #888;\n",
        "    color: #f6f6f6;\n",
        "}\n",
        "\n",
        "div.cell { /* set cell width to about 80 chars */\n",
        "    width: 1000px;\n",
        "}\n",
        "\n",
        "\n",
        "div #notebook { /* centre the content */\n",
        "    background: #fff; /* white background for content */\n",
        "    width: 1100px;\n",
        "    margin: auto;\n",
        "    padding-left: 1em;\n",
        "}\n",
        "\n",
        "\n",
        "#notebook li { /* More space between bullet points */\n",
        "margin-top:0.8em;\n",
        "}\n",
        "\n",
        "/* draw border around running cells */\n",
        "div.cell.border-box-sizing.code_cell.running {\n",
        "    border: 3px solid #111;\n",
        "}\n",
        "\n",
        "/* Put a solid color box around each cell and its output, visually linking them together */\n",
        "div.cell.code_cell {\n",
        "    background-color: rgba(171,165,131,0.3); \n",
        "    border-radius: 10px; /* rounded borders */\n",
        "    padding: 1em;\n",
        "    margin-top: 1em;\n",
        "    margin-left:2.7em;\n",
        "\n",
        "}\n",
        "\n",
        "div.text_cell_render{\n",
        "    font-family: 'Alvo' sans-serif;\n",
        "    line-height: 130%;\n",
        "    font-size: 115%;\n",
        "    width:900px;\n",
        "    margin-left:auto;\n",
        "    margin-right:auto;\n",
        "}\n",
        "\n",
        "/* Formatting for header cells */\n",
        ".text_cell_render h1 {\n",
        "    font-family: 'Alvo', sans-serif;\n",
        "    font-weight: 400;\n",
        "    font-size: 40pt;\n",
        "    line-height: 100%;\n",
        "    color: black;\n",
        "    margin-bottom: 0.1em;\n",
        "    margin-top: 0.1em;\n",
        "    text-align: center;\n",
        "    display: block;\n",
        "    background-color:  #ADD8E6; \n",
        "    border-radius: 10px; /* rounded borders */\n",
        "    padding: 1em;\n",
        "    margin-top: 1em;\n",
        "}\n",
        "\n",
        ".text_cell_render h2 {\n",
        "    font-family: 'Alvo', sans-serif;\n",
        "    font-weight: 700;\n",
        "    font-size: 24pt;\n",
        "    line-height: 100%;\n",
        "    color: black;\n",
        "    margin-bottom: 0.1em;\n",
        "    margin-top: 0.1em;\n",
        "    display: block;\n",
        "    background-color:   #ACC4E6; \n",
        "    border-radius: 10px; /* rounded borders */\n",
        "    padding: 1em;\n",
        "    margin-top: 1em;\n",
        "}    \n",
        "\n",
        ".text_cell_render h3 {\n",
        "    font-family: 'Alvo', sans-serif;\n",
        "    margin-top:12px;\n",
        "    margin-bottom: 3px;\n",
        "    /*font-style: italic;*/\n",
        "    color: #E56717;\n",
        "}\n",
        "\n",
        ".text_cell_render h4 {\n",
        "    font-family: 'Alvo', sans-serif;\n",
        "    font-weight: 800;\n",
        "    font-size: 13pt;   \n",
        "    margin-top:12px;\n",
        "    margin-bottom: 3px;\n",
        "    color:#FF9949;\n",
        "}\n",
        "\n",
        ".text_cell_render h5 {\n",
        "    font-family: 'Alvo', sans-serif;\n",
        "    font-weight: 800;\n",
        "    font-size: 12pt;   \n",
        "    margin-top:12px;\n",
        "    margin-bottom: 3px;\n",
        "    color:  #6495ED;\n",
        "    font-style: normal;\n",
        "\n",
        "    \n",
        "}\n",
        "\n",
        ".text_cell_render h6 {\n",
        "    font-family: 'PT Mono', sans-serif;\n",
        "    font-weight: 300;\n",
        "    font-size: 10pt;\n",
        "    color: grey;\n",
        "    margin-bottom: 1px;\n",
        "    margin-top: 1px;\n",
        "}\n",
        "\n",
        ".CodeMirror{\n",
        "        font-family: \"PT Mono\";\n",
        "        font-size: 100%;\n",
        "}\n",
        "\n",
        "div.prompt { /* remove In/Out prompt */\n",
        "    display: none;\n",
        "}\n",
        "\n",
        "div.output_subarea { /* remove margin in front of output */\n",
        "    border: none;\n",
        "}\n",
        "\n",
        "</style>\n",
        "\n"
       ],
       "metadata": {},
       "output_type": "pyout",
       "prompt_number": 1,
       "text": [
        "<IPython.core.display.HTML at 0x1023a8f50>"
       ]
      }
     ],
     "prompt_number": 1
    },
    {
     "cell_type": "code",
     "collapsed": false,
     "input": [
      "%load_ext nbtoc\n",
      "%nbtoc"
     ],
     "language": "python",
     "metadata": {
      "hide": true
     },
     "outputs": [
      {
       "html": [
        "<!-- extracted from https://gist.github.com/magican/5574556 -->\n",
        "<div id=\"toc-wrapper\">\n",
        "    <div class=\"header\">Contents <a href=\"#\" class=\"hide-btn\">[hide]</a></div>\n",
        "    <div id=\"toc\"></div>\n",
        "</div>\n",
        " \n",
        "<style>\n",
        "  #toc {\n",
        "    overflow-y: scroll;\n",
        "    max-height: 300px;\n",
        "  }\n",
        "  #toc-wrapper {\n",
        "    position: fixed; top: 120px; max-width:430px; right: 20px;\n",
        "    border: thin solid rgba(0, 0, 0, 0.38); opacity: .8;\n",
        "    border-radius: 5px; background-color: #fff; padding:10px;\n",
        "    z-index: 100;\n",
        "  }\n",
        "  #toc-wrapper.closed {\n",
        "      min-width: 100px;\n",
        "      width: auto;\n",
        "      transition: width;\n",
        "  }\n",
        "  #toc-wrapper:hover{\n",
        "      opacity:1;\n",
        "  }\n",
        "  #toc-wrapper .header {\n",
        "      font-size:18px; font-weight: bold;\n",
        "  }\n",
        "  #toc-wrapper .hide-btn {\n",
        "      font-size: 14px;\n",
        "  }\n",
        " \n",
        "</style>\n",
        "\n",
        "<style>\n",
        "  ol.nested {\n",
        "    counter-reset: item;\n",
        "    list-style: none;\n",
        "  }\n",
        "  li.nested {\n",
        "        display: block;\n",
        "    }\n",
        "  li.nested:before {\n",
        "        counter-increment: item;\n",
        "        content: counters(item, \".\")\" \";\n",
        "    }\n",
        "</style>\n"
       ],
       "metadata": {},
       "output_type": "display_data"
      },
      {
       "javascript": [
        "// adapted from https://gist.github.com/magican/5574556\n",
        "\n",
        "function clone_anchor(element) {\n",
        "  // clone link\n",
        "  var h = element.find(\"div.text_cell_render\").find(':header').first();\n",
        "  var a = h.find('a').clone();\n",
        "  var new_a = $(\"<a>\");\n",
        "  new_a.attr(\"href\", a.attr(\"href\"));\n",
        "  // get the text *excluding* the link text, whatever it may be\n",
        "  var hclone = h.clone();\n",
        "  hclone.children().remove();\n",
        "  new_a.text(hclone.text());\n",
        "  return new_a;\n",
        "}\n",
        "\n",
        "function ol_depth(element) {\n",
        "  // get depth of nested ol\n",
        "  var d = 0;\n",
        "  while (element.prop(\"tagName\").toLowerCase() == 'ol') {\n",
        "    d += 1;\n",
        "    element = element.parent();\n",
        "  }\n",
        "  return d;\n",
        "}\n",
        "\n",
        "function table_of_contents(threshold) {\n",
        "  if (threshold === undefined) {\n",
        "    threshold = 4;\n",
        "  }\n",
        "  var cells = IPython.notebook.get_cells();\n",
        "  \n",
        "  var ol = $(\"<ol/>\");\n",
        "  $(\"#toc\").empty().append(ol);\n",
        "  \n",
        "  for (var i=0; i < cells.length; i++) {\n",
        "    var cell = cells[i];\n",
        "    \n",
        "    if (cell.cell_type !== 'heading') continue;\n",
        "    \n",
        "    var level = cell.level;\n",
        "    if (level > threshold) continue;\n",
        "    \n",
        "    var depth = ol_depth(ol);\n",
        "\n",
        "    // walk down levels\n",
        "    for (; depth < level; depth++) {\n",
        "      var new_ol = $(\"<ol/>\");\n",
        "      ol.append(new_ol);\n",
        "      ol = new_ol;\n",
        "    }\n",
        "    // walk up levels\n",
        "    for (; depth > level; depth--) {\n",
        "      ol = ol.parent();\n",
        "    }\n",
        "    //\n",
        "    ol.append(\n",
        "      $(\"<li/>\").append(clone_anchor(cell.element))\n",
        "    );\n",
        "  }\n",
        "\n",
        "  $('#toc-wrapper .header').click(function(){\n",
        "    $('#toc').slideToggle();\n",
        "    $('#toc-wrapper').toggleClass('closed');\n",
        "    if ($('#toc-wrapper').hasClass('closed')){\n",
        "      $('#toc-wrapper .hide-btn').text('[show]');\n",
        "    } else {\n",
        "      $('#toc-wrapper .hide-btn').text('[hide]');\n",
        "    }\n",
        "    return false;\n",
        "  })\n",
        "\n",
        "  $(window).resize(function(){\n",
        "    $('#toc').css({maxHeight: $(window).height() - 200})\n",
        "  })\n",
        "\n",
        "  $(window).trigger('resize')\n",
        "}\n",
        "\n",
        "table_of_contents();\n",
        "\n",
        "\n"
       ],
       "metadata": {},
       "output_type": "display_data"
      }
     ],
     "prompt_number": 2
    },
    {
     "cell_type": "code",
     "collapsed": false,
     "input": [
      "%load_ext autoreload\n",
      "%autoreload 2\n",
      "%reload_ext autoreload"
     ],
     "language": "python",
     "metadata": {},
     "outputs": [],
     "prompt_number": 3
    },
    {
     "cell_type": "code",
     "collapsed": false,
     "input": [
      "%reload_ext ipyBibtex       "
     ],
     "language": "python",
     "metadata": {},
     "outputs": [],
     "prompt_number": 4
    },
    {
     "cell_type": "code",
     "collapsed": false,
     "input": [
      "%etal 3 \n",
      "%bibFile Bibliography.bib"
     ],
     "language": "python",
     "metadata": {},
     "outputs": [],
     "prompt_number": 91
    },
    {
     "cell_type": "heading",
     "level": 1,
     "metadata": {},
     "source": [
      "Feature Analysis for Time Series "
     ]
    },
    {
     "cell_type": "markdown",
     "metadata": {},
     "source": [
      "<center>**Authors:** Isadora Nun, Pavlos Protopapas\n",
      "\n",
      "**Contributors:** Karim Pichara, Daniel Acu\u00f1a, Nicol\u00e1s Castro, Cristobal Mackenzie, Andr\u00e9s Riveros and Ming Zhu<center>"
     ]
    },
    {
     "cell_type": "heading",
     "level": 2,
     "metadata": {},
     "source": [
      "Introduction"
     ]
    },
    {
     "cell_type": "markdown",
     "metadata": {},
     "source": [
      "In time-domain astronomy where data is in the form of light-curves, a typical classification method uses features of the light-curves and applies sophisticated machine learning to classify objects in a multidimensional features space. Features are numerical descriptors that aim to characterize and distinguish different variability classes. They can go from basic statistical measures as the mean or the standard deviation to time-series characteristics as the autocorrelation.\n",
      "In this document we present a library with a compilation of some of the existing light-curves features. The main idea is to create a collaborative and open tool where every user can characterize or analize an astronomical photometric data base but also contribute with the library by adding new features."
     ]
    },
    {
     "cell_type": "code",
     "collapsed": false,
     "input": [
      "from IPython.display import YouTubeVideo\n",
      "YouTubeVideo('qMx4ozpSRuE',  width=750, height=360, align='right')"
     ],
     "language": "python",
     "metadata": {},
     "outputs": [
      {
       "html": [
        "\n",
        "        <iframe\n",
        "            width=\"750\"\n",
        "            height=360\"\n",
        "            src=\"https://www.youtube.com/embed/qMx4ozpSRuE?align=right\"\n",
        "            frameborder=\"0\"\n",
        "            allowfullscreen\n",
        "        ></iframe>\n",
        "        "
       ],
       "metadata": {},
       "output_type": "pyout",
       "prompt_number": 4,
       "text": [
        "<IPython.lib.display.YouTubeVideo at 0x1023b3210>"
       ]
      }
     ],
     "prompt_number": 4
    },
    {
     "cell_type": "heading",
     "level": 2,
     "metadata": {},
     "source": [
      "The library"
     ]
    },
    {
     "cell_type": "code",
     "collapsed": false,
     "input": [
      "%matplotlib inline\n",
      "from Feature import FeatureSpace\n",
      "import numpy as np\n",
      "import matplotlib.pyplot as plt\n",
      "import seaborn as sns\n",
      "import statsmodels.graphics.tsaplots as tsaplots\n",
      "from  statsmodels.tsa import stattools\n",
      "import pandas \n",
      "from import_lightcurve import LeerLC_MACHO\n",
      "from alignLC import Align_LC\n",
      "from PreprocessLC import Preprocess_LC\n",
      "from create_table import Table"
     ],
     "language": "python",
     "metadata": {},
     "outputs": [],
     "prompt_number": 6
    },
    {
     "cell_type": "heading",
     "level": 3,
     "metadata": {},
     "source": [
      "Library structure"
     ]
    },
    {
     "cell_type": "markdown",
     "metadata": {},
     "source": [
      "The library is coded in python and can be downloaded for free from the github website https://github.com/isadoranun/time-series-feats.git. Some packages and modules must be loaded for its correct use (see frame above); all of these commands are included in the library.\n",
      "\n",
      "The library receives as input the magnitude of the light-curve and it is composed by two main parts. The first one, Feature.py, is a wrapper class that allows the user to select the category of the features to be calculated or to specify a list of them. The second one, FeatureFunciontLib.py, contains the actual code for calculating the features. Each feature has its own class with at least two functions:\n",
      "\n",
      "**init:** receives the necessary inputs (other than the magnitude) for the feature calculation (ex: observational error, observational time, magnitude in a different color band, etc.). It also defines the feature category, \"times-series\" or \"basic\". \n",
      "\n",
      "**fit:**  returns the calculated feature. The output can only take one value.\n",
      "\n",
      "The following code is an example of a class in FeatureFunciontLib.py that calculates the color feature (difference of the mean magnitude in two different bands) :\n",
      "\n",
      "class B_R(Base):\n",
      "        \n",
      "       #Lightcurve average color  \n",
      "       #mean(B) - mean(R)\n",
      "    \n",
      "        def __init__(self, second_data):\n",
      "        self.category='timeSeries'\n",
      "        if second_data is None:\n",
      "            print \"please provide another data series to compute B_R\"\n",
      "            sys.exit(1)\n",
      "        self.data2 = second_data\n",
      "      \n",
      "        def fit(self, data):\n",
      "        return np.mean(data) - np.mean(self.data2)\n",
      "\n"
     ]
    },
    {
     "cell_type": "heading",
     "level": 3,
     "metadata": {},
     "source": [
      "Choosing the features"
     ]
    },
    {
     "cell_type": "markdown",
     "metadata": {},
     "source": [
      "The library we created allows the user to choose the features of interest to be calculated or to calculate them all simultaneously. Also, the features can be calculated based on their category: \"basic\" or \"time series\". \n",
      "\n",
      "By default the library receives only the magnitude data as input. As explained above, some features need extra data as the times of measurement or the associated error, this must be specified as a parameter of the feature. \n",
      "\n",
      "The list of all the possible features with their corresponding categories, parameters and litterature source is presented in the following table: "
     ]
    },
    {
     "cell_type": "code",
     "collapsed": false,
     "input": [
      "from ipy_table import *\n",
      "FeaturesList = [['Feature','Category','Parameter(s)', 'Reference'],['Amplitude','basic','', 'Richards et al., 2011'],['Anderson-Darling test','timeSeries','', 'Kim et al., 2008'],['Automean','basic','2 parameters', '?'] ,['Autocor','timeSeries','','Kim et al., 2011'],['B_R','timeSeries','second_data','Kim et al., 2011'],['Beyond1StdL','basic','error', 'Richards et al., 2011'],['Bmean','basic','','Kim et al., 2014'],['CAR_sigma', 'timeSeries', 'mjd, error', 'Pichara et al., 2012'], ['CAR_mean', 'timeSeries', '', 'Pichara et al., 2012'], ['CAR_tau', 'timeSeries', '', 'Pichara et al., 2012'], ['Con','timeSeries','','Kim et al., 2011'],['Eta_B_R','timeSeries','aligned_second_data, aligned_data, aligned_mjd','Kim et al., 2014'],['Eta_e','timeSeries','mjd','Kim et al., 2014'],['FluxPercentileRatioMid20','basic','', 'Richards et al., 2011'],['FluxPercentileRatioMid35','basic','', 'Richards et al., 2011'],['FluxPercentileRatioMid50','basic','', 'Richards et al., 2011'],['FluxPercentileRatioMid65','basic','', 'Richards et al., 2011'],['FluxPercentileRatioMid80','basic','', 'Richards et al., 2011'],['LinearTrend','timeSeries','mjd', 'Richards et al., 2011'],['MaxSlope','timeSeries','mjd', 'Richards et al., 2011'], ['Meanvariance','basic','','Kim et al., 2011'], ['MedianAbsDev','basic','', 'Richards et al., 2011'],['MedianBRP','basic','', 'Richards et al., 2011'],['PairSlopeTrend','timeSeries','', 'Richards et al., 2011'],['PercentAmplitude','basic','', 'Richards et al., 2011'],['PercentDifferenceFluxPercentile','basic','', 'Richards et al., 2011'],['PeriodLS','timeSeries','mjd','Kim et al., 2011'],['Psi_CS','timeSeries','mjd','Kim et al., 2014'],['Psi_eta','timeSeries','','Kim et al., 2014'],['Q31','basic','','Kim et al., 2014'],['Q31B_R','timeSeries','aligned_second_data, aligned_data','Kim et al., 2014'],['Rcs','timeSeries','','Kim et al., 2011'],['Skew','basic','', 'Richards et al., 2011'], ['SlottedA','timeSeries','mjd','Scott et al., ?'],['SmallKurtosis','basic','', 'Richards et al., 2011'],['Std' ,'basic','', 'Richards et al., 2011'],['StetsonJ','timeSeries','aligned_second_data, aligned_data', 'Richards et al., 2011'],['StetsonK','timeSeries','', 'Richards et al., 2011'], ['StetsonK_AC','timeSeries','','Kim et al., 2011'],['StetsonL','timeSeries','aligned_second_data, aligned_data','Kim et al., 2011'],['VariablityIndex','timeSeries','','Kim et al., 2011']];\n",
      "make_table(FeaturesList)\n",
      "apply_theme('basic')\n",
      "set_global_style(float_format='%0.3E')"
     ],
     "language": "python",
     "metadata": {},
     "outputs": [
      {
       "html": [
        "<table border=\"1\" cellpadding=\"3\" cellspacing=\"0\"  style=\"border:1px solid black;border-collapse:collapse;\"><tr><td  style=\"background-color:LightGray;\"><b>Feature</b></td><td  style=\"background-color:LightGray;\"><b>Category</b></td><td  style=\"background-color:LightGray;\"><b>Parameter(s)</b></td><td  style=\"background-color:LightGray;\"><b>Reference</b></td></tr><tr><td  style=\"background-color:Ivory;\">Amplitude</td><td  style=\"background-color:Ivory;\">basic</td><td  style=\"background-color:Ivory;\"></td><td  style=\"background-color:Ivory;\">Richards&nbspet&nbspal.,&nbsp2011</td></tr><tr><td  style=\"background-color:AliceBlue;\">Anderson-Darling&nbsptest</td><td  style=\"background-color:AliceBlue;\">timeSeries</td><td  style=\"background-color:AliceBlue;\"></td><td  style=\"background-color:AliceBlue;\">Kim&nbspet&nbspal.,&nbsp2008</td></tr><tr><td  style=\"background-color:Ivory;\">Automean</td><td  style=\"background-color:Ivory;\">basic</td><td  style=\"background-color:Ivory;\">2&nbspparameters</td><td  style=\"background-color:Ivory;\">?</td></tr><tr><td  style=\"background-color:AliceBlue;\">Autocor</td><td  style=\"background-color:AliceBlue;\">timeSeries</td><td  style=\"background-color:AliceBlue;\"></td><td  style=\"background-color:AliceBlue;\">Kim&nbspet&nbspal.,&nbsp2011</td></tr><tr><td  style=\"background-color:Ivory;\">B_R</td><td  style=\"background-color:Ivory;\">timeSeries</td><td  style=\"background-color:Ivory;\">second_data</td><td  style=\"background-color:Ivory;\">Kim&nbspet&nbspal.,&nbsp2011</td></tr><tr><td  style=\"background-color:AliceBlue;\">Beyond1StdL</td><td  style=\"background-color:AliceBlue;\">basic</td><td  style=\"background-color:AliceBlue;\">error</td><td  style=\"background-color:AliceBlue;\">Richards&nbspet&nbspal.,&nbsp2011</td></tr><tr><td  style=\"background-color:Ivory;\">Bmean</td><td  style=\"background-color:Ivory;\">basic</td><td  style=\"background-color:Ivory;\"></td><td  style=\"background-color:Ivory;\">Kim&nbspet&nbspal.,&nbsp2014</td></tr><tr><td  style=\"background-color:AliceBlue;\">CAR_sigma</td><td  style=\"background-color:AliceBlue;\">timeSeries</td><td  style=\"background-color:AliceBlue;\">mjd,&nbsperror</td><td  style=\"background-color:AliceBlue;\">Pichara&nbspet&nbspal.,&nbsp2012</td></tr><tr><td  style=\"background-color:Ivory;\">CAR_mean</td><td  style=\"background-color:Ivory;\">timeSeries</td><td  style=\"background-color:Ivory;\"></td><td  style=\"background-color:Ivory;\">Pichara&nbspet&nbspal.,&nbsp2012</td></tr><tr><td  style=\"background-color:AliceBlue;\">CAR_tau</td><td  style=\"background-color:AliceBlue;\">timeSeries</td><td  style=\"background-color:AliceBlue;\"></td><td  style=\"background-color:AliceBlue;\">Pichara&nbspet&nbspal.,&nbsp2012</td></tr><tr><td  style=\"background-color:Ivory;\">Con</td><td  style=\"background-color:Ivory;\">timeSeries</td><td  style=\"background-color:Ivory;\"></td><td  style=\"background-color:Ivory;\">Kim&nbspet&nbspal.,&nbsp2011</td></tr><tr><td  style=\"background-color:AliceBlue;\">Eta_B_R</td><td  style=\"background-color:AliceBlue;\">timeSeries</td><td  style=\"background-color:AliceBlue;\">aligned_second_data,&nbspaligned_data,&nbspaligned_mjd</td><td  style=\"background-color:AliceBlue;\">Kim&nbspet&nbspal.,&nbsp2014</td></tr><tr><td  style=\"background-color:Ivory;\">Eta_e</td><td  style=\"background-color:Ivory;\">timeSeries</td><td  style=\"background-color:Ivory;\">mjd</td><td  style=\"background-color:Ivory;\">Kim&nbspet&nbspal.,&nbsp2014</td></tr><tr><td  style=\"background-color:AliceBlue;\">FluxPercentileRatioMid20</td><td  style=\"background-color:AliceBlue;\">basic</td><td  style=\"background-color:AliceBlue;\"></td><td  style=\"background-color:AliceBlue;\">Richards&nbspet&nbspal.,&nbsp2011</td></tr><tr><td  style=\"background-color:Ivory;\">FluxPercentileRatioMid35</td><td  style=\"background-color:Ivory;\">basic</td><td  style=\"background-color:Ivory;\"></td><td  style=\"background-color:Ivory;\">Richards&nbspet&nbspal.,&nbsp2011</td></tr><tr><td  style=\"background-color:AliceBlue;\">FluxPercentileRatioMid50</td><td  style=\"background-color:AliceBlue;\">basic</td><td  style=\"background-color:AliceBlue;\"></td><td  style=\"background-color:AliceBlue;\">Richards&nbspet&nbspal.,&nbsp2011</td></tr><tr><td  style=\"background-color:Ivory;\">FluxPercentileRatioMid65</td><td  style=\"background-color:Ivory;\">basic</td><td  style=\"background-color:Ivory;\"></td><td  style=\"background-color:Ivory;\">Richards&nbspet&nbspal.,&nbsp2011</td></tr><tr><td  style=\"background-color:AliceBlue;\">FluxPercentileRatioMid80</td><td  style=\"background-color:AliceBlue;\">basic</td><td  style=\"background-color:AliceBlue;\"></td><td  style=\"background-color:AliceBlue;\">Richards&nbspet&nbspal.,&nbsp2011</td></tr><tr><td  style=\"background-color:Ivory;\">LinearTrend</td><td  style=\"background-color:Ivory;\">timeSeries</td><td  style=\"background-color:Ivory;\">mjd</td><td  style=\"background-color:Ivory;\">Richards&nbspet&nbspal.,&nbsp2011</td></tr><tr><td  style=\"background-color:AliceBlue;\">MaxSlope</td><td  style=\"background-color:AliceBlue;\">timeSeries</td><td  style=\"background-color:AliceBlue;\">mjd</td><td  style=\"background-color:AliceBlue;\">Richards&nbspet&nbspal.,&nbsp2011</td></tr><tr><td  style=\"background-color:Ivory;\">Meanvariance</td><td  style=\"background-color:Ivory;\">basic</td><td  style=\"background-color:Ivory;\"></td><td  style=\"background-color:Ivory;\">Kim&nbspet&nbspal.,&nbsp2011</td></tr><tr><td  style=\"background-color:AliceBlue;\">MedianAbsDev</td><td  style=\"background-color:AliceBlue;\">basic</td><td  style=\"background-color:AliceBlue;\"></td><td  style=\"background-color:AliceBlue;\">Richards&nbspet&nbspal.,&nbsp2011</td></tr><tr><td  style=\"background-color:Ivory;\">MedianBRP</td><td  style=\"background-color:Ivory;\">basic</td><td  style=\"background-color:Ivory;\"></td><td  style=\"background-color:Ivory;\">Richards&nbspet&nbspal.,&nbsp2011</td></tr><tr><td  style=\"background-color:AliceBlue;\">PairSlopeTrend</td><td  style=\"background-color:AliceBlue;\">timeSeries</td><td  style=\"background-color:AliceBlue;\"></td><td  style=\"background-color:AliceBlue;\">Richards&nbspet&nbspal.,&nbsp2011</td></tr><tr><td  style=\"background-color:Ivory;\">PercentAmplitude</td><td  style=\"background-color:Ivory;\">basic</td><td  style=\"background-color:Ivory;\"></td><td  style=\"background-color:Ivory;\">Richards&nbspet&nbspal.,&nbsp2011</td></tr><tr><td  style=\"background-color:AliceBlue;\">PercentDifferenceFluxPercentile</td><td  style=\"background-color:AliceBlue;\">basic</td><td  style=\"background-color:AliceBlue;\"></td><td  style=\"background-color:AliceBlue;\">Richards&nbspet&nbspal.,&nbsp2011</td></tr><tr><td  style=\"background-color:Ivory;\">PeriodLS</td><td  style=\"background-color:Ivory;\">timeSeries</td><td  style=\"background-color:Ivory;\">mjd</td><td  style=\"background-color:Ivory;\">Kim&nbspet&nbspal.,&nbsp2011</td></tr><tr><td  style=\"background-color:AliceBlue;\">Psi_CS</td><td  style=\"background-color:AliceBlue;\">timeSeries</td><td  style=\"background-color:AliceBlue;\">mjd</td><td  style=\"background-color:AliceBlue;\">Kim&nbspet&nbspal.,&nbsp2014</td></tr><tr><td  style=\"background-color:Ivory;\">Psi_eta</td><td  style=\"background-color:Ivory;\">timeSeries</td><td  style=\"background-color:Ivory;\"></td><td  style=\"background-color:Ivory;\">Kim&nbspet&nbspal.,&nbsp2014</td></tr><tr><td  style=\"background-color:AliceBlue;\">Q31</td><td  style=\"background-color:AliceBlue;\">basic</td><td  style=\"background-color:AliceBlue;\"></td><td  style=\"background-color:AliceBlue;\">Kim&nbspet&nbspal.,&nbsp2014</td></tr><tr><td  style=\"background-color:Ivory;\">Q31B_R</td><td  style=\"background-color:Ivory;\">timeSeries</td><td  style=\"background-color:Ivory;\">aligned_second_data,&nbspaligned_data</td><td  style=\"background-color:Ivory;\">Kim&nbspet&nbspal.,&nbsp2014</td></tr><tr><td  style=\"background-color:AliceBlue;\">Rcs</td><td  style=\"background-color:AliceBlue;\">timeSeries</td><td  style=\"background-color:AliceBlue;\"></td><td  style=\"background-color:AliceBlue;\">Kim&nbspet&nbspal.,&nbsp2011</td></tr><tr><td  style=\"background-color:Ivory;\">Skew</td><td  style=\"background-color:Ivory;\">basic</td><td  style=\"background-color:Ivory;\"></td><td  style=\"background-color:Ivory;\">Richards&nbspet&nbspal.,&nbsp2011</td></tr><tr><td  style=\"background-color:AliceBlue;\">SlottedA</td><td  style=\"background-color:AliceBlue;\">timeSeries</td><td  style=\"background-color:AliceBlue;\">mjd</td><td  style=\"background-color:AliceBlue;\">Scott&nbspet&nbspal.,&nbsp?</td></tr><tr><td  style=\"background-color:Ivory;\">SmallKurtosis</td><td  style=\"background-color:Ivory;\">basic</td><td  style=\"background-color:Ivory;\"></td><td  style=\"background-color:Ivory;\">Richards&nbspet&nbspal.,&nbsp2011</td></tr><tr><td  style=\"background-color:AliceBlue;\">Std</td><td  style=\"background-color:AliceBlue;\">basic</td><td  style=\"background-color:AliceBlue;\"></td><td  style=\"background-color:AliceBlue;\">Richards&nbspet&nbspal.,&nbsp2011</td></tr><tr><td  style=\"background-color:Ivory;\">StetsonJ</td><td  style=\"background-color:Ivory;\">timeSeries</td><td  style=\"background-color:Ivory;\">aligned_second_data,&nbspaligned_data</td><td  style=\"background-color:Ivory;\">Richards&nbspet&nbspal.,&nbsp2011</td></tr><tr><td  style=\"background-color:AliceBlue;\">StetsonK</td><td  style=\"background-color:AliceBlue;\">timeSeries</td><td  style=\"background-color:AliceBlue;\"></td><td  style=\"background-color:AliceBlue;\">Richards&nbspet&nbspal.,&nbsp2011</td></tr><tr><td  style=\"background-color:Ivory;\">StetsonK_AC</td><td  style=\"background-color:Ivory;\">timeSeries</td><td  style=\"background-color:Ivory;\"></td><td  style=\"background-color:Ivory;\">Kim&nbspet&nbspal.,&nbsp2011</td></tr><tr><td  style=\"background-color:AliceBlue;\">StetsonL</td><td  style=\"background-color:AliceBlue;\">timeSeries</td><td  style=\"background-color:AliceBlue;\">aligned_second_data,&nbspaligned_data</td><td  style=\"background-color:AliceBlue;\">Kim&nbspet&nbspal.,&nbsp2011</td></tr><tr><td  style=\"background-color:Ivory;\">VariablityIndex</td><td  style=\"background-color:Ivory;\">timeSeries</td><td  style=\"background-color:Ivory;\"></td><td  style=\"background-color:Ivory;\">Kim&nbspet&nbspal.,&nbsp2011</td></tr></table>"
       ],
       "metadata": {},
       "output_type": "pyout",
       "prompt_number": 11,
       "text": [
        "<ipy_table.IpyTable at 0x106079410>"
       ]
      }
     ],
     "prompt_number": 11
    },
    {
     "cell_type": "code",
     "collapsed": false,
     "input": [
      "from ipy_table import *\n",
      "FeaturesList = [['Feature','Category','Parameter(s)','Article'],['Amplitude','basic','', 'Richards et al., 2011']]\n",
      "make_table(FeaturesList)\n",
      "apply_theme('basic')\n",
      "set_global_style(float_format='%0.3E')"
     ],
     "language": "python",
     "metadata": {},
     "outputs": [
      {
       "html": [
        "<table border=\"1\" cellpadding=\"3\" cellspacing=\"0\"  style=\"border:1px solid black;border-collapse:collapse;\"><tr><td  style=\"background-color:LightGray;\"><b>Feature</b></td><td  style=\"background-color:LightGray;\"><b>Category</b></td><td  style=\"background-color:LightGray;\"><b>Parameter(s)</b></td><td  style=\"background-color:LightGray;\"><b>Article</b></td></tr><tr><td  style=\"background-color:Ivory;\">Amplitude</td><td  style=\"background-color:Ivory;\">basic</td><td  style=\"background-color:Ivory;\"></td><td  style=\"background-color:Ivory;\">Richards&nbspet&nbspal.,&nbsp2011</td></tr></table>"
       ],
       "metadata": {},
       "output_type": "pyout",
       "prompt_number": 98,
       "text": [
        "<ipy_table.IpyTable at 0x109c98d10>"
       ]
      }
     ],
     "prompt_number": 98
    },
    {
     "cell_type": "markdown",
     "metadata": {},
     "source": [
      "Some examples of how to use the library are presented next:"
     ]
    },
    {
     "cell_type": "heading",
     "level": 4,
     "metadata": {},
     "source": [
      "- List of features as an input:"
     ]
    },
    {
     "cell_type": "code",
     "collapsed": false,
     "input": [
      "a = FeatureSpace(featureList=['Std','StetsonL'], StetsonL=[aligned_second_data, aligned_data])\n",
      "a=a.calculateFeature(data)\n",
      "\n",
      "Table(a)"
     ],
     "language": "python",
     "metadata": {},
     "outputs": [
      {
       "html": [
        "<table border=\"1\" cellpadding=\"3\" cellspacing=\"0\"  style=\"border:1px solid black;border-collapse:collapse;\"><tr><td  style=\"background-color:LightGray;\"><b>Feature</b></td><td  style=\"background-color:LightGray;\"><b>Value</b></td></tr><tr><td  style=\"background-color:Ivory;\">Std</td><td  style=\"background-color:Ivory;\">0.14157</td></tr><tr><td  style=\"background-color:AliceBlue;\">StetsonL</td><td  style=\"background-color:AliceBlue;\">0.32184</td></tr></table>"
       ],
       "metadata": {},
       "output_type": "pyout",
       "prompt_number": 17,
       "text": [
        "<ipy_table.IpyTable at 0x10a286790>"
       ]
      }
     ],
     "prompt_number": 17
    },
    {
     "cell_type": "heading",
     "level": 4,
     "metadata": {},
     "source": [
      "- Category as an input:\n"
     ]
    },
    {
     "cell_type": "code",
     "collapsed": false,
     "input": [
      "a = FeatureSpace(category=['timeSeries'], automean=[0,0], StetsonL=[aligned_second_data, aligned_data] ,  B_R=second_data, Beyond1Std=error, StetsonJ=[aligned_second_data, aligned_data], MaxSlope=mjd, LinearTrend=mjd, Eta_B_R=[aligned_second_data, aligned_data, aligned_mjd], Eta_e=mjd, Q31B_R=[aligned_second_data, aligned_data], PeriodLS=mjd, Psi_CS=mjd, CAR_sigma = [mjd, error**2], SlottedA = mjd)\n",
      "a=a.calculateFeature(data)\n",
      "\n",
      "Table(a)"
     ],
     "language": "python",
     "metadata": {},
     "outputs": [
      {
       "output_type": "stream",
       "stream": "stderr",
       "text": [
        "/Users/isadoranun/anaconda/lib/python2.7/site-packages/scipy/optimize/_minimize.py:369: RuntimeWarning: Method nelder-mead cannot handle constraints nor bounds.\n",
        "  RuntimeWarning)\n"
       ]
      },
      {
       "html": [
        "<table border=\"1\" cellpadding=\"3\" cellspacing=\"0\"  style=\"border:1px solid black;border-collapse:collapse;\"><tr><td  style=\"background-color:LightGray;\"><b>Feature</b></td><td  style=\"background-color:LightGray;\"><b>Value</b></td></tr><tr><td  style=\"background-color:Ivory;\">AndersonDarling</td><td  style=\"background-color:Ivory;\">1.00000</td></tr><tr><td  style=\"background-color:AliceBlue;\">B_R</td><td  style=\"background-color:AliceBlue;\">-0.33326</td></tr><tr><td  style=\"background-color:Ivory;\">CAR_sigma</td><td  style=\"background-color:Ivory;\">1.53866</td></tr><tr><td  style=\"background-color:AliceBlue;\">CAR_tau</td><td  style=\"background-color:AliceBlue;\">0.01678</td></tr><tr><td  style=\"background-color:Ivory;\">CAR_tmean</td><td  style=\"background-color:Ivory;\">-352.77218</td></tr><tr><td  style=\"background-color:AliceBlue;\">Con</td><td  style=\"background-color:AliceBlue;\">0.00000</td></tr><tr><td  style=\"background-color:Ivory;\">Eta_B_R</td><td  style=\"background-color:Ivory;\">12930.68526</td></tr><tr><td  style=\"background-color:AliceBlue;\">Eta_e</td><td  style=\"background-color:AliceBlue;\">905.63620</td></tr><tr><td  style=\"background-color:Ivory;\">LinearTrend</td><td  style=\"background-color:Ivory;\">0.00001</td></tr><tr><td  style=\"background-color:AliceBlue;\">MaxSlope</td><td  style=\"background-color:AliceBlue;\">54.72526</td></tr><tr><td  style=\"background-color:Ivory;\">PairSlopeTrend</td><td  style=\"background-color:Ivory;\">0.03333</td></tr><tr><td  style=\"background-color:AliceBlue;\">PeriodLS</td><td  style=\"background-color:AliceBlue;\">0.93697</td></tr><tr><td  style=\"background-color:Ivory;\">Period_fit</td><td  style=\"background-color:Ivory;\">0.00000</td></tr><tr><td  style=\"background-color:AliceBlue;\">Psi_CS</td><td  style=\"background-color:AliceBlue;\">0.19179</td></tr><tr><td  style=\"background-color:Ivory;\">Psi_eta</td><td  style=\"background-color:Ivory;\">0.58910</td></tr><tr><td  style=\"background-color:AliceBlue;\">Q31B_R</td><td  style=\"background-color:AliceBlue;\">0.10600</td></tr><tr><td  style=\"background-color:Ivory;\">Rcs</td><td  style=\"background-color:Ivory;\">0.03917</td></tr><tr><td  style=\"background-color:AliceBlue;\">SlottedA</td><td  style=\"background-color:AliceBlue;\">4.00000</td></tr><tr><td  style=\"background-color:Ivory;\">StetsonJ</td><td  style=\"background-color:Ivory;\">0.55385</td></tr><tr><td  style=\"background-color:AliceBlue;\">StetsonK</td><td  style=\"background-color:AliceBlue;\">0.76094</td></tr><tr><td  style=\"background-color:Ivory;\">StetsonK_AC</td><td  style=\"background-color:Ivory;\">0.86733</td></tr><tr><td  style=\"background-color:AliceBlue;\">StetsonL</td><td  style=\"background-color:AliceBlue;\">0.32184</td></tr><tr><td  style=\"background-color:Ivory;\">autocor</td><td  style=\"background-color:Ivory;\">2.00000</td></tr></table>"
       ],
       "metadata": {},
       "output_type": "pyout",
       "prompt_number": 18,
       "text": [
        "<ipy_table.IpyTable at 0x10a04a810>"
       ]
      }
     ],
     "prompt_number": 18
    },
    {
     "cell_type": "heading",
     "level": 4,
     "metadata": {},
     "source": [
      "- All the features:"
     ]
    },
    {
     "cell_type": "code",
     "collapsed": false,
     "input": [
      "a = FeatureSpace(category='all',featureList=None, Automean=[0,0], StetsonL=[aligned_second_data, aligned_data] ,  B_R=second_data, Beyond1Std=error, StetsonJ=[aligned_second_data, aligned_data], MaxSlope=mjd, LinearTrend=mjd, Eta_B_R=[aligned_second_data, aligned_data, aligned_mjd], Eta_e=mjd, Q31B_R=[aligned_second_data, aligned_data], PeriodLS=mjd, Psi_CS=mjd, CAR_sigma=[mjd, error], SlottedA = mjd)\n",
      "a=a.calculateFeature(data)\n",
      "\n",
      "Table(a)"
     ],
     "language": "python",
     "metadata": {},
     "outputs": [
      {
       "output_type": "stream",
       "stream": "stderr",
       "text": [
        "WARNING:py.warnings:/Users/isadoranun/anaconda/lib/python2.7/site-packages/scipy/optimize/_minimize.py:369: RuntimeWarning: Method nelder-mead cannot handle constraints nor bounds.\n",
        "  RuntimeWarning)\n",
        "\n"
       ]
      },
      {
       "html": [
        "<table border=\"1\" cellpadding=\"3\" cellspacing=\"0\"  style=\"border:1px solid black;border-collapse:collapse;\"><tr><td  style=\"background-color:LightGray;\"><b>Feature</b></td><td  style=\"background-color:LightGray;\"><b>Value</b></td></tr><tr><td  style=\"background-color:Ivory;\">Amplitude</td><td  style=\"background-color:Ivory;\">0.70500</td></tr><tr><td  style=\"background-color:AliceBlue;\">AndersonDarling</td><td  style=\"background-color:AliceBlue;\">1.00000</td></tr><tr><td  style=\"background-color:Ivory;\">Autocor</td><td  style=\"background-color:Ivory;\">24.00000</td></tr><tr><td  style=\"background-color:AliceBlue;\">Automean</td><td  style=\"background-color:AliceBlue;\">-4.19367</td></tr><tr><td  style=\"background-color:Ivory;\">B_R</td><td  style=\"background-color:Ivory;\">0.20397</td></tr><tr><td  style=\"background-color:AliceBlue;\">Beyond1Std</td><td  style=\"background-color:AliceBlue;\">0.25434</td></tr><tr><td  style=\"background-color:Ivory;\">Bmean</td><td  style=\"background-color:Ivory;\">-4.19367</td></tr><tr><td  style=\"background-color:AliceBlue;\">CAR_sigma</td><td  style=\"background-color:AliceBlue;\">0.01354</td></tr><tr><td  style=\"background-color:Ivory;\">CAR_tau</td><td  style=\"background-color:Ivory;\">1282.76117</td></tr><tr><td  style=\"background-color:AliceBlue;\">CAR_tmean</td><td  style=\"background-color:AliceBlue;\">-0.00327</td></tr><tr><td  style=\"background-color:Ivory;\">Con</td><td  style=\"background-color:Ivory;\">0.03198</td></tr><tr><td  style=\"background-color:AliceBlue;\">Eta_B_R</td><td  style=\"background-color:AliceBlue;\">67202.64628</td></tr><tr><td  style=\"background-color:Ivory;\">Eta_e</td><td  style=\"background-color:Ivory;\">764.39909</td></tr><tr><td  style=\"background-color:AliceBlue;\">FluxPercentileRatioMid20</td><td  style=\"background-color:AliceBlue;\">0.18995</td></tr><tr><td  style=\"background-color:Ivory;\">FluxPercentileRatioMid35</td><td  style=\"background-color:Ivory;\">0.30920</td></tr><tr><td  style=\"background-color:AliceBlue;\">FluxPercentileRatioMid50</td><td  style=\"background-color:AliceBlue;\">0.42845</td></tr><tr><td  style=\"background-color:Ivory;\">FluxPercentileRatioMid65</td><td  style=\"background-color:Ivory;\">0.55281</td></tr><tr><td  style=\"background-color:AliceBlue;\">FluxPercentileRatioMid80</td><td  style=\"background-color:AliceBlue;\">0.69080</td></tr><tr><td  style=\"background-color:Ivory;\">LinearTrend</td><td  style=\"background-color:Ivory;\">-0.00015</td></tr><tr><td  style=\"background-color:AliceBlue;\">MaxSlope</td><td  style=\"background-color:AliceBlue;\">22.80186</td></tr><tr><td  style=\"background-color:Ivory;\">Meanvariance</td><td  style=\"background-color:Ivory;\">-0.08538</td></tr><tr><td  style=\"background-color:AliceBlue;\">MedianAbsDev</td><td  style=\"background-color:AliceBlue;\">0.25500</td></tr><tr><td  style=\"background-color:Ivory;\">MedianBRP</td><td  style=\"background-color:Ivory;\">0.50289</td></tr><tr><td  style=\"background-color:AliceBlue;\">PairSlopeTrend</td><td  style=\"background-color:AliceBlue;\">0.23333</td></tr><tr><td  style=\"background-color:Ivory;\">PercentAmplitude</td><td  style=\"background-color:Ivory;\">-0.34058</td></tr><tr><td  style=\"background-color:AliceBlue;\">PercentDifferenceFluxPercentile</td><td  style=\"background-color:AliceBlue;\">-0.27757</td></tr><tr><td  style=\"background-color:Ivory;\">PeriodLS</td><td  style=\"background-color:Ivory;\">2544.98292</td></tr><tr><td  style=\"background-color:AliceBlue;\">Period_fit</td><td  style=\"background-color:AliceBlue;\">0.00000</td></tr><tr><td  style=\"background-color:Ivory;\">Psi_CS</td><td  style=\"background-color:Ivory;\">0.35335</td></tr><tr><td  style=\"background-color:AliceBlue;\">Psi_eta</td><td  style=\"background-color:AliceBlue;\">0.59690</td></tr><tr><td  style=\"background-color:Ivory;\">Q31</td><td  style=\"background-color:Ivory;\">0.50150</td></tr><tr><td  style=\"background-color:AliceBlue;\">Q31B_R</td><td  style=\"background-color:AliceBlue;\">0.17625</td></tr><tr><td  style=\"background-color:Ivory;\">Rcs</td><td  style=\"background-color:Ivory;\">0.35335</td></tr><tr><td  style=\"background-color:AliceBlue;\">Skew</td><td  style=\"background-color:AliceBlue;\">0.80443</td></tr><tr><td  style=\"background-color:Ivory;\">SlottedA</td><td  style=\"background-color:Ivory;\">140.00000</td></tr><tr><td  style=\"background-color:AliceBlue;\">SmallKurtosis</td><td  style=\"background-color:AliceBlue;\">1.05566</td></tr><tr><td  style=\"background-color:Ivory;\">Std</td><td  style=\"background-color:Ivory;\">0.35804</td></tr><tr><td  style=\"background-color:AliceBlue;\">StetsonJ</td><td  style=\"background-color:AliceBlue;\">0.59582</td></tr><tr><td  style=\"background-color:Ivory;\">StetsonK</td><td  style=\"background-color:Ivory;\">0.79736</td></tr><tr><td  style=\"background-color:AliceBlue;\">StetsonK_AC</td><td  style=\"background-color:AliceBlue;\">0.78120</td></tr><tr><td  style=\"background-color:Ivory;\">StetsonL</td><td  style=\"background-color:Ivory;\">0.30927</td></tr></table>"
       ],
       "metadata": {},
       "output_type": "pyout",
       "prompt_number": 9,
       "text": [
        "<ipy_table.IpyTable at 0x109e5edd0>"
       ]
      }
     ],
     "prompt_number": 9
    },
    {
     "cell_type": "heading",
     "level": 3,
     "metadata": {},
     "source": [
      "Light curves"
     ]
    },
    {
     "cell_type": "markdown",
     "metadata": {},
     "source": [
      "In order to calculate the features of a light curve, it is first necessary to import the file that contains it. This file should be an array composed by at least four vectors: magnitude in two different bands, time of measurement and the associated observational error. For example, the function LeerLC_MACHO() receives a MACHO id as an input and returns the following output:\n",
      "- data: magnitude measurement (blue band)\n",
      "- mjd: time of measurement (blue band)\n",
      "- error: associated observational error (blue band)\n",
      "- second_data: magnitude measurement (red band)\n",
      "\n",
      "A demostration of how to import a MACHO light curve is presented below. Besides opening the file, the data is:\n",
      "- preprocessed: points within 5 standard deviations from the mean are eliminated. \n",
      "- synchronized: when observed in different bands, light curves of a same object are not always monitored for the same time length and at the same precise times. For some features, it is important to align the light curves and to only consider the simultaneous measurements from both bands."
     ]
    },
    {
     "cell_type": "code",
     "collapsed": false,
     "input": [
      "#We open the ligth curve in two different bands\n",
      "lc_B = LeerLC_MACHO('lc_58.6272.729.B.mjd')  #58.6272.729 1.3444.614 1.4652.1527\n",
      "lc_R = LeerLC_MACHO('lc_58.6272.729.R.mjd')\n",
      "\n",
      "#We import the data\n",
      "[data, mjd, error] = lc_B.leerLC()\n",
      "[data2, mjd2, error2] = lc_R.leerLC()\n",
      "\n",
      "#We preprocess the data\n",
      "preproccesed_data = Preprocess_LC(data, mjd, error)\n",
      "[data, mjd, error] = preproccesed_data.Preprocess()\n",
      "\n",
      "preproccesed_data = Preprocess_LC(data2, mjd2, error2)\n",
      "[second_data, mjd2, error2] = preproccesed_data.Preprocess()\n",
      "\n",
      "#We synchronize the data\n",
      "if len(data) != len(second_data):\n",
      "    [aligned_data, aligned_second_data, aligned_mjd] = Align_LC(mjd, mjd2, data, second_data, error, error2)"
     ],
     "language": "python",
     "metadata": {},
     "outputs": [],
     "prompt_number": 7
    },
    {
     "cell_type": "markdown",
     "metadata": {},
     "source": [
      "It is sometimes helpful to visualize the data before processing it. For a representation of the light curve, we can plot it as follows: "
     ]
    },
    {
     "cell_type": "code",
     "collapsed": false,
     "input": [
      "Color = [ 1 ,0.498039, 0.313725];\n",
      "p = plt.plot(mjd, data, '*-', color=Color)\n",
      "plt.xlabel(\"MJD\")\n",
      "plt.ylabel(\"Magnitude\")\n",
      "plt.gca().invert_yaxis()\n",
      "print np.std(data)/np.mean(data)"
     ],
     "language": "python",
     "metadata": {},
     "outputs": [
      {
       "output_type": "stream",
       "stream": "stdout",
       "text": [
        "-0.0239225135894\n"
       ]
      },
      {
       "metadata": {},
       "output_type": "display_data",
       "png": "[encoded data removed]",
       "text": [
        "<matplotlib.figure.Figure at 0x109a45710>"
       ]
      }
     ],
     "prompt_number": 14
    },
    {
     "cell_type": "markdown",
     "metadata": {},
     "source": [
      "Note: for periodic light curves we are able to transform the photometric time\n",
      "series into a single light-curve in which each period is mapped onto the same time axis as follows:\n",
      "$$ t'=\\{\\frac{t-t_0}{T}\\} $$\n",
      "\n",
      "where $T$ is the period, $t_0$ is an arbitrary starting point and the symbol {} represents the non-integer part of the fraction. This process produces a folded light curve on an x-axis of\n",
      "folded time that ranges from 0 to 1. The corresponding folded light curve of the previous example is shown next:"
     ]
    },
    {
     "cell_type": "code",
     "collapsed": false,
     "input": [
      "Color = [ 0.392157, 0.584314 ,0.929412];\n",
      "T = 2 * 0.93697446\n",
      "new_b=np.mod(mjd, T) / T;\n",
      "idx=np.argsort(2*new_b)\n",
      "plt.plot( new_b, data, '*', color = Color)\n",
      "plt.xlabel(\"Phase\")\n",
      "plt.ylabel(\"Magnitude\")\n",
      "# plt.gca().invert_yaxis()"
     ],
     "language": "python",
     "metadata": {},
     "outputs": [
      {
       "metadata": {},
       "output_type": "pyout",
       "prompt_number": 15,
       "text": [
        "<matplotlib.text.Text at 0x109fd5f10>"
       ]
      },
      {
       "metadata": {},
       "output_type": "display_data",
       "png": "[encoded data removed]",
       "text": [
        "<matplotlib.figure.Figure at 0x109fe2590>"
       ]
      }
     ],
     "prompt_number": 15
    },
    {
     "cell_type": "heading",
     "level": 2,
     "metadata": {},
     "source": [
      "The features"
     ]
    },
    {
     "cell_type": "markdown",
     "metadata": {},
     "source": [
      "The next section details the features that we have developed in order to represent the light curves. \n",
      "Every feature is described and tested with a suitable experiment to prove its validity.\n",
      "\n",
      "Note: Each feature was also tested to check its invariance to unequal sampling. This refers to the fact that the telescope observations are not always taken at uniformly spaced intervals. Evidently, light curve descriptors should be insensitive to this nonuniformity. The tests can be found in the following link. "
     ]
    },
    {
     "cell_type": "heading",
     "level": 4,
     "metadata": {},
     "source": [
      "Bmean"
     ]
    },
    {
     "cell_type": "markdown",
     "metadata": {},
     "source": [
      "Mean magnitude of the blue band.\n",
      "For a normal distribution it should take a value close to 0:"
     ]
    },
    {
     "cell_type": "code",
     "collapsed": false,
     "input": [
      "data2 = np.random.normal(size=10000)\n",
      "a = FeatureSpace(featureList=['Bmean'] )\n",
      "a=a.calculateFeature(data2)\n",
      "print a.result(method='dict')"
     ],
     "language": "python",
     "metadata": {},
     "outputs": [
      {
       "output_type": "stream",
       "stream": "stdout",
       "text": [
        "{'Bmean': 0.010039607477225833}\n"
       ]
      }
     ],
     "prompt_number": 23
    },
    {
     "cell_type": "heading",
     "level": 4,
     "metadata": {},
     "source": [
      "Standard deviaton"
     ]
    },
    {
     "cell_type": "markdown",
     "metadata": {},
     "source": [
      "The standard deviation $\\sigma$ of the sample is defined as: \n",
      "\n",
      "$$\\sigma=\\sum_{i} \\frac{(y_{i}-\\hat{y})^2}{N-1}$$"
     ]
    },
    {
     "cell_type": "code",
     "collapsed": false,
     "input": [
      "a = FeatureSpace(featureList=['Std'])\n",
      "a=a.calculateFeature(data)\n",
      "print a.result(method='dict')"
     ],
     "language": "python",
     "metadata": {},
     "outputs": [
      {
       "output_type": "stream",
       "stream": "stdout",
       "text": [
        "{'Std': 0.14157317495929828}\n"
       ]
      }
     ],
     "prompt_number": 24
    },
    {
     "cell_type": "markdown",
     "metadata": {},
     "source": [
      "For example, a white noise time serie should have $\\sigma=1$"
     ]
    },
    {
     "cell_type": "code",
     "collapsed": false,
     "input": [
      "data2 = np.random.normal(size=1000000)\n",
      "a = FeatureSpace(featureList=['Std' ] )\n",
      "a=a.calculateFeature(data2)\n",
      "print a.result(method='dict')"
     ],
     "language": "python",
     "metadata": {},
     "outputs": [
      {
       "output_type": "stream",
       "stream": "stdout",
       "text": [
        "{'Std': 1.0012515590298374}\n"
       ]
      }
     ],
     "prompt_number": 25
    },
    {
     "cell_type": "heading",
     "level": 4,
     "metadata": {},
     "source": [
      "Range of a cumulative sum $R_{cs}$ "
     ]
    },
    {
     "cell_type": "markdown",
     "metadata": {},
     "source": [
      "$R_{cs}$ is the range of a cumulative sum (Ellaway 1978) of each light curve and is defined as:\n",
      "\n",
      "$$R_{cs} = max(S) - min(S)$$\n",
      "$$S_l = \\frac{1}{N \\sigma} \\sum_{i=1}^l \\left( m_i - \\bar{m} \\right) $$\n",
      "\n",
      "where max(min) is the maximum (minimum) value of S and $l=1,2, \\dots, N$. \n",
      "\n",
      "$R_{cs}$ should take a value close to zero for a normal distribution:"
     ]
    },
    {
     "cell_type": "code",
     "collapsed": false,
     "input": [
      "data2 = np.random.normal(size=10000)\n",
      "a = FeatureSpace(featureList=['Rcs'] )\n",
      "a=a.calculateFeature(data)\n",
      "print a.result(method='dict')"
     ],
     "language": "python",
     "metadata": {},
     "outputs": [
      {
       "output_type": "stream",
       "stream": "stdout",
       "text": [
        "{'Rcs': 0.039171450772665782}\n"
       ]
      }
     ],
     "prompt_number": 34
    },
    {
     "cell_type": "heading",
     "level": 4,
     "metadata": {},
     "source": [
      "Period Lomb-Scargle"
     ]
    },
    {
     "cell_type": "markdown",
     "metadata": {},
     "source": [
      "The Lomb-Scargle (L-S) algorithm (Scargle, 1982) is a variation of the Discrete Fourier Transform (DFT), in which a time series is decomposed into a linear combination of sinusoidal functions. The basis of sinusoidal functions transforms the data from the time domain to the frequency domain. DFT techniques often assume evenly spaced data points in the time series, but this is rarely the case with astrophysical time-series data. Scargle has derived a formula for transform coefficients that is similiar to the DFT in the limit of evenly spaced observations. In addition, an adjustment of the values used to calculate the transform coefficients makes the transform invariant to time shifts.\n",
      "\n",
      "The Lomb-Scargle periodogram is optimized to identify sinusoidal-shaped periodic signals in time-series data. Particular applications include radial velocity data and searches for pulsating variable stars. L-S is not optimal for detecting signals from transiting exoplanets, where the shape of the periodic light curve is not sinusoidal.\n",
      "\n",
      "Next, we perform a test on synthetical data to confirm the accuracy of the period found by the L-S method:"
     ]
    },
    {
     "cell_type": "code",
     "collapsed": false,
     "input": [
      "Color = [ 1 ,0.498039, 0.313725];\n",
      "N=100\n",
      "mjd3 = np.arange(N)\n",
      "Period = 20\n",
      "cov = np.zeros([N,N])\n",
      "mean = np.zeros(N)\n",
      "for i in np.arange(N):\n",
      "    for j in np.arange(N):\n",
      "        cov[i,j] = np.exp( -(np.sin( (np.pi/Period) *(i-j))**2))\n",
      "data3=np.random.multivariate_normal(mean, cov)\n",
      "plt.plot(mjd3,data3, color=Color)"
     ],
     "language": "python",
     "metadata": {},
     "outputs": [
      {
       "metadata": {},
       "output_type": "pyout",
       "prompt_number": 87,
       "text": [
        "[<matplotlib.lines.Line2D at 0x10b0ebb90>]"
       ]
      },
      {
       "metadata": {},
       "output_type": "display_data",
       "png": "[encoded data removed]",
       "text": [
        "<matplotlib.figure.Figure at 0x10daa4990>"
       ]
      }
     ],
     "prompt_number": 87
    },
    {
     "cell_type": "code",
     "collapsed": false,
     "input": [
      "a = FeatureSpace(featureList=['PeriodLS'],PeriodLS=mjd3)\n",
      "a=a.calculateFeature(data3)\n",
      "print a.result(method='array')/Period, a.result(method='array'), Period"
     ],
     "language": "python",
     "metadata": {},
     "outputs": [
      {
       "output_type": "stream",
       "stream": "stdout",
       "text": [
        "[ 0.99] [ 19.8] 20\n"
       ]
      }
     ],
     "prompt_number": 42
    },
    {
     "cell_type": "markdown",
     "metadata": {},
     "source": [
      "We can also confirm the validity of this result by folding the light curve as explained in [the introduction](#foldedLC)."
     ]
    },
    {
     "cell_type": "code",
     "collapsed": false,
     "input": [
      "Color = [ 0.392157, 0.584314 ,0.929412];\n",
      "T = 2 * a.result(method='array')\n",
      "new_b=np.mod(mjd3, T) / T;\n",
      "idx=np.argsort(2*new_b)\n",
      "plt.plot( new_b, data3,'*', color=Color)\n",
      "#plt.plot(np.sort(new_b), data3[np.argsort(new_b)],'*', color='red')"
     ],
     "language": "python",
     "metadata": {},
     "outputs": [
      {
       "metadata": {},
       "output_type": "pyout",
       "prompt_number": 43,
       "text": [
        "[<matplotlib.lines.Line2D at 0x10b78d9d0>]"
       ]
      },
      {
       "metadata": {},
       "output_type": "display_data",
       "png": "[encoded data removed]",
       "text": [
        "<matplotlib.figure.Figure at 0x109a9d590>"
       ]
      }
     ],
     "prompt_number": 43
    },
    {
     "cell_type": "heading",
     "level": 4,
     "metadata": {},
     "source": [
      "Period fit"
     ]
    },
    {
     "cell_type": "markdown",
     "metadata": {},
     "source": [
      " Returns the false alarm probability of the largest periodogram value. Let's test it for a normal distributed data and for a periodic one: "
     ]
    },
    {
     "cell_type": "code",
     "collapsed": false,
     "input": [
      "data2 = np.random.normal(size=1000)\n",
      "mjd2=np.arange(1000)\n",
      "a = FeatureSpace(featureList=['PeriodLS','Period_fit'], PeriodLS=mjd2)\n",
      "a=a.calculateFeature(data2)\n",
      "print \"Normal data:\", a.result(method='dict')\n",
      "\n",
      "a = FeatureSpace(featureList=['PeriodLS','Period_fit'], PeriodLS=mjd3)\n",
      "a=a.calculateFeature(data3)\n",
      "print \"Periodic data:\", a.result(method='dict')"
     ],
     "language": "python",
     "metadata": {},
     "outputs": [
      {
       "output_type": "stream",
       "stream": "stdout",
       "text": [
        "Normal data: {'Period_fit': 1.0, 'PeriodLS': 3.7532874139010648}\n",
        "Periodic data:"
       ]
      },
      {
       "output_type": "stream",
       "stream": "stdout",
       "text": [
        " {'Period_fit': 1.372248729395757e-15, 'PeriodLS': 19.800000000000001}\n"
       ]
      }
     ],
     "prompt_number": 76
    },
    {
     "cell_type": "heading",
     "level": 4,
     "metadata": {},
     "source": [
      "$\\Psi_{CS}$"
     ]
    },
    {
     "cell_type": "markdown",
     "metadata": {},
     "source": [
      "$R_{CS}$ applied to the phase-folded light curve (generated using the period estimated from the Lomb-Scargle method)."
     ]
    },
    {
     "cell_type": "code",
     "collapsed": false,
     "input": [
      "a = FeatureSpace(featureList=['PeriodLS','Psi_CS'], PeriodLS=mjd, Psi_CS =mjd )\n",
      "a=a.calculateFeature(data)\n",
      "print a.result(method='dict')"
     ],
     "language": "python",
     "metadata": {},
     "outputs": [
      {
       "output_type": "stream",
       "stream": "stdout",
       "text": [
        "{'PeriodLS': 0.93697445905023935, 'Psi_CS': 0.19179114069585729}\n"
       ]
      }
     ],
     "prompt_number": 32
    },
    {
     "cell_type": "heading",
     "level": 4,
     "metadata": {},
     "source": [
      "Color B_R"
     ]
    },
    {
     "cell_type": "markdown",
     "metadata": {},
     "source": [
      "The color is defined as the difference between the average magnitude of the blue band and the red band observations. The value should be around zero."
     ]
    },
    {
     "cell_type": "code",
     "collapsed": false,
     "input": [
      "a = FeatureSpace(featureList=['B_R' ],B_R=second_data )\n",
      "a=a.calculateFeature(data)\n",
      "print a.result(method='dict')"
     ],
     "language": "python",
     "metadata": {},
     "outputs": [
      {
       "output_type": "stream",
       "stream": "stdout",
       "text": [
        "{'B_R': -0.33325502453332145}\n"
       ]
      }
     ],
     "prompt_number": 321
    },
    {
     "cell_type": "heading",
     "level": 4,
     "metadata": {},
     "source": [
      "Autocorrelation\n"
     ]
    },
    {
     "cell_type": "markdown",
     "metadata": {},
     "source": [
      "The autocorrelation, also known as serial correlation, is the cross-correlation of a signal with itself. Informally, it is the similarity between observations as a function of the time lag between them. It is a mathematical tool for finding repeating patterns, such as the presence of a periodic signal obscured by noise, or identifying the missing fundamental frequency in a signal implied by its harmonic frequencies.\n",
      "\n",
      "For an observed series $y_1, y_2,\\dots,y_T$ with sample mean $\\bar{y}$, the sample lag$-h$ autocorrelation is given by:\n",
      "\n",
      "$$\\hat{\\rho}_h = \\frac{\\sum_{t=h+1}^T (y_t - \\bar{y})(y_{t-h}-\\bar{y})}{\\sum_{t=1}^T (y_t - \\bar{y})^2}$$\n",
      "\n",
      "Since the autocorrelation fuction of a light curve is given by a vector and we can only return one value as a feature, we find the lag value where the autocorrelation function is smaller than $e^{-1}$. "
     ]
    },
    {
     "cell_type": "code",
     "collapsed": false,
     "input": [
      "data2 = np.random.normal(size=10000)\n",
      "a = FeatureSpace(featureList=['Autocor'] )\n",
      "a=a.calculateFeature(data2)\n",
      "print a.result(method='dict')\n",
      "\n",
      "a = FeatureSpace(featureList=['Autocor'] )\n",
      "a=a.calculateFeature(data3)\n",
      "print a.result(method='dict')"
     ],
     "language": "python",
     "metadata": {},
     "outputs": [
      {
       "output_type": "stream",
       "stream": "stdout",
       "text": [
        "{'Autocor': 2}\n"
       ]
      },
      {
       "ename": "NameError",
       "evalue": "name 'data3' is not defined",
       "output_type": "pyerr",
       "traceback": [
        "\u001b[0;31m---------------------------------------------------------------------------\u001b[0m\n\u001b[0;31mNameError\u001b[0m                                 Traceback (most recent call last)",
        "\u001b[0;32m<ipython-input-13-43adc1dea06b>\u001b[0m in \u001b[0;36m<module>\u001b[0;34m()\u001b[0m\n\u001b[1;32m      5\u001b[0m \u001b[0;34m\u001b[0m\u001b[0m\n\u001b[1;32m      6\u001b[0m \u001b[0ma\u001b[0m \u001b[0;34m=\u001b[0m \u001b[0mFeatureSpace\u001b[0m\u001b[0;34m(\u001b[0m\u001b[0mfeatureList\u001b[0m\u001b[0;34m=\u001b[0m\u001b[0;34m[\u001b[0m\u001b[0;34m'Autocor'\u001b[0m\u001b[0;34m]\u001b[0m \u001b[0;34m)\u001b[0m\u001b[0;34m\u001b[0m\u001b[0m\n\u001b[0;32m----> 7\u001b[0;31m \u001b[0ma\u001b[0m\u001b[0;34m=\u001b[0m\u001b[0ma\u001b[0m\u001b[0;34m.\u001b[0m\u001b[0mcalculateFeature\u001b[0m\u001b[0;34m(\u001b[0m\u001b[0mdata3\u001b[0m\u001b[0;34m)\u001b[0m\u001b[0;34m\u001b[0m\u001b[0m\n\u001b[0m\u001b[1;32m      8\u001b[0m \u001b[0;32mprint\u001b[0m \u001b[0ma\u001b[0m\u001b[0;34m.\u001b[0m\u001b[0mresult\u001b[0m\u001b[0;34m(\u001b[0m\u001b[0mmethod\u001b[0m\u001b[0;34m=\u001b[0m\u001b[0;34m'dict'\u001b[0m\u001b[0;34m)\u001b[0m\u001b[0;34m\u001b[0m\u001b[0m\n",
        "\u001b[0;31mNameError\u001b[0m: name 'data3' is not defined"
       ]
      }
     ],
     "prompt_number": 13
    },
    {
     "cell_type": "heading",
     "level": 4,
     "metadata": {},
     "source": [
      "Slotted Autocorrelation \n"
     ]
    },
    {
     "cell_type": "markdown",
     "metadata": {},
     "source": [
      "In slotted autocorrelation, time lags are defined as intervals or slots instead of single values. The slotted autocorrelation function at a certain time lag slot is computed by averaging the cross product between samples whose time differences fall in the given slot.\n",
      "\n",
      "$$\\hat{\\rho}_h = \\frac {\\sum_{t=h+1}^T (y_t - \\bar{y})(y_{t-h}-\\bar{y})}{} $$"
     ]
    },
    {
     "cell_type": "code",
     "collapsed": false,
     "input": [
      "data2 = np.random.normal(size=100)\n",
      "mjd2=np.arange(100)\n",
      "a = FeatureSpace(featureList=['SlottedA'] , SlottedA = mjd2)\n",
      "a=a.calculateFeature(data2)\n",
      "print a.result(method='dict')\n",
      "\n",
      "a = FeatureSpace(featureList=['SlottedA'] , SlottedA = mjd)\n",
      "a=a.calculateFeature(data)\n",
      "print a.result(method='dict')"
     ],
     "language": "python",
     "metadata": {},
     "outputs": [
      {
       "output_type": "stream",
       "stream": "stdout",
       "text": [
        "{'SlottedA': 4}\n",
        "{'SlottedA': 12}\n"
       ]
      }
     ],
     "prompt_number": 89
    },
    {
     "cell_type": "heading",
     "level": 4,
     "metadata": {},
     "source": [
      "Stetson K, Stetson K_AC, Stetson J and Stetson L"
     ]
    },
    {
     "cell_type": "markdown",
     "metadata": {},
     "source": [
      "These three features are based on the Welch/Stetson variability index $I$ defined by the equation:\n",
      "$$ I = \\sqrt{\\frac{1}{n(n-1)}} \\sum_{i=1}^n {\\left( \\frac{b_i-\\hat{b}}{\\sigma_{b,i}}\\right) \\left( \\frac{v_i - \\hat{v}}{\\sigma_{v,i}} \\right)} $$\n",
      "\n",
      "where $b_i$ and $v_i$ are the apparent magnitudes obtained for the candidate star in two observations closely spaced in time on some occasion $i$, $\\sigma_{b,i}$ and $\\sigma_{v,i}$ are the standard errors of those magnitudes, $\\hat{b}$ and $\\hat{v}$ are the weighted mean magnitudes in the two filters, and $n$ is the number of observation pairs.\n",
      "\n",
      "Since a given frame pair may include data from two filters which did not have equal numbers of observations overall, the \"relative error\" is calculated as follows:\n",
      "\n",
      "$$ \\delta = \\sqrt{\\frac{n}{n-1}} \\frac{v-\\hat{v}}{\\sigma_v} $$\n",
      "\n",
      "allowing all residuals to be compared on an equal basis. "
     ]
    },
    {
     "cell_type": "heading",
     "level": 5,
     "metadata": {},
     "source": [
      "- Stetson K"
     ]
    },
    {
     "cell_type": "markdown",
     "metadata": {},
     "source": [
      "Stetson K is a robust kurtosis measure:\n",
      "$$ \\frac{1/N \\sum_{i=1}^N |\\delta_i|}{\\sqrt{1/N \\sum_{i=1}^N \\delta_i^2}}$$\n",
      "\n",
      "where the index $i$ runs over all $N$ observations available for the star without regard to pairing. For a Gaussian magnitude distribution K should take a value close to $\\sqrt{2/\\pi} = 0.798$, let's test it:"
     ]
    },
    {
     "cell_type": "code",
     "collapsed": false,
     "input": [
      "data2 = np.random.normal(size=1000)\n",
      "a = FeatureSpace(featureList=['StetsonK' ] )\n",
      "a=a.calculateFeature(data2)\n",
      "print a.result(method='dict')"
     ],
     "language": "python",
     "metadata": {},
     "outputs": [
      {
       "output_type": "stream",
       "stream": "stdout",
       "text": [
        "{'StetsonK': 0.7924293315236256}\n"
       ]
      }
     ],
     "prompt_number": 80
    },
    {
     "cell_type": "heading",
     "level": 5,
     "metadata": {},
     "source": [
      "- Stetson K_AC"
     ]
    },
    {
     "cell_type": "markdown",
     "metadata": {},
     "source": [
      "Stetson K applied to the slotted autocorrelation function of the light curve."
     ]
    },
    {
     "cell_type": "code",
     "collapsed": false,
     "input": [
      "mjd2=np.arange(100)\n",
      "a = FeatureSpace(featureList=['StetsonK_AC' ])\n",
      "a=a.calculateFeature(data2)\n",
      "print a.result(method='dict')"
     ],
     "language": "python",
     "metadata": {},
     "outputs": [
      {
       "output_type": "stream",
       "stream": "stdout",
       "text": [
        "{'StetsonK_AC': 0.57197197819596424}\n"
       ]
      }
     ],
     "prompt_number": 81
    },
    {
     "cell_type": "heading",
     "level": 5,
     "metadata": {},
     "source": [
      "- Stetson J"
     ]
    },
    {
     "cell_type": "markdown",
     "metadata": {},
     "source": [
      "Stetson J is a robust version of the variability index. It is calculated based on two simultaneous light curves of a same star and is defined as:\n",
      "\n",
      "$$ J =  \\sum_{k=1}^n  sgn(P_k) \\sqrt{|P_k|}$$\n",
      "\n",
      "with $P_k = \\delta_{i_k} \\delta_{j_k} $\n",
      "\n",
      "For a Gaussian magnitude distribution, J should take a value close to zero:"
     ]
    },
    {
     "cell_type": "code",
     "collapsed": false,
     "input": [
      "data2 = np.random.normal(size=10000)\n",
      "data3 = np.random.normal(size=10000)\n",
      "a = FeatureSpace(featureList=['StetsonJ' ], StetsonJ=[data3, data2])\n",
      "a=a.calculateFeature(data2)\n",
      "print a.result(method='dict')"
     ],
     "language": "python",
     "metadata": {},
     "outputs": [
      {
       "output_type": "stream",
       "stream": "stdout",
       "text": [
        "{'StetsonJ': 0.0034382273692935166}\n"
       ]
      }
     ],
     "prompt_number": 326
    },
    {
     "cell_type": "heading",
     "level": 5,
     "metadata": {},
     "source": [
      "- Stetson L"
     ]
    },
    {
     "cell_type": "markdown",
     "metadata": {},
     "source": [
      "Stetson L variability index describes the synchronous variability of different bands and is defined as:\n",
      "$$ L = \\frac{JK}{0.798} $$\n",
      "\n",
      "Again, for a Gaussian magnitude distribution, L should take a value close to zero:"
     ]
    },
    {
     "cell_type": "code",
     "collapsed": false,
     "input": [
      "data2 = np.random.normal(size=10000)\n",
      "data3 = np.random.normal(size=10000)\n",
      "a = FeatureSpace(featureList=['StetsonL' ], StetsonL=[data3, data2])\n",
      "a=a.calculateFeature(data2)\n",
      "print a.result(method='dict')"
     ],
     "language": "python",
     "metadata": {},
     "outputs": [
      {
       "output_type": "stream",
       "stream": "stdout",
       "text": [
        "{'StetsonL': -0.0029759324160864792}\n"
       ]
      }
     ],
     "prompt_number": 25
    },
    {
     "cell_type": "heading",
     "level": 4,
     "metadata": {},
     "source": [
      "Variability index $\\eta$ REMOVED FROM THE LIBRARY"
     ]
    },
    {
     "cell_type": "markdown",
     "metadata": {},
     "source": [
      "Variability index $\\eta$ is the ratio of the mean of the square of successive differences to the variance of data points. The index was originally proposed to check whether the successive data points are independent or not. In other words, the index was developed to check if any trends exist in the data (von Neumann 1941). It is defined as:\n",
      "$$\\eta=\\frac{1}{\\left(N-1 \\right)\\sigma^2}\\sum_{i=1}^{N-1} \\left( m_{i+1}-m_i \\right)^2 $$\n",
      "\n",
      "The variability index should take a value close to 2 for a normal distribution:"
     ]
    },
    {
     "cell_type": "code",
     "collapsed": false,
     "input": [
      "data2 = np.random.normal(size=10000)\n",
      "a = FeatureSpace(featureList=['VariabilityIndex' ] )\n",
      "a=a.calculateFeature(data2)\n",
      "print a.result(method='dict')"
     ],
     "language": "python",
     "metadata": {},
     "outputs": [
      {
       "output_type": "stream",
       "stream": "stdout",
       "text": [
        "{'VariabilityIndex': 2.0094534000165694}\n"
       ]
      }
     ],
     "prompt_number": 26
    },
    {
     "cell_type": "heading",
     "level": 4,
     "metadata": {},
     "source": [
      "Variability index $\\eta^e$"
     ]
    },
    {
     "cell_type": "markdown",
     "metadata": {},
     "source": [
      "Although $\\eta$ is a poweful index for quantifying variability characteristics of a time series, it does not take into account unequal sampling. Thus $\\eta^e$ is defined as:\n",
      "\n",
      "$$ \\eta^e = \\bar{w} \\left( t_{N-1} - t_1 \\right)^2 \\frac{\\sum_{i=1}^{N-1} w_i \\left(m_{i+1} - m_i \\right)^2}{\\sigma^2 \\sum_{i=1}^{N-1} w_i} $$\n",
      "\n",
      "$$ w_i = \\frac{1}{\\left( t_{i+1} - t_i \\right)^2} $$"
     ]
    },
    {
     "cell_type": "code",
     "collapsed": false,
     "input": [
      "data2 = np.random.normal(size=10000)\n",
      "mjd2=np.arange(10000)\n",
      "a = FeatureSpace(featureList=['Eta_e' ], Eta_e = mjd2 )\n",
      "a=a.calculateFeature(data2)\n",
      "print a.result(method='dict')"
     ],
     "language": "python",
     "metadata": {},
     "outputs": [
      {
       "output_type": "stream",
       "stream": "stdout",
       "text": [
        "{'Eta_e': 1.9766541067604133}\n"
       ]
      }
     ],
     "prompt_number": 20
    },
    {
     "cell_type": "heading",
     "level": 4,
     "metadata": {},
     "source": [
      "Variability index $\\eta_{B-R}$"
     ]
    },
    {
     "cell_type": "markdown",
     "metadata": {},
     "source": [
      "$\\eta^e$ index calculated from the B \u2212 R light curve."
     ]
    },
    {
     "cell_type": "code",
     "collapsed": false,
     "input": [
      "data3 = np.random.normal(size=10000)\n",
      "a = FeatureSpace(featureList=['Eta_B_R' ], Eta_B_R = [data3, data2, mjd2] )\n",
      "a=a.calculateFeature(data2)\n",
      "print a.result(method='dict')"
     ],
     "language": "python",
     "metadata": {},
     "outputs": [
      {
       "output_type": "stream",
       "stream": "stdout",
       "text": [
        "{'Eta_B_R': 1.9911118806100956}\n"
       ]
      }
     ],
     "prompt_number": 89
    },
    {
     "cell_type": "heading",
     "level": 4,
     "metadata": {},
     "source": [
      "$\\Psi_\\eta$"
     ]
    },
    {
     "cell_type": "markdown",
     "metadata": {},
     "source": [
      "$\\eta$ index calculated from the folded light curve."
     ]
    },
    {
     "cell_type": "code",
     "collapsed": false,
     "input": [
      "data2 = np.random.normal(size=1000)\n",
      "mjd2=np.arange(1000)\n",
      "a = FeatureSpace(featureList=['PeriodLS','Psi_eta'], PeriodLS = mjd2)\n",
      "a=a.calculateFeature(data2)\n",
      "print a.result(method='dict')"
     ],
     "language": "python",
     "metadata": {},
     "outputs": [
      {
       "output_type": "stream",
       "stream": "stdout",
       "text": [
        "{'Psi_eta': 1.9027877151378241, 'PeriodLS': 6.961672473867595}\n"
       ]
      }
     ],
     "prompt_number": 106
    },
    {
     "cell_type": "heading",
     "level": 4,
     "metadata": {},
     "source": [
      "Small Kurtosis"
     ]
    },
    {
     "cell_type": "markdown",
     "metadata": {},
     "source": [
      "Small sample kurtosis of the magnitudes:\n",
      "$$ Kurtosis = \\frac{N \\left( N+1 \\right)}{\\left( N-1 \\right) \\left( N-2 \\right) \\left( N-3 \\right)} \\sum_{i=1}^N \\left( \\frac{m_i-\\hat{m}}{\\sigma} \\right)^4 - \\frac{3\\left( N-1 \\right)^2}{\\left( N-2 \\right) \\left( N-3 \\right)} $$\n",
      "\n",
      "For a normal distribution, the small kurtosis should be zero:"
     ]
    },
    {
     "cell_type": "code",
     "collapsed": false,
     "input": [
      "data2 = np.random.normal(size=10000)\n",
      "a = FeatureSpace(featureList=['SmallKurtosis' ] )\n",
      "a=a.calculateFeature(data2)\n",
      "print a.result(method='dict')"
     ],
     "language": "python",
     "metadata": {},
     "outputs": [
      {
       "output_type": "stream",
       "stream": "stdout",
       "text": [
        "{'SmallKurtosis': 0.024828668602925763}\n"
       ]
      }
     ],
     "prompt_number": 28
    },
    {
     "cell_type": "heading",
     "level": 4,
     "metadata": {},
     "source": [
      "Skewness"
     ]
    },
    {
     "cell_type": "markdown",
     "metadata": {},
     "source": [
      "The skewness of a sample is defined as follow:\n",
      "$$ Skewness = \\frac{N}{\\left(N-1\\right)\\left(N-2\\right)} \\sum_{i=1}^N \\left( \\frac{m_i-\\hat{m}}{\\sigma}\\right)^3 $$\n",
      "\n",
      "For a normal distribution it should be equal to zero:"
     ]
    },
    {
     "cell_type": "code",
     "collapsed": false,
     "input": [
      "data2 = np.random.normal(size=10000)\n",
      "a = FeatureSpace(featureList=['Skew' ] )\n",
      "a=a.calculateFeature(data2)\n",
      "print a.result(method='dict')"
     ],
     "language": "python",
     "metadata": {},
     "outputs": [
      {
       "output_type": "stream",
       "stream": "stdout",
       "text": [
        "{'Skew': 0.03607135358049564}\n"
       ]
      }
     ],
     "prompt_number": 29
    },
    {
     "cell_type": "heading",
     "level": 4,
     "metadata": {},
     "source": [
      "Median absolute deviation"
     ]
    },
    {
     "cell_type": "markdown",
     "metadata": {},
     "source": [
      "The median absolute deviation is defined as the median discrepancy of the data from the median data:\n",
      "\n",
      "$$Median Absolute Deviation = median\\left( |mag - median(mag)|\\right) $$\n",
      "\n",
      "It should take a value close to 0.675 for a normal distribution:"
     ]
    },
    {
     "cell_type": "code",
     "collapsed": false,
     "input": [
      "data2 = np.random.normal(size=10000)\n",
      "a = FeatureSpace(featureList=['MedianAbsDev' ] )\n",
      "a=a.calculateFeature(data2)\n",
      "print a.result(method='dict')"
     ],
     "language": "python",
     "metadata": {},
     "outputs": [
      {
       "output_type": "stream",
       "stream": "stdout",
       "text": [
        "{'MedianAbsDev': 0.66272885438817208}\n"
       ]
      }
     ],
     "prompt_number": 30
    },
    {
     "cell_type": "heading",
     "level": 4,
     "metadata": {},
     "source": [
      "Amplitude"
     ]
    },
    {
     "cell_type": "markdown",
     "metadata": {},
     "source": [
      "The amplitude is defined as the half of the difference between the mean of the maximum 5% and the mean of the minimum 5% magnitudes.\n",
      "For a sequence of numbers from 0 to 1000 the amplitude should be equal to 475.5:"
     ]
    },
    {
     "cell_type": "code",
     "collapsed": false,
     "input": [
      "data2 = range(1001)\n",
      "a = FeatureSpace(featureList=['Amplitude' ] )\n",
      "a=a.calculateFeature(data2)\n",
      "print a.result(method='dict')"
     ],
     "language": "python",
     "metadata": {},
     "outputs": [
      {
       "output_type": "stream",
       "stream": "stdout",
       "text": [
        "{'Amplitude': 475.5}\n"
       ]
      }
     ],
     "prompt_number": 95
    },
    {
     "cell_type": "heading",
     "level": 4,
     "metadata": {},
     "source": [
      "Con"
     ]
    },
    {
     "cell_type": "markdown",
     "metadata": {},
     "source": [
      "Index introduced for the selection of variable stars from the OGLE database (Wozniak 2000). To calculate Con, we count the number of three consecutive data points that are brighter or fainter than $2\\sigma$ and normalize the number by $N-2$. \n",
      "\n",
      "For a normal distribution and by considering just one star, Con should take values close to 0.045:"
     ]
    },
    {
     "cell_type": "code",
     "collapsed": false,
     "input": [
      "data2 = np.random.normal(size=10000)\n",
      "a = FeatureSpace(featureList=['Con' ] , Con=1)\n",
      "a=a.calculateFeature(data2)\n",
      "print a.result(method='dict')"
     ],
     "language": "python",
     "metadata": {},
     "outputs": [
      {
       "output_type": "stream",
       "stream": "stdout",
       "text": [
        "{'Con': 0.0431}\n"
       ]
      }
     ],
     "prompt_number": 32
    },
    {
     "cell_type": "heading",
     "level": 4,
     "metadata": {},
     "source": [
      "Anderson-Darling test"
     ]
    },
    {
     "cell_type": "markdown",
     "metadata": {},
     "source": [
      "The Anderson-Darling test is a statistical test of whether a given sample of data is drawn from a given probability distribution. When applied to testing  if a normal distribution adequately describes a set of data, it is one of the most poweful statistical tools for detecting most departures from normality.\n",
      "\n",
      "For a normal distribution the Anderson-Darling statistic should take values close to 0.25:"
     ]
    },
    {
     "cell_type": "code",
     "collapsed": false,
     "input": [
      "b=[]\n",
      "for i in xrange(5000):\n",
      "    data2 = np.random.normal(size=10000)\n",
      "    a = FeatureSpace(featureList=['AndersonDarling' ] )\n",
      "    a=a.calculateFeature(data2)\n",
      "    b.extend(a.result())\n",
      "    \n",
      "fig = plt.hist(b)"
     ],
     "language": "python",
     "metadata": {},
     "outputs": [
      {
       "metadata": {},
       "output_type": "display_data",
       "png": "[encoded data removed]",
       "text": [
        "<matplotlib.figure.Figure at 0x10a5bfc50>"
       ]
      }
     ],
     "prompt_number": 46
    },
    {
     "cell_type": "heading",
     "level": 4,
     "metadata": {},
     "source": [
      "Linear trend"
     ]
    },
    {
     "cell_type": "markdown",
     "metadata": {},
     "source": [
      "Slope of a linear fit to the light-curve. "
     ]
    },
    {
     "cell_type": "code",
     "collapsed": false,
     "input": [
      "data2 = np.random.normal(size=10000)\n",
      "mjd2=np.arange(10000)\n",
      "a = FeatureSpace(featureList=['LinearTrend'] ,LinearTrend = mjd2  )\n",
      "a=a.calculateFeature(data2)\n",
      "print a.result(method='dict')"
     ],
     "language": "python",
     "metadata": {},
     "outputs": [
      {
       "output_type": "stream",
       "stream": "stdout",
       "text": [
        "{'LinearTrend': 1.341387473099311e-06}\n"
       ]
      }
     ],
     "prompt_number": 35
    },
    {
     "cell_type": "heading",
     "level": 4,
     "metadata": {},
     "source": [
      "Max slope "
     ]
    },
    {
     "cell_type": "markdown",
     "metadata": {},
     "source": [
      "Maximum absolute magnitude slope between two consecutive observations"
     ]
    },
    {
     "cell_type": "code",
     "collapsed": false,
     "input": [
      "data2 = np.random.normal(size=10000)\n",
      "mjd2=np.arange(10000)\n",
      "a = FeatureSpace(featureList=['MaxSlope'] , MaxSlope = mjd2  )\n",
      "a=a.calculateFeature(data2)\n",
      "print a.result(method='dict')"
     ],
     "language": "python",
     "metadata": {},
     "outputs": [
      {
       "output_type": "stream",
       "stream": "stdout",
       "text": [
        "{'MaxSlope': 5.381101675594564}\n"
       ]
      }
     ],
     "prompt_number": 36
    },
    {
     "cell_type": "heading",
     "level": 4,
     "metadata": {},
     "source": [
      "Beyond 1 std "
     ]
    },
    {
     "cell_type": "markdown",
     "metadata": {},
     "source": [
      "Percentage of points beyond one standard deviation from the weighted mean.\n",
      "\n",
      "For a normal distribution, it should take a value close to 0.32:"
     ]
    },
    {
     "cell_type": "code",
     "collapsed": false,
     "input": [
      "data2 = np.random.normal(size=10000)\n",
      "error2 = np.random.normal(loc=0.01, scale =0.01, size=10000)\n",
      "a = FeatureSpace(featureList=['Beyond1Std'] , Beyond1Std = error2 )\n",
      "a=a.calculateFeature(data2)\n",
      "print a.result(method='dict')"
     ],
     "language": "python",
     "metadata": {},
     "outputs": [
      {
       "output_type": "stream",
       "stream": "stdout",
       "text": [
        "{'Beyond1Std': 0.3146}\n"
       ]
      }
     ],
     "prompt_number": 37
    },
    {
     "cell_type": "heading",
     "level": 4,
     "metadata": {},
     "source": [
      "Pair slope trend"
     ]
    },
    {
     "cell_type": "markdown",
     "metadata": {},
     "source": [
      "Considering the last 30 (time-sorted) measurements of source magnitude, the fraction of increasing first differences minus the fraction of decreasing first differences."
     ]
    },
    {
     "cell_type": "code",
     "collapsed": false,
     "input": [
      "data2 = np.random.normal(size=100000)\n",
      "a = FeatureSpace(featureList=['PairSlopeTrend'])\n",
      "a=a.calculateFeature(data2)\n",
      "print a.result(method='dict')"
     ],
     "language": "python",
     "metadata": {},
     "outputs": [
      {
       "output_type": "stream",
       "stream": "stdout",
       "text": [
        "{'PairSlopeTrend': -0.16666666666666666}\n"
       ]
      }
     ],
     "prompt_number": 111
    },
    {
     "cell_type": "heading",
     "level": 4,
     "metadata": {},
     "source": [
      "Flux percentile ratio mid20, mid 35, mid 50, mid 65 and mid 80 "
     ]
    },
    {
     "cell_type": "markdown",
     "metadata": {},
     "source": [
      "In order to caracterize the sorted magnitudes distribution we use percentiles. If $F_{5,95}$ is the difference between $95\\%$ and $5\\%$ magnitude values, we calculate the following:\n",
      "- flux_percentile_ratio_mid20: ratio $F_{40,60}/F_{5,95}$ \n",
      "- flux_percentile_ratio_mid35: ratio $F_{32.5,67.5}/F_{5,95}$ \n",
      "- flux_percentile_ratio_mid50: ratio $F_{25,75}/F_{5,95}$\n",
      "- flux_percentile_ratio_mid65: ratio $F_{17.5,82.5}/F_{5,95}$ \n",
      "- flux_percentile_ratio_mid80: ratio $F_{10,90}/F_{5,95}$\n",
      "\n",
      "\n",
      "For the first feature for example, in the case of a normal distribution, this is equivalente to calculate $\\frac{erf^{-1}(2 \\cdot 0.6-1)-erf^{-1}(2 \\cdot 0.4-1)}{erf^{-1}(2 \\cdot 0.95-1)-erf^{-1}(2 \\cdot 0.05-1)}$. So, the expected values for each of the flux percentile features are:\n",
      "\n",
      "- flux_percentile_ratio_mid20 = 0.154\n",
      "- flux_percentile_ratio_mid35 = 0.275 \n",
      "- flux_percentile_ratio_mid50 = 0.410\n",
      "- flux_percentile_ratio_mid65 = 0.568\n",
      "- flux_percentile_ratio_mid80 = 0.779"
     ]
    },
    {
     "cell_type": "code",
     "collapsed": false,
     "input": [
      "data2 = np.random.normal(size=100000)\n",
      "a = FeatureSpace(featureList=['FluxPercentileRatioMid20','FluxPercentileRatioMid35','FluxPercentileRatioMid50','FluxPercentileRatioMid65','FluxPercentileRatioMid80'] )\n",
      "a=a.calculateFeature(data2)\n",
      "print a.result(method='dict')"
     ],
     "language": "python",
     "metadata": {},
     "outputs": [
      {
       "output_type": "stream",
       "stream": "stdout",
       "text": [
        "{'FluxPercentileRatioMid80': 0.77977697524327361, 'FluxPercentileRatioMid50': 0.40914549297613029, 'FluxPercentileRatioMid20': 0.1537749468444696, 'FluxPercentileRatioMid35': 0.27560487159782038, 'FluxPercentileRatioMid65': 0.56735470069931293}\n"
       ]
      }
     ],
     "prompt_number": 38
    },
    {
     "cell_type": "heading",
     "level": 4,
     "metadata": {},
     "source": [
      "$Q_{3-1}$"
     ]
    },
    {
     "cell_type": "markdown",
     "metadata": {},
     "source": [
      "$Q_{3-1}$ is the difference between the third quartile, $Q_3$, and the first quartile, $Q_1$, of a raw light curve. $Q_1$ is a split between the lowest $25\\%$ and the highest $75\\%$ of data. $Q_3$ is a split between the lowest $75\\%$ and the highest $25\\%$ of data."
     ]
    },
    {
     "cell_type": "code",
     "collapsed": false,
     "input": [
      "data2 = np.random.normal(size=100000)\n",
      "a = FeatureSpace(featureList=['Q31'])\n",
      "a=a.calculateFeature(data2)\n",
      "print a.result(method='dict')"
     ],
     "language": "python",
     "metadata": {},
     "outputs": [
      {
       "output_type": "stream",
       "stream": "stdout",
       "text": [
        "{'Q31': 1.3519608983225178}\n"
       ]
      }
     ],
     "prompt_number": 119
    },
    {
     "cell_type": "heading",
     "level": 4,
     "metadata": {},
     "source": [
      "$Q_{3-1|B-R}$"
     ]
    },
    {
     "cell_type": "markdown",
     "metadata": {},
     "source": [
      "$Q_{3-1}$ applied to the difference between both bands of a light curve (B-R)."
     ]
    },
    {
     "cell_type": "code",
     "collapsed": false,
     "input": [
      "data2 = np.random.normal(size=10000)\n",
      "data3 = np.random.normal(size=10000)\n",
      "a = FeatureSpace(featureList=['Q31B_R'] , Q31B_R = [data3, data2])\n",
      "a=a.calculateFeature(data2)\n",
      "print a.result(method='dict')"
     ],
     "language": "python",
     "metadata": {},
     "outputs": [
      {
       "output_type": "stream",
       "stream": "stdout",
       "text": [
        "{'Q31B_R': 1.8959928318226758}\n"
       ]
      }
     ],
     "prompt_number": 128
    },
    {
     "cell_type": "heading",
     "level": 4,
     "metadata": {},
     "source": [
      "Percent difference flux percentile WRONG\n"
     ]
    },
    {
     "cell_type": "code",
     "collapsed": false,
     "input": [
      "data2 = np.random.normal(size=10000)\n",
      "a = FeatureSpace(featureList=['PercentDifferenceFluxPercentile'] )\n",
      "a=a.calculateFeature(data2)\n",
      "print a.result(method='dict')"
     ],
     "language": "python",
     "metadata": {},
     "outputs": [
      {
       "output_type": "stream",
       "stream": "stdout",
       "text": [
        "{'PercentDifferenceFluxPercentile': -461.18234418603851}\n"
       ]
      }
     ],
     "prompt_number": 92
    },
    {
     "cell_type": "heading",
     "level": 4,
     "metadata": {},
     "source": [
      "Percent amplitude"
     ]
    },
    {
     "cell_type": "markdown",
     "metadata": {},
     "source": [
      "Largest percentage difference between either the max or min magnitude and the median."
     ]
    },
    {
     "cell_type": "code",
     "collapsed": false,
     "input": [
      "data2 = np.random.normal(size=10000)\n",
      "a = FeatureSpace(featureList=['PercentDifferenceFluxPercentile'] )\n",
      "a=a.calculateFeature(data2)\n",
      "print a.result(method='dict')"
     ],
     "language": "python",
     "metadata": {},
     "outputs": [
      {
       "output_type": "stream",
       "stream": "stdout",
       "text": [
        "{'PercentDifferenceFluxPercentile': -461.18234418603851}\n"
       ]
      }
     ],
     "prompt_number": 92
    },
    {
     "cell_type": "heading",
     "level": 4,
     "metadata": {},
     "source": [
      "Mean variance $\\frac{\\sigma}{\\bar{m}}$ "
     ]
    },
    {
     "cell_type": "markdown",
     "metadata": {},
     "source": [
      "This is a simple variability index and is defined as the ratio of the standard deviation, $\\sigma$, to the mean magnitude, $\\bar{m}$. If a light curve has strong variability, $\\frac{\\sigma}{\\bar{m}}$ of the light curve is generally large.\n",
      "\n",
      "For a uniform distribution the mean-variance should take a value close to 0.577:"
     ]
    },
    {
     "cell_type": "code",
     "collapsed": false,
     "input": [
      "data2 = np.random.uniform(size=1000000)\n",
      "a = FeatureSpace(featureList=['Meanvariance'] )\n",
      "a=a.calculateFeature(data2)\n",
      "print a.result(method='dict')"
     ],
     "language": "python",
     "metadata": {},
     "outputs": [
      {
       "output_type": "stream",
       "stream": "stdout",
       "text": [
        "{'Meanvariance': 0.57725238648731658}\n"
       ]
      }
     ],
     "prompt_number": 12
    },
    {
     "cell_type": "heading",
     "level": 4,
     "metadata": {},
     "source": [
      "Median buffer range percentage (MedianBRP)"
     ]
    },
    {
     "cell_type": "markdown",
     "metadata": {},
     "source": [
      "Fraction of photometric points within amplitude/10 of the median magnitude."
     ]
    },
    {
     "cell_type": "code",
     "collapsed": false,
     "input": [
      "data2 = np.random.normal(size=1000000)\n",
      "a = FeatureSpace(featureList=['MedianBRP'] )\n",
      "a=a.calculateFeature(data2)\n",
      "print a.result(method='dict')"
     ],
     "language": "python",
     "metadata": {},
     "outputs": [
      {
       "output_type": "stream",
       "stream": "stdout",
       "text": [
        "{'MedianBRP': 0.66238}\n"
       ]
      }
     ],
     "prompt_number": 42
    },
    {
     "cell_type": "heading",
     "level": 4,
     "metadata": {},
     "source": [
      "CAR features "
     ]
    },
    {
     "cell_type": "markdown",
     "metadata": {},
     "source": [
      "In order to model the irregular sampled times series we use CAR(1), a continious time auto regressive model. CAR(1) process has three parameters, it provides a natural and consistent way of estimating a characteristic time scale and variance of lightcurves. CAR(1) process is described by the following stochastic differential equation:\n",
      "\n",
      "$$ dX(t) = - \\frac{1}{\\tau} X(t)dt + \\sigma_C \\sqrt{dt} \\epsilon(t) + bdt, $$\n",
      "$$for \\: \\tau, \\sigma_C, t \\geq 0 $$\n",
      "\n",
      "where the mean value of the lightcurve $X(t)$ is $b\\tau$ and the variance is $\\frac{\\tau\\sigma_C^2}{2}$. $\\tau$ is the relaxation time of the process $X(T)$, it can be interpreted as describing the variability amplitude of the time series. $\\sigma_C$ can be interpreted as describing the variability of the time series on time scales shorter than $\\tau$. $\\epsilon(t)$ is a white noise process with zero mean and variance equal to one. The likelihood function of a CAR(1) model for a lightcurve with observations $x - \\{x_1, \\dots, x_n\\}$ observed at times $\\{t_1, \\dots, t_n\\}$ with measurements error variances $\\{\\delta_1^2, \\dots, \\delta_n^2\\}$ is:\n",
      "\n",
      "$$ p \\left( x|b,\\sigma_C,\\tau \\right) = \\prod_{i=1}^n \\frac{1}{[2 \\pi \\left( \\Omega_i + \\delta_i^2 \\right)]^{1/2}} exp \\{ -\\frac{1}{2} \\frac{\\left( \\hat{x}_i - x^*_i \\right)^2}{\\Omega_i + \\delta^2_i} \\} $$\n",
      "$$ x_i^* = x_i - b\\tau$$\n",
      "$$ \\hat{x}_0 = 0 $$\n",
      "$$ \\Omega_0 = \\frac{\\tau \\sigma^2_C}{2} $$\n",
      "$$ \\hat{x}_i = a_i\\hat{x}_{i-1} + \\frac{a_i \\Omega_{i-1}}{\\Omega_{i-1} + \\delta^2_{i-1}} \\left(x^*_{i-1} + \\hat{x}_{i-1} \\right) $$ \n",
      "$$ \\Omega_i = \\Omega_0 \\left( 1- a_i^2 \\right) + a_i^2 \\Omega_{i-1} \\left(1 - \\frac{\\Omega_{i-1}}{\\Omega_{i-1} + \\delta^2_{i-1}} \\right) $$\n",
      "$$ a_i = e^{-\\left(t_i-t_{i-1}\\right)/\\tau} $$\n",
      "\n",
      "To find the optimal parameters we maximize the likelihood with respect to $\\sigma_C$ and $\\tau$ and calculate $b$ as the mean magnitude of the lightcurve divided by $\\tau$."
     ]
    },
    {
     "cell_type": "code",
     "collapsed": false,
     "input": [
      "data2 = np.random.normal(scale=3, size=10000)\n",
      "mjd2=np.arange(10000)\n",
      "error2 = np.random.normal(loc=0.01, scale =0.8, size=10000)\n",
      "a = FeatureSpace(featureList=['CAR_sigma', 'CAR_tau','CAR_tmean'] , CAR_sigma = [mjd2,error2] )\n",
      "a=a.calculateFeature(data2)\n",
      "print a.result(method='dict')"
     ],
     "language": "python",
     "metadata": {},
     "outputs": [
      {
       "output_type": "stream",
       "stream": "stdout",
       "text": [
        "{'CAR_sigma': 14.292272756766003, 'CAR_tmean': 0.41469329223667617, 'CAR_tau': 0.084904534900860029}\n"
       ]
      }
     ],
     "prompt_number": 43
    },
    {
     "cell_type": "code",
     "collapsed": false,
     "input": [
      "print np.var(data2), (15.95)**2 * 0.071/2"
     ],
     "language": "python",
     "metadata": {},
     "outputs": [
      {
       "output_type": "stream",
       "stream": "stdout",
       "text": [
        "9.16413662612 9.03128875\n"
       ]
      }
     ],
     "prompt_number": 44
    },
    {
     "cell_type": "heading",
     "level": 2,
     "metadata": {},
     "source": [
      "References"
     ]
    },
    {
     "cell_type": "markdown",
     "metadata": {},
     "source": [
      "[1] <cite data-cite=\"Kim2008\">Kim, D. W., Protopapas, P., Alcock, C., Byun, Y. I., & Bianco, F. (2008). De-Trending Time Series for Astronomical Variability Surveys. arXiv preprint arXiv:0812.1010.</cite>\n",
      "\n",
      "[2] <cite data-cite=\"Kim2011\">Kim, D. W., Protopapas, P., Byun, Y. I., Alcock, C., Khardon, R., & Trichas, M. (2011). Quasi-stellar object selection algorithm using time variability and machine learning: Selection of 1620 quasi-stellar object candidates from MACHO Large Magellanic Cloud database. The Astrophysical Journal, 735(2), 68.</cite>\n",
      "\n",
      "[3] <cite data-cite=\"Kim2014\">Kim, D. W., Protopapas, P., Bailer-Jones, C. A., Byun, Y. I., Chang, S. W., Marquette, J. B., & Shin, M. S. (2014). The EPOCH Project: I. Periodic Variable Stars in the EROS-2 LMC Database. arXiv preprint arXiv:1403.6131.</cite>\n",
      "\n",
      "[4] <cite data-cite=\"Pichara2012\">Pichara, K., Protopapas, P., Kim, D. W., Marquette, J. B., & Tisserand, P. (2012). An improved quasar detection method in EROS-2 and MACHO LMC data sets. Monthly Notices of the Royal Astronomical Society, 427(2), 1284-1297.</cite>\n",
      "\n",
      "[5] <cite data-cite=\"Richards2011\">Richards, J. W., Starr, D. L., Butler, N. R., Bloom, J. S., Brewer, J. M., Crellin-Quick, A., ... & Rischard, M. (2011). On machine-learned classification of variable stars with sparse and noisy time-series data. The Astrophysical Journal, 733(1), 10.</cite>"
     ]
    },
    {
     "cell_type": "code",
     "collapsed": false,
     "input": [
      "data2 = np.random.normal(scale=3, size=1000)\n",
      "mjd2=np.arange(1000)\n",
      "prod=slotted_autocorrelation(data2, mjd2,T=1, K=100)\n",
      "\n",
      "# index = next((index for index,value in enumerate(prod[1:]) if value < np.exp(-1)), None)\n",
      "\n",
      "#print np.exp(-1), prod[0:20]\n",
      "# print index\n",
      "plt.plot(prod[0:50], color ='blue')\n",
      "plt.plot(stattools.acf(data2)[0:50], color = 'green')\n",
      "#SAC = New_slotted_autocorrelation(data, mjd,T, K)\n",
      "#plt.plot(SAC, color='magenta')"
     ],
     "language": "python",
     "metadata": {},
     "outputs": [
      {
       "metadata": {},
       "output_type": "pyout",
       "prompt_number": 29,
       "text": [
        "[<matplotlib.lines.Line2D at 0x10a825550>]"
       ]
      },
      {
       "metadata": {},
       "output_type": "display_data",
       "png": "[encoded data removed]",
       "text": [
        "<matplotlib.figure.Figure at 0x10a825510>"
       ]
      }
     ],
     "prompt_number": 29
    },
    {
     "cell_type": "code",
     "collapsed": false,
     "input": [
      "def slotted_autocorrelation(data, mjd, T, K):\n",
      "\n",
      "        slots = np.zeros((K,1))\n",
      "        i=1\n",
      "\n",
      "        # make time start from 0\n",
      "        mjd = mjd - np.min(mjd)\n",
      "\n",
      "        # subtract mean from mag values\n",
      "        m = np.mean(data)\n",
      "        data = data - m\n",
      "\n",
      "        prod = np.zeros((K,1))\n",
      "        pairs = np.subtract.outer(mjd, mjd)\n",
      "        pairs[np.tril_indices_from(pairs)] = 10000000\n",
      "\n",
      "        ks = np.int64(np.floor(np.abs(pairs)/T + 0.5))\n",
      "\n",
      "        #We calculate the slotted autocorrelation for k=0 separately\n",
      "        idx = np.where(ks==0)\n",
      "        prod[0] = (sum(data**2) + sum(data[idx[0]]*data[idx[1]])) / (len(idx[0]) + len(data))\n",
      "        slots[0] = 0\n",
      "\n",
      "        #We calculate it for the rest of the ks\n",
      "        for k in np.arange(1, K):\n",
      "            idx = np.where(ks==k)\n",
      "            if len(idx[0]) != 0:\n",
      "                prod[k] = sum(data[idx[0]]*data[idx[1]]) / (len(idx[0]))\n",
      "                slots[i] = k\n",
      "                i = i + 1\n",
      "            else:\n",
      "                prod[k] = np.infty\n",
      "    \n",
      "        slots = np.trim_zeros(slots, trim='b')\n",
      "        return prod/prod[0]"
     ],
     "language": "python",
     "metadata": {},
     "outputs": [],
     "prompt_number": 26
    },
    {
     "cell_type": "code",
     "collapsed": false,
     "input": [
      "[prod, slots, Nslots] = slotted_autocorrelation(data, mjd, T=4, K=200)\n",
      "plt.plot(prod[np.where(Nslots>20)])"
     ],
     "language": "python",
     "metadata": {},
     "outputs": [
      {
       "metadata": {},
       "output_type": "pyout",
       "prompt_number": 100,
       "text": [
        "[<matplotlib.lines.Line2D at 0x10c2fa3d0>]"
       ]
      },
      {
       "metadata": {},
       "output_type": "display_data",
       "png": "[encoded data removed]",
       "text": [
        "<matplotlib.figure.Figure at 0x10b359ad0>"
       ]
      }
     ],
     "prompt_number": 100
    },
    {
     "cell_type": "code",
     "collapsed": false,
     "input": [
      "import time\n",
      "start = time.time()\n",
      "a = FeatureSpace(category='all',featureList=None, automean=[0,0], StetsonL=[aligned_second_data, aligned_data] ,  B_R=second_data, Beyond1Std=error, StetsonJ=[aligned_second_data, aligned_data], MaxSlope=mjd, LinearTrend=mjd, Eta_B_R=[aligned_second_data, aligned_data, aligned_mjd], Eta_e=mjd, Q31B_R=[aligned_second_data, aligned_data], PeriodLS=mjd, CAR_sigma=[mjd, error], SlottedA = mjd)\n",
      "a=a.calculateFeature(data)\n",
      "end = time.time()\n",
      "print end - start"
     ],
     "language": "python",
     "metadata": {},
     "outputs": [
      {
       "output_type": "stream",
       "stream": "stdout",
       "text": [
        "4.02676606178\n"
       ]
      }
     ],
     "prompt_number": 19
    },
    {
     "cell_type": "code",
     "collapsed": false,
     "input": [
      "import time\n",
      "\n",
      "start = time.time()\n",
      "a = FeatureSpace(category='all',featureList=None, automean=[0,0], StetsonL=[aligned_second_data, aligned_data] ,  B_R=second_data, Beyond1Std=error, StetsonJ=[aligned_second_data, aligned_data], MaxSlope=mjd, LinearTrend=mjd, Eta_B_R=[aligned_second_data, aligned_data, aligned_mjd], Eta_e=mjd, Q31B_R=[aligned_second_data, aligned_data], PeriodLS=mjd, Psi_CS=mjd,CAR_sigma=[mjd, error], SlottedA = mjd)\n",
      "a=a.calculateFeature(data)\n",
      "end = time.time()\n",
      "print end - start\n"
     ],
     "language": "python",
     "metadata": {},
     "outputs": [
      {
       "output_type": "stream",
       "stream": "stdout",
       "text": [
        "5.80250191689\n"
       ]
      }
     ],
     "prompt_number": 20
    },
    {
     "cell_type": "code",
     "collapsed": false,
     "input": [
      "5*20000000/60/60/300/80"
     ],
     "language": "python",
     "metadata": {},
     "outputs": [
      {
       "metadata": {},
       "output_type": "pyout",
       "prompt_number": 57,
       "text": [
        "1"
       ]
      }
     ],
     "prompt_number": 57
    },
    {
     "cell_type": "code",
     "collapsed": false,
     "input": [
      "start = time.time()\n",
      "\n",
      "N = len(data)\n",
      "consecutiveStar = 3\n",
      "sigma = np.std(data)\n",
      "m = np.mean(data)\n",
      "\n",
      "flag =[1 if data[i+j] > m+2*sigma or data[i+j] < m-2*sigma else 0 for i in xrange(N-consecutiveStar+1) for j in xrange(consecutiveStar) ]\n",
      "#groups = np.where(np.diff(flag)!=0)\n",
      "#len(np.where(np.diff(np.where(np.diff(flag)!=0))>=3)[1])\n",
      "print np.where(np.diff(flag)!=0)\n",
      "end = time.time()\n",
      "print end - start\n"
     ],
     "language": "python",
     "metadata": {},
     "outputs": [
      {
       "output_type": "stream",
       "stream": "stdout",
       "text": [
        "(array([  16,   17,   18,   19,   20,   21,   43,   44,   45,   46,   47,\n",
        "         48,   49,   50,   51,   52,   53,   54,   58,   59,   60, 1024,\n",
        "       1025, 1026, 1027, 1028, 1029]),)\n",
        "0.00520300865173\n"
       ]
      }
     ],
     "prompt_number": 101
    },
    {
     "cell_type": "code",
     "collapsed": false,
     "input": [
      "import lomb\n",
      "start = time.time()\n",
      "fx,fy, nout, jmax, prob  = lomb.fasper(mjd,data, 6., 100.)\n",
      "end = time.time()\n",
      "print end - start"
     ],
     "language": "python",
     "metadata": {},
     "outputs": [
      {
       "output_type": "stream",
       "stream": "stdout",
       "text": [
        "0.655061006546\n"
       ]
      }
     ],
     "prompt_number": 56
    },
    {
     "cell_type": "code",
     "collapsed": false,
     "input": [
      "import time\n",
      "start = time.time()\n",
      "a = FeatureSpace(category='all',featureList=None, automean=[0,0], StetsonL=[aligned_second_data, aligned_data] ,  B_R=second_data, Beyond1Std=error, StetsonJ=[aligned_second_data, aligned_data], MaxSlope=mjd, LinearTrend=mjd, Eta_B_R=[aligned_second_data, aligned_data, aligned_mjd], Eta_e=mjd, Q31B_R=[aligned_second_data, aligned_data], PeriodLS=mjd, Psi_CS=mjd,CAR_sigma=[mjd, error], SlottedA = mjd)\n",
      "a=a.calculateFeature(data)\n",
      "end = time.time()\n",
      "print end - start"
     ],
     "language": "python",
     "metadata": {},
     "outputs": [
      {
       "output_type": "stream",
       "stream": "stdout",
       "text": [
        "1.89499616623\n"
       ]
      }
     ],
     "prompt_number": 54
    },
    {
     "cell_type": "code",
     "collapsed": false,
     "input": [],
     "language": "python",
     "metadata": {},
     "outputs": []
    }
   ],
   "metadata": {}
  }
 ]
}
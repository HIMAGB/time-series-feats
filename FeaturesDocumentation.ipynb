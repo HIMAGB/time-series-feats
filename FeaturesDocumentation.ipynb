{
 "metadata": {
  "name": "",
  "signature": "sha256:4806faa0b3a5415d377566f7279772f4cf9ef72855ccae0a3db10ec4da688b46"
 },
 "nbformat": 3,
 "nbformat_minor": 0,
 "worksheets": [
  {
   "cells": [
    {
     "cell_type": "markdown",
     "metadata": {},
     "source": [
      "# <span style=\"color:darkblue\"> <H1 align=\"center\"> FATS: Feature Analysis for Time Series </H1> </span>\n",
      "## <span style=\"color:#7D1B7E\">Isadora Nun,</span><font size=\"3\"> <span style=\"color:#7D1B7E\">Pavlos Protopapas, Karim Pichara, Daniel Acu\u00f1a, Nicol\u00e1s Castro, Cristobal Mackenzie, Andr\u00e9s Riveros and Ming Zhu</span></font> "
     ]
    },
    {
     "cell_type": "code",
     "collapsed": false,
     "input": [
      "%load_ext autoreload\n",
      "%autoreload 2\n",
      "\n",
      "from IPython.display import Image\n",
      "Image(url='http://www.ing.puc.cl/wp-content/uploads/2014/08/isadora-cristbal-pavlos-karim-nicolas-andres-edit.jpg')"
     ],
     "language": "python",
     "metadata": {},
     "outputs": [
      {
       "output_type": "stream",
       "stream": "stdout",
       "text": [
        "The autoreload extension is already loaded. To reload it, use:\n",
        "  %reload_ext autoreload\n"
       ]
      },
      {
       "html": [
        "<img src=\"http://www.ing.puc.cl/wp-content/uploads/2014/08/isadora-cristbal-pavlos-karim-nicolas-andres-edit.jpg\"/>"
       ],
       "metadata": {},
       "output_type": "pyout",
       "prompt_number": 17,
       "text": [
        "<IPython.core.display.Image at 0x10239ca50>"
       ]
      }
     ],
     "prompt_number": 17
    },
    {
     "cell_type": "markdown",
     "metadata": {},
     "source": [
      "Time Series features are important for all kind of classification .. In this document we described the library .... "
     ]
    },
    {
     "cell_type": "code",
     "collapsed": false,
     "input": [
      "from IPython.display import YouTubeVideo\n",
      "YouTubeVideo('qMx4ozpSRuE')\n"
     ],
     "language": "python",
     "metadata": {},
     "outputs": [
      {
       "html": [
        "\n",
        "        <iframe\n",
        "            width=\"400\"\n",
        "            height=300\"\n",
        "            src=\"https://www.youtube.com/embed/qMx4ozpSRuE\"\n",
        "            frameborder=\"0\"\n",
        "            allowfullscreen\n",
        "        ></iframe>\n",
        "        "
       ],
       "metadata": {},
       "output_type": "pyout",
       "prompt_number": 18,
       "text": [
        "<IPython.lib.display.YouTubeVideo at 0x10239ced0>"
       ]
      }
     ],
     "prompt_number": 18
    },
    {
     "cell_type": "markdown",
     "metadata": {},
     "source": [
      "### <span style=\"color:#6960EC\">1. Importing a light curve </span>\n",
      "In order to analize a light curve, it is first necessary to open the file that contains it. This file should be an array composed by at least four vectors: magnitude in two different bands, time of measurement and the associated observational error. For example, the function LeerLC_MACHO() receives a MACHO id as an input and returns the following output:\n",
      "- data: magnitude measurement (blue band)\n",
      "- mjd: time of measurement (blue band)\n",
      "- error: associated observational error (blue band)\n",
      "- second_data: magnitude measurement (red band)\n",
      "\n",
      "A demostration of how to import a MACHO light curve is presented below:"
     ]
    },
    {
     "cell_type": "code",
     "collapsed": false,
     "input": [
      "%matplotlib inline\n",
      "from Feature import FeatureSpace\n",
      "import numpy as np\n",
      "import matplotlib.pyplot as plt\n",
      "import seaborn as sns\n",
      "import statsmodels.graphics.tsaplots as tsaplots\n",
      "import pandas \n",
      "from import_lightcurve import LeerLC_MACHO"
     ],
     "language": "python",
     "metadata": {},
     "outputs": [],
     "prompt_number": 19
    },
    {
     "cell_type": "code",
     "collapsed": false,
     "input": [
      "lc = LeerLC_MACHO('1.3444.614')\n",
      "[data, mjd, error, second_data] = lc.leerLC()"
     ],
     "language": "python",
     "metadata": {},
     "outputs": [],
     "prompt_number": 20
    },
    {
     "cell_type": "markdown",
     "metadata": {},
     "source": [
      "For a visual representation of the light curve, we can plot the data as follows: "
     ]
    },
    {
     "cell_type": "code",
     "collapsed": false,
     "input": [
      "plt.plot(mjd, data, 'b*-')\n",
      "plt.xlabel(\"MJD\")\n",
      "plt.ylabel(\"Magnitude\")\n",
      "plt.gca().invert_yaxis()"
     ],
     "language": "python",
     "metadata": {},
     "outputs": [
      {
       "metadata": {},
       "output_type": "display_data",
       "png": "[encoded data removed]",
       "text": [
        "<matplotlib.figure.Figure at 0x109a20cd0>"
       ]
      }
     ],
     "prompt_number": 21
    },
    {
     "cell_type": "markdown",
     "metadata": {},
     "source": [
      " <a id='foldedLC'></a> "
     ]
    },
    {
     "cell_type": "markdown",
     "metadata": {},
     "source": [
      "Note: for periodic light curves we are able to transform the photometric time\n",
      "series into a single light-curve in which each period is mapped onto the same time axis as follows:\n",
      "$$ t'=\\{\\frac{t-t_0}{T}\\} $$\n",
      "\n",
      "where $T$ is the period, $t_0$ is an arbitrary starting point and the symbol {} represents the non-integer part of the fraction. This process produces a folded light curve on an x-axis of\n",
      "folded time that ranges from 0 to 1. The corresponding folded light curve of the previous example is shown next:"
     ]
    },
    {
     "cell_type": "code",
     "collapsed": false,
     "input": [
      "T = 2 * 0.93697446\n",
      "new_b=np.mod(mjd, T) / T;\n",
      "idx=np.argsort(2*new_b)\n",
      "plt.plot( new_b, data, 'b*')\n",
      "plt.xlabel(\"Phase\")\n",
      "plt.ylabel(\"Magnitude\")\n",
      "plt.gca().invert_yaxis()"
     ],
     "language": "python",
     "metadata": {},
     "outputs": [
      {
       "metadata": {},
       "output_type": "display_data",
       "png": "[encoded data removed]",
       "text": [
        "<matplotlib.figure.Figure at 0x10989b410>"
       ]
      }
     ],
     "prompt_number": 22
    },
    {
     "cell_type": "markdown",
     "metadata": {},
     "source": [
      "### <span style=\"color:#6960EC\">2. Features library</span>\n",
      "The library we created allows the user to choose the features of interest to be calculated or to calculate them all simultaneously. Also, the features can be calculated based on their category: \"basic\" or \"time series\". \n",
      "\n",
      "By default the library receives only the magnitude data as input. Some features need extra data as the times of measurement or the associated error, this must be specified as a parameter of the feature. \n",
      "\n",
      "The list of all the possible features with their corresponding categories and parameters is presented in the following table: "
     ]
    },
    {
     "cell_type": "code",
     "collapsed": false,
     "input": [
      "from ipy_table import *\n",
      "FeaturesList = [\n",
      "    ['Feature','Category','Parameter(s)'],['Amplitude','basic',''],['Anderson-Darling test','timeSeries',''],['B_R','timeSeries','second_data'],['Beyond1StdL','basic','error'],['Bmean','basic',''],['Con','timeSeries',''],['Eta_B_R','timeSeries','second_data'],['Eta_e','timeSeries','mjd'],['FluxPercentileRatioMid20','basic',''],['FluxPercentileRatioMid35','basic',''],['FluxPercentileRatioMid50','basic',''],['FluxPercentileRatioMid65','basic',''],['FluxPercentileRatioMid80','basic',''],['LinearTrend','timeSeries','mjd'],['MaxSlope','timeSeries','mjd'],['MedianAbsDev','basic',''],['MedianBRP','basic',''],['PairSlopeTrend','timeSeries',''],['PercentAmplitude','basic',''],['PercentDifferenceFluxPercentile','basic',''],['PeriodLS','timeSeries','mjd'],['Q31','basic',''],['Q31B_R','timeSeries','second_data'],['Rcs','timeSeries',''],['Skew','basic',''],['SmallKurtosis','basic',''],['Std' ,'basic',''],['StetsonJ','timeSeries','second_data'],['StetsonK','timeSeries',''],['StetsonL','timeSeries','second_data'],['VariablityIndex','timeSeries',''],['autocor','timeSeries',''],['automean','basic','2 parameters'],['meanvariance','basic','']];\n",
      "make_table(FeaturesList)\n",
      "apply_theme('basic')\n",
      "set_global_style(float_format='%0.3E')"
     ],
     "language": "python",
     "metadata": {},
     "outputs": [
      {
       "html": [
        "<table border=\"1\" cellpadding=\"3\" cellspacing=\"0\"  style=\"border:1px solid black;border-collapse:collapse;\"><tr><td  style=\"background-color:LightGray;\"><b>Feature</b></td><td  style=\"background-color:LightGray;\"><b>Category</b></td><td  style=\"background-color:LightGray;\"><b>Parameter(s)</b></td></tr><tr><td  style=\"background-color:Ivory;\">Amplitude</td><td  style=\"background-color:Ivory;\">basic</td><td  style=\"background-color:Ivory;\"></td></tr><tr><td  style=\"background-color:AliceBlue;\">Anderson-Darling&nbsptest</td><td  style=\"background-color:AliceBlue;\">timeSeries</td><td  style=\"background-color:AliceBlue;\"></td></tr><tr><td  style=\"background-color:Ivory;\">B_R</td><td  style=\"background-color:Ivory;\">timeSeries</td><td  style=\"background-color:Ivory;\">second_data</td></tr><tr><td  style=\"background-color:AliceBlue;\">Beyond1StdL</td><td  style=\"background-color:AliceBlue;\">basic</td><td  style=\"background-color:AliceBlue;\">error</td></tr><tr><td  style=\"background-color:Ivory;\">Bmean</td><td  style=\"background-color:Ivory;\">basic</td><td  style=\"background-color:Ivory;\"></td></tr><tr><td  style=\"background-color:AliceBlue;\">Con</td><td  style=\"background-color:AliceBlue;\">timeSeries</td><td  style=\"background-color:AliceBlue;\"></td></tr><tr><td  style=\"background-color:Ivory;\">Eta_B_R</td><td  style=\"background-color:Ivory;\">timeSeries</td><td  style=\"background-color:Ivory;\">second_data</td></tr><tr><td  style=\"background-color:AliceBlue;\">Eta_e</td><td  style=\"background-color:AliceBlue;\">timeSeries</td><td  style=\"background-color:AliceBlue;\">mjd</td></tr><tr><td  style=\"background-color:Ivory;\">FluxPercentileRatioMid20</td><td  style=\"background-color:Ivory;\">basic</td><td  style=\"background-color:Ivory;\"></td></tr><tr><td  style=\"background-color:AliceBlue;\">FluxPercentileRatioMid35</td><td  style=\"background-color:AliceBlue;\">basic</td><td  style=\"background-color:AliceBlue;\"></td></tr><tr><td  style=\"background-color:Ivory;\">FluxPercentileRatioMid50</td><td  style=\"background-color:Ivory;\">basic</td><td  style=\"background-color:Ivory;\"></td></tr><tr><td  style=\"background-color:AliceBlue;\">FluxPercentileRatioMid65</td><td  style=\"background-color:AliceBlue;\">basic</td><td  style=\"background-color:AliceBlue;\"></td></tr><tr><td  style=\"background-color:Ivory;\">FluxPercentileRatioMid80</td><td  style=\"background-color:Ivory;\">basic</td><td  style=\"background-color:Ivory;\"></td></tr><tr><td  style=\"background-color:AliceBlue;\">LinearTrend</td><td  style=\"background-color:AliceBlue;\">timeSeries</td><td  style=\"background-color:AliceBlue;\">mjd</td></tr><tr><td  style=\"background-color:Ivory;\">MaxSlope</td><td  style=\"background-color:Ivory;\">timeSeries</td><td  style=\"background-color:Ivory;\">mjd</td></tr><tr><td  style=\"background-color:AliceBlue;\">MedianAbsDev</td><td  style=\"background-color:AliceBlue;\">basic</td><td  style=\"background-color:AliceBlue;\"></td></tr><tr><td  style=\"background-color:Ivory;\">MedianBRP</td><td  style=\"background-color:Ivory;\">basic</td><td  style=\"background-color:Ivory;\"></td></tr><tr><td  style=\"background-color:AliceBlue;\">PairSlopeTrend</td><td  style=\"background-color:AliceBlue;\">timeSeries</td><td  style=\"background-color:AliceBlue;\"></td></tr><tr><td  style=\"background-color:Ivory;\">PercentAmplitude</td><td  style=\"background-color:Ivory;\">basic</td><td  style=\"background-color:Ivory;\"></td></tr><tr><td  style=\"background-color:AliceBlue;\">PercentDifferenceFluxPercentile</td><td  style=\"background-color:AliceBlue;\">basic</td><td  style=\"background-color:AliceBlue;\"></td></tr><tr><td  style=\"background-color:Ivory;\">PeriodLS</td><td  style=\"background-color:Ivory;\">timeSeries</td><td  style=\"background-color:Ivory;\">mjd</td></tr><tr><td  style=\"background-color:AliceBlue;\">Q31</td><td  style=\"background-color:AliceBlue;\">basic</td><td  style=\"background-color:AliceBlue;\"></td></tr><tr><td  style=\"background-color:Ivory;\">Q31B_R</td><td  style=\"background-color:Ivory;\">timeSeries</td><td  style=\"background-color:Ivory;\">second_data</td></tr><tr><td  style=\"background-color:AliceBlue;\">Rcs</td><td  style=\"background-color:AliceBlue;\">timeSeries</td><td  style=\"background-color:AliceBlue;\"></td></tr><tr><td  style=\"background-color:Ivory;\">Skew</td><td  style=\"background-color:Ivory;\">basic</td><td  style=\"background-color:Ivory;\"></td></tr><tr><td  style=\"background-color:AliceBlue;\">SmallKurtosis</td><td  style=\"background-color:AliceBlue;\">basic</td><td  style=\"background-color:AliceBlue;\"></td></tr><tr><td  style=\"background-color:Ivory;\">Std</td><td  style=\"background-color:Ivory;\">basic</td><td  style=\"background-color:Ivory;\"></td></tr><tr><td  style=\"background-color:AliceBlue;\">StetsonJ</td><td  style=\"background-color:AliceBlue;\">timeSeries</td><td  style=\"background-color:AliceBlue;\">second_data</td></tr><tr><td  style=\"background-color:Ivory;\">StetsonK</td><td  style=\"background-color:Ivory;\">timeSeries</td><td  style=\"background-color:Ivory;\"></td></tr><tr><td  style=\"background-color:AliceBlue;\">StetsonL</td><td  style=\"background-color:AliceBlue;\">timeSeries</td><td  style=\"background-color:AliceBlue;\">second_data</td></tr><tr><td  style=\"background-color:Ivory;\">VariablityIndex</td><td  style=\"background-color:Ivory;\">timeSeries</td><td  style=\"background-color:Ivory;\"></td></tr><tr><td  style=\"background-color:AliceBlue;\">autocor</td><td  style=\"background-color:AliceBlue;\">timeSeries</td><td  style=\"background-color:AliceBlue;\"></td></tr><tr><td  style=\"background-color:Ivory;\">automean</td><td  style=\"background-color:Ivory;\">basic</td><td  style=\"background-color:Ivory;\">2&nbspparameters</td></tr><tr><td  style=\"background-color:AliceBlue;\">meanvariance</td><td  style=\"background-color:AliceBlue;\">basic</td><td  style=\"background-color:AliceBlue;\"></td></tr></table>"
       ],
       "metadata": {},
       "output_type": "pyout",
       "prompt_number": 23,
       "text": [
        "<ipy_table.IpyTable at 0x109a3b090>"
       ]
      }
     ],
     "prompt_number": 23
    },
    {
     "cell_type": "markdown",
     "metadata": {},
     "source": [
      "Some examples of how to use the library are presented next:\n",
      "- <span style=\"color:#E56717\">List of features as an input:</span>"
     ]
    },
    {
     "cell_type": "code",
     "collapsed": false,
     "input": [
      "a = FeatureSpace(featureList=['Std','StetsonL'], StetsonL=second_data)\n",
      "a=a.calculateFeature(data)\n",
      "print a.result(method='dict')"
     ],
     "language": "python",
     "metadata": {},
     "outputs": [
      {
       "output_type": "stream",
       "stream": "stdout",
       "text": [
        "{'Std': 0.16896920723752071, 'StetsonL': 0.049567282505597492}\n"
       ]
      }
     ],
     "prompt_number": 24
    },
    {
     "cell_type": "markdown",
     "metadata": {},
     "source": [
      "- <span style=\"color:#E56717\">Category as an input:</span>\n"
     ]
    },
    {
     "cell_type": "code",
     "collapsed": false,
     "input": [
      "a = FeatureSpace(category='timeSeries',featureList=None, automean=[0,0], StetsonL=second_data ,  B_R=second_data, Beyond1Std=error, StetsonJ=second_data, MaxSlope=mjd, LinearTrend=mjd, Eta_B_R=second_data, Eta_e=mjd, Q31B_R=second_data, PeriodLS=mjd, CAR_sigma = [mjd, error])\n",
      "a=a.calculateFeature(data)\n",
      "print a.result(method='dict')"
     ],
     "language": "python",
     "metadata": {},
     "outputs": [
      {
       "output_type": "stream",
       "stream": "stdout",
       "text": [
        "{'PairSlopeTrend': 0.03333333333333333, 'Eta_B_R': 1.6532802172566503, 'Q31B_R': 0.20074999999999954, 'StetsonJ': 0.079519456262455865, 'StetsonK': 0.69183383688439748, 'autocor': 0.21087464746010837, 'Eta_e': 777.73422668437104, 'StetsonL': 0.049567282505597492, 'Rcs': 34.960704898077793, 'MaxSlope': 54.72525836116783, 'CAR_sigma': 3.0942860114457904e-09, 'VariabilityIndex': 1.5788586846691448, 'AndersonDarling': inf, 'B_R': -0.33469955252503691, 'LinearTrend': 5.3007392822411087e-06, 'PeriodLS': 0.93697445905023935, 'CAR_tau': 1.190103478345367, 'Con': 0.0}\n"
       ]
      }
     ],
     "prompt_number": 25
    },
    {
     "cell_type": "markdown",
     "metadata": {},
     "source": [
      "- <span style=\"color:#E56717\">All the features:</span>"
     ]
    },
    {
     "cell_type": "code",
     "collapsed": false,
     "input": [
      "a = FeatureSpace(category='all',featureList=None, automean=[0,0], StetsonL=second_data ,  B_R=second_data, Beyond1Std=error, StetsonJ=second_data, MaxSlope=mjd, LinearTrend=mjd, Eta_B_R=second_data, Eta_e=mjd, Q31B_R=second_data, PeriodLS=mjd, CAR_sigma=[mjd, error])\n",
      "a=a.calculateFeature(data)\n",
      "print a.result(method='dict')"
     ],
     "language": "python",
     "metadata": {},
     "outputs": [
      {
       "output_type": "stream",
       "stream": "stdout",
       "text": [
        "{'PercentAmplitude': -0.32858101308285803, 'MaxSlope': 54.72525836116783, 'SmallKurtosis': 24.645984340232477, 'automean': -5.9122064777327932, 'StetsonJ': 0.079519456262455865, 'StetsonK': 0.69183383688439748, 'Skew': 2.868749433058435, 'Bmean': -5.9122064777327932, 'StetsonL': 0.049567282505597492, 'Rcs': 34.960704898077793, 'FluxPercentileRatioMid65': 0.52597402597402509, 'VariabilityIndex': 1.5788586846691448, 'AndersonDarling': inf, 'FluxPercentileRatioMid20': 0.095238095238096343, 'LinearTrend': 5.3007392822411087e-06, 'FluxPercentileRatioMid50': 0.32251082251082275, 'Eta_e': 777.73422668437104, 'Q31': 0.14849999999999941, 'CAR_tau': 1.190103478345367, 'Std': 0.16896920723752071, 'Eta_B_R': 1.6532802172566503, 'Beyond1Std': 0.1951417004048583, 'Q31B_R': 0.20074999999999954, 'PercentDifferenceFluxPercentile': -0.077490774907749041, 'Amplitude': 1.286, 'B_R': -0.33469955252503691, 'autocor': 0.21087464746010837, 'FluxPercentileRatioMid35': 0.18831168831168787, 'Con': 0.0, 'PairSlopeTrend': 0.03333333333333333, 'MedianBRP': 0.8631578947368421, 'CAR_sigma': 3.0942860114457904e-09, 'MedianAbsDev': 0.057999999999999829, 'FluxPercentileRatioMid80': 0.79870129870129869, 'PeriodLS': 0.93697445905023935, 'meanvariance': -0.028579720257388041}\n"
       ]
      }
     ],
     "prompt_number": 26
    },
    {
     "cell_type": "markdown",
     "metadata": {},
     "source": [
      "### <span style=\"color:#6960EC\">3. Light curve features</span>\n",
      "\n",
      "The following section details every feature that we have developed in order to represent the light curves. Each feature is described and tested with a suitable experiment."
     ]
    },
    {
     "cell_type": "markdown",
     "metadata": {},
     "source": [
      "#### </span><font size=\"3\">  <span style=\"color:purple\"> Standard deviaton</span></font>\n",
      "\n",
      "The standard deviation $\\sigma$ of the sample is defined as: \n",
      "\n",
      "$$ \\sigma = \\sum_{i} \\frac{(y_i-\\hat{y})^2}{N-1} $$\n"
     ]
    },
    {
     "cell_type": "code",
     "collapsed": false,
     "input": [
      "a = FeatureSpace(featureList=['Std'])\n",
      "a=a.calculateFeature(data)\n"
     ],
     "language": "python",
     "metadata": {},
     "outputs": [],
     "prompt_number": 27
    },
    {
     "cell_type": "code",
     "collapsed": false,
     "input": [
      "print a.result(method='dict')"
     ],
     "language": "python",
     "metadata": {},
     "outputs": [
      {
       "output_type": "stream",
       "stream": "stdout",
       "text": [
        "{'Std': 0.16896920723752071}\n"
       ]
      }
     ],
     "prompt_number": 28
    },
    {
     "cell_type": "markdown",
     "metadata": {},
     "source": [
      "For example, a white noise time serie should have $\\sigma=1$"
     ]
    },
    {
     "cell_type": "code",
     "collapsed": false,
     "input": [
      "data2 = np.random.normal(size=1000000)\n",
      "a = FeatureSpace(featureList=['Std' ] )\n",
      "a=a.calculateFeature(data2)\n",
      "print a.result(method='dict')"
     ],
     "language": "python",
     "metadata": {},
     "outputs": [
      {
       "output_type": "stream",
       "stream": "stdout",
       "text": [
        "{'Std': 0.99991221052338131}\n"
       ]
      }
     ],
     "prompt_number": 29
    },
    {
     "cell_type": "markdown",
     "metadata": {},
     "source": [
      "####  </span><font size=\"3\"> <span style=\"color:purple\">Period Lomb-Scargle</span></font>\n",
      "\n",
      "The Lomb-Scargle (L-S) algorithm (Scargle, 1982) is a variation of the Discrete Fourier Transform (DFT), in which a time series is decomposed into a linear combination of sinusoidal functions. The basis of sinusoidal functions transforms the data from the time domain to the frequency domain. DFT techniques often assume evenly spaced data points in the time series, but this is rarely the case with astrophysical time-series data. Scargle has derived a formula for transform coefficients that is similiar to the DFT in the limit of evenly spaced observations. In addition, an adjustment of the values used to calculate the transform coefficients makes the transform invariant to time shifts.\n",
      "\n",
      "The Lomb-Scargle periodogram is optimized to identify sinusoidal-shaped periodic signals in time-series data. Particular applications include radial velocity data and searches for pulsating variable stars. L-S is not optimal for detecting signals from transiting exoplanets, where the shape of the periodic light curve is not sinusoidal.\n",
      "\n",
      "Next, we perform a test on synthetical data to confirm the accuracy of the period found by the L-S method:"
     ]
    },
    {
     "cell_type": "code",
     "collapsed": false,
     "input": [
      "N=100\n",
      "mjd3 = np.arange(N)\n",
      "Period = 20\n",
      "cov = np.zeros([N,N])\n",
      "mean = np.zeros(N)\n",
      "for i in np.arange(N):\n",
      "    for j in np.arange(N):\n",
      "        #print (2.0*np.pi/Period) * (i-j)**2\n",
      "        cov[i,j] = np.exp( -(np.sin( (np.pi/Period) *(i-j))**2))\n",
      "#cov = np.diagflat((np.ones(10)))\n",
      "data3=np.random.multivariate_normal(mean, cov)\n",
      "plt.plot(mjd3,data3)"
     ],
     "language": "python",
     "metadata": {},
     "outputs": [
      {
       "output_type": "stream",
       "stream": "stderr",
       "text": [
        "-c:11: RuntimeWarning: covariance is not positive-semidefinite.\n"
       ]
      },
      {
       "metadata": {},
       "output_type": "pyout",
       "prompt_number": 30,
       "text": [
        "[<matplotlib.lines.Line2D at 0x109aecc90>]"
       ]
      },
      {
       "metadata": {},
       "output_type": "display_data",
       "png": "[encoded data removed]",
       "text": [
        "<matplotlib.figure.Figure at 0x109a20050>"
       ]
      }
     ],
     "prompt_number": 30
    },
    {
     "cell_type": "code",
     "collapsed": false,
     "input": [
      "from Feature import FeatureSpace\n",
      "a = FeatureSpace(featureList=['PeriodLS'],PeriodLS=mjd3)\n",
      "a=a.calculateFeature(data3)\n",
      "print a.result(method='array')/Period, a.result(method='array'), Period"
     ],
     "language": "python",
     "metadata": {},
     "outputs": [
      {
       "output_type": "stream",
       "stream": "stdout",
       "text": [
        "[ 1.02413793] [ 20.48275862] 20\n"
       ]
      }
     ],
     "prompt_number": 31
    },
    {
     "cell_type": "markdown",
     "metadata": {},
     "source": [
      "We can also confirm the validity of this result by folding the light curve as explained in [the introduction](#foldedLC)."
     ]
    },
    {
     "cell_type": "code",
     "collapsed": false,
     "input": [
      "T = 2 * a.result(method='array')\n",
      "new_b=np.mod(mjd3, T) / T;\n",
      "idx=np.argsort(2*new_b)\n",
      "plt.plot( new_b, data3,'b*')\n",
      "plt.gca().invert_yaxis()"
     ],
     "language": "python",
     "metadata": {},
     "outputs": [
      {
       "metadata": {},
       "output_type": "display_data",
       "png": "[encoded data removed]",
       "text": [
        "<matplotlib.figure.Figure at 0x109a810d0>"
       ]
      }
     ],
     "prompt_number": 32
    },
    {
     "cell_type": "markdown",
     "metadata": {},
     "source": [
      "####  </span><font size=\"3\"> <span style=\"color:purple\">Color B_R</span></font>\n",
      "\n",
      "The color is defined as the difference between the average magnitude of the blue band and the red band observations. The value should be around cero."
     ]
    },
    {
     "cell_type": "code",
     "collapsed": false,
     "input": [
      "a = FeatureSpace(featureList=['B_R' ],B_R=second_data )\n",
      "a=a.calculateFeature(data)\n",
      "print a.result(method='dict')"
     ],
     "language": "python",
     "metadata": {},
     "outputs": [
      {
       "output_type": "stream",
       "stream": "stdout",
       "text": [
        "{'B_R': -0.33469955252503691}\n"
       ]
      }
     ],
     "prompt_number": 33
    },
    {
     "cell_type": "markdown",
     "metadata": {},
     "source": [
      "####  </span><font size=\"3\"> <span style=\"color:purple;font-weight:bold\">Stetson K, Stetson J and Stetson L</span></font>\n",
      "\n",
      "These three features are based on the Welch/Stetson variability index $I$ defined by the equation:\n",
      "$$ I = \\sqrt{\\frac{1}{n(n-1)}} \\sum_{i=1}^n {\\left( \\frac{b_i-\\hat{b}}{\\sigma_{b,i}}\\right) \\left( \\frac{v_i - \\hat{v}}{\\sigma_{v,i}} \\right)} $$\n",
      "\n",
      "where $b_i$ and $v_i$ are the apparent magnitudes obtained for the candidate star in two observations closely spaced in time on some occasion $i$, $\\sigma_{b,i}$ and $\\sigma_{v,i}$ are the standard errors of those magnitudes, $\\hat{b}$ and $\\hat{v}$ are the weighted mean magnitudes in the two filters, and $n$ is the number of observation pairs.\n",
      "\n",
      "Since a given frame pair may include data from two filters which did not have equal numbers of observations overall, the \"relative error\" is calculated as follows:\n",
      "\n",
      "$$ \\delta = \\sqrt{\\frac{n}{n-1}} \\frac{v-\\hat{v}}{\\sigma_v} $$\n",
      "\n",
      "allowing all residuals to be compared on an equal basis.\n",
      "\n",
      "- <span style=\"color:#E56717\">Stetson K</span>\n",
      "\n",
      "Stetson K is a robust kurtosis measure:\n",
      "$$ \\frac{1/N \\sum_{i=1}^N |\\delta_i|}{\\sqrt{1/N \\sum_{i=1}^N \\delta_i^2}}$$\n",
      "\n",
      "where the index $i$ runs over all $N$ observations available for the star without regard to pairing. For a Gaussian magnitude distribution K should take a value close to $\\sqrt{2/\\pi} = 0.798$, let's test it:"
     ]
    },
    {
     "cell_type": "code",
     "collapsed": false,
     "input": [
      "data2 = np.random.normal(size=1000000)\n",
      "a = FeatureSpace(featureList=['StetsonK' ] )\n",
      "a=a.calculateFeature(data2)\n",
      "print a.result(method='dict')"
     ],
     "language": "python",
     "metadata": {},
     "outputs": [
      {
       "output_type": "stream",
       "stream": "stdout",
       "text": [
        "{'StetsonK': 0.79767016210479513}\n"
       ]
      }
     ],
     "prompt_number": 34
    },
    {
     "cell_type": "markdown",
     "metadata": {},
     "source": [
      "- <span style=\"color:#E56717\">Stetson J</span>\n",
      "\n",
      "Stetson J is a robust version of the variability index. It is calculated based on two simultaneous light curves of a same star and is defined as:\n",
      "\n",
      "$$ J =  \\sum_{k=1}^n  sgn(P_k) \\sqrt{|P_k|}$$\n",
      "\n",
      "with $P_k = \\delta_{i_k} \\delta_{j_k} $\n",
      "\n",
      "For a Gaussian magnitude distribution, J should take a value close to zero:"
     ]
    },
    {
     "cell_type": "code",
     "collapsed": false,
     "input": [
      "data2 = np.random.normal(size=1000000)\n",
      "data3 = np.random.normal(size=1000000)\n",
      "a = FeatureSpace(featureList=['StetsonJ' ], StetsonJ=data3)\n",
      "a=a.calculateFeature(data2)\n",
      "print a.result(method='dict')"
     ],
     "language": "python",
     "metadata": {},
     "outputs": [
      {
       "output_type": "stream",
       "stream": "stdout",
       "text": [
        "{'StetsonJ': -7.9539199901977836e-05}\n"
       ]
      }
     ],
     "prompt_number": 35
    },
    {
     "cell_type": "markdown",
     "metadata": {},
     "source": [
      "- <span style=\"color:#E56717\">Stetson L</span>\n",
      "\n",
      "Stetson L variability index describes the synchronous variability of different bands and is defined as:\n",
      "$$ L = \\frac{JK}{0.798} $$\n",
      "\n",
      "Again, for a Gaussian magnitude distribution, L should take a value close to zero:\n",
      "\n"
     ]
    },
    {
     "cell_type": "code",
     "collapsed": false,
     "input": [
      "data2 = np.random.normal(size=1000000)\n",
      "data3 = np.random.normal(size=1000000)\n",
      "a = FeatureSpace(featureList=['StetsonL' ], StetsonL=data3)\n",
      "a=a.calculateFeature(data2)\n",
      "print a.result(method='dict')"
     ],
     "language": "python",
     "metadata": {},
     "outputs": [
      {
       "output_type": "stream",
       "stream": "stdout",
       "text": [
        "{'StetsonL': 0.00016253787556216997}\n"
       ]
      }
     ],
     "prompt_number": 36
    },
    {
     "cell_type": "markdown",
     "metadata": {},
     "source": [
      "####  </span><font size=\"3\"> <span style=\"color:purple\">Variability index $\\eta$</span></font>\n",
      "\n",
      "Variability index $\\eta$ is the ratio of the mean of the square of successive differences to the variance of data points. The index was originally proposed to check whether the successive data points are independent or not. In other words, the index was developed to check if any trends exist in the data (von Neumann 1941). It is defined as:\n",
      "$$\\eta=\\frac{1}{\\left(N-1 \\right)\\sigma^2}\\sum_{i=1}^{N-1} \\left( m_{i+1}-m_i \\right)^2 $$\n",
      "\n",
      "The variability index should take a value close to 2 for a normal distribution:"
     ]
    },
    {
     "cell_type": "code",
     "collapsed": false,
     "input": [
      "data2 = np.random.normal(size=1000000)\n",
      "a = FeatureSpace(featureList=['VariabilityIndex' ] )\n",
      "a=a.calculateFeature(data2)\n",
      "print a.result(method='dict')"
     ],
     "language": "python",
     "metadata": {},
     "outputs": [
      {
       "output_type": "stream",
       "stream": "stdout",
       "text": [
        "{'VariabilityIndex': 1.9993152364684559}\n"
       ]
      }
     ],
     "prompt_number": 37
    },
    {
     "cell_type": "markdown",
     "metadata": {},
     "source": [
      "####  </span><font size=\"3\"> <span style=\"color:purple\">Variability index $\\eta^e$</span></font>\n",
      "\n",
      "Although $\\eta$ is a poweful index for quantifying variability characteristics of a time series, it does not take into account unequal sampling. Thus $\\eta^e$ is defined as:\n",
      "\n",
      "$$ \\eta^e = \\bar{w} \\left( t_{N-1} - t_1 \\right)^2 \\frac{\\sum_{i=1}^{N-1} w_i \\left(m_{i+1} - m_i \\right)^2}{\\sigma^2 \\sum_{i=1}^{N-1} w_i} $$\n",
      "\n",
      "$$ w_i = \\frac{1}{\\left( t_{i+1} - t_i \\right)^2} $$"
     ]
    },
    {
     "cell_type": "code",
     "collapsed": false,
     "input": [
      "data2 = np.random.normal(size=1000000)\n",
      "mjd2=np.arange(1000000)\n",
      "a = FeatureSpace(featureList=['Eta_e' ], Eta_e = mjd2 )\n",
      "a=a.calculateFeature(data2)\n",
      "print a.result(method='dict')"
     ],
     "language": "python",
     "metadata": {},
     "outputs": [
      {
       "output_type": "stream",
       "stream": "stdout",
       "text": [
        "{'Eta_e': 2.0008068833792301}\n"
       ]
      }
     ],
     "prompt_number": 38
    },
    {
     "cell_type": "markdown",
     "metadata": {},
     "source": [
      "####  </span><font size=\"3\"> <span style=\"color:purple\">Small Kurtosis</span></font>\n",
      "Small sample kurtosis of the magnitudes:\n",
      "$$ Kurtosis = \\frac{N \\left( N+1 \\right)}{\\left( N-1 \\right) \\left( N-2 \\right) \\left( N-3 \\right)} \\sum_{i=1}^N \\left( \\frac{m_i-\\hat{m}}{\\sigma} \\right)^4 - \\frac{3\\left( N-1 \\right)^2}{\\left( N-2 \\right) \\left( N-3 \\right)} $$\n",
      "\n",
      "For a normal distribution, the small kurtosis should be zero:"
     ]
    },
    {
     "cell_type": "code",
     "collapsed": false,
     "input": [
      "data2 = np.random.normal(size=1000000)\n",
      "a = FeatureSpace(featureList=['SmallKurtosis' ] )\n",
      "a=a.calculateFeature(data2)\n",
      "print a.result(method='dict')"
     ],
     "language": "python",
     "metadata": {},
     "outputs": [
      {
       "output_type": "stream",
       "stream": "stdout",
       "text": [
        "{'SmallKurtosis': 0.010082561432652071}\n"
       ]
      }
     ],
     "prompt_number": 39
    },
    {
     "cell_type": "markdown",
     "metadata": {},
     "source": [
      "####  </span><font size=\"3\"> <span style=\"color:purple\">Skewness</span></font>\n",
      "\n",
      "The skewness of a sample is defined as follow:\n",
      "$$ Skewness = \\frac{N}{\\left(N-1\\right)\\left(N-2\\right)} \\sum_{i=1}^N \\left( \\frac{m_i-\\hat{m}}{\\sigma}\\right)^3 $$\n",
      "\n",
      "For a normal distribution it should be equal to zero:"
     ]
    },
    {
     "cell_type": "code",
     "collapsed": false,
     "input": [
      "data2 = np.random.normal(size=1000000)\n",
      "a = FeatureSpace(featureList=['Skew' ] )\n",
      "a=a.calculateFeature(data2)\n",
      "print a.result(method='dict')"
     ],
     "language": "python",
     "metadata": {},
     "outputs": [
      {
       "output_type": "stream",
       "stream": "stdout",
       "text": [
        "{'Skew': 0.0005415459815317286}\n"
       ]
      }
     ],
     "prompt_number": 40
    },
    {
     "cell_type": "markdown",
     "metadata": {},
     "source": [
      "####  </span><font size=\"3\"> <span style=\"color:purple\">Median absolute deviation</span></font>\n",
      "The median absolute deviation is defined as the median discrepancy of the data from the median data:\n",
      "$$Median Absolute Deviation = median\\left( |mag - median(mag)|\\right) $$\n",
      "It should take a value close to 0.675 for a normal distribution:"
     ]
    },
    {
     "cell_type": "code",
     "collapsed": false,
     "input": [
      "data2 = np.random.normal(size=1000000)\n",
      "a = FeatureSpace(featureList=['MedianAbsDev' ] )\n",
      "a=a.calculateFeature(data2)\n",
      "print a.result(method='dict')"
     ],
     "language": "python",
     "metadata": {},
     "outputs": [
      {
       "output_type": "stream",
       "stream": "stdout",
       "text": [
        "{'MedianAbsDev': 0.67339017476226171}\n"
       ]
      }
     ],
     "prompt_number": 41
    },
    {
     "cell_type": "markdown",
     "metadata": {},
     "source": [
      "####  </span><font size=\"3\"> <span style=\"color:purple\">Amplitude</span></font>\n",
      "The amplitude is defined as the half of the difference between the maximum and minimum magnitudes.\n",
      "For a sequence of numbers from 0 to 1000 the amplitude should be equal to 500:\n"
     ]
    },
    {
     "cell_type": "code",
     "collapsed": false,
     "input": [
      "data2 = range(1001)\n",
      "a = FeatureSpace(featureList=['Amplitude' ] )\n",
      "a=a.calculateFeature(data2)\n",
      "print a.result(method='dict')"
     ],
     "language": "python",
     "metadata": {},
     "outputs": [
      {
       "output_type": "stream",
       "stream": "stdout",
       "text": [
        "{'Amplitude': 500}\n"
       ]
      }
     ],
     "prompt_number": 42
    },
    {
     "cell_type": "markdown",
     "metadata": {},
     "source": [
      "####  </span><font size=\"3\"> <span style=\"color:purple\">Con</span></font>\n",
      "Index introduced for the selection of variable stars from the OGLE database (Wozniak 2000). To calculate Con, we count the number of three consecutive data points that are brighter or fainter than $2\\sigma$ and normalize the number by $N-2$. \n",
      "\n",
      "For a normal distribution and by considering just one star, Con should take values close to 0.045:"
     ]
    },
    {
     "cell_type": "code",
     "collapsed": false,
     "input": [
      "data2 = np.random.normal(size=1000000)\n",
      "a = FeatureSpace(featureList=['Con' ] , Con=1)\n",
      "a=a.calculateFeature(data2)\n",
      "print a.result(method='dict')"
     ],
     "language": "python",
     "metadata": {},
     "outputs": [
      {
       "output_type": "stream",
       "stream": "stdout",
       "text": [
        "{'Con': 0.045341}\n"
       ]
      }
     ],
     "prompt_number": 43
    },
    {
     "cell_type": "markdown",
     "metadata": {},
     "source": [
      "####  </span><font size=\"3\"> <span style=\"color:purple\">Anderson-Darling test</span></font>\n",
      "The Anderson-Darling test is a statistical test of whether a given sample of data is drawn from a given probability distribution. When applied to testing  if a normal distribution adequately describes a set of data, it is one of the most poweful statistical tools for detecting most departures from normality.\n",
      "\n",
      "For a normal distribution the Anderson-Darling statistic should take values close to 0.25:"
     ]
    },
    {
     "cell_type": "code",
     "collapsed": false,
     "input": [
      "b=[]\n",
      "for i in xrange(10):\n",
      "    data2 = np.random.normal(size=1000000)\n",
      "    a = FeatureSpace(featureList=['AndersonDarling' ] )\n",
      "    a=a.calculateFeature(data2)\n",
      "    b.extend(a.result())\n",
      "    \n",
      "plt.hist(b)"
     ],
     "language": "python",
     "metadata": {},
     "outputs": [
      {
       "metadata": {},
       "output_type": "pyout",
       "prompt_number": 45,
       "text": [
        "(array([ 4.,  0.,  2.,  0.,  0.,  2.,  0.,  0.,  1.,  1.]),\n",
        " array([ 0.22984203,  0.29152965,  0.35321726,  0.41490488,  0.47659249,\n",
        "         0.53828011,  0.59996772,  0.66165534,  0.72334295,  0.78503057,\n",
        "         0.84671819]),\n",
        " <a list of 10 Patch objects>)"
       ]
      },
      {
       "metadata": {},
       "output_type": "display_data",
       "png": "[encoded data removed]",
       "text": [
        "<matplotlib.figure.Figure at 0x10104dd50>"
       ]
      }
     ],
     "prompt_number": 45
    },
    {
     "cell_type": "markdown",
     "metadata": {},
     "source": [
      "####  </span><font size=\"3\"> <span style=\"color:purple\">Autocorrelation</span></font>\n"
     ]
    },
    {
     "cell_type": "code",
     "collapsed": false,
     "input": [
      "data2 = np.random.normal(size=1000000)\n",
      "a = FeatureSpace(featureList=['autocor'] )\n",
      "a=a.calculateFeature(data2)\n",
      "print a.result(method='dict')"
     ],
     "language": "python",
     "metadata": {},
     "outputs": [
      {
       "output_type": "stream",
       "stream": "stdout",
       "text": [
        "{'autocor': -0.0012085580372287238}\n"
       ]
      }
     ],
     "prompt_number": 46
    },
    {
     "cell_type": "markdown",
     "metadata": {},
     "source": [
      "####  </span><font size=\"3\"> <span style=\"color:purple\">Linear trend</span></font>\n",
      "\n",
      "Slope of a linear fit to the light-curve. \n"
     ]
    },
    {
     "cell_type": "code",
     "collapsed": false,
     "input": [
      "data2 = np.random.normal(size=1000000)\n",
      "mjd2=np.arange(1000000)\n",
      "a = FeatureSpace(featureList=['LinearTrend'] ,LinearTrend = mjd2  )\n",
      "a=a.calculateFeature(data2)\n",
      "print a.result(method='dict')"
     ],
     "language": "python",
     "metadata": {},
     "outputs": [
      {
       "output_type": "stream",
       "stream": "stdout",
       "text": [
        "{'LinearTrend': 3.5199798633416751e-09}\n"
       ]
      }
     ],
     "prompt_number": 47
    },
    {
     "cell_type": "markdown",
     "metadata": {},
     "source": [
      "####  </span><font size=\"3\"> <span style=\"color:purple\">Max slope </span></font>\n",
      "\n",
      "Maximum absolute magnitude slope between two consecutive observations\n"
     ]
    },
    {
     "cell_type": "code",
     "collapsed": false,
     "input": [
      "data2 = np.random.normal(size=10000)\n",
      "mjd2=np.arange(10000)\n",
      "a = FeatureSpace(featureList=['MaxSlope'] , MaxSlope = mjd2  )\n",
      "a=a.calculateFeature(data2)\n",
      "print a.result(method='dict')"
     ],
     "language": "python",
     "metadata": {},
     "outputs": [
      {
       "output_type": "stream",
       "stream": "stdout",
       "text": [
        "{'MaxSlope': 5.76203756313658}\n"
       ]
      }
     ],
     "prompt_number": 48
    },
    {
     "cell_type": "markdown",
     "metadata": {},
     "source": [
      "####  </span><font size=\"3\"> <span style=\"color:purple\">Beyond 1 std </span></font>\n",
      "\n",
      "Percentage of points beyond one standard deviation from the weighted mean.\n",
      "\n",
      "For a normal distribution, it should take a value close to 0.32:"
     ]
    },
    {
     "cell_type": "code",
     "collapsed": false,
     "input": [
      "data2 = np.random.normal(size=1000000)\n",
      "error2 = np.random.normal(loc=0.01, scale =0.01, size=1000000)\n",
      "a = FeatureSpace(featureList=['Beyond1Std'] , Beyond1Std = error2 )\n",
      "a=a.calculateFeature(data2)\n",
      "print a.result(method='dict')"
     ],
     "language": "python",
     "metadata": {},
     "outputs": [
      {
       "output_type": "stream",
       "stream": "stdout",
       "text": [
        "{'Beyond1Std': 0.355758}\n"
       ]
      }
     ],
     "prompt_number": 49
    },
    {
     "cell_type": "markdown",
     "metadata": {},
     "source": [
      "####  </span><font size=\"3\"> <span style=\"color:purple\">Flux percentile ratio mid20, mid 35, mid 50, mid 65 and mid 80 </span></font>\n",
      "\n",
      "In order to caracterize the sorted magnitudes distribution we use percentiles. If $F_{5,95}$ is the difference between $95\\%$ and $5\\%$ magnitude values, we calculate the following:\n",
      "- flux_percentile_ratio_mid20: ratio $F_{40,60}/F_{5,95}$ \n",
      "- flux_percentile_ratio_mid35: ratio $F_{32.5,67.5}/F_{5,95}$ \n",
      "- flux_percentile_ratio_mid50: ratio $F_{25,75}/F_{5,95}$\n",
      "- flux_percentile_ratio_mid65: ratio $F_{17.5,82.5}/F_{5,95}$ \n",
      "- flux_percentile_ratio_mid80: ratio $F_{10,90}/F_{5,95}$\n",
      "\n",
      "For the first feature for example, in the case of a normal distribution, this is equivalente to calculate $\\frac{erf^{-1}(2 \\cdot 0.6-1)-erf^{-1}(2 \\cdot 0.4-1)}{erf^{-1}(2 \\cdot 0.95-1)-erf^{-1}(2 \\cdot 0.05-1)}$. So, the expected values for each of the flux percentile features are:\n",
      "\n",
      "- flux_percentile_ratio_mid20 = 0.154\n",
      "- flux_percentile_ratio_mid35 = 0.275 \n",
      "- flux_percentile_ratio_mid50 = 0.410\n",
      "- flux_percentile_ratio_mid65 = 0.568\n",
      "- flux_percentile_ratio_mid80 = 0.779"
     ]
    },
    {
     "cell_type": "code",
     "collapsed": false,
     "input": [
      "data2 = np.random.normal(size=100000)\n",
      "a = FeatureSpace(featureList=['FluxPercentileRatioMid20','FluxPercentileRatioMid35','FluxPercentileRatioMid50','FluxPercentileRatioMid65','FluxPercentileRatioMid80'] )\n",
      "a=a.calculateFeature(data2)\n",
      "print a.result(method='dict')"
     ],
     "language": "python",
     "metadata": {},
     "outputs": [
      {
       "output_type": "stream",
       "stream": "stdout",
       "text": [
        "{'FluxPercentileRatioMid80': 0.77803202645253255, 'FluxPercentileRatioMid50': 0.40872875247814922, 'FluxPercentileRatioMid20': 0.15240838554520353, 'FluxPercentileRatioMid35': 0.27436390731408494, 'FluxPercentileRatioMid65': 0.5667994688980178}\n"
       ]
      }
     ],
     "prompt_number": 50
    },
    {
     "cell_type": "markdown",
     "metadata": {},
     "source": [
      "####  </span><font size=\"3\"> <span style=\"color:purple\"> Range of a cumulative sum $R_{cs}$ </span></font>\n",
      "\n",
      "$R_{cs}$ is the range of a cumulative sum (Ellaway 1978) of each light curve and is defined as:\n",
      "\n",
      "$$R_{cs} = max(S) - min(S)$$\n",
      "$$S_l = \\frac{1}{N \\sigma} \\sum_{i=1}^l \\left( m_i - \\bar{m} \\right) $$\n",
      "\n",
      "where max(min) is the maximum (minimum) value of S and $l=1,2, \\dots, N$. \n",
      "\n",
      "$R_{cs}$ should take a value close to zero for a normal distribution:"
     ]
    },
    {
     "cell_type": "code",
     "collapsed": false,
     "input": [
      "data2 = np.random.normal(size=1000000)\n",
      "a = FeatureSpace(featureList=['Rcs'] )\n",
      "a=a.calculateFeature(data2)\n",
      "print a.result(method='dict')"
     ],
     "language": "python",
     "metadata": {},
     "outputs": [
      {
       "output_type": "stream",
       "stream": "stdout",
       "text": [
        "{'Rcs': 0.0021532201604940251}\n"
       ]
      }
     ],
     "prompt_number": 51
    },
    {
     "cell_type": "markdown",
     "metadata": {},
     "source": [
      "####  </span><font size=\"3\"> <span style=\"color:purple\"> Percent difference flux percentile WRONG </span></font>\n"
     ]
    },
    {
     "cell_type": "code",
     "collapsed": false,
     "input": [
      "data2 = np.random.normal(size=1000000)\n",
      "a = FeatureSpace(featureList=['PercentDifferenceFluxPercentile'] )\n",
      "a=a.calculateFeature(data2)\n",
      "print a.result(method='dict')"
     ],
     "language": "python",
     "metadata": {},
     "outputs": [
      {
       "output_type": "stream",
       "stream": "stdout",
       "text": [
        "{'PercentDifferenceFluxPercentile': -2820.8498060132506}\n"
       ]
      }
     ],
     "prompt_number": 52
    },
    {
     "cell_type": "markdown",
     "metadata": {},
     "source": [
      "####  </span><font size=\"3\"> <span style=\"color:purple\"> Mean variance $\\frac{\\sigma}{\\bar{m}}$ </span></font>\n",
      "\n",
      "This is a simple variability index and is defined as the ratio of the standard deviation, $\\sigma$, to the mean magnitude, $\\bar{m}$. If a light curve has strong variability, $\\frac{\\sigma}{\\bar{m}}$ of the light curve is generally large.\n",
      "\n",
      "For a uniform distribution the mean-variance should take a value close to 0.577:"
     ]
    },
    {
     "cell_type": "code",
     "collapsed": false,
     "input": [
      "data2 = np.random.uniform(size=1000000)\n",
      "a = FeatureSpace(featureList=['meanvariance'] )\n",
      "a=a.calculateFeature(data2)\n",
      "print a.result(method='dict')"
     ],
     "language": "python",
     "metadata": {},
     "outputs": [
      {
       "output_type": "stream",
       "stream": "stdout",
       "text": [
        "{'meanvariance': 0.57744505930751966}\n"
       ]
      }
     ],
     "prompt_number": 53
    },
    {
     "cell_type": "markdown",
     "metadata": {},
     "source": [
      "####  </span><font size=\"3\"> <span style=\"color:purple\"> Median buffer range percentage (MedianBRP) </span></font>\n",
      "\n",
      "Fraction of photometric points within amplitude/10 of the median magnitude.\n"
     ]
    },
    {
     "cell_type": "code",
     "collapsed": false,
     "input": [
      "data2 = np.random.normal(size=1000000)\n",
      "a = FeatureSpace(featureList=['MedianBRP'] )\n",
      "a=a.calculateFeature(data2)\n",
      "print a.result(method='dict')"
     ],
     "language": "python",
     "metadata": {},
     "outputs": [
      {
       "output_type": "stream",
       "stream": "stdout",
       "text": [
        "{'MedianBRP': 0.660565}\n"
       ]
      }
     ],
     "prompt_number": 54
    },
    {
     "cell_type": "markdown",
     "metadata": {},
     "source": [
      "####  </span><font size=\"3\"> <span style=\"color:purple\"> CAR features </span></font>\n"
     ]
    },
    {
     "cell_type": "code",
     "collapsed": false,
     "input": [
      "data2 = np.random.normal(size=10000)\n",
      "mjd2=np.arange(10000)\n",
      "error2 = np.random.normal(loc=0.01, scale =0.01, size=10000)\n",
      "a = FeatureSpace(featureList=['CAR_sigma', 'CAR_tau'] , CAR_sigma = [mjd2,error2] )\n",
      "a=a.calculateFeature(data2)\n",
      "print a.result(method='dict')"
     ],
     "language": "python",
     "metadata": {},
     "outputs": []
    },
    {
     "cell_type": "code",
     "collapsed": false,
     "input": [],
     "language": "python",
     "metadata": {},
     "outputs": [],
     "prompt_number": 55
    },
    {
     "cell_type": "code",
     "collapsed": false,
     "input": [],
     "language": "python",
     "metadata": {},
     "outputs": []
    }
   ],
   "metadata": {}
  }
 ]
}
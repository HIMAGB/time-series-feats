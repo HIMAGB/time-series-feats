{
 "metadata": {
  "name": "",
  "signature": "sha256:975c7a73214dd689bb9b90f8facf1d78bf3ac58b9805183df961ab3913944ff5"
 },
 "nbformat": 3,
 "nbformat_minor": 0,
 "worksheets": [
  {
   "cells": [
    {
     "cell_type": "code",
     "collapsed": false,
     "input": [
      "from IPython.core.display import HTML\n",
      "css_file = './custom.css'\n",
      "HTML(open(css_file, \"r\").read())"
     ],
     "language": "python",
     "metadata": {},
     "outputs": [
      {
       "html": [
        "<link href='http://fonts.googleapis.com/css?family=Alegreya+Sans:100,300,400,500,700,800,900,100italic,300italic,400italic,500italic,700italic,800italic,900italic' rel='stylesheet' type='text/css'>\n",
        "<link href='http://fonts.googleapis.com/css?family=Arvo:400,700,400italic' rel='stylesheet' type='text/css'>\n",
        "<link href='http://fonts.googleapis.com/css?family=PT+Mono' rel='stylesheet' type='text/css'>\n",
        "<link href='http://fonts.googleapis.com/css?family=Shadows+Into+Light' rel='stylesheet' type='text/css'>\n",
        "<link href='http://fonts.googleapis.com/css?family=Philosopher:400,700,400italic,700italic' rel='stylesheet' type='text/css'>\n",
        "\n",
        "\n",
        "<style>\n",
        "\n",
        "@font-face {\n",
        "    font-family: \"Computer Modern\";\n",
        "    src: url('http://mirrors.ctan.org/fonts/cm-unicode/fonts/otf/cmunss.otf');\n",
        "}\n",
        "\n",
        "#notebook_panel { /* main background */\n",
        "    background: #888;\n",
        "    color: #f6f6f6;\n",
        "}\n",
        "\n",
        "div.cell { /* set cell width to about 80 chars */\n",
        "    width: 1000px;\n",
        "}\n",
        "\n",
        "\n",
        "div #notebook { /* centre the content */\n",
        "    background: #fff; /* white background for content */\n",
        "    width: 1100px;\n",
        "    margin: auto;\n",
        "    padding-left: 1em;\n",
        "}\n",
        "\n",
        "#notebook li { /* More space between bullet points */\n",
        "margin-top:0.8em;\n",
        "}\n",
        "\n",
        "/* draw border around running cells */\n",
        "div.cell.border-box-sizing.code_cell.running {\n",
        "    border: 3px solid #111;\n",
        "}\n",
        "\n",
        "/* Put a solid color box around each cell and its output, visually linking them together */\n",
        "div.cell.code_cell {\n",
        "    background-color: rgba(171,165,131,0.3); \n",
        "    border-radius: 10px; /* rounded borders */\n",
        "    padding: 1em;\n",
        "    margin-top: 1em;\n",
        "}\n",
        "\n",
        "div.text_cell_render{\n",
        "    font-family: 'Arvo' sans-serif;\n",
        "    line-height: 130%;\n",
        "    font-size: 115%;\n",
        "    width:900px;\n",
        "    margin-left:auto;\n",
        "    margin-right:auto;\n",
        "}\n",
        "\n",
        "/* Formatting for header cells */\n",
        ".text_cell_render h1 {\n",
        "    font-family: 'Philosopher', sans-serif;\n",
        "    font-weight: 400;\n",
        "    font-size: 64pt;\n",
        "    line-height: 100%;\n",
        "    color: rgb(12,85,97);\n",
        "    margin-bottom: 0.1em;\n",
        "    margin-top: 0.1em;\n",
        "    display: block;\n",
        "}\n",
        "\n",
        ".text_cell_render h2 {\n",
        "    font-family: 'Philosopher', serif;\n",
        "    font-weight: 700;\n",
        "    font-size: 24pt;\n",
        "    line-height: 100%;\n",
        "    color: rgb(171,165,131);\n",
        "    margin-bottom: 0.1em;\n",
        "    margin-top: 0.1em;\n",
        "    display: block;\n",
        "}    \n",
        "\n",
        ".text_cell_render h3 {\n",
        "    font-family: 'Philosopher', serif;\n",
        "    margin-top:12px;\n",
        "    margin-bottom: 3px;\n",
        "    font-style: italic;\n",
        "    color: rgb(95,92,72);\n",
        "}\n",
        "\n",
        ".text_cell_render h4 {\n",
        "    font-family: 'Philosopher', serif;\n",
        "    font-weight: 800;\n",
        "    font-size: 15pt;   \n",
        "    margin-top:12px;\n",
        "    margin-bottom: 3px;\n",
        "    font-style: italic;\n",
        "    color: #E56717;\n",
        "}\n",
        "\n",
        ".text_cell_render h5 {\n",
        "    font-family: 'Alegreya Sans', sans-serif;\n",
        "    font-weight: 300;\n",
        "    font-size: 16pt;\n",
        "    color: grey;\n",
        "    font-style: italic;\n",
        "    margin-bottom: .1em;\n",
        "    margin-top: 0.1em;\n",
        "    display: block;\n",
        "}\n",
        "\n",
        ".text_cell_render h6 {\n",
        "    font-family: 'PT Mono', sans-serif;\n",
        "    font-weight: 300;\n",
        "    font-size: 10pt;\n",
        "    color: grey;\n",
        "    margin-bottom: 1px;\n",
        "    margin-top: 1px;\n",
        "}\n",
        "\n",
        ".CodeMirror{\n",
        "        font-family: \"PT Mono\";\n",
        "        font-size: 100%;\n",
        "}\n",
        "\n",
        "</style>\n",
        "\n"
       ],
       "metadata": {},
       "output_type": "pyout",
       "prompt_number": 1,
       "text": [
        "<IPython.core.display.HTML at 0x1023b3210>"
       ]
      }
     ],
     "prompt_number": 1
    },
    {
     "cell_type": "code",
     "collapsed": false,
     "input": [
      "HTML('''<script>\n",
      "code_show=true; \n",
      "function code_toggle() {\n",
      " if (code_show){\n",
      " $('div.input').hide();\n",
      " } else {\n",
      " $('div.input').show();\n",
      " }\n",
      " code_show = !code_show\n",
      "} \n",
      "$( document ).ready(code_toggle);\n",
      "</script>\n",
      "The raw code for this IPython notebook is by default hidden for easier reading.\n",
      "To toggle on/off the raw code, click <a href=\"javascript:code_toggle()\">here</a>.''')"
     ],
     "language": "python",
     "metadata": {},
     "outputs": [
      {
       "html": [
        "<script>\n",
        "code_show=true; \n",
        "function code_toggle() {\n",
        " if (code_show){\n",
        " $('div.input').hide();\n",
        " } else {\n",
        " $('div.input').show();\n",
        " }\n",
        " code_show = !code_show\n",
        "} \n",
        "$( document ).ready(code_toggle);\n",
        "</script>\n",
        "The raw code for this IPython notebook is by default hidden for easier reading.\n",
        "To toggle on/off the raw code, click <a href=\"javascript:code_toggle()\">here</a>."
       ],
       "metadata": {},
       "output_type": "pyout",
       "prompt_number": 2,
       "text": [
        "<IPython.core.display.HTML at 0x1023b37d0>"
       ]
      }
     ],
     "prompt_number": 2
    },
    {
     "cell_type": "markdown",
     "metadata": {},
     "source": [
      "# <span style=\"color:darkblue\"> <H2 align=\"center\"> Feature Analysis for Time Series </H2> </span>\n",
      "**Isadora Nun**, Pavlos Protopapas, Karim Pichara, Daniel Acu\u00f1a, Nicol\u00e1s Castro, Cristobal Mackenzie, Andr\u00e9s Riveros and Ming Zhu"
     ]
    },
    {
     "cell_type": "markdown",
     "metadata": {},
     "source": [
      "## Introduction\n",
      "\n",
      "Half a page with references\n"
     ]
    },
    {
     "cell_type": "code",
     "collapsed": false,
     "input": [
      "%load_ext autoreload\n",
      "%autoreload 2\n",
      "\n",
      "from IPython.display import Image\n"
     ],
     "language": "python",
     "metadata": {},
     "outputs": [],
     "prompt_number": 3
    },
    {
     "cell_type": "code",
     "collapsed": false,
     "input": [
      "%reload_ext autoreload"
     ],
     "language": "python",
     "metadata": {},
     "outputs": [],
     "prompt_number": 4
    },
    {
     "cell_type": "markdown",
     "metadata": {},
     "source": [
      "Time Series features are important for all kind of classification .. In this document we described the library .... "
     ]
    },
    {
     "cell_type": "code",
     "collapsed": false,
     "input": [
      "from IPython.display import YouTubeVideo\n",
      "YouTubeVideo('qMx4ozpSRuE',  width=840, height=360, rel=0)"
     ],
     "language": "python",
     "metadata": {},
     "outputs": [
      {
       "html": [
        "\n",
        "        <iframe\n",
        "            width=\"840\"\n",
        "            height=360\"\n",
        "            src=\"https://www.youtube.com/embed/qMx4ozpSRuE?rel=0\"\n",
        "            frameborder=\"0\"\n",
        "            allowfullscreen\n",
        "        ></iframe>\n",
        "        "
       ],
       "metadata": {},
       "output_type": "pyout",
       "prompt_number": 5,
       "text": [
        "<IPython.lib.display.YouTubeVideo at 0x10267b310>"
       ]
      }
     ],
     "prompt_number": 5
    },
    {
     "cell_type": "markdown",
     "metadata": {},
     "source": [
      "### 1. Importing a light curve\n",
      "In order to analize a light curve, it is first necessary to open the file that contains it. This file should be an array composed by at least four vectors: magnitude in two different bands, time of measurement and the associated observational error. For example, the function LeerLC_MACHO() receives a MACHO id as an input and returns the following output:\n",
      "- data: magnitude measurement (blue band)\n",
      "- mjd: time of measurement (blue band)\n",
      "- error: associated observational error (blue band)\n",
      "- second_data: magnitude measurement (red band)\n",
      "\n",
      "A demostration of how to import a MACHO light curve is presented below:"
     ]
    },
    {
     "cell_type": "code",
     "collapsed": false,
     "input": [
      "%matplotlib inline\n",
      "from Feature import FeatureSpace\n",
      "import numpy as np\n",
      "import matplotlib.pyplot as plt\n",
      "import seaborn as sns\n",
      "import statsmodels.graphics.tsaplots as tsaplots\n",
      "import pandas \n",
      "from import_lightcurve import LeerLC_MACHO\n",
      "from PreprocessLC import Preprocess_LC\n",
      "from create_table import Table"
     ],
     "language": "python",
     "metadata": {},
     "outputs": [],
     "prompt_number": 6
    },
    {
     "cell_type": "code",
     "collapsed": false,
     "input": [
      "lc_B = LeerLC_MACHO('lc_58.6272.729.B.mjd')  #58.6272.729 1.3444.614 1.4652.1527\n",
      "lc_R = LeerLC_MACHO('lc_58.6272.729.R.mjd')\n",
      "\n",
      "[data, mjd, error] = lc_B.leerLC()\n",
      "[data2, mjd2, error2] = lc_R.leerLC()\n",
      "\n",
      "#We preprocess the data\n",
      "preproccesed_data = Preprocess_LC(data, mjd, error)\n",
      "[data, mjd, error] = preproccesed_data.Preprocess()\n",
      "\n",
      "preproccesed_data = Preprocess_LC(data2, mjd2, error2)\n",
      "[second_data, mjd2, error2] = preproccesed_data.Preprocess()\n",
      "\n",
      "#We normalize the data\n",
      "#mean_data = np.mean(data)\n",
      "#std_data = np.std(data)\n",
      "#data = (data - mean_data) / std_data"
     ],
     "language": "python",
     "metadata": {},
     "outputs": [],
     "prompt_number": 7
    },
    {
     "cell_type": "markdown",
     "metadata": {},
     "source": [
      "For a visual representation of the light curve, we can plot the data as follows: "
     ]
    },
    {
     "cell_type": "code",
     "collapsed": false,
     "input": [
      "plt.plot(mjd, data, 'b*-')\n",
      "plt.xlabel(\"MJD\")\n",
      "plt.ylabel(\"Magnitude\")\n",
      "plt.gca().invert_yaxis()\n",
      "print np.std(data)/np.mean(data)"
     ],
     "language": "python",
     "metadata": {},
     "outputs": [
      {
       "output_type": "stream",
       "stream": "stdout",
       "text": [
        "-0.0853764563929\n"
       ]
      },
      {
       "metadata": {},
       "output_type": "display_data",
       "png": "iVBORw0KGgoAAAANSUhEUgAAAgMAAAFkCAYAAAC9wjgoAAAABHNCSVQICAgIfAhkiAAAAAlwSFlz\nAAALEgAACxIB0t1+/AAAIABJREFUeJzsnXmYFNW5/7/V1cssgGyDgICAaA24L3FrRXCPhnGuiQkm\nJmq4iT8TNRKBuF3FxCgwCXFXYnBJjFdzjYmjRI1RcGk2RVEELFxYZXFkmYWZ6Z7urt8fZ06fU9XV\n3dUzXT3d0+/neebpnl6qTp+qc8573lUxDAMEQRAEQZQunp5uAEEQBEEQPQsJAwRBEARR4pAwQBAE\nQRAlDgkDBEEQBFHikDBAEARBECUOCQMEQRAEUeJ483kyTdMUANsAbOh8aZmu6zdbPnMvgCCAZgAG\ngFpd15vy2U6CIAiCKCXyKgwAOATAKl3Xa9J85jgA5+q6vidPbSIIgiCIkkbJZ9IhTdO+B2AWgEYA\nbQCm67q+QXrfA2A7gBCAAwEs1HX98bw1kCAIgiBKENc0A5qmTQNwveXlnwG4S9f1v2uaFgTwFIAT\npfcrANwHYH5n2xZrmvaerutr3GonQRAEQZQ6rgkDuq4vBLBQfk3TtHIA0c73Q5qmDbd8rRXAfbqu\nt3d+/g0ARwNIKQwYhmEoipLLphMEQRBEoZPThS/fPgO3AdgDoE7TtKMBbLG8rwH4X03TjgOgAjgN\nwBPpDqgoChoaml1oau+jqqov9ZUDqJ+cQf3kHOorZ1A/Oaeqqm9Oj5dvYWAOgKc0TbsATENwBQBo\nmjYdwGe6rr+oadqfASwD0AHgCV3X1+e5jQRBEARRUuTVgdAlDJIknUFStzOon5xB/eQc6itnUD85\np6qqb07NBJR0iCAIgiBKHBIGCIIgCKLEIWGAIAiCIEocEgYIgiAIosQhYYAgCIIgShwSBgiCIAii\nxCFhgCAIgiBKHBIGCIIgCKLEIWGAIAiCIEqckhMGQiEVoZDa080gCIIgiIIh37UJehTDAO68M4BA\nwEAw2NbTzSEIgiCIgqBkNAOhkIozz6zAqlUqli71ora2nDQEBEEQBIESEgaCwRhqazsS/8+dG0Yw\nGOvBFhEEQRBEYVAywgAAvPsus4qceWYU9fUlZSEhCIIgiJSU1Io4eHAcADB5chTDhhV96WaCIAiC\nyAklpRk49FAmDMTjQE1NtIdbQxAEQRCFQUkJA5GIAoAJAwRBEARBMEpKGAiH2WM8rvRsQwiCIAii\ngCgxYYA0AwRBEARhpaSEgUiEPZIwQBAEQRCCkhIG2tvZIwkDBEEQBCEoKWGAHAgJgiAIIpkSEwbY\nIwkDBEEQBCEoKWGAzAQEQRAEkUxJCQNkJiAIgiCIZEpKGBB5Bnq2HQRBEARRSJSYMMA1A5R0iCAI\ngiA4JSYMsEfSDBAEQRCEoKSEAYomIAiCIIhkSkoYoHTEBEEQBJFMiQkD7JGEAYIgCIIQlJQwQGYC\ngiAIgkimpISB9nYyExAEQRCElZISBkgzQBAEQRDJlIwwEI9TBkKCIAiCsKNkhAGuFQAo6RBBEARB\nyJSoMNBz7SAIgiCIQqNkhAHuPAiQMEAQBEEQMiUjDMiagVis59pBEARBEIVGyQgDPOEQABhGz7WD\nIAiCIAqNEhIGyExAEARBEHaUjDBADoQEQRAEYU/JCAPkQEgQBEEQ9njzeTJN0xQA2wBs6Hxpma7r\nN1s+8xMAPwUQBXCnruuLcnFuciAkCIIgCHvyKgwAOATAKl3Xa+ze1DRtKIBrARwPoBzAO5qmvabr\nesTu89lgdiCkpEMEQRAEwcm3MHA8gIM0TXsDQBuA6bqub5DePxFASNf1DgAdmqZ9BuAoAO9198Tk\nQEgQBEEQ9rgmDGiaNg3A9ZaXfwbgLl3X/65pWhDAU2ACAKcvgEbp/2YAB+SiPbJmgIQBgiAIghC4\nJgzour4QwEL5NU3TysF8AaDrekjTtOGWrzWBCQScvgD2ZjpXVVXfTB9BICCee71eR9/pjZTq784W\n6idnUD85h/rKGdRPPUO+zQS3AdgDoE7TtKMBbLG8vxLAbzVNCwAoAzAewMeZDtrQ0JzxxF9/7es8\nJNDWFkVDQ1tWDe8NVFX1ddRXpQ71kzOon5xDfeUM6ifn5FpoyrcwMAfAU5qmXQCmIbgCADRNmw7g\nM13XX9Q07T4Ab4OFPd6cC+dBgDIQEgRBEEQq8ioM6LreCGCKzet/kJ7/CcCfcn1uciAkCIIgCHtK\nJukQORASBEEQhD0lIwxQOmKCIAiCsKdkhAE5HXEsRkmHCIIgCIJTMsKArBkgB0KCIAiCEJSkMEBm\nAoIgCIIQlIwwQFULCYIgCMKefOcZ6DFIM0AQRE8QCqno3x84/PCebglBpKZkhAGeZ0BRDBIGCILI\nC9EocOutAQwaBDz3XE+3hiBSUzJmAp5noLycNAMEQbhPKKTi5JMrsXatirfeAmpryxEKqT3dLIKw\npWSEAW4mCARIGCAIwn2CwRgGDRKTzdy5YQSDsR5sEUGkpmSEgXBYQSBgQFXJTEAQRH7YtYtNsWPG\nAPX1JWOVJYqQEhIGmFbA4wHicUo6RBCE+/j9LKmJpgGaRrsQonApKWHA7zc6hYGebg1BEKVAZSV7\n9PuBmppozzaGINJQMsJAJKKgrIxpBmJktiMIIg90dLBHv79n20EQmSgZYaC9nQ1Ij4fSERMEkR8i\nEWaSJGGAKHRKRhiIRJgDIZkJCILIF6QZIIqFEhIGZAfCnm4NQRC5JBRSCzKGn4c0+3w9245ipVCv\na2+kZGJdmJnAgMejkDBAEL2Mujq29Q4G25Le44tJT8T4R6NkJugO6a4rkVtKQjMQjbJwQqYZMMiB\nkCB6CaGQitracixd6sXSpV7bLH91df7EopJvuGaAhIHscHJdidxSEpqB9nb2yM0E5EBIEL0DluUv\njIkT2VQ2d244Ec8fCqmYN8+PZcvYe7W15Zg5M5JXDUGx+wz0lFYlGIyhvDyM889Pvq6EO5SEZkCk\nIjYo6RBB9DLkzH7y82AwhunTRbnSnkgHzKMJ1CLd1N55ZwB33BHokXO/9BK7lmPGxCl7Yx4oCWGA\nVywkB0KC6H1UV4sBbd09LlrEFpHhw3t2QSk2bSRX069apWL1arVH1PSHHMKu5YgRcdIK5IGSELd4\nxUKeZ4CEAYLoPciZ/axZ/g48kK3CFRVGjy4oxeanZDW/3HVXGBMm5Lf/zjuPdVpHB2VvzAcloRng\nqjpuJii2gUkQRGrS7ViPOYYN9r17lR5dUIpxA1Jf78Xgwazhzz+f/30j16Z0dJBZNx+UhDDANQPk\nQNi7oZjk3kM213LevNTeec3NbCHZu1fp0U1AMW5AqqvjqKpik+WIEfmXZvg8HYmk/xyRG0pMGKAM\nhL2ZngwhI3LL3LmZryW3a/NoAQB45x2zAMGFgXhcQWNj7tvplGIUBmpqool2B4M9JwzwiAzCXUpE\nGBCJP0gY6H1YY5Jraigm2Sl8B14oWpVQSMXZZ1dg+fLM8eXBYAxz5oRNr33jG+ZVt7lZPN+zp+fU\nzcU658RirM9aWvJ/bqEZIDNBPigpB0JWtdAo2oFJ2GN1drr66vzGkhczc+b4EQ4rqKhgM29PZ3oL\nBmMYNiyOjz5iAkCm+PL6ei+GDYtjxw62r+FpxzlcMwAAu3d7MG5cz9wXxagZAES79+/P/4JMmoH8\nUhKaAZEFjDsQkqTZ26iv9+KII9jM9cYbJSHjdguuTVmxwovVq9WCyvT27rvs/CNH2ocDylqM6uo4\nhg8XTkBcC8iRhYF8awbkRaxYhQG+ceoJzQA/N/kM5IeSEAasZgKAnAgLiVyoqKurRSzyqFGk+smE\nnYod6JnEPFb27WPjddKkqK1WYM4c4U8waJABXRfT2A9/aBZmZGFg7163WmxPWOreYtVG8naTZqD3\nUyLCAHtkZgL2vFgHZ28kF45/NTXRxKRx2mnuLGaFYlfPFXa77p5MzMO1FTxD6H/+48WgQYbp/Qsv\nrMCKFUKLAQADBojBPGNGu0mYkX0Gdu/u3nSX7fVvaxMLaLFqBni7W1p6Thggn4H8UCLCANcMGCQM\nFBC5LkbC1YluTby9LVpBztzH6cnEPMFgDL/+tdhOn3JK1LSwB4MxTJsm3udajJ07xTT273+bawXn\n0kwwZ44fc+c6v/6yZqDYhYH9+/N/btIM5JeSEAb4IkGagcLCqqruroqaJyfJtU9IKKSipqb3VVCz\nS8KTz8Q8djvt558Xi/nnnydPT0uXCs3Fbbf5ceqpFaakNNGo2f6XC2FA9q9YvtzZ9Q+FVEybVp74\n/5VX0idHKlSEz0D+d+fkM5BfSkIY4FULZc1AsUrqvY36ei8OOMCAx2N0W0XNJ41cC3rBYAy/+EXP\nFrzJF/n0pZk7149bbgkgKskfI0aIfu3XL7kxcvKbLVs8aGgwL1JTp5qFmeZmll8E6LowEAzGcOut\n2QmtwWAMP/2p+M4JJ+S/8l8u4IJ1T/oMGEbPJowqFUpCGOA2J9mBkDQDhUF1dRwHHGAgHlcShUm6\nClcnujFx/Pvf9pXxigknNu9oHhQDfKe9fLkX69apCAYrE+06+WRxDxx0UPJ3TzxRvP/55yoaG81T\nmF00wfDhBlTVwJ49Spf9Pp59lmksBgxwLrQuWiS0HJs3Z33KgqAnowlkwZS0A+5TEsKAnQMhRRMU\nBjU10cSEc+aZ3VuJhJmgu61KRo5QKNYKanV1fkyfHsCCBb6Un8mHfdZqHho3LpbYNcvqaDvBhGv5\nUmFdNJqbFfTrZ2DAACYMdNXvo29fI/Ho9Pr7pdP07Zv1KQuCQsgzAJDfQD4oEWFAdiBkdxhpBgqH\nXIUvuelAKKt43bar5zpqQXbU3LRJxe23BxAKqbYCcT40AwDTrvTpwxqwc6e47q2t4jOxGGv7ggW+\nRH+0t6e/R2bPDiQ+G40Cra0K+vY1UF5uYPNmxZHfh13/81wG2VTQk80cw4Y5+krBUQihhQBFFOSD\n4tR3ZglfJHihIoCEgULCHL7UdZUN3z24cW3zqabkO9dcZgMcMkR0Sjyu4PLLyzF9enKeAaZdcV9t\nVl0dRyBgoKVFMYUPWjUDc+f68fHHKo48MoYXXmjLqBm49NIOScvAXuvTx8CIEcDWreLYU6eym0Ve\n9Pn37Pp/yxY2cWSzQ926Vey1itXm3bPRBOJ6kWbAfUpCGOATiCwMMMcYshUUAmL30b3j8N2DGxNv\nNOr+ziQUUlFX5094zF94YQVuvrn7zoq33howJeYBgP794xg7NllqsmoG+GKZa+e3mpoofvGLMgCA\npsnCgPjMkiUqmptZu5ct8+LIIytxyinpd+UrVqi4+mq2cvBIgrY2JUkLUlcXwMiR1t8fMfV/bW05\nZs5kqa23bWPHyuY+2LZNgaoaiMWUot18FEKeAYB8BvJBSQgDfJHgVQsB0gwUErlSRQoHwtxPXPmy\npcs1FoYOjXVrEebCxdq1yepwn8+wVblbf6cbWgqOXE2UIy86Rx4Zx9KlQojZv1/Bhx+mn7IGDxbH\n4sKArnuShIGtWz2mnTsA1NUB3/teR0IYkOsi8M86XZQMg33n4IMNfPFF8XrD96RmQJ6jSTPgPiXi\nM8AeZc0AORAWDjzjXHd3H25GE+RrMuKhlgDw2WfZ+Q1Ybd2pUg4DzKHt4YeTHen471ywwIfJkytc\nza3Ad9lyYSH5Hti+3Tw9tbQo2Lgx/ZTFjxUKqbjyShbnv3OnB7t2ZZ7q5s4NmwSEBx4QvgrcxODU\np2LPHgWtrQoOPpitaMW4+TAMoarvec0A+Qy4TUkJA5SBsDDJ1e7DXZ+B/ExG1dVxDBwoPNezwc5T\nvr7ea4rN5+zapWD16uTFfeVK9trLL3uhquL8buZWUKSulc0E5eXZS+w8BDQYjKEtgzKjb19zv1hD\nBleuVDFnjh8tLcCePVwzkGxysIObFbgwUIyaAXkc9bQDIWkG3KckhAFhJiAHwkIkd9EE7vkM5Gsy\nkj3VR4xwthha0zrX1Jh38XaL4uTJ9p00e7YfJ55YiaVLvfjoo/zkVpD7Vt6BcqEoGzZv9mDy5ApM\nnlyRSFPs8xnw+ZKPddZZcoIjVuhq6VLRbxs3qlixwouLL64wfc/J/cUdDotZGJDb3NKSf22qPEeT\nz4D7lIQwYGcmKMbB2VvJlQOhm2aCTF7suYTvlJ1OvlZzwEknCV+DWbMitlUcn37aPtfA7t0qNm9O\nFspGj3ZPepa1LpnyDDjhqqsiUBTReYMGxXH88ckHe+01IeA0NSm4886AKd0x59JLzSuRE8FQaAaK\nN5RZHkfxuJLXMQBYNQNkJnCbHhEGNE2r1jRtn6ZpSUZLTdPu1TTtPU3TFmua9oamaf26e75wWIHX\na0BVSTNQiOQq/7mbeQbyabPMVhgIhVQ8+KAfp5/OFrxFi8wL2qZNdsM89e+RQ7o469Z1farIlDdB\nXvRlM0FXIzi2bvVgzBjReRdcEMMBByR/7tprZX8KBV99ZX8+WWgAnAkD3Pdg1Kg4FMUoys2Htc09\n4TfAIc2A++Q9mqBzcf89gFRy5nEAztV1fU+uzhkOi2xglHSo8MiFmSAWE46IxZ5ngO9qnQoDdXV+\nfP21gvPPj+Ltt73Yvt2DWAxQO9ffXEzijz3mx+23d60T7CISUoWN8XvA50teQCdMiKF/fwNHHBHH\nH/+YOovgCy94E8c85ZQovv5aMflNTJnSAU2L4623vDjvvA68+irTkrS2JveTx2Mk+vHAA+PYtcvj\nKBcD1wyMGBGHqhanJtJ6/+3fD1RV9cz5yWfAffKqGdA0TQGwAMBNAJIsmZqmeQAcCuBRTdPe0TTt\nylycNxIBysrYncUHNkUTFA65cCCUFxQ3QgvD9k75ruBUMyD7CmzYoCZU/62tCj7+2NP5nKlYDzxQ\nLIZVVdlLS21tCsaN65M2lbFd+y66yL7ao6xytvoMBAIGysqSzQQXXBDFj3/cgRtvTH8xFi5sR1MT\ne37eeVHU1ERx/PFx0/uzZkVw1FExHHlkHN/9buqVxuMRwhTPy+BkYdqyxYPKSgMDBrA5pxg3Hz2t\nGTD7DJCZwG1c0wxomjYNwPWWlzcDeEbX9Y80TQOSdZUVAO4DML+zbYs1TXtP1/U16c5VVZU+8Xc0\nyuoSVFX1RUWnL1D//n3yKuUWCpn6qifggz4W86OqKvu88QDQ2CieV1SUoaqqrFttsvaT15v6vVzD\nz+X3+1BVlXrxra0FDj0UOOII9v/XXwvZ/oMPKnH22cDnn7P/hw714MgjmXCwYUPX9gB/+YuCmpoy\nLFnC+nbSpPR9UVsLrF4NLFvG/n/0US8mTPBiyRJgj6T383jEdW9rY2GP7J4wmxamTAlg4kRg8eLU\nbfR4gMsuq0wc/69/LcPPfgbce6/4zCWX9MXs2cDDDwP/939AebntoTpR0NHhhd8PjB3rxbJlQL9+\nmeeOL78ERo8GhgzpC4+HLazp+mrJEvY4aVL64+YTxTI7+/2VeZkzeT/17y9eKy8vL8n5Op+4Jgzo\nur4QwEL5NU3TPgUwrVNQGArgVQCTpI+0ArhP1/X2zs+/AeBoAGmFgYaG5rRtaW2thNcLNDTsRzgc\nAOBHQ8N+DBpUhOJ6N6iq6puxr/INi2Vmg3/37g40NHTNS+nrrxUAfQAAjY3taGjoul7Rrp/27PED\nYEHsbvdhPF4BQEV7e+b+eOIJPwIBf1K1vldeieKKK9o6q+2VYfjwDjz5JDvWrFkBPPFEdkJXIGBg\n7twYTjmlDbfcwlbPUMibsS8WLy4Hn2aeeCKMmTMjuOWWcrS1KeCLfXOz+J2NjZWoqGBCSzhsQBYI\nmppa0dAQQ2OjCrZvSEZRDMTjBrjSs6UljtGj23HHHcDll7Pv3HnnfmhaHA0NbPFtavLiwAMDtrkI\nolHg/fcNDB5swDCiAPzYubMFFRVGZx8kZ2hsbAQaG/vixBOjaGhog8fTB7GYkraveJ/+85+5T+7U\nVZgPRZ/E/9u2sf53E3nssXDOSgDA7t1taGjIU+GMIiHXm5K8mgl0XT9U1/XJuq5PBrATwLmWj2gA\n3tE0zaNpmg/AaQBWdfe8spmAHAgLi1zFMsuq2+L3GXD+2erqeKLgD/uugUMPjWH5chWRCPDkk0yz\ncNppYhIfPNjAFVdk94PGjYtj0KC4KYRx0iRkTEQ0dKi4GIaBxPc/+EB8T752+/cr6NPHgNeb7EDI\n8x6ky3cQiykYNUq8P2FCFMFgDGvWqJgxI4wZM8JJYZI1NVEMHZraJhONKjjssDh8Pt5e0a677/bj\nN78JmD7PnQe5n0I6M4E1LNSN5E5dxdrmfOcaoAyE+aUnQwsTo0/TtOmapk3RdX09gD8DWAZgMYAn\nOl/rFu3tiuRAyB5JGCgMZLtkdyYbs89ANxqUAr7zlkPW3MaJX0tNTdRkwujTB5g4MYbWVgXnn1+B\nDRvYwvLkkz7TIvOf/2SnFNy7V8HChWFTCONll2WuWXDUUWKgzZoVsc2IyBdXw2DRBFwYsF5H1WaN\nPOOM5N0i/80XXtiBykp27OrqOGbNimDWrIhtCWJ/BkXJqFGyMCAW8ZUrvXj/fdWU24ELA7z2ATcT\n2BEMxvDb34o+cTO5U7ZY50g50iMfUAbC/NJjwoCu62N1XY90Pv+Drusvdj6fr+v6Sbqun6br+qO5\nOFckItKUkgNhYSFPON2ZbOSdgzvCAHv0Ofef6zLZhhbKberb10hoAU48UXTE1VdHTLkHfvKTiPSd\nzJLxvn2sUQ8+KFbNUIg/pg4dtNY/qK/3Ytgw8/m4INfWxiJCKivZOLXuBu2EATvnv927FVRXx/D4\n4+2JJE5yMie7EsRbtqRfbEaONBKhh9Focm6H664TiziPJBg5kjstpw8t/Nvf2AUcNCjuanKnbOFt\n5iaRfGsGKJogv/T6pEPxOJMqeTEUPtGSZqAwyJ1mQHzXjWgCfvx8CAMcp8KAvEj262fg1FOjUBQD\nr73mTVT5W7HCvJI2NysJtXllpfl4/foln7i1lSWdWblSTBkjR7LHujo/br01YBIIuIBgFfCqq+P4\nxjfMKyOf6Lm3ep8+BlpamDbC+jv5jpwza1ayo2g8ruCb30wWAuzgx8tUu2DEiDhWrWK/jwsv9fXe\nxLzy97+LG8NOM5BuvuHlpVUVtlqLnoKPTZ4WO//RBOJ8lGfAfXq9MMBvIq4ZIDNBYSEveMXgM5BJ\nnZwLstUMyGYCwwAGDGAV/3bsUHD00awzRo0yH0xWm1dWmt+TfRBkLr64Ahs3igV/504kihmtXavi\n8suZqjwWA267LYB58/xJC0hNTTQpnp/3LRcc+vRhgoA1452qJu/If/97e4e7Cy5w5myWrpjT4YcL\noeXhh/348ks2ecyaVYZQSMWYMfGE+UgWEnlRI55OOp2ZAGDXCmC/ecqUwnGS4+OIF87Kt5lAhjIQ\nuk8JCQN8YLLHYkwC0hsxOxB2/Thu+wzwhcnrdd++xIWBr77KPDxDIRXbt4uJ8rPPPAiFVASDMUSj\nCl5/nS3eEyeaFxl5x2x1nku1C4vFzFLWt75lDhFsalJw660BHH10JdasUbFsmRcvvCAklXictXf5\ncrOWgmsAuDD49797O3eFyZoBgO3IuVbj8ceTpbPhw+MmX4VM8OPJJofLL4+Y+mH2bCEwHHEES/d8\nwgniRusjnO6xbZsHZWUGqqpEbpN0AiqLhGELXk+UCk4F17D17XRaTyesZ8oy2RVSJaYi3KHXCwPc\nZkkOhIWJvHB3dChdTu4je567mY44n5qBzz/PPDyDwRgGDBA3cyymoK7Onwib/fRTNkF70hzKavrg\nv3XiRLOh9oMPzPbsWbOAHTvMC8Ajj7SbfAKqq8XFaG5m7R04ULxfVmYktHZci3Deefa7Yx5NIGs1\njjgi+WJ/85vRrCMyeA2H44+PYsaMMIYMMTBgADuf12tg2TIV06eH4fcbePllLwwDJtOCXFp561aW\n8ZC3IVMGQi4MAMzfoVDgbeZmo3RmAruKmd2FfAbyS68XBqxmAr67kO1RRM9hvQ5d3Rm5H03AHt32\nGQiFVHzxBRuWjY2Ko1Azq4/E3LlhTJhglnZvvLEs5XGsAg6feHfu9GDwYPk45oiKcePM3xszJob6\nem8i+dHIkXFTgiPuhPj11x70729gxowwFMWQfAbY44cfqhg/PpYUucHDEWWtxuzZyVvGZcuy26Xy\n41VXx/Hyy22JiANe3+CggwyMHx/HTTdFUFsbRXOzB6tWebBrl+h3LgzwcsdyxUlFSX9PfvCB6COr\nn0RPwjdMXBiwG5uhkIqzz65wJTSSMhDml14vDIiKhWYHQoomKAysk2RX/Qbc9hng91G6HXaukL37\nb7wxc6iZbPOfMqUDDzzgwwMPmFf4c8/tSHkcv988GPhvHTcujuefT7bJ//CHrLN5JsCjjmLHPfXU\nWOe4Ysc7+OA4GhtFh731lnDAGzuW7cb9fjHRcwe9UaNiePPNVsybZ3YakKMjOHYRBg8/3N6l8Dxr\nxAHvl1Gj4on3LrqI/fYXXvBh505xr27ZoiAaZSYCQDgP8jamuyfffltoXPbsKZxFz4lmIBiMJQpk\nAbkNjSTNQH4pAWGA3cDkQFiYWIWyrnosm6MJutOi9Md3+75hRYfEsFywILPqtUxyqF+4sB3nnJPs\nFNfQYD/UQyEVb7xhVv9zbc0RR7BQt2OPlW3jTGUOsCyBgYCBP/2prfN/Be+8o2LvXnauNWtUU2jh\n/fcH0NbGTDrcKa1fP1GD4IUXmNpl6lT2wq5dHlNyJLuF3yqczZgRxksv5SY8j6vs5V3+GWfE0K+f\ngZde8mLHDnby0aPjiEYVbNumJIUV8jba3ZM8kkH2DbFGffQk/F6vqGAmmlSC+ooVrL/POiua09BI\n8hnILyUgDLBHq88AORAWBsmaga4dx5xnwL1CRW5plORMdHL7ndiQuZc7p6aGTcrnny86ZfRoeykm\nGIyl3HX5/Ux1/sMfipl42rQIDj5YHOvEE2MYOJB1ypIlXixf7k1EC1idLTdt8mDKFJYSmAsDPh9T\nrdfWlid8JO6/349QSEV1dRzz5gmhxokwkCqpUFfgZgl5l+/3M5+EL7/04JVX2MJ38smxxO9bvNib\n9J1UeQYVlMUiAAAgAElEQVTsIhm402EhwNusqkBlZepoAu6UfcYZ0ZyGRpozEBaOxqS3UgLCANcM\nUDriQiRXKU/d9hngmgG3hAG7hWHIkDg+/9yTNpXtlCnlaGxUTK8BbBF/6CGhZj/rrORO4QIIn2gD\nAcMUTuf3Gxg0yEgkxQGA5ctVUwXA00+PJYp/jRljPsfu3WywyTVAjM4O5MKA329AUWD67T//OUuQ\nZM0R4NREkym3QCZ4v/Cd//PPe012cG4q4L4dJ53EfvfGjR4sWsSEAVmbkM5MUF/vTfQFUJgOhB6P\ngT59UmsGuB9NJKJ0u+9lSDOQX3q9MJDagbBn2kOYKTafATfvG6uKdfLkGBoaPFi71n6YfuMbsYRT\nHqeuju2qa2qipsXTbiG1CiCLFrVi+nQx6/r97DPy7vx3vwsnfAQA4PTTWTpkv99ILJ5WDj9cdNqa\nNew39u/PPfXZIlJf78X48ey4vPyyFetvsCYg4q91F2u/3HST2Q4+cWIssYD37RuHprH35s3zY/t2\n1sg77hBJmDI5EIbDgM/HjldYDoSsLUwzYKTU2u3cyX6zteR0dyGfgfzS64UBq5mAHAgLi1zlP3fb\nZ8BtMwHAdvMyZ57JZlerTT8UUvH22yquvbYMum5e/GQHLlmtzsPyrMgx+48+6sNjjwktwKOPMsGi\nvt6Lq66K4Oc/j6C+3ptIcqSqSCQ1qqgQ6mIrGzcmL3D9+rFHv59N9NXVcfTrZ8DjMXDccfHE75QX\n+x/+0OypbqdNyZXzWn29F9Onh3HllRF88om5j7mpAGAmKR51IO/qf/e7dtN14PekNR7/nXeYX8Uh\nh4jEQ26STT4APjZVleVRSCWoc0dKN3fvJAy4T+EkwnYJbiYQVQvZI2kG7Muv5hu+uLIUtEpONAPF\n6kBoVbGecQZLK/zGGyp+8Qvxel2dH1984cHOnR6MHRvDF1+w63jOOR2or/di5kw2K8s76VRx99XV\nwlO+vt6Lww7rwMSJ3s7ztCEYjGP3bqH+nTfPj1//mqnZYjHgO98px8yZEVRUGFBV+5PceWc4UT6Y\n8/TTPhx3XAw+HwstrKmJ4rbbAhg+3MDFF7NzBYMxDBoUTrRn/vz2JIHJrVz+1n6RCYVUfPgh69zW\nVgUnncTzObO05+eeG8WiRV5MmMCug2wm4LH4sVgE//M/Aaxfz64dr3vgdjQBP38wmLlUsjATMM1A\nezuLmJAzXra0CCEh1ws2+Qzkl5LTDJADocCNRCHZIrKcpY5ldoK8KylWM4FV6zBwIHDssXG8+66K\n5mazk+HOnR5UVBi44w6xM77nnrDJgcusGbA/pzWcTtYULFvmTfoMqzwofBG4JqKiwkBra/LxR42K\n4cYbk+sH/Pa3bQgGY/D7mTq6rQ3YsUMxOd4BZs3Fiy8mL/xW4SBXpCtsFAzG8OCDog8eeEAsrK+9\n1oqFC9tN18HjYQulXKp46tTyhCAAAGefHUVFheGaZsBaKvnccysc5K9gj0wzYD8+5fDKXC/Y5DOQ\nX3q9ZiA5HTH7v5STDoVCKurq/Fi6lF3+2lq2u+sJDQFfXPv2NbBjR3d8BrpnJkinJTGM/JgJ9u5N\nfm3y5Cjefz+At9/24oILomhriySu29NPt+LUU82LjrxwyZqBVMKAlXQ7Ys6bb3o7CxwFEpqIykp7\nc8Dhh8dx4okx3HEHEwiuvDKCQYMMrFrlxZlnRhK7zE2bPDAMxRSS56Q9uXRYy4Z//Yv1AQA88og/\n8fzFF72oro4kXQfDYE6SXMtRWWlgzJg4Vq9mF2bnTg8GDjSwY4eSSCedS6xalnPPjWY8hywMcCfR\nlhbF5PAoZ2HMtWaAfAbySwloBijPgJVgMIabbxY7yvPOS52Qxm1EZTT22PU8A/Ixsz9GOi1JNAoY\nhvtmAjsHPOE3oMIwgJtuYovqlCkdCIXMi2MqvwCga574qRZanr539mxRZa+iwrDt94oK5oU+Y0YY\nU6Z0YPBgwxT+xzV23DPfqhlw0p6eQE6JfNRRscRzu9A6VTUQjzNh5rjj2A1/0UVRXHONuGkHD2bp\njxsaPLj77txp62Qfgfp6L046ifXhe+9lviH4YuzxyJoB8zWWNQO53r1TBsL8UgLCAHvkkw7fIZW6\nA+Hvfx9IPL/vvkCaT7qLNeWpnarZCV31GbCqT2try7Fkifkzcr0EN++bHTuSJ7xjj43jgAMMLF7s\nxT//6cXmzR5MnhzFn/7UnrTwpNv9O9UMOMFuga6osP/shAlGYuGU1ef8e9yLngsDo0YVh5Qu98Gv\nfx2xfZ3DSxhrWhzjxrHfFwgYJmfNpUtVfPYZ64OVK7ue1tfqIHjXXYGEkFtdHcehh7Lz9++f+Vhy\naCEvc2118JWFAbk+SC7gAjhAmoF8UALCgNmBkDtSlbJmwDCA1avlxDaenOYUz4bk/Ofdz0CYzbW1\neqTPnRvGpEnmz/B7CHBbGEgejl4vcyTcutWD668vQ1mZgblz26EoyQtPut1/NoV7ukJFhegYOfSw\nXz8j7e5eaAaSs/31Frgg9q1vRRM5IZjvhbjvnn66DWPGiBu3q2l9uYYrFFJx7rkVePddNSHkDhpk\nJIoijR4dzxhZwDU9Zp8Bq2ZA3HS51gyQmSC/lIAwwB7JgVCwbJmKvXtVnHaaGGG5zCmeDbLPANB1\nM0F3oglkW/T//V+yXdrsnOjeqmqnGQCEqaCtTcEvfxnB6NH2C2Y6YSCXmgE75Os2ebJY8LmQlwqe\nsIZnH7SaCXoDsmly3z5W6KlvX7Nz5Msve005I7KNkgiFVFx4oSgYVFfnx/HHi4HAxzdPdf3ppx7c\neqvQGtgJBuYMhPbjUy7W5KbPAJkJ3KfXCwOpHQh7qEEFwJNPshl4xAimAhw2LO5aiFYm+ITD68Hn\nJh2x8+/xOHrOP//pS2smcNdnIHnCC4VUPPWUsCG/8Ubq3Vy6BT9VDoBcsX69mEr4tQScCAPs/c8/\n98DjMTB8eO/TDMgbkMZGBf37s9dkvwNNiyd23wCyTusbDMYwdKhZsyAv1E88we5xngvh5Ze9WLuW\naQ2qqytx/fVlST4z1jwDQKZogqyanBFzaGFuj00k0+uFAV4ohRwIGQ0NCl56yQtNi+Gss6Lo25dl\ng8tlTvFs4NfB5zMSzmZdoasZCIPBmClt7/XXF5aZIBiMYf580b66utQanHz5DMhwnwtZXcxj5gGz\nYGAH1ww0NHgwbJiRVE65NyBnPd27V3jjyyaTQYMMUx8++qgva7Pd2rXs81VVTLiXy0/zQlV88Zbt\n+3v2eLB5syepBDEXqhUlnWbAkxBi3MwFQKGF7tPrhYHkdMSlnXRozhw/OjoU/OhHHbjoomhiAe4p\nT2055SlrS9eO01WfAcCskn3rrUxmAvGcq1azyeqWjs8+M0+mfGKW1cnpNDjpzARulV62ywJo9RlI\nh7z490YTAWAWBphmILlPgsEYbrpJCH3Tp9sLfenuNV4Yaty4ODQtjupqcZ716z0Ih5mpycpxx4mx\nf+ed4rxmzUByngHDYGYCft3IZ6C4KZk8A7w2eSmnI47Hgb/9zQePx8All7DRVVEBNDb2bJsAnuUs\nVz4D2R2Dp4IFWHEgK6miCbhalYceLlrUxVCITpqaPBg6NJ7YIc6dy5IIyRkA0wkD6ZwE3RIGANam\n73ynA889x7b5PEwUcG4mAJCUY6C3wE00+/craG83x+nL7N7twXHHxfD++ypefNGHM88MJ30mXQZB\nLlj168e0Dg89xK+HgU8/VfHHP/qSvgOwEtiHHBLD55+r+Oc/vTjiCDZpWqsWAubx2dzMMjAedJCB\n9etzX5uAQgvzi+MpQtO0AW42xC1SmQncKHNbyIRCKo47jqm843EFV1zBdp0sc1zP9YVZGOi6maA7\nVQvlin5yUR2A9duMGSKDXns7sGCBDxddJMIRV6704t131W5FZLS1Afv2KQgEkKQFSOWNb83dn+78\nbgoDrNSw2NXKtm+nDoRA79UM8L7n2QXtNAMA68cpU5hUO2CA+TN2IbDWa93czI7P+5/PfbW17Jj3\n328fQjxpUjRRY0IO7dR11nBVNWyjCbjQOmxYHD6fkfMFmzQD+SXjFKFp2jGapn0C4CNN00Zqmva5\npmnH56FtOcFqJihVn4FgMGayhctpZNvaek5TIuc/Z2VSu9aW7mQglHc0VjVqMBjDBReID6gqcNVV\nHfif/0netd11V9cjMrjz4IgR8bQJbKxts4ZFdsWfoLsMGmTgssuEUPKjH4nnl12WXkCShYFscwy4\nVbUw1/A5h9cdSKUZqKmJoqqKvceLH3GCwRi+//300T979rBHHpnT3imfrVrF+sRa4ZJz1lmxROj1\naaeJY/7rX75E+7lmQDYTcP+DAw804PO5HU2Q22MTyTjZL9wP4GIAX+u6vhXAVQAedrVVOURkIKRo\ngv/8hz3+5CeRxK6zooKpuNsy1y1xBauZIBZTEpNYNnSnNoE8ibW1AUuWmBeVxYu5at5ICBr/+ley\nuv4f/+ia1S0UUvHaa+y7J50kJmMnfhxO/QncFAaShRJxM82bl15Akn0Gss0x4GbVwlzC+5578lt3\n/TKDB7P3eD4AmddfF9fX7lpzzQBPAMU1A9dfnyy4ypSVAeWdMlVbG0uHPHlyRSLc8777/IloEbNm\ngD0fOtR9YSAeV0o6HDwfOBEGKnRdX8f/0XX9PwB6LmVdlnB7r3AgZI+lKAzs28d233feGTalkQXQ\nY6YC2UmJeyx3xVTQnTwDsmagvV3B7NnArbeKevRc0Bg5Mp6YoOQEMZznnvNhwYLsvcDr6vz485/Z\nLmzo0OwWRGt4WircTjpUX+/FDTeEMX16GP/7v35HAgpg9RnIflDW13tx+umFk6bYDj7nZNIMAEho\nBhoaki+YHDoo339CQ8K+849/eBEKqQmheulSLwYOTN23fr+B8nKhTQgGY6brcvXVEUyaxPpY9hng\nZoKhQ+OJ6pO5xDpHk6nAXZxsZXZrmnYM/0fTtB8A2ONek3ILFwa4OpJrBkrNgZBVhQNOOCFmyl7H\ndxFdTQPcXfiAVxRzLPPgwdkdJxJR4PezCSlbYUA2MTz1lA9ffgkAKi6/vBxPPtmGpiYFgwfHsW+f\nJ3HfyH4GnC+/9ODee/0YM8Zw5EwYCqm4+24/Vq4Uw3Dfvuza7jR3v9vCgFxQ6Lbb/Jg1i0lQmYQB\nrhlQFAMHHZT9oKyujmPQIANvv124vtC874XPQOrPcmHAqhmQtUcAEyDfe0/FlCnRpCJEwSB77dln\n2aR32GExjBypJswIVgIBoRl4913mI8PDFAEDoZCKSy9l11Y2E/AQUq4ZcNNnAGDCQFlyAUwiRzjR\nDPwMwIMADtc0rRHAdAD/z9VW5ZBIhNUY5wOSP5aaymnDBg/i8WQHuZ7WDAiPZaPbmgGfj+3CsnUO\nlXcccmRBU5OCuXP92LxZQTisdKphFVx0UTmWLzfv/sePZ7upr7/2OHYmZH4c5hvRTsgoBrLJ1S/D\nqxZ2NcdAIRUvSoXVTJBOMzBokL1mIBiM4VvfEr+1o0PBM8/4EkWNZKGL1zjgmoEpU2KmdNFWZM3A\nIYfE0dQkv6tgzRoVy5erKC83LJoBs89ArqMJrMIARRS4S0ZhQNf1z3RdDwIYAGCkrusn6Lquu9+0\n3BAOCxMBULo+A2vXsh+eLAywx57TDLABzqMJgORiKE7o6GC7TFW1zwWQ6bsc6yR89dURAEpCTQow\nb/+jjzYv2vff345bbhG2WTleOx0ffmgegtmaCYodHvKbboEsdqzCQKpoAoAJtAMGsBoC1nv3vffE\n823bPGhtVbBypReTJ1eYfGZ4BAcXBsrKjMTO3w5ZM3DHHQFs3WoeLwsXtiMYjHVG+4jXd+5U4PEY\nGDzYgN9vuJpnACAzgdukFAY0TVss/b0B4CUAL0j/FwXhsJhwABHzW3rCABvgEyaYF6juaga6m3DH\n7DPAnq9cqWZte49ElISdU86bkK40MUc2E2zeLA8JAwsWsO82Nys44QTWd88/70vKtjZqVBwtLQrG\nj2efeeYZZ2rrYcPEjej1GomdYakgMhD23l0fn3MyhRZyKivj2L5dQV2d3+S7wqMErDzySDsuv1ys\nlDxfA4+MKStDWs0AEwbY+9/+tnnF1bRYQutgzQOyc6cHQ4YYUFV0OhC6ayagiAJ3SacZmNn5twXA\nWjDzwHUAlgPY4H7TckMkopjsTKXqQLhunQeKAowfn1vNgJPFNh1yNAGPZWbqzwDmzHF+XK4Z6Ohg\ntvv77/fhpJMqE3HZU6akVtvL6k05hSugJHZZRx0Vw3/9F5so+/Y1O0sdcICB/v2Z/fqcc9jB+vdP\nFpTsBKfDDxcz3sCBhqv5AAqNUEjFPfewa/z1112vnFno/j/W0MJMwsCePR40N7P0wGvXqrj00nIs\nWODDsGHJ36usNFBfby5yxFMNt7czXwy/P3WJaY/HgNcr+wx48Y1viA3Df/93R8IxtU8fYSYwDBYO\ny7V5bkYT8Egw0gy4S8qpR9f193Rdfw/A4bquX6vr+mpd19foun4TgG/kr4ndo73dHL4kzAS9dydi\nxTCYZmDcOLH75nRVM+AkCYoTZGFg+3bWhg0bVLS2KlixgqlAnRy3uZk5XcXjLMvbb35Tho0bxe39\nX//VkVJtL08yW7aYz8XrBfzgBx2JyfiggwyTAHHwwexH1NREE4V2xo6N4447Avjtb4WNat48P+bN\nMws4zc3iuV2q2K6STUKiniIYjOHXv3aWJ6GYcWom4NfMOhbb2xXMnRtIhPrJlJezuiJc6wAI4TYc\nZhshRRHaMmvBKm5C5ZqBgQPjOPLImPS+KEHNzQSGwRxdOzqUhIDjjjDAjs3nb/IZcBcn+5CApmkT\n+D+aph0LoLBmlTRwB0IOdyAsJc3A9u0K9u1TcNRRye9xyT5bzUAwGMPMmUJvd/LJMZx6avYTuZx0\n6Jhjki/KI4+0O1ogPB5z6NWPfxzBBRd04OST2US2eDELt7KaH0IhNcluDwCHHsrO+dFHHvj9BkaN\nMjB8ODv+l196TBMfFwYA4KCD2PO77gpg9WoV773HYrYnT67AsmVeLFtmFpzWrRPnbm5WcrZoZ5OQ\nqCd57z3VcRhiKopJM8Cy+dl/zi5vAqelRcHKlcn3RSzGUlXLmgE+ptrbhff9hx+y71qjSvhCyzUD\nqgq8+KK4Dg8+6E/cj336sAX6jTdUfO97TNWwd6+nU4Bhc20urwWfo0kzkB+cjL5fAviPpmk7wAJZ\nhwD4nqutyiGRCDkQ8gXn6KOT3xNmguyl7n/+U9w+8+cHsGaNij/8oR1DhjifEezyDKiqkYgIqK/3\nmoSOVHR0KNi/nzn3AWzSO/VU5vS0fLkXlZXMpPHxxyqOOCIGgB2zrs6f2LHJnHhiDJ9+qsIwFIwd\nG4OqIrHr37FDMVV9GzVK/F7+maOPjmHLFtbvjzzSjj17FFx0Eevsa68NIxhkP/yAA8zn5fUIcgFP\nSMSfO+nHfCOHJPZUGW234ZqBlhYFAwfG04Z51td7EQxGEQol9wXXHMnjo7GRjSG+QweEMNDWpkBR\nDEyeXJHICWCNtOELLRcaIhHgiCNiWLyYfX7BgnZMmMDuRz4+jzwyjh/8IILVq5kEMXduGDffHEic\n25ujy8gFC6EZyM1xCXsyXjZd11/TNG00gCMBGAA+0nW98ON5OmFmAtmBkD2WkjDAnQfthYGuOxAe\neCD77tSpHfjwQw9ee82LSZMqcM897QlzRKbdqDkdMX9NtMXpwtjRwWzucnx7TU00setfvFjF3r3s\n+dKlXkydqkJRRJY2K9/4Rgx//St7zsMNq6oMqKqBTz7xJCY/gNWGP/tsFtvNhYGPPhK7uPp6byLd\nMADce28AZ53FsvQ1NYnXzzgjmtNFuxgWWqd5EooZ2Q/EKvxZqa6OY+hQA6GQF4rCfEjk8aAohun/\neJwJwbJ2i5sJ2tvZ+R5+uB0TJ1rsg53wBZfPA0uXehNaguuuC2PRIi8mTGD3Ix+fLS3AK68wz88L\nL+xAfb3XtGDnWhjgmzk3SyQTzmoTPA7gEQDXALgWwB81TXvM7YblgmiUDRZZM1CKDoQ8rNDOTNAd\nB0JeqvbQQ+NYvLgVv/lNO5qbFVx2WQX+3/8rc+QAyAe8xyPyDMhMmeJsgYhEYNJI8IWFp3e1eumH\nw0pKQcDnM5ssDj2UPVdVFvq3f7+CK64QC/bs2cKUMXCggbIyw5TeWdPipuI969d7EhO27DMwZUo0\nZ1oBoDQWWqB4zARA+lTEALtPH3uMLbSGoSRpEeQQzMMPZ/dcY6MipcwWwkN7u4KyMuZgeMopUZxy\nShTHHGO+D/r1Y6aymTOZamDHDk9CcL3pJnNWSzkPiKKw59deyz7DI3lyqcq3mglIM+AuTnwG3uz8\nWwJgKYAqALtdbFPO4HG2ZCbwoF8/AwcfnPwe3xF0JdEP39X268d2MFdd1YE5c9pRUWFg1y4PVqzI\n7FjIJy45z4CMk+sUi7Hj2CWt4ULAl1+mvtXl1KsAy344YoQ48bhx4vnw4Qa2b2cOXZxbbhHhX4rC\nPiM7dNXURBP5A0aOjKOx0YPXX2eRBUuXikl8wQJfyYUWlgKqKq5ppnwKwWAMDz8sinNYQwINQ0n4\nWPBF8sory7F9u7i/efZC7jNQXR3HtGkdeOGFNowcaeBb3xIrtt9vIBiMYf58cc7Ro+MIBFjIoCxE\nypULPR52jrFjmfaJh4jmcvduNROQz4C7OEk69ISu6092/j0KoAbAae43rfuIioWl60DY1gZ8/rkH\nEybEbG2VqTQDTvIH8MIocpnaH/wgihdeEAebOjX9CLYWKrLiJFMknyR8NuXay8rYJJbuelsnsLY2\noG9f4XktCwN+v4F4XDH95p/8xBypcNBB8aRjbtvGhtoNNzAb/l//6kMwGMOBB4pj33OPM2dJwkyh\nawbkIlGZwgoB5sDHF3zrb+vXT9Si4CapadPMW+a+fdn9zqIJWDQAX9QvuiiKhQvFws99BV56yYtD\nDmH33mefeWyTFMmVCzduVDBggJFIrSyEgYw/zzFWMwFFE7hLV6KaJwAYmuuGuIGoWCheK7WkQ598\n4kE8riScgKyk8hmQ8wekEgzshAEAePVVL8rKDAwaFEddXSBtHgI7B0KZbISBVOlsBw82EveCE/bt\nA8aM6ZMIP73tNrHz/+ILNmQ2blQxfHgc118fTvQDh0/SMtu2sc+cf34URx8dw2uvebFrl4KvvvKg\nTx8DM2aEsWRJYdr1ie5h9hnILAzIxaeswoNcv4HnA3j9dS8OO0wMlFhMzj5oPnZNTdS0KeD+VNXV\ncfzwh2wgdXQoiVBDGa4ZaGpSsHmzx1QsiQsDbqjyKZogPzjxGYjLfwAWA/iN+03rPtaKhUDpmQnW\nrWOLmDUNMUcIA+x/a/6AY4+txE032S/oPIe5NTNadXUc/foZaG5WsHWrJ20eAtmB0C4xihNhgO8Y\nrOp+TldU7488Ioz+v/89u5Fqa8sTeQf8fgNz5rTj5puTqwXy8EKZLVs8qKgwMGAAy1kQiyl49lkf\nYjEWspip6iCRmkLXDMjCgBPNgKyaHzTI/J4clsiPNXBgHIcdJu6daFTMfWVl6c/HBehBgww8/7xQ\nre3dqySNVy6sb9jgQSSiYPRos8aMnztX8Dmaognyg5NogiSBQdO0oihhzBcJOZpAOBCWhspJ1CSw\nX1WtoYXWCmiyrf2ii8oxa1YkocrmPgN9+5qPWVMTxfz5frS2KokBfNddYVvtBJ/IVZULBIZJS5EL\nzUBVVRxOUmNUV8cwYIABv9+LRx7xJ4Xlyf3y17+24owzRLIhGbtMcdu2eTBqFAsru/jiDtx+ewBP\nPeVDOKwkhKne7ORXymSrGZCxmu8++MCDUEhFMBhDv37stbFjDezcKT4Tiwnn2HQ1CQCxUQoGY7j3\n3nZMnsxsASNGxJNMVtxM8PHHbCzZawYUsKCz7mPNQJjrQkiEGSeagWWW/1UA77nWohxCmgEmDCiK\nkXLXGQgw04m8ANfXexORAhMmiBFo3WXIDoRWWOpSIYgtWGBj0IdY7Lnq0moqcKYZYI92PgOAiCjI\nxPnnR/HCC234+c9ZpARX1fK+43H7M2aETWWHrVg1A42NrK9GjGDt6NePRQ5s2uRBR4di23+Ecwpd\nMyD7DGSKJrBi/fypp0YTizQXLPbtU0ybm1gMiWiWzJoB8f6iRd6EplCOhuHwsblmDZtE7YQBLpg7\nScWd7nWAfAbyTcoZTdO0xQDO6Hwuz24xAC+43K6cIISB0swzYBjMTDB2rGHrnAewRbiiwrwDqa6O\nY926OD76SMXIkQbOPDOMp5/2YfFiHzZtUrFiBStdxvOU2y1mTFugIB5n79kl9gHMPgMAU4M2NIj3\nWbRB+glNaAa6ZyY4/XQ2yV5yCTBpUnIZXqdx+1afga1b2U0nRyhcdlkH/vY3NoOS+rN3IwsDmfIM\npPsuINJjs2MJG748n0WjIn+G1WfAivx+dXUcgwaxjYFdO7nPAI9cMAsDZru+MCtGbP/nAg1/PRhM\nlj6sZgLyGXCXlDOaruuTAUDTtHt1Xf9FLk+qaVo1WMGjIbquRyzv/QTATwFEAdyp6/qirp6HO43J\n6uNSiib48ksFjY0KzjgjvX7NqpqvqYniT3/yQVEMfPvbUVRVGVi61Is9e4CNGz345jcrcOutYTQ1\nsSQodoIGV33zTH1r1qh45x01KaJB+Aywz1s1A06uk/AZsH/fqWYg1fc5TuP2rZoB7jzIq8kBwEkn\nxXDIIXF8/rkHn35aQtWJXKDQNQPyPe/EZ0DGKgzIJa5lzQAfRz6f0SkMsP8DGQy68txYUxNN1NIY\nNSp54FnH+dixoi38OM8958NvfuNJhMxeein7AVw4uewyFSNHxnH33WHU1fkTn6utLcfMmRHU1orj\nW80EJDS7SzrNwLd0XX8JwPuapv3I+r6u63/uygk1TesH4PcA2m3eGwqW2Oh4AOUA3tE07TWrwOAU\n4d2FWVgAACAASURBVEQjXislzQD3F0gVScCRNQNcZbd7t4KBAw3U1rJF7557RBazK69kfgNNTQr6\n9DHbRDlykh2A7Whmzw4k/AIaG9nkcPHF7Ph80rMKA07shOlCCwHnwoDXm5tVpV8/XtSF/Uaelnjk\nSHEdli5VE7/tq688icmQQgt7H9nkGbBizeYnCwNcsJA1A34/m9uEz4BzM4HcVruxJI/pfv0MDBwo\n/uftXLZMxSOPtCd8a6yJvfbvV/DJJyrq6vz43vc6EsLA1KnJhcQoA2F+Sbcl4ZUJJ1v+zux8zBpN\n0xQACwDcBMDGKoUTAYR0Xe/Qdb0JwGcAbPLmOUNoBuwcCLt61OJBRBKkX2BkzcDdd/txxx0B7Nmj\nJAZ7KKTi+98XnkizZ7NQu+bm1PZuu2IsH32kYvVqNVGade1aFU8+yWYdLlBYB3w2PgPdNROkckDM\nFkUxawd4OKJsJggGY3joITEECrWQUKETCqn485/FhSvE6ozZ5hmQkdNVA8A//uE1FQ5SFAONjWbf\nm6am1KGFVqyaA76o2407WTMwZoyosRAKqXjmGTaO161jc8WQIekn2LlzwwnzGQDU1SWrMKg2QX5J\nZya4vfPxiq4cWNO0aQCut7y8GcAzuq5/pGkawAofyfQF0Cj93wwgo5Wtqqqv7et8IAweXIaqKvbP\n7s7ciYGAH1VVOZr9C5TPPmOPEydWoKqKPbfrqwMOAD75BLjkkr5YuVK8PmwY+3xtLfDFF8ANN7DX\nzz7bg9raClx5JTBihP0xh0qZKEaNArZssW9jSwubEAYMYG3cutX8fv/+fRJtTwWfpPr3D6CqKnlS\nOeyw9N/nDBlSmbafsmH0aGDDBvZ82zZ2nx1zTKXpt6xcCdx+O3v++uuVOK0oUnmZ6W4/dZfaWnZ/\nHX88+//RR72YMKGw8jVwr38AGDeuT1L0TToOOghYtUr8v2ABG3ucAw4AWlq8GDyY/R8OK9izR0Ug\nwD4zeLD9mOAMGGCeB7lwoKo+VFWZ1QNyu6ur1cS1r60FQiHgd79j7x1zjAfLTG7nZkaPZve7LKhs\n3erBBRf0RV0dMGkSOy6PdBowgLXP50v/W4jukXHUaJp2PoA7AQyEWLwNXdfHpvuerusLASy0HOtT\nANM6BYWhAF4FMEn6SBOYQMDpC2BvpjY2NDSneN0LoByRSDsaGpgumZX67IP9+yNoaLAvF9pbeP/9\nShxwgIKyshY0NLCJ266vfL5yxONenHVWO958U4zQUaM60NDAthg7dvhx8cUePP+8D9u3R/HVV21o\nauqDiooYGhqSlTwejw8AO1YkEseMGR1YtMiL9etVDB0aT1RR27OHfX7Zsnb88pc+NDSYd3WvvtqG\nSy5Jbyv46isVQAUikTAaGpK3D6rKrnkmmpv3o6EhnrKfsmHw4AAANol98kkcgYACj6fF5Bw5cqTX\n5JDY0FBcsVO56Kdc8L//68eMGez5E0+g4KoztrWxseD1Gmhra0ns2p3Q0VEGwIfBg+O44ooOrFgB\nTJwofp/fX4kdO9DpqKuio4OZzWbNigFQEY2Kuc8Mm2ajUeuYqQCgorU1mjSuDQNQ1T6IxRQMH27+\n3vvvl4MvJ4rSgXHjFOzebb+8HHBADCNGRHDmmVHceaeY7seOjWDSJH/inmpp8QMIIBoNAwhg377e\nP2dnQ64FcSci9P0ApgNYi24GkOq6fih/rmnaRgDnWj6yEsBvO/MYlAEYD+Djrp7PzkxQKg6Era3A\nF18oOPlk+zTEMjycaP58s9Qtq9erq+P45jejeP55H7xeA/v3ozMtr/0xZTNBeTmrJuj3G1i/PtmJ\nEACOOiqOM89Mrq529NGZLxS3vafyGZBtm+nIlc8AYI4o2LZNwejRRpJvRakUEnKbQq/OyK97//5G\nxrFohX++qoqNIevv279fQVsbq6ypKAYMg31hwgRWgjtTaGEqMwGvb2BtS1kZS0csRxIAwPDh4v+h\nQ+P48MPU3rjNzQpqaqLYa9nmbd5sHiBUmyC/OHFjbtB1/SVd1zfqur6J/+Xg3Im7VNO06ZqmTdF1\nfReA+wC8DeB1ADd31XkQEDYmewfC3u2M8sknHhiGkjLzoAx3dNu3T8GgQeLz8iJaUxNNlCyuqBCp\niK3ZBzny6wMHsscLL2SGyGabzaSqsolcztUPOHMgtEsuxQmFVFxyiX3mlSuvjGDGjHBCCMiVz0Ao\npOIf/xCTYTyuJDlUErmj0IUqPudkG1YICGGAL4z89/FMofv3sxwDvGT2iSey9//9b3b/ZUo6lMqB\ncONG+6WBL8hjxpi/d8IJwsngmGPiKf13AJG51Jo3gM8vHKpamF+ciNFva5o2H8ArkCIAdF1/qzsn\nls0Muq7/QXr+JwB/6s6xOVwdV4oOhGvXpk9DLLNhAxv4Ho+B228P47rr2AxidbwbPNiAqhrYudMj\nZR+0X4Dnzxcrq657sGCBDy+8wCYo7icgoyhshzd+fAy7don3V63yZIyGSBdNYM2oCABnnhlFebmB\nwYMNzJwZwb33srbmqg57MBjDzTe3Y9o0YdvlSZyI0oPPOdk6D6bDel+3tyvweIxOMyjQ1sYev/gi\n/aZH3iiFQio2bGCNbWpSTBEuoRCLAOAL+B13BHDLLcLpVR57bW1K2nDP3btZqmM5nTHAtIMypBnI\nL040AycBOBYsAuAO6a/g4TduKWYgXLeOhxWmXoT47oIvvoMGmXMGWNXrHg+T3nftUhLSvV00QTAY\nw89/LsT40aPjifLGybDvqyqrrmbdcTz5ZObtuogmsH/fqlqtqenA44+3wzCY9zmPYPjxj8ty5om+\nfr2KQw8Vfc+zDxKlB99tZxtWCCRrBmTq6724+uoIFEWEA153nXn7fOyx6Sc6ecyki3AJBmOYM0fY\n6+fPN1fYlI/T3Mz+T6UNMwwFJ5wQS9rpW7UJ/DdzUwdlIHQXJ7UJJuWhHa5QyumI1671wOMxUF2d\n+odadxcPPtiGiRPF5+1C8oYONfDxxx6pYqH9sVeuFIsqtw2+8ooX11wTxksvebFpE3+fHccuVwHA\nwhGnTCnHjTemjsEXmgH7ycfaByyrITBrVgSffOJJ/P66Ovv6CV2hujqOpiZmtwXMYYVEacEX9Fxq\nBgDhK7Fxo4JXXmF1LlasMAuzmUILrQvw+++rSTU5OPX1Xlx3XRixGCuzXF0t3pO1as3NCiIRlvtg\n6tSORNihTHOzkhRGbBXmSTOQX5xEEywG277xKxcHyxGwHsBduq5n9PbvKewcCEtBGOBpiA85JJ7R\nZsjz7QPAu+96TWl47YSBAw+M4/331YSzTyqfgepqsXDzECE+ea1apWLPHsMUQ/3xxx4cf7z9Ramt\nTU5IIiN8Buzft9qR5Rhq+fcvWuTFhAm5MUzW1ETxwQdiYh41ijQDpQo3E9jl+89EOs1ATU0UoZBq\nsu+//bZZGMiUdMjqQJjOGTPde/Ic29LCCpSVlRn48Y8jKYSBZB8Aq5mPqhbmFydmgvUAPgLwC7C8\nAe+B5QLYAUvoYKHBbx75hi+FaIJt2xQ0NSmOdrly7XSuNuf86lfJanOeAY2n0E0lDNTUiBWXZwDk\nE8m0aR246ipziNBf/uJPqaJ/9tn0eYIzZSC0Il97+ffnuoSwrKkgzUDpwoWBNWuyN0GlEwYApt27\n9lqxSs6dazbFZdYMmP9P54yZ7j157DU3KwiHgf79UzswMs2A+TXrnGw1E1AGQndxIgycrOv69bqu\nf6Tr+oe6rv8KgKbr+nwAY1xuX7ewy89dbA6E6ap6pUKULc78I+VBPWtWxGQXvOee9qQdORcGuNNh\n6gyEydoY+ZzNzeYXr78+dQY+uYyyHZkyEFqRJ1Y3PdH5BKmqhimNLFE6yM6027Z5ss6QmEkYYOcQ\nu/Q33zTv2DOFFmZ63ylyyCTb9SsIBIyUx+emBBlr5BCZCfKLE2HAq2naEfyfzuceTdMqwLOqFCjC\ngVBemNjzYhEG6ur8UsUvZ4hIguw92OUyvS+9lGxFGjqUddxnn3FhwP448o7ALrb66KPNbXvrrdQW\nq4YGD557LvX7fMfgVDPgJMVxLuCT2PDhRs4iFYjiIhiMYd48IWBnm3ZaCAOpd8VyUSGrf0y2moGu\nIi/UbKFnx06lGWhqStYMWMclCQP5xYkwcB2Af2ma9p6mae8DeBGsmNDtALpUrChfFLMDYSikoqam\nHEuXerF0qTerHYWIJMj+R2ZSm/NYYF7GNJWZgJVGNhLPZUIhFX/5i3XlTr9DsctdzskUTQCYi8Xk\n69pzM4FcoIgoPd55R8XttwMzZoSzTorkRDNw2mliFeWFvziZdv5OtWmZkHf5LS0K2tuZZpbPAVbs\nfAZSaQZ4OymawF2cRBMs0TRtLIAjAcQArNd1vUPTtKW6rhe07lMIA3YOhIV9Y3Fb4PLl7BJdcYXz\ninZr16ro398wZcFzSia1uVXdnUoYAEQBJKswYBf7/9//nV5Fv3Fj6sp+TnwGVFXsPPIlDPBCLBRW\nWNpUV8cxbRrQ0JCcQTDX+HxM+8nnt2wLFXWFUEjFnDlCEl+71oN4XMGOHZ6U5//wQzXJ2fGdd8z/\nc2HA4zHg85FmwG0yagY0TasGMB/ANWBpiRdqmvZWoQsCgL2XeTE5EL72mpg4brqpzFFO8/37gY0b\nFRx+eOY0xF2Bmwk4qXwGAKEitGvHAw/4TE51P/tZ5hj/m2+2V7Gmy0AIsMlK3nU8/nhqZ8Vcsngx\nu37kPFja5DNDIk8ZzJ4bGc0AuRAGgsEYHn5YTE580W5qUvCd79jbCVpbge9/37y684RHHC4MKAqb\nwymawF2cmAmeBSsWdCyADwAMAfCym43KFcVsJgCELdDvN7B7twdz52YeuTwNca7i5a0MGGBedNNV\nYKustDcTAMC558bw9NMi1uqBB5KdFTkHH8xe/8Mf7Gc2PvmksssHgzHTPXD77anPlQt4MideuvjF\nF70FV1aXKA6cmAms8HDC8nL7sSeTKzPBokXM12jIkHgijwfAfCTsGDDAwL/+ZR6wW7Z4cOSRwI03\nBrBggS8xRysKYBisVDPhHk6EAU9nOeNXAbwP4CIA57naqhwRDivweg1TPfFiiiY4/XS2YE2d2oHR\no+N46CEfVq5Mf8m64zzoBEURpoKKCiOtar6iIvV7NTVRk7Piiy+mVp9ee20EqsqSHdktqk58BriJ\n4IgjYli/3t2F2Zqt7dFH3RU+iN5PNsIA1ww4iRTIhWYAEL5G48aJiXX8+FiSWeTSS5nk3tysYPz4\n5DFx+eXAc8/5UFcXSDhNejxAa6uC3budLFdEV3HSu/s7qwhuAHC8ruthAIPdbVZuCIeTF4hi0gxw\n1Xa/fgbuu4+p4a67rhytram/k01YYVfhToSZiu/wHUoq84aTGH+/38CPfhTFWWfFsGuXitmzk2ev\nTBkI2Xvs8cQTYznPJ2CHLOgsWkShBETX6IpmQAgDmT+bq2gCbv6QNYUnnBBLareus/npiy88KCtj\nP06uFjpzJjMvNDUpePRRNmhnzSpDJKIgHFayDs0knONEGHgKLILgJQDXapr2CoDtrrYqR/AsWDLF\nJAzwkDmvFzj55BiuuqoDX3zhwV13pRbn161jaYgPO8y9H8j9BtL5CwBI1DlobbXXVTqxpfr9TO2+\neTM7xocfqkkTAu+ndBMbF0xisfxUtnMzmRFROnRNGDA6HzN/VnauzgXyBqGiguUukbn7brYz+Phj\nFa+8woRkXmkRAEaMEJ+dPJlJ+ddc0/XQTMI5KbcsmqZdDhbv1QwmDFwA4AkA+wEUhStHe7tS1JoB\nrtrmtvCbbgrj9ddV/PGPflxwQRSnnmoeFDwN8bhxmdMQdwduJkiVY4DDw4p4ieSu0NHB1O4PPtiO\ns89m0sX3v29OT+wkmiDf173Qy+oSxUFXnIC5EOBkoc+VmYAjRxdZwwqnTYvgscd8AAzs3atg715e\nOl3sSXfsEJ/nZZnfftubsl4CkTvSaQYeB1AH4BwAxwGYBOAQAEcBOMH1luWASCT5Zi+maAJuJuDC\nQHk5cN997fB4DFx3XRlaWsyf37JFQXOz4qqJABBmgkzJe7hA0pWc7ByuGnz0UT++/e0OKIqBG24o\nw8cfi1vXSQZC7iuSr4RDBNFTcC2YE+/7XJkJOLKTn9Vn6Kc/jeCcc2Lo08f8upwoSR6f3OQwZgxp\n2fJBOmHgOACPAagG0xA8A+C/dV2/Utf1K/PRuO7ChIHkBUJVjaIUBgDg+OPjuOaaCLZs8eDXvzZL\nOuvWsRXPrUgCDjcTbNuWftvCdwapzAROmTs3jHPOieLhh9vx0EPtCIcVTJ1ajk2b2HGdZCAUwkBh\n55cgiO7CxwEvTZ6OXIcfr1olJiurZqCjQ0FNTTRJIJcLesk0NLD2n3GG+AJp2dwj5d2i6/pqXddv\n0nX9BAAPg2kIVmqa9oimaZPz1sJuYGcmAJjKuNCTDgGyMGAeVDNnRjB+fAxPPOHHm2+KgSScB90N\nm3voIdapu3enz7XOQwv378/+PGVlBi6/PIIbbmBZ2/gk8O1vR/Hb37bjq688+O53K7Brl+IomoCb\nCUgzQBQT2foMhEJqYnFtacmfwx0Pp92yRSwpK1eqpsJn11zDcokMHGjerHz3u/bZhMaMYYPVjXwp\nRDKOYjV0XX8XwEywpENHgTkTFjx2ZgKACwP5b0+2RKPCgVAmEADuv78dqmrg+uvL0NzMXs9HJEEw\nGMNddzlz6OFqwq5UG/N6DdTVhfGrXyWrBn/ykw788pdhbNrkwdSp5diyxblmoBiuO0FwshUGgsEY\nDjtMjMd8OdxZw2kB4JvfjJpeu+8+FmJ70EHmH8PnLSs7drDXrYXOCHdI282apnk0TZukadoDAD4D\nK2F8H4AD89G47hCPi8pZVopFGOC7WNVGsD/qqDiuvz6CL7/04LbbmMSzbp2KAQPcr5D3zjsqbrgh\nnDHXeqZa6umQhTg71eCvfhXBj34Uwdq1KjZuVKEoRtodRDjszM+BIAoJfk87yT7K+eorNq0PHRpP\nGp98B8/Jpeagvt6LX/xCLP4VFYZtLhGr4/HBB9tPxryoHGkG8kO6aIJHwJILfQDgbwBu1HW9JdXn\nCw2uOrbTDChKcQgDmTLrTZ8ewauvevHXv/oxeXIMmzYpCAbdSUMsU10dTyzQ6YQBHlroBooCXHRR\nFIsWebF7N8u6mKp2AQDs3csmSBIGiGKCj+WmJueDmtvqDzrISNKqWeuCzJ0bzqlT3rvvCsHizjsD\nqKmJJsIL+VxhrWdyxhkxPPhg8rG+/pqNWRIG8kM6zcBPAfQBS0N8N4A1mqZt7Pz7Ii+t6wZ2RYo4\nqlocwgD3GUiVTMfvZ+YCn8/A1VeXwTDcjyQAnIfNpapYlitOPz2GZ58VoQp2KlG+E2prYzPK0qUq\nJS0hioJQSBTziUSc2/+rqsS4sxuf9fVeXHllBNOm5bZw0qxZEZNZ4O672015BkRiIvO8kCoMOlXV\nU8Id0t0JY/PWChcIh9kdVMw+A+nMBJzDD49jxowI7r6b/dAJEwpn6+tmrgPOK6+kj0G27oR+9StK\nWkIUB8FgDAsXtuG885iKLdUu3upPIBf4scOpZq8rcLMAACxf7sXppyfHN1rrmaTaNPD8JOQzkB9S\n3gm6rm/KYztyTjoP82IRBuQMhKkIhVQsWSKkhcce82PUKKMgFjweTeAmTiY2PkFFo0L1SBDFwGuv\nZU64Y53LuDDAHYutuJkQy8l4tGYuTeVbxM2kilLwBXJ7Bb02aXo6MwGr953nBnUBYSZI/ZlgMIa5\nc8XO94EH2gsiMUcopJryIKSz53cHJxObmzshgnATJ/duKj+Y7dvzL/hmGo+hkIpnnjFPaLy4mhVe\nqIjMBPmh126T0pkJisWB0ImZADAXxSmUxS4YjOH++4ULdE/mFKfUwESx4uTeleeyUEjFhx+yCaO5\nufAK+wSDMUydatZu/PGPaXY7IGEgX/RiYYA92pkJmANh4d9hqZIOWSnUoji8xnkhCSkE0duQNQMs\nD0hhCOGpWL3aLJzIeUt+9jPge98zJyEiYSA/9NoZmmsG7Gp6F4vPQKqkQ1YKdedL6nmCcB+rA+Gm\nTZ6CLuwzbJh58uVOwLruwZAhPtTURPDss0JbQMJAfui1M3RvcCC0q01QTBSqkEIQvQmrz0AhC+Gh\nkIqlS81tUhRR6njJEl9S6WUSBvJDSZoJSBggCKK3YC2+VchCeDAYw4IF5nSKci6CSy5Jji6g0ML8\n0Gu7OZ2ZoFgcCLkwkMmBsDfSYV+7hCAIC8Uwl8m8+KIIl7TDWvqYNAP5oRcLA+wxtQNhftvTFTJl\nIOzNdLfsMUGUCsUwl1lZulTscKwRD9YNHAkD+aHXCgOiNkHvdyDsLYRCKl5+mf3YaLTwwqIIohAp\nhrlMxpq22BrxYM1cSmaC/NBru7m9PV064uJIOuQ0z0BvIRiM4eGHCzssiiAKjWIsvpUuN4rPB6iq\n2MSRZiA/9No9Z7qqhcWiGchUtbA3EgqpBR0WRRCFRjHMZVbSRTwoClBWBuzfL/4n3KfXLjMiA2Eq\nM0Hh32Fc4i8ln4FCDosiiEKkGDUDmSIeysuNRKEiEgbyQ681E/SO0EI2CkrFTAAUdlgUQRQixTCX\nZYscUUDCQH7otcJAb3AgLEUzAUEQ2VEMWs5skSMKSBjID71WGEjvQFgcwoAwE/RsOwiCKFyK0UyQ\nCTmigISB/NBrhYHe4EBYykmHCIJwRjHMZdkiZyH0eErHZ6on6bXCgPAZKF4zgdOqhQRBlC69UTMg\n1ycgzUB+6MXCAE9HnPxe8QgDpZV0iCCI7LFWLewNyJoBEgbyQ68VBtJXLez5pEOhkJoxux4VKiII\nIhO9UTMg+wxQBsL80GuXGSd5Bgyj56TOujompQSDbSk/Q8IAQRCZ6J3CAGkG8k1elxlN0/5/e/ce\nHGdZ6HH8u9lNmqRNW0hTkUGhCjyhcq2Cl5RSLLSnZahRRDwi0FJRzwHUalsPyOC5cIROR2p7OiNe\nOgLWK2c6mhoU5TbWVGlplYtynkO5CJ5CkxahadJsLrvnj+d9s5vdTfImdDe7+/4+M0x29327++4z\nD3l/ea6TgR8C04Fe4Bpr7b6MczYATUAnkASarbWHxvpZ/piB4QYQAuMOA/5f9ONZKretLcrtt1ex\nc6cr+ubmGlav7s35XhpAKCIjaWuLsmVLarrRSL9PSknm/gSSf4X+m/NTwC5r7W3GmGuANcAXMs6Z\nAyy01r72Zj7IDwO5puX5YSCRGF8TVJC/6ofT1DTArFlJdu50z9eujWNM7j6L/v4IsVhSyVhEcmpq\nGuDb3+7hgx+cDIz8+6SUqGWg8AraG2Ot3QB8zXt6IvD39OPGmArgFOA7xpjfGWOWj/ezensjVFfn\nvpGmh4GxaGuLcumlNezYEWPHjhhLlwbfVS99jMCTT7oLmDo1OeKSuwMD6iIQkZHdf//wm/6UqvSB\n3xozUBh5qznGmBVk/9W/zFq72xjzEHA6sDDjeC2wEbjTu7ZHjDGPW2ufGumzGhrqsl4bGHBdBLmO\n+RWtvr4u52yDTK+9Btu2wdatsGdP2pdZFqO5OVgRfuMb7mdzc6rr4p3vjHDuuZNoaMjRl+GJxXJ/\nh/E6mu9VzlROwaicgstXWZ13Hlx+uXt8332M+PukFDQ01NHQkHo+c2aw39Py5uQtDFhrNwObhzm2\nwBhjgFbg5LRD3cBGa20PgDHmYeAsYMQw0NHRmfVaV1ctlZUROjq6so7199cAMV59tZPJrnUtaxzA\n/v0R7r8/RmtrjLa2KAMDromhvj5BbS28/HIFra19fOQjPVnvn66tLcq6dVXs2OGKes6cATo6AKJM\nmdLP/PlHvOfZjhypJRaroKPj8IifEVRDQ13OspKhVE7BqJyCy2dZzZ/P4O+Q9MelyC+ngYFKwCWA\nAwc6c479CrujHS4LPYDwJuBv1trvA11A5k40BviRMWYOEAXmAneP57NcN0HuY+kDCH3r1lXR0xNh\n6dI+WlsrefzxCpJJFwDOOWeASy7pZ8mSPv7ylyjd3fC5z9UwY8bo/QxNTQPU18eZN88V9TPPVAxO\nexyt+auzExKJMpxELCIygqErEE7ghYRIoTuYNgP3GGOuxd3slwMYY1YCe62124wx9wK/B/qAu621\nz4zng3p6YMqU3MfSxwxk/uW+Z0+USCTJ+9/vAsDixf2ccEKqYp58cj8/+5k7t7Ex2I16w4YqIEl1\ntRvY6IeM3bvdOILhRv4eOFBRltOGRERGor0JCq+gYcBa2w4szvH6+rTHd+LGDLwpvb0RJk3K/Ze7\nv9Z1IpH9l/uaNXGWLetjxozhb/R+aj0ScDLBzp0VQISrruplypQE69e7Jov6+kTOIOAHFH+zpXKZ\nLiQiEoRmExReyTfAPPpo7tfj8dxrDED2bAI3AjfJ8ccnSCYZMQhAagCif7MeTltblObmGl5+Oepd\na5R9+6KsWhVn6tQkBw/m/vfvec8Axx2Xuoa1a+MKAiISGtqboPBKPgzcemvu110YyH1TT4UBV8tO\nPTUBRJg1KxFojm7QloGmpgHuuCM++PyWW+JcfHE/a9b08ra3JQb3Hkj3/PMRLrmklq1bK6mvT7B8\neW/ZTBcSEQlC3QSFV/JhYPt2WLKkdsh8//5+d6PPtS8BpMKA3x+/ZIkbxxiNwtKlmWMas/kVdbSW\nAXCtDo2N7oP+8Ifo4PvX1SWJx4eudfDzn8e46KLJPPlklLlz+9i9u6tsFhEREQmqtlbdBIVW8mEA\n4Oqrh/an93iz/UbrJvBnE/jL/uZarTAXv2Wgu3v0cxsbE7z97e78d70rdVOvq3MDCbu73fWuXj2J\n666rIZGATZuOsHVrD7W17twgAUVEpFz43QSRiGZTFUpZhIGHHx7ajO5P3Ruum8BPmv5f5WPdECjo\nmAFwN/LOTlepP/rR1E3d72J44okoixfXcs89VZx22gC/+U03H/uYbv4iEl7+H1yaVlg4ZdEZnoWf\nigAAEZtJREFUfcwxQ5vRUzsW5j7f3/gnOwwES6F+N0HQ2QSdnREmTx5asZ991j25/PIa+vvdTIPb\nbotrgw4RCT3/96C6CAqnLHLXO94x9CY+0o6FkD2boK/P1bjgLQPu84K0DIALA3V17t/4Mwz2768Y\nvIYvfjHO17+uICAiAqnfsQoDhVMWLQNvvDG0xvgtA1VVI88m8AcQ+j+DhoGxtgx0dcGxx7pryVzX\n4Ac/6GbBAg0QFBHxqWWg8MoiDBw6NLTG+GMGhl+O2N2Y/QGEfX3uZ9AwUFHhxiOMpWXAH0QIbobB\nqlWu+WLPnhgLFvQG+2ARkRCoqEi1DkhhlEUYyG4ZcD9Haxnwuwn8loHKyuCVr7o62GyC3l7XUjFl\nSuq9GxsTgzMEtIaAiEg2f/l2KYyyGDPwxhtDn6e6CXKfn7nokD9mIBrNfX4uNTXBWgYOexsO+mMG\nYOhUQU0bFBHJVlGRHLIOi+RXWYSBzG4CP00O102wf787P3M2QdB1Bvz3DjJmoLPTfdZwmyaJiEi2\n7u7IYBeu5F/Jh4G6ulxhYOQBhH/6k2sCyBxAmI+WAT8MpLcMiIhIbv6Mq56eCIlEhObmmiErzEp+\nlHwYmD59+AGEmVML/Ur26qvua3/+89W0tUUH0+dYxgzU1KRaBtraosNW1sOHFQZERILK3NNFG7UV\nRsmPXps+HV56aWgYeOopd7PPDAOZ0/rmzu2nqWmAxx5zN/KgswnAtQzE4xESCVi3rsp7/+x+A3/M\nwOTJwd9bRCTM0mdctbTEWL1aM67yrUxaBoZu+NPa6jr/cy1H3NIS4/rr41RUJPnxjytJJse+HDGk\nxiMsWlTLjh0xduyI5WzOUjeBiMjYNDYmWLOmlzVrerVRW4GURRhIJiMcPpzqBnjuOfe1Nmyoyro5\nNzYm+OpXe2lu7ue11yp47LHouMKAv3b2/Pmp2QC33prdnKUwICIyNppxVXhlEQbArTWQ2de0YkVv\n1s3Zr1if/KQbKLBlS+WbahnYtSsVNr785ez1j/1ugvR1BkRERIpJWYUBcN0Ac+a4APD008OPQG1q\nGmDWrATbtsU4eNDfm2AsAwjduf6+29FokieeiI3QTRD4rUVERAqqbMKAP6OgsTHBiSe6PqYzzhh+\nBGokAlde2ceRIxF+8hM3xmBs3QTu5zHHuJ833thLRUWSlSureeih1OwCzSYQEZFiVzZhwG8ZWLq0\nn/Z29/gTnxi5r+njH+8jFkuyfbtLAWPrJkgO+dz3vW+Az3ymjxdfrOCGG6q55RbXZaBuAhERKXZl\nFAZSr7W3R6ivT4y6ouDMmUkWLUoFhvG0DLz+uvtZXQ3z5vUzaVKSgwcr+POfoyxeXMsLL7gi1gqE\nIiJSrMomDKQvPNTeXsHMmcH+Er/qqtR6l2PbqGhoy8CkSUmqq+GEE1LTYNrb3ZKaoG4CEREpXmUT\nBvybcjzuHs+YEezme8EFA4PLFo9tOWL309/nYNIkNyjx/PNT4xROOilBLOYGFw63T4KIiMhEK5sw\n4LcMdHS4n0FaBtraolx2WQ29ve7fbNqUvS7BcPzZBH4I8VsKDh6McMklfYPHurrcTILI6NsYiIiI\nTIiyCwP+4MEgYSBzXYK77uoJvAb2Sy+5oksm3efdcINbffBDH+rnssvcOITZsxN0dkbURSAiIkWt\n5PcmmDbN/fQHEPphoKEh2BKW6Wtgt7bGmD179DWw29qitLYOLbqrrkotcPTgg6514ZRTkmzb5gYz\nioiIFKuyCQOpbgL3F3vQAYSNjYnBVQlbWoIVR1PTAKtXx1mxohaAK6/sZd++VCOLPz6gpwe6uqCi\nouQbYEREpIyV/F0qFoPJk5ODffdj6SaA8a+B/cwzURYu7GPVqjjHH58cspmGv0HSli2VQITOTu3J\nLSIixavkWwYApk3LDgMNDfntp/d31QLXopAeJPyWgdNPH+CVV1zeWrs2rt23RESkKJV8ywC4MDCe\nAYRvxkgtCpO8/Yqef94Vb2PjQOAuCBERkUIrizAwdWqSQ4cgkXBTC6PRJMceO3Ej+P1uAn9Fw7PO\nSqhVQEREilZZhIFp0yCRcHP629srmDEjOaYFhI42v5ugqsr9rKxMak9uEREpWmURBqZOTS0A1N4e\nyft4gdH4CxD52xePtkeCiIjIRCqLMDBtmrv57tsXobs7kvfxAqPxxwz4Oxb6LQQiIiLFqKzCwHPP\njW2NgXxJhQHXMjCW3RBFREQKrSzCgN9N8Oyz7usEXX0wXyIR11XQ0+PCgL8RkoiISDEqizDgr0K4\nd29xtAxAqnUANGZARESKW1mEAb9loLjCQOoaFAZERKSYlUUY8McMvPhi8YQBf3ohuKmFIiIixaqs\nwkB/f2GWIg7Cn14Imk0gIiLFrSzCgN9N4Js5c+JX+9OYARERKRVlEQb8lgFwI/f9AYUTaWgYmPiW\nChERkeEUdAa8MWYy8ENgOtALXGOt3ZdxznXAp4F+4DZrbeto7zt1aupxQ0OSSOQoXvQ4pXcTqGVA\nRESKWaFbBj4F7LLWXgBsAdakHzTGHAfcCHwAWATcbowZtcc9FoPaWnfzLYbBgzB0AKHGDIiISDEr\naBiw1m4AvuY9PRH4e8Yp5wFt1to+a+0hYC9wZpD39rsKiiUMpE8t1AqEIiJSzPJ2mzLGrAC+kPHy\nMmvtbmPMQ8DpwMKM43XAG2nPO4FAIwCmTUvyyisTv/qgL33MgFYgFBGRYpa3MGCt3QxsHubYAmOM\nAVqBk9MOHcIFAl8d2a0HWRoa6qivd49POqmKhoaJb5efPj31uKGhloaGibuWdA0NdaOfJCqngFRO\nwamsglE5TYxCDyC8Cfibtfb7QBdukGC6ncB/GmMmAdXAacDTo71vR0cnPT21QJTJk3vo6Og7ylc+\nHpMAF0q6u7vp6BiY2MvB/U/W0dE50ZdR9FROwaicglNZBaNyCu5oh6ZC92ZvBu4xxlwLRIHlAMaY\nlcBea+02Y8xGYDtuPMPN1treIG/817+6KQTFM2Yg9TgWK45rEhERyaWgYcBa2w4szvH6+rTH3wW+\nG/Q9H30UvvKVGg4ccGMh16+v4thjkzQ1Texf4lqBUERESkXJLzo0fz7ccUd88PmmTT0THgRAKxCK\niEjpKItJby0tMVatcoGgtTXG7NmBehbySosOiYhIqSiLMNDYmGDpUjcWsaWlOL6SliMWEZFSUfLd\nBMBgEMh8PJG0AqGIiJSKsggDxSh9BUJ1E4iISDFTGMgTdROIiEipUBjIk5oatQyIiEhpUBjIk6F7\nE0zcdYiIiIxGYSBPNGZARERKhcJAnvizCWKxJJHIxF6LiIjISBQG8sQPA+oiEBGRYqcwkCd+N4G6\nCEREpNgpDOSJ3zKgaYUiIlLsFAbyRC0DIiJSKhQG8sRvGRiY+A0URURERqQwkCf+OgOHDmkqgYiI\nFDeFgTxoa4vy4Q/XANDTE6G5uYa2tugEX5WIiEhuxbHfb5lpahqgvj7OvHmueNeujWNMYoKvSkRE\nJDe1DORJS0uMlSvjfOlLcVpalLlERKR46S6VJ42NCZYu7QdQGBARkaKmloE88YNA5mMREZFiozAg\nIiIScgoDIiIiIacwICIiEnIKAyIiIiGnMCAiIhJyCgMiIiIhpzAgIiIScgoDIiIiIacwICIiEnIK\nAyIiIiGnMCAiIhJyCgMiIiIhpzAgIiIScgoDIiIiIacwICIiEnIKAyIiIiGnMCAiIhJyCgMiIiIh\npzAgIiIScgoDIiIiIacwICIiEnIKAyIiIiEXK+SHGWOmAVuAOqAK+KK19g8Z52wAmoBOIAk0W2sP\nFfI6RUREwqSgYQBYCfzGWrvRGHMq8CPg3RnnzAEWWmtfK/C1iYiIhFKhw8B6IO49rgSOpB80xlQA\npwDfMca8Bdhsrf1eYS9RREQkXPIWBowxK4AvZLy8zFq72xhzHPB94PMZx2uBjcCd3rU9Yox53Fr7\nVL6uU0REJOwiyWSyoB9ojDkD1z3wJWvtAxnHKoBaa+1h7/la4Clr7ZaCXqSIiEiIFHoA4WzgPuDy\nYf7aN8CPjDFzgCgwF7i7cFcoIiISPoUeM/A13CyCjcYYgNettR82xqwE9lprtxlj7gV+D/QBd1tr\nnynwNYqIiIRKwbsJREREpLho0SEREZGQUxgQEREJOYUBERGRkFMYEBERCblCzyYYlTFmJrAbWADU\nAHcB/cCzwGettb3GmOuAT3uv32atbTXG1OD2PWjA7WtwjbX2gDHmfcA3vHN/ba3994J/qTwJWFbp\nez0ALPXOCUVZGWP2AG94T58HbsdNV00ATwPXW2uTqlNjKivVqVQ5vWCtvdZ7fT3wP9bab3nPVaeC\nl5XqVFo54Rbf+y/cd4wDV1tr2/NZp4qqZcAYUwl8C+gCIsB3gZXW2vOB/wP+2Vu98EbgA8Ai4HZj\nTBXwT8AT1tp5wL3ALd7b3gX8o7V2LvBeY8zZhfxO+RKkrLxT/b0eLvT+6yQkZWWMqQZI++4rcKtb\n3ux99wjwIdWp4GXlna46lfru1xpjGowxvwQuxW2uhupU8LLyqE6llRPuJn69tfZCYCvwZW+J/rzV\nqaIKA8A64JvAK97zE9J2NdwBXACcC7RZa/u83Qz3AmfiUuWvvHN/BVxkjKkDqqy1L3ivPwBclP+v\nURCjlpUxJkJqr4ffGWOWe8fDUlZnAbXGmAeMMQ95SXmOtfa33vFf4r6j6lTAslKdyiqn9wKTga/i\nlliPeOedh+pUoLLK2JNGdcqV0xXW2ie94/4+PnmtU0UTBowxy4AOa+2vvZciwPPGmHne80txFWkq\nqeYUcM0i07zXD43wWvrrJS1gWdXiymsjcCXwD7iWlTMYWoblXFZdwDpr7SLgs8APMo6nf/dQ1ylG\nL6vDuO+pOpVdTi9Za3dmnFeH6lTQsvL3pFGdSpVTB4Ax5gPA9bhN/vL6e6powgCwHLjYGPMIcDau\nr/Im4CZjzIPAfuAA7gvWpf27OuD1jNdzvQaugF7P31comCBldRDoBjZaa3u8/R4exqXQQ7iygPIu\nq//Fu6lZa5/Flclb0o7731F1avSy8r+/6lR2Ob01x3mqU8HLSnUqu5yON8ZcgWv9XWKtPUie61TR\nhAFr7QXW2vleH8mfgKuB9wBXWmsvAupxTR07gfONMZOMMdOA03CDm9qAJd7bLQZ+6/U79Rpj3uE1\nby4EfkuJG0NZnQr8zhhT4Y0xmIsbcBiWsloOfB3AGHM87n+OXxtjLvCOL8Z9x9DXKYKXlerU0HKa\nSqqrLt0uVKeClpVBdSqznObjWgTmW2tf9M7L6++poptNkCaCS0wPGmPiuIK41xvNvBHYjgszN1tr\n48aYbwL3GGO240ZffsJ7H7/ZJQo8YK3dVegvUgAjlVXWXg/GmBcJR1ltBr5njPH/J1iOS93f8Qbe\n/AX4b9UpYGxlpTqVVk7W2kTa8SSAtfZV1anAZfWM6tRgOSWBFcA24K/AVuP28XnUWvtv+axT2ptA\nREQk5Iqmm0BEREQmhsKAiIhIyCkMiIiIhJzCgIiISMgpDIiIiIScwoCIiEjIFfM6AyIyAYwxJ+F2\nLfy2tfazaa+fDezBzRe/J+3cR6y1s7xlsu/EzY+OANVAC/AvGfPLRaTIqGVARHI5CCzyNpHxXYFb\nM32kxUl+Zq09x1p7NvBu4BzgX/N2lSJyVCgMiEguh4E/AvPSXrsYeJDUzny5DB6z1nYBN+O2WBWR\nIqYwICLD+SnwUQBjzLnAk0DvGN/jz0C9MWbGUb42ETmKFAZEZDi/ABZ7G51cAfxkHO/hdykcOWpX\nJSJHncKAiOTkbSf7BHA+cCGuiwCgyhtMCK5boH+EtzkT+JvXZSAiRUphQERG8lPgDmCXtXbAe+2t\nwE3e4zOB53L9Q2+b1f8ANuX7IkXkzdHUQhHJxW/e/wVui9WvpB3bD5xjjHkKSADL0v7NUmPMH73H\nMeA+YF0hLlhExk9bGIuIiIScuglERERCTmFAREQk5BQGREREQk5hQEREJOQUBkREREJOYUBERCTk\nFAZERERC7v8BDAwq6XfQqO0AAAAASUVORK5CYII=\n",
       "text": [
        "<matplotlib.figure.Figure at 0x1099c2d10>"
       ]
      }
     ],
     "prompt_number": 8
    },
    {
     "cell_type": "markdown",
     "metadata": {},
     "source": [
      "Note: for periodic light curves we are able to transform the photometric time\n",
      "series into a single light-curve in which each period is mapped onto the same time axis as follows:\n",
      "$$ t'=\\{\\frac{t-t_0}{T}\\} $$\n",
      "\n",
      "where $T$ is the period, $t_0$ is an arbitrary starting point and the symbol {} represents the non-integer part of the fraction. This process produces a folded light curve on an x-axis of\n",
      "folded time that ranges from 0 to 1. The corresponding folded light curve of the previous example is shown next:"
     ]
    },
    {
     "cell_type": "code",
     "collapsed": false,
     "input": [
      "T = 2 * 0.93697446\n",
      "new_b=np.mod(mjd, T) / T;\n",
      "idx=np.argsort(2*new_b)\n",
      "plt.plot( new_b, data, 'b*')\n",
      "plt.xlabel(\"Phase\")\n",
      "plt.ylabel(\"Magnitude\")\n",
      "plt.gca().invert_yaxis()"
     ],
     "language": "python",
     "metadata": {},
     "outputs": [
      {
       "metadata": {},
       "output_type": "display_data",
       "png": "iVBORw0KGgoAAAANSUhEUgAAAfsAAAFkCAYAAAAnu5JEAAAABHNCSVQICAgIfAhkiAAAAAlwSFlz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\nrkJggg==\n",
       "text": [
        "<matplotlib.figure.Figure at 0x109a29150>"
       ]
      }
     ],
     "prompt_number": 9
    },
    {
     "cell_type": "markdown",
     "metadata": {},
     "source": [
      "### 2. Features library\n",
      "The library we created allows the user to choose the features of interest to be calculated or to calculate them all simultaneously. Also, the features can be calculated based on their category: \"basic\" or \"time series\". \n",
      "\n",
      "By default the library receives only the magnitude data as input. Some features need extra data as the times of measurement or the associated error, this must be specified as a parameter of the feature. \n",
      "\n",
      "The list of all the possible features with their corresponding categories and parameters is presented in the following table: "
     ]
    },
    {
     "cell_type": "code",
     "collapsed": false,
     "input": [
      "from ipy_table import *\n",
      "FeaturesList = [\n",
      "    ['Feature','Category','Parameter(s)'],['Amplitude','basic',''],['Anderson-Darling test','timeSeries',''],['B_R','timeSeries','second_data'],['Beyond1StdL','basic','error'],['Bmean','basic',''],['Con','timeSeries',''],['Eta_B_R','timeSeries','second_data'],['Eta_e','timeSeries','mjd'],['FluxPercentileRatioMid20','basic',''],['FluxPercentileRatioMid35','basic',''],['FluxPercentileRatioMid50','basic',''],['FluxPercentileRatioMid65','basic',''],['FluxPercentileRatioMid80','basic',''],['LinearTrend','timeSeries','mjd'],['MaxSlope','timeSeries','mjd'],['MedianAbsDev','basic',''],['MedianBRP','basic',''],['PairSlopeTrend','timeSeries',''],['PercentAmplitude','basic',''],['PercentDifferenceFluxPercentile','basic',''],['PeriodLS','timeSeries','mjd'],['Q31','basic',''],['Q31B_R','timeSeries','second_data'],['Rcs','timeSeries',''],['Skew','basic',''],['SmallKurtosis','basic',''],['Std' ,'basic',''],['StetsonJ','timeSeries','second_data'],['StetsonK','timeSeries',''],['StetsonL','timeSeries','second_data'],['VariablityIndex','timeSeries',''],['autocor','timeSeries',''],['automean','basic','2 parameters'],['meanvariance','basic','']];\n",
      "make_table(FeaturesList)\n",
      "apply_theme('basic')\n",
      "set_global_style(float_format='%0.3E')"
     ],
     "language": "python",
     "metadata": {},
     "outputs": [
      {
       "html": [
        "<table border=\"1\" cellpadding=\"3\" cellspacing=\"0\"  style=\"border:1px solid black;border-collapse:collapse;\"><tr><td  style=\"background-color:LightGray;\"><b>Feature</b></td><td  style=\"background-color:LightGray;\"><b>Category</b></td><td  style=\"background-color:LightGray;\"><b>Parameter(s)</b></td></tr><tr><td  style=\"background-color:Ivory;\">Amplitude</td><td  style=\"background-color:Ivory;\">basic</td><td  style=\"background-color:Ivory;\"></td></tr><tr><td  style=\"background-color:AliceBlue;\">Anderson-Darling&nbsptest</td><td  style=\"background-color:AliceBlue;\">timeSeries</td><td  style=\"background-color:AliceBlue;\"></td></tr><tr><td  style=\"background-color:Ivory;\">B_R</td><td  style=\"background-color:Ivory;\">timeSeries</td><td  style=\"background-color:Ivory;\">second_data</td></tr><tr><td  style=\"background-color:AliceBlue;\">Beyond1StdL</td><td  style=\"background-color:AliceBlue;\">basic</td><td  style=\"background-color:AliceBlue;\">error</td></tr><tr><td  style=\"background-color:Ivory;\">Bmean</td><td  style=\"background-color:Ivory;\">basic</td><td  style=\"background-color:Ivory;\"></td></tr><tr><td  style=\"background-color:AliceBlue;\">Con</td><td  style=\"background-color:AliceBlue;\">timeSeries</td><td  style=\"background-color:AliceBlue;\"></td></tr><tr><td  style=\"background-color:Ivory;\">Eta_B_R</td><td  style=\"background-color:Ivory;\">timeSeries</td><td  style=\"background-color:Ivory;\">second_data</td></tr><tr><td  style=\"background-color:AliceBlue;\">Eta_e</td><td  style=\"background-color:AliceBlue;\">timeSeries</td><td  style=\"background-color:AliceBlue;\">mjd</td></tr><tr><td  style=\"background-color:Ivory;\">FluxPercentileRatioMid20</td><td  style=\"background-color:Ivory;\">basic</td><td  style=\"background-color:Ivory;\"></td></tr><tr><td  style=\"background-color:AliceBlue;\">FluxPercentileRatioMid35</td><td  style=\"background-color:AliceBlue;\">basic</td><td  style=\"background-color:AliceBlue;\"></td></tr><tr><td  style=\"background-color:Ivory;\">FluxPercentileRatioMid50</td><td  style=\"background-color:Ivory;\">basic</td><td  style=\"background-color:Ivory;\"></td></tr><tr><td  style=\"background-color:AliceBlue;\">FluxPercentileRatioMid65</td><td  style=\"background-color:AliceBlue;\">basic</td><td  style=\"background-color:AliceBlue;\"></td></tr><tr><td  style=\"background-color:Ivory;\">FluxPercentileRatioMid80</td><td  style=\"background-color:Ivory;\">basic</td><td  style=\"background-color:Ivory;\"></td></tr><tr><td  style=\"background-color:AliceBlue;\">LinearTrend</td><td  style=\"background-color:AliceBlue;\">timeSeries</td><td  style=\"background-color:AliceBlue;\">mjd</td></tr><tr><td  style=\"background-color:Ivory;\">MaxSlope</td><td  style=\"background-color:Ivory;\">timeSeries</td><td  style=\"background-color:Ivory;\">mjd</td></tr><tr><td  style=\"background-color:AliceBlue;\">MedianAbsDev</td><td  style=\"background-color:AliceBlue;\">basic</td><td  style=\"background-color:AliceBlue;\"></td></tr><tr><td  style=\"background-color:Ivory;\">MedianBRP</td><td  style=\"background-color:Ivory;\">basic</td><td  style=\"background-color:Ivory;\"></td></tr><tr><td  style=\"background-color:AliceBlue;\">PairSlopeTrend</td><td  style=\"background-color:AliceBlue;\">timeSeries</td><td  style=\"background-color:AliceBlue;\"></td></tr><tr><td  style=\"background-color:Ivory;\">PercentAmplitude</td><td  style=\"background-color:Ivory;\">basic</td><td  style=\"background-color:Ivory;\"></td></tr><tr><td  style=\"background-color:AliceBlue;\">PercentDifferenceFluxPercentile</td><td  style=\"background-color:AliceBlue;\">basic</td><td  style=\"background-color:AliceBlue;\"></td></tr><tr><td  style=\"background-color:Ivory;\">PeriodLS</td><td  style=\"background-color:Ivory;\">timeSeries</td><td  style=\"background-color:Ivory;\">mjd</td></tr><tr><td  style=\"background-color:AliceBlue;\">Q31</td><td  style=\"background-color:AliceBlue;\">basic</td><td  style=\"background-color:AliceBlue;\"></td></tr><tr><td  style=\"background-color:Ivory;\">Q31B_R</td><td  style=\"background-color:Ivory;\">timeSeries</td><td  style=\"background-color:Ivory;\">second_data</td></tr><tr><td  style=\"background-color:AliceBlue;\">Rcs</td><td  style=\"background-color:AliceBlue;\">timeSeries</td><td  style=\"background-color:AliceBlue;\"></td></tr><tr><td  style=\"background-color:Ivory;\">Skew</td><td  style=\"background-color:Ivory;\">basic</td><td  style=\"background-color:Ivory;\"></td></tr><tr><td  style=\"background-color:AliceBlue;\">SmallKurtosis</td><td  style=\"background-color:AliceBlue;\">basic</td><td  style=\"background-color:AliceBlue;\"></td></tr><tr><td  style=\"background-color:Ivory;\">Std</td><td  style=\"background-color:Ivory;\">basic</td><td  style=\"background-color:Ivory;\"></td></tr><tr><td  style=\"background-color:AliceBlue;\">StetsonJ</td><td  style=\"background-color:AliceBlue;\">timeSeries</td><td  style=\"background-color:AliceBlue;\">second_data</td></tr><tr><td  style=\"background-color:Ivory;\">StetsonK</td><td  style=\"background-color:Ivory;\">timeSeries</td><td  style=\"background-color:Ivory;\"></td></tr><tr><td  style=\"background-color:AliceBlue;\">StetsonL</td><td  style=\"background-color:AliceBlue;\">timeSeries</td><td  style=\"background-color:AliceBlue;\">second_data</td></tr><tr><td  style=\"background-color:Ivory;\">VariablityIndex</td><td  style=\"background-color:Ivory;\">timeSeries</td><td  style=\"background-color:Ivory;\"></td></tr><tr><td  style=\"background-color:AliceBlue;\">autocor</td><td  style=\"background-color:AliceBlue;\">timeSeries</td><td  style=\"background-color:AliceBlue;\"></td></tr><tr><td  style=\"background-color:Ivory;\">automean</td><td  style=\"background-color:Ivory;\">basic</td><td  style=\"background-color:Ivory;\">2&nbspparameters</td></tr><tr><td  style=\"background-color:AliceBlue;\">meanvariance</td><td  style=\"background-color:AliceBlue;\">basic</td><td  style=\"background-color:AliceBlue;\"></td></tr></table>"
       ],
       "metadata": {},
       "output_type": "pyout",
       "prompt_number": 10,
       "text": [
        "<ipy_table.IpyTable at 0x109daebd0>"
       ]
      }
     ],
     "prompt_number": 10
    },
    {
     "cell_type": "markdown",
     "metadata": {},
     "source": [
      "Some examples of how to use the library are presented next:\n",
      "- List of features as an input:"
     ]
    },
    {
     "cell_type": "code",
     "collapsed": false,
     "input": [
      "a = FeatureSpace(featureList=['Std','StetsonL'], StetsonL=second_data)\n",
      "a=a.calculateFeature(data)\n",
      "\n",
      "Table(a)"
     ],
     "language": "python",
     "metadata": {},
     "outputs": [
      {
       "html": [
        "<div style=\"max-height:1000px;max-width:1500px;overflow:auto;\">\n",
        "<table border=\"1\" class=\"dataframe\">\n",
        " <tr style="background-color:#FF0000">\n",
        "  <thead>\n",
        "    <tr style=\"text-align: right;\">\n",
        "      <th></th>\n",
        "      <th>Feature</th>\n",
        "      <th>Value</th>\n",
        "    </tr>\n",
        "  </thead>\n",
        "  <tbody>\n",
        "    <tr>\n",
        "      <th>0</th>\n",
        "      <td>      Std</td>\n",
        "      <td>0.358</td>\n",
        "    </tr>\n",
        "    <tr>\n",
        "      <th>1</th>\n",
        "      <td> StetsonL</td>\n",
        "      <td>0.069</td>\n",
        "    </tr>\n",
        "  </tbody>\n",
        "</table>\n",
        "</div>"
       ],
       "metadata": {},
       "output_type": "pyout",
       "prompt_number": 11,
       "text": [
        "    Feature  Value\n",
        "0       Std  0.358\n",
        "1  StetsonL  0.069"
       ]
      }
     ],
     "prompt_number": 11
    },
    {
     "cell_type": "markdown",
     "metadata": {},
     "source": [
      "- Category as an input:\n"
     ]
    },
    {
     "cell_type": "code",
     "collapsed": false,
     "input": [
      "a = FeatureSpace(category=['timeSeries'], automean=[0,0], StetsonL=second_data ,  B_R=second_data, Beyond1Std=error, StetsonJ=second_data, MaxSlope=mjd, LinearTrend=mjd, Eta_B_R=second_data, Eta_e=mjd, Q31B_R=second_data, PeriodLS=mjd, CAR_sigma = [mjd, error**2], SlottedA = mjd)\n",
      "a=a.calculateFeature(data)\n",
      "\n",
      "Table(a)"
     ],
     "language": "python",
     "metadata": {},
     "outputs": [
      {
       "output_type": "stream",
       "stream": "stderr",
       "text": [
        "/Users/isadoranun/anaconda/lib/python2.7/site-packages/scipy/optimize/_minimize.py:369: RuntimeWarning: Method nelder-mead cannot handle constraints nor bounds.\n",
        "  RuntimeWarning)\n"
       ]
      },
      {
       "html": [
        "<div style=\"max-height:1000px;max-width:1500px;overflow:auto;\">\n",
        "<table border=\"1\" class=\"dataframe\">\n",
        "  <thead>\n",
        "    <tr style=\"text-align: right;\">\n",
        "      <th></th>\n",
        "      <th>Feature</th>\n",
        "      <th>Value</th>\n",
        "    </tr>\n",
        "  </thead>\n",
        "  <tbody>\n",
        "    <tr>\n",
        "      <th>0 </th>\n",
        "      <td>  AndersonDarling</td>\n",
        "      <td>   4.522</td>\n",
        "    </tr>\n",
        "    <tr>\n",
        "      <th>1 </th>\n",
        "      <td>              B_R</td>\n",
        "      <td>   0.204</td>\n",
        "    </tr>\n",
        "    <tr>\n",
        "      <th>2 </th>\n",
        "      <td>        CAR_sigma</td>\n",
        "      <td>   0.101</td>\n",
        "    </tr>\n",
        "    <tr>\n",
        "      <th>3 </th>\n",
        "      <td>          CAR_tau</td>\n",
        "      <td>  30.690</td>\n",
        "    </tr>\n",
        "    <tr>\n",
        "      <th>4 </th>\n",
        "      <td>        CAR_tmean</td>\n",
        "      <td>  -0.137</td>\n",
        "    </tr>\n",
        "    <tr>\n",
        "      <th>5 </th>\n",
        "      <td>              Con</td>\n",
        "      <td>   0.032</td>\n",
        "    </tr>\n",
        "    <tr>\n",
        "      <th>6 </th>\n",
        "      <td>          Eta_B_R</td>\n",
        "      <td>   0.894</td>\n",
        "    </tr>\n",
        "    <tr>\n",
        "      <th>7 </th>\n",
        "      <td>            Eta_e</td>\n",
        "      <td> 764.399</td>\n",
        "    </tr>\n",
        "    <tr>\n",
        "      <th>8 </th>\n",
        "      <td>      LinearTrend</td>\n",
        "      <td>  -0.000</td>\n",
        "    </tr>\n",
        "    <tr>\n",
        "      <th>9 </th>\n",
        "      <td>         MaxSlope</td>\n",
        "      <td>  22.802</td>\n",
        "    </tr>\n",
        "    <tr>\n",
        "      <th>10</th>\n",
        "      <td>   PairSlopeTrend</td>\n",
        "      <td>   0.233</td>\n",
        "    </tr>\n",
        "    <tr>\n",
        "      <th>11</th>\n",
        "      <td>         PeriodLS</td>\n",
        "      <td>2544.983</td>\n",
        "    </tr>\n",
        "    <tr>\n",
        "      <th>12</th>\n",
        "      <td>       Period_fit</td>\n",
        "      <td>   0.000</td>\n",
        "    </tr>\n",
        "    <tr>\n",
        "      <th>13</th>\n",
        "      <td>           Q31B_R</td>\n",
        "      <td>   0.567</td>\n",
        "    </tr>\n",
        "    <tr>\n",
        "      <th>14</th>\n",
        "      <td>              Rcs</td>\n",
        "      <td>  11.685</td>\n",
        "    </tr>\n",
        "    <tr>\n",
        "      <th>15</th>\n",
        "      <td>         SlottedA</td>\n",
        "      <td> 132.000</td>\n",
        "    </tr>\n",
        "    <tr>\n",
        "      <th>16</th>\n",
        "      <td>         StetsonJ</td>\n",
        "      <td>   0.125</td>\n",
        "    </tr>\n",
        "    <tr>\n",
        "      <th>17</th>\n",
        "      <td>         StetsonK</td>\n",
        "      <td>   0.797</td>\n",
        "    </tr>\n",
        "    <tr>\n",
        "      <th>18</th>\n",
        "      <td>      StetsonK_AC</td>\n",
        "      <td>   1.409</td>\n",
        "    </tr>\n",
        "    <tr>\n",
        "      <th>19</th>\n",
        "      <td>         StetsonL</td>\n",
        "      <td>   0.069</td>\n",
        "    </tr>\n",
        "    <tr>\n",
        "      <th>20</th>\n",
        "      <td> VariabilityIndex</td>\n",
        "      <td>   0.595</td>\n",
        "    </tr>\n",
        "    <tr>\n",
        "      <th>21</th>\n",
        "      <td>          autocor</td>\n",
        "      <td>  24.000</td>\n",
        "    </tr>\n",
        "  </tbody>\n",
        "</table>\n",
        "</div>"
       ],
       "metadata": {},
       "output_type": "pyout",
       "prompt_number": 12,
       "text": [
        "             Feature    Value\n",
        "0    AndersonDarling    4.522\n",
        "1                B_R    0.204\n",
        "2          CAR_sigma    0.101\n",
        "3            CAR_tau   30.690\n",
        "4          CAR_tmean   -0.137\n",
        "5                Con    0.032\n",
        "6            Eta_B_R    0.894\n",
        "7              Eta_e  764.399\n",
        "8        LinearTrend   -0.000\n",
        "9           MaxSlope   22.802\n",
        "10    PairSlopeTrend    0.233\n",
        "11          PeriodLS 2544.983\n",
        "12        Period_fit    0.000\n",
        "13            Q31B_R    0.567\n",
        "14               Rcs   11.685\n",
        "15          SlottedA  132.000\n",
        "16          StetsonJ    0.125\n",
        "17          StetsonK    0.797\n",
        "18       StetsonK_AC    1.409\n",
        "19          StetsonL    0.069\n",
        "20  VariabilityIndex    0.595\n",
        "21           autocor   24.000"
       ]
      }
     ],
     "prompt_number": 12
    },
    {
     "cell_type": "markdown",
     "metadata": {},
     "source": [
      "- All the features:"
     ]
    },
    {
     "cell_type": "code",
     "collapsed": false,
     "input": [
      "a = None\n",
      "a = FeatureSpace(category='all',featureList=None, automean=[0,0], StetsonL=second_data ,  B_R=second_data, Beyond1Std=error, StetsonJ=second_data, MaxSlope=mjd, LinearTrend=mjd, Eta_B_R=second_data, Eta_e=mjd, Q31B_R=second_data, PeriodLS=mjd, CAR_sigma=[mjd, error**2], SlottedA = mjd)\n",
      "a=a.calculateFeature(data)\n",
      "#print a.result(method='dict')\n",
      "\n",
      "Table(a)"
     ],
     "language": "python",
     "metadata": {},
     "outputs": [
      {
       "html": [
        "<div style=\"max-height:1000px;max-width:1500px;overflow:auto;\">\n",
        "<table border=\"1\" class=\"dataframe\">\n",
        "  <thead>\n",
        "    <tr style=\"text-align: right;\">\n",
        "      <th></th>\n",
        "      <th>Feature</th>\n",
        "      <th>Value</th>\n",
        "    </tr>\n",
        "  </thead>\n",
        "  <tbody>\n",
        "    <tr>\n",
        "      <th>0 </th>\n",
        "      <td>                       Amplitude</td>\n",
        "      <td>   1.278</td>\n",
        "    </tr>\n",
        "    <tr>\n",
        "      <th>1 </th>\n",
        "      <td>                 AndersonDarling</td>\n",
        "      <td>   4.522</td>\n",
        "    </tr>\n",
        "    <tr>\n",
        "      <th>2 </th>\n",
        "      <td>                             B_R</td>\n",
        "      <td>   0.204</td>\n",
        "    </tr>\n",
        "    <tr>\n",
        "      <th>3 </th>\n",
        "      <td>                      Beyond1Std</td>\n",
        "      <td>   0.254</td>\n",
        "    </tr>\n",
        "    <tr>\n",
        "      <th>4 </th>\n",
        "      <td>                           Bmean</td>\n",
        "      <td>  -4.194</td>\n",
        "    </tr>\n",
        "    <tr>\n",
        "      <th>5 </th>\n",
        "      <td>                       CAR_sigma</td>\n",
        "      <td>   0.101</td>\n",
        "    </tr>\n",
        "    <tr>\n",
        "      <th>6 </th>\n",
        "      <td>                         CAR_tau</td>\n",
        "      <td>  30.690</td>\n",
        "    </tr>\n",
        "    <tr>\n",
        "      <th>7 </th>\n",
        "      <td>                       CAR_tmean</td>\n",
        "      <td>  -0.137</td>\n",
        "    </tr>\n",
        "    <tr>\n",
        "      <th>8 </th>\n",
        "      <td>                             Con</td>\n",
        "      <td>   0.032</td>\n",
        "    </tr>\n",
        "    <tr>\n",
        "      <th>9 </th>\n",
        "      <td>                         Eta_B_R</td>\n",
        "      <td>   0.894</td>\n",
        "    </tr>\n",
        "    <tr>\n",
        "      <th>10</th>\n",
        "      <td>                           Eta_e</td>\n",
        "      <td> 764.399</td>\n",
        "    </tr>\n",
        "    <tr>\n",
        "      <th>11</th>\n",
        "      <td>        FluxPercentileRatioMid20</td>\n",
        "      <td>   0.190</td>\n",
        "    </tr>\n",
        "    <tr>\n",
        "      <th>12</th>\n",
        "      <td>        FluxPercentileRatioMid35</td>\n",
        "      <td>   0.309</td>\n",
        "    </tr>\n",
        "    <tr>\n",
        "      <th>13</th>\n",
        "      <td>        FluxPercentileRatioMid50</td>\n",
        "      <td>   0.428</td>\n",
        "    </tr>\n",
        "    <tr>\n",
        "      <th>14</th>\n",
        "      <td>        FluxPercentileRatioMid65</td>\n",
        "      <td>   0.553</td>\n",
        "    </tr>\n",
        "    <tr>\n",
        "      <th>15</th>\n",
        "      <td>        FluxPercentileRatioMid80</td>\n",
        "      <td>   0.691</td>\n",
        "    </tr>\n",
        "    <tr>\n",
        "      <th>16</th>\n",
        "      <td>                     LinearTrend</td>\n",
        "      <td>  -0.000</td>\n",
        "    </tr>\n",
        "    <tr>\n",
        "      <th>17</th>\n",
        "      <td>                        MaxSlope</td>\n",
        "      <td>  22.802</td>\n",
        "    </tr>\n",
        "    <tr>\n",
        "      <th>18</th>\n",
        "      <td>                    MedianAbsDev</td>\n",
        "      <td>   0.255</td>\n",
        "    </tr>\n",
        "    <tr>\n",
        "      <th>19</th>\n",
        "      <td>                       MedianBRP</td>\n",
        "      <td>   0.503</td>\n",
        "    </tr>\n",
        "    <tr>\n",
        "      <th>20</th>\n",
        "      <td>                  PairSlopeTrend</td>\n",
        "      <td>   0.233</td>\n",
        "    </tr>\n",
        "    <tr>\n",
        "      <th>21</th>\n",
        "      <td>                PercentAmplitude</td>\n",
        "      <td>  -0.341</td>\n",
        "    </tr>\n",
        "    <tr>\n",
        "      <th>22</th>\n",
        "      <td> PercentDifferenceFluxPercentile</td>\n",
        "      <td>  -0.278</td>\n",
        "    </tr>\n",
        "    <tr>\n",
        "      <th>23</th>\n",
        "      <td>                        PeriodLS</td>\n",
        "      <td>2544.983</td>\n",
        "    </tr>\n",
        "    <tr>\n",
        "      <th>24</th>\n",
        "      <td>                      Period_fit</td>\n",
        "      <td>   0.000</td>\n",
        "    </tr>\n",
        "    <tr>\n",
        "      <th>25</th>\n",
        "      <td>                             Q31</td>\n",
        "      <td>   0.502</td>\n",
        "    </tr>\n",
        "    <tr>\n",
        "      <th>26</th>\n",
        "      <td>                          Q31B_R</td>\n",
        "      <td>   0.567</td>\n",
        "    </tr>\n",
        "    <tr>\n",
        "      <th>27</th>\n",
        "      <td>                             Rcs</td>\n",
        "      <td>  11.685</td>\n",
        "    </tr>\n",
        "    <tr>\n",
        "      <th>28</th>\n",
        "      <td>                            Skew</td>\n",
        "      <td>   0.804</td>\n",
        "    </tr>\n",
        "    <tr>\n",
        "      <th>29</th>\n",
        "      <td>                        SlottedA</td>\n",
        "      <td> 132.000</td>\n",
        "    </tr>\n",
        "    <tr>\n",
        "      <th>30</th>\n",
        "      <td>                   SmallKurtosis</td>\n",
        "      <td>   1.056</td>\n",
        "    </tr>\n",
        "    <tr>\n",
        "      <th>31</th>\n",
        "      <td>                             Std</td>\n",
        "      <td>   0.358</td>\n",
        "    </tr>\n",
        "    <tr>\n",
        "      <th>32</th>\n",
        "      <td>                        StetsonJ</td>\n",
        "      <td>   0.125</td>\n",
        "    </tr>\n",
        "    <tr>\n",
        "      <th>33</th>\n",
        "      <td>                        StetsonK</td>\n",
        "      <td>   0.797</td>\n",
        "    </tr>\n",
        "    <tr>\n",
        "      <th>34</th>\n",
        "      <td>                     StetsonK_AC</td>\n",
        "      <td>   1.409</td>\n",
        "    </tr>\n",
        "    <tr>\n",
        "      <th>35</th>\n",
        "      <td>                        StetsonL</td>\n",
        "      <td>   0.069</td>\n",
        "    </tr>\n",
        "    <tr>\n",
        "      <th>36</th>\n",
        "      <td>                VariabilityIndex</td>\n",
        "      <td>   0.595</td>\n",
        "    </tr>\n",
        "    <tr>\n",
        "      <th>37</th>\n",
        "      <td>                         autocor</td>\n",
        "      <td>  24.000</td>\n",
        "    </tr>\n",
        "    <tr>\n",
        "      <th>38</th>\n",
        "      <td>                        automean</td>\n",
        "      <td>  -4.194</td>\n",
        "    </tr>\n",
        "    <tr>\n",
        "      <th>39</th>\n",
        "      <td>                    meanvariance</td>\n",
        "      <td>  -0.085</td>\n",
        "    </tr>\n",
        "  </tbody>\n",
        "</table>\n",
        "</div>"
       ],
       "metadata": {},
       "output_type": "pyout",
       "prompt_number": 13,
       "text": [
        "                            Feature    Value\n",
        "0                         Amplitude    1.278\n",
        "1                   AndersonDarling    4.522\n",
        "2                               B_R    0.204\n",
        "3                        Beyond1Std    0.254\n",
        "4                             Bmean   -4.194\n",
        "5                         CAR_sigma    0.101\n",
        "6                           CAR_tau   30.690\n",
        "7                         CAR_tmean   -0.137\n",
        "8                               Con    0.032\n",
        "9                           Eta_B_R    0.894\n",
        "10                            Eta_e  764.399\n",
        "11         FluxPercentileRatioMid20    0.190\n",
        "12         FluxPercentileRatioMid35    0.309\n",
        "13         FluxPercentileRatioMid50    0.428\n",
        "14         FluxPercentileRatioMid65    0.553\n",
        "15         FluxPercentileRatioMid80    0.691\n",
        "16                      LinearTrend   -0.000\n",
        "17                         MaxSlope   22.802\n",
        "18                     MedianAbsDev    0.255\n",
        "19                        MedianBRP    0.503\n",
        "20                   PairSlopeTrend    0.233\n",
        "21                 PercentAmplitude   -0.341\n",
        "22  PercentDifferenceFluxPercentile   -0.278\n",
        "23                         PeriodLS 2544.983\n",
        "24                       Period_fit    0.000\n",
        "25                              Q31    0.502\n",
        "26                           Q31B_R    0.567\n",
        "27                              Rcs   11.685\n",
        "28                             Skew    0.804\n",
        "29                         SlottedA  132.000\n",
        "30                    SmallKurtosis    1.056\n",
        "31                              Std    0.358\n",
        "32                         StetsonJ    0.125\n",
        "33                         StetsonK    0.797\n",
        "34                      StetsonK_AC    1.409\n",
        "35                         StetsonL    0.069\n",
        "36                 VariabilityIndex    0.595\n",
        "37                          autocor   24.000\n",
        "38                         automean   -4.194\n",
        "39                     meanvariance   -0.085"
       ]
      }
     ],
     "prompt_number": 13
    },
    {
     "cell_type": "markdown",
     "metadata": {},
     "source": [
      "### 3. Light curve features\n",
      "\n",
      "The following section details every feature that we have developed in order to represent the light curves. Each feature is described and tested with a suitable experiment."
     ]
    },
    {
     "cell_type": "markdown",
     "metadata": {},
     "source": [
      "#### Standard deviaton\n",
      "\n",
      "The standard deviation $\\sigma$ of the sample is defined as: \n",
      "\n",
      "$$ \\sigma = \\sum_{i} \\frac{(y_i-\\hat{y})^2}{N-1} $$\n"
     ]
    },
    {
     "cell_type": "code",
     "collapsed": false,
     "input": [
      "a = FeatureSpace(featureList=['Std'])\n",
      "a=a.calculateFeature(data)\n",
      "print a.result(method='dict')"
     ],
     "language": "python",
     "metadata": {},
     "outputs": [
      {
       "output_type": "stream",
       "stream": "stdout",
       "text": [
        "{'Std': 0.35804072829691114}\n"
       ]
      }
     ],
     "prompt_number": 14
    },
    {
     "cell_type": "markdown",
     "metadata": {},
     "source": [
      "For example, a white noise time serie should have $\\sigma=1$"
     ]
    },
    {
     "cell_type": "code",
     "collapsed": false,
     "input": [
      "data2 = np.random.normal(size=1000000)\n",
      "a = FeatureSpace(featureList=['Std' ] )\n",
      "a=a.calculateFeature(data2)\n",
      "print a.result(method='dict')"
     ],
     "language": "python",
     "metadata": {},
     "outputs": [
      {
       "output_type": "stream",
       "stream": "stdout",
       "text": [
        "{'Std': 1.0011606805312148}\n"
       ]
      }
     ],
     "prompt_number": 15
    },
    {
     "cell_type": "markdown",
     "metadata": {},
     "source": [
      "#### Period Lomb-Scargle\n",
      "\n",
      "The Lomb-Scargle (L-S) algorithm (Scargle, 1982) is a variation of the Discrete Fourier Transform (DFT), in which a time series is decomposed into a linear combination of sinusoidal functions. The basis of sinusoidal functions transforms the data from the time domain to the frequency domain. DFT techniques often assume evenly spaced data points in the time series, but this is rarely the case with astrophysical time-series data. Scargle has derived a formula for transform coefficients that is similiar to the DFT in the limit of evenly spaced observations. In addition, an adjustment of the values used to calculate the transform coefficients makes the transform invariant to time shifts.\n",
      "\n",
      "The Lomb-Scargle periodogram is optimized to identify sinusoidal-shaped periodic signals in time-series data. Particular applications include radial velocity data and searches for pulsating variable stars. L-S is not optimal for detecting signals from transiting exoplanets, where the shape of the periodic light curve is not sinusoidal.\n",
      "\n",
      "Next, we perform a test on synthetical data to confirm the accuracy of the period found by the L-S method:"
     ]
    },
    {
     "cell_type": "code",
     "collapsed": false,
     "input": [
      "N=100\n",
      "mjd3 = np.arange(N)\n",
      "Period = 20\n",
      "cov = np.zeros([N,N])\n",
      "mean = np.zeros(N)\n",
      "for i in np.arange(N):\n",
      "    for j in np.arange(N):\n",
      "        #print (2.0*np.pi/Period) * (i-j)**2\n",
      "        cov[i,j] = np.exp( -(np.sin( (np.pi/Period) *(i-j))**2))\n",
      "#cov = np.diagflat((np.ones(10)))\n",
      "data3=np.random.multivariate_normal(mean, cov)\n",
      "plt.plot(mjd3,data3)"
     ],
     "language": "python",
     "metadata": {},
     "outputs": [
      {
       "output_type": "stream",
       "stream": "stderr",
       "text": [
        "-c:11: RuntimeWarning: covariance is not positive-semidefinite.\n"
       ]
      },
      {
       "metadata": {},
       "output_type": "pyout",
       "prompt_number": 16,
       "text": [
        "[<matplotlib.lines.Line2D at 0x10c0a8090>]"
       ]
      },
      {
       "metadata": {},
       "output_type": "display_data",
       "png": "iVBORw0KGgoAAAANSUhEUgAAAe4AAAFVCAYAAAApGgzgAAAABHNCSVQICAgIfAhkiAAAAAlwSFlz\nAAALEgAACxIB0t1+/AAAIABJREFUeJzsvWmwJelZmPlknn0/d6+9qlvdnZK6pxmwACGBLDySMIwF\nYlhs2cYem1UOM4BnIowJ2z/GjO3BIYPNBDaLCEsWjmGzYMTSYIyMoAVCSEZLq3Va3V3VXXvdpe49\n+5aZ8yNPnnPq1l1yPefLzO+JUISq7q1z83795vfu76uYpolEIpFIJJJooC77ASQSiUQikThHKm6J\nRCKRSCKEVNwSiUQikUQIqbglEolEIokQUnFLJBKJRBIhpOKWSCQSiSRCpL38I03TVOCngKeBAfBd\njUbjpbmvfzPwI4AJ/Hyj0fj3ATyrRCKRSCSJx6vH/S4g22g03gT8MPDeQ1//18DbgTcD/7umaTXv\njyiRSCQSicTGq+J+M/AMQKPR+DjwhkNfHwF1oAAoWJ63RCKRSCQSn3hV3FWgOfdnfRI+t3kv8Eng\nc8CHG43G/PdKJBKJRCLxiKccN5bSrsz9WW00GgaApmmXgL8PXAa6wAc1TfvWRqPxK8d9mGmapqIo\nHh8lenT7I37ox/+AWzsd/vrXvZZ3v0Nb9iPFkn/z//53fu8Tr/K6K6v82Pd/zbIfJ5Z89L/f4F99\n8JMA/OL/9Q0U85klP1H8uLvX5Qfe+xE6/TH/8G+9ga/+kvPLfqTYoesG/+innuX5a3u8/Ssu8b/9\n1S9dxI/1rPS8Ku5ngXcCv6xp2huBz8x9LQ/owKDRaBiapt3DCpsfi6IobG+3PD5K9PjZD3+eWzsd\nAK7euL+Q331jo5KoM/7j5+7we594FYAb91oL+92TdM739nv85C/9+fTPn//iNpfPVE74F8GQpDMe\n6wb/9y98ik5/DMAXr+2hnauG/nOTdMYA//mjL/P8tT0AXrl1sLA72SteQ+UfAvqapj2LFRb/IU3T\n3q1p2nc3Go0XgPcDH9M07Q+BGvAfPD9hzHj2s7f54+fu8MjZCilV4e793rIfKXbcvd/lA7/TIJ9N\ncWGjTKs7oju5+CTBMNYNfvrXP0d/qPP4Bav29O797pKfKn782h9e5aVbTXnGIfL8tT1+82PXWK/l\nqZWzkbiTPXncjUbDBN5z6K9fmPv6jwM/7uO5Ysnt3Q4f/N0XKORSfO83PcVP/NKnubsnX8QgGY0N\n/v2vPcdgqPM93/h6Xr7Z5MZ2m7v3uzxyNnxPJSn85z94mau3W7zpqTN8xeu2+IlflrIcNJ+7ustv\n/ckrbNYLfP+3PM0P/ts/ioRSiRLNzpCf+fDnUVWF7/ump/jQR1/iuWv36Q3GFHJeA9LhIwewLIjR\n2OCnf/05BiOdv/2XX8tmvcDWSoFOf0y7N1r248WGX/2Dl3jlbouvfvosb3z9GbZWi4D0VILkMy/t\n8syfvsrWSoG/+Y4n2FotAEilEiAHnSE/9xvPk1IVvvebnqRcyLBey3NPGkeBYZgm7/vN5znoDPmW\nv/gaHj1XZXNyX9wTXJal4l4QH/rDl3n1Xpu3fMk5vuJ1WwBSqQTMc9f2+N1PXOfsWpG/8bYnANha\nsZTKvT2xX8So0OmPeN9vfp50yvJQ8tk067X8JO0j5Tgo/sNvPU+zM+Tb3vqaaaRoc7VAszuiN5Bp\nnyD4yKdu8tmXd3nqkVXe8RUXAdhaicadLBX3gvj0izsUcine/bbHp38nlUqwfObFXQD+5tufIJdN\nAUwtaNFfxKhw9VaTVnfE295wcVqIllJV1mt57ko5DgTDMPnMS7tc3Czz9i+/OP37qCiVqPDpF3cA\n+Lv/8+tQJ11N9p0sevRIKu4F0ewMWankyWVS07+TSiVYWt0hMItkAKxVc7IIMECa9hlPLjibrdUi\n7d6Ibl+mffzS7o0wgc2VAvNtslOlIg2kQGh2h+QyKerl3PTv7LtD9JSEVNwLYKwbdPpjqsUHe1yj\nYt1FBVupVObOOaWqbNQLsnAqIJodSzFXi9kH/n5TynJg2HJ8+Ixlai1YWt3RA3cFwHotj6qIb+hL\nxb0A7OKzyqEXcbWaJ51SpVIJiGZnRCGXIpNOPfD3sggwOOyoRqV0SKnYYVwpy75pdR42QEF63EFi\nmibNzpDqITlOpyZpH8GNI6m4F0Bz8iIeFhJVUdio57l7v4dpynHufml1hw95KQCbMjcYGFNv8CHF\nLT3uoGh2LQOzduiM1yZFgPekHPumNxijG+Yx90VB+NkPUnEvgFbXDi8+PA5ya6VIbzCmJb1BXxim\naYW+Sg+/iHa7kiwC9M8sVP6gLMt6jeCYpXwelOVpEaA0jnxjG0fV0tF3Mogty1JxLwDb45ZKJTw6\nvRGGebQFHYUXMSo0u0OyafWBIkuYKwKUcuyb4yJ0MCsC7MgiQF9M7+SjPO7pXAJx7wupuBfAccUm\nIJVKUDRPjGrIMG5QtLpDKsUsh5cC2UWAMozrn9YRRZY2mzLPHQhT4+iEO1lkZ0oq7gVwsuIW37qL\nAq0TLGirCFCRhVM+sQp6RkeGF0EWAQbFNB1xlMctDf1AmBVZHmHoS49bAtCavIhHC0k0RuyJznFF\nUwCqqlgtYbII0Bf9oc5YN440jmCuXUkaSL5odYekVIXiEbOyp6k1eV/4Yhahe1iW16dFgOKesVTc\nC+Akj7teyZFJqzL05RO7APCo8CLIIsAgOEmOQUaPgqLZHVIpZh5KR4D0uIPiJFmOQhGgVNwLoNUd\nkk6p5LOph76mKgqbKwXu3u9Kb9AHJ+WsQBYBBsFJkSOYqyyXZ+yLZnd0rByvTdM+8oz90DqhYBjE\nLwKUinsB2HnBoyxosKzo/lCfhm8k7jluMIiN9FT8Iz3u8BmMdAZD/Vg5ttM+sgjQH83uCAUoF45e\n3Sl6EaBU3CFjmua0Evc4ZhOR5MvolZOqykEqlSA4qY4A5iYBChxiFJ3W1Dg6Wo7BMkJlEaA/Wt0h\npUKGlHq0ChTd0JeKO2QGI53h2DjWSwE5gzgImt0higKlwjGKW4ZxfXNaOsJO+9yTaR/PzGo1jr8v\nNqWh75ujxp3OM60sF/SMpeIOmdM8QZhb7yk9Fc+0OlZUQz0mHTEtApTGkWemOe5TZLk30KcKSOKO\nk4av2EhD3x/HLX2aZ9rLLeidLBV3yLQcvIibckGDb04q6IH5IkDZEuaV00LlIH6IUXROqyMAuWzE\nL3aK4SQ5nhYBCirHUnGHzHFzh+epl7PkMimZG/TIaGzQG4yPHQxis7VSZDDUp16NxB12/rV8TDoC\n5sZFSqXiidYJM7RtpHHkj5PGndpMZz/siWnoS8UdMrPQ1/EvojLNDYopJKLTcuClgBx96pdmd0Qp\nnyadOv7akErFH06UykrVTvtIOfZC00EBIFiy3B2IWQQoFXfInDShZ56tlQKDkc5+W3qDbnES1QA5\n2csvpxX0gDSO/OIkVK4qCpt1WQToldk8gpNleVNgWZaKO2ROmqE9z2z0qVQqbpnNdj7Nghb3RRQd\n3TDo9EanynG9kiObVrknjSNPzO6Lk2V5UxYBesaJcQRiG/pScYeMk4IeENu6E52WQ497U4ZxPdPu\njTE5PbwoiwD90eyOyGdTZDMPT1mcR1aWe8ex4hb4TpaKO2ROm6FtsyUryz3j9EWcFgHKwinXOOmO\nsNlaKTIY6RzIIkDXNLvDU+UYZGW5H04b3WszawkT706Wijtkmt0hxdzJBT0wb0HLF9EtTl/EaRHg\nvswNusWpcQTzleXiXXgiY5gm7e7oVDkGWQToB6eyPC0CFNA4koo7ZFqd4alFEGCFIPPZlHwRPeBG\nqWytFBiODFkE6JLmKUsZ5pkpFfEuPJHp9sfohulMjqWh75mTlj7NYxcBirgASiruEDEMk1ZvdGpe\nECxvcL2WZ685WMCTxQs3inu9ZnmDe81+qM8UN5xMALRZr+UBecZucVqrAVArZ0mpCvflGbvmtKVP\n86zV8vSHOr2BvoAnc45U3CHS7o8wTWcKBayK3N5gzGAolpCITqszIptRyZ1iQYN1xgD3W9JAcoMb\npbIyOeP9tjxjNziZ+WCjKgr1co778oxd4WTp0zy2LIt2zlJxh4ibgh6AelleeF5wWtADVoEayDN2\ni5MZ2jYzOZbpCDe0HM58sKlXshy0hxiChXFFxl76VIv4nSwVd4g0HVaU26yUpTfoFtuCdmociWpB\ni07LRai8kEuTy6akHLvEaeuozUo5h26YspfbBa7vZDt6JJgsS8UdIm68FJiFcUWz7kSmNxgz1p0V\n9MCcBd2S3qAbmt0hKVWhkEs7+v56OSfl2CVOxp3OM5Nlec5OOW017WFEjdBJxR0iboqmYCYk0ht0\njlsLWtQXUXTscadOCnoAVspZWt0Ro7ER8pPFBzcFgDBXryFl2TFOJ1na1AWNgkrFHSKzgh63YRnp\nDTrFbVQjk05RLmSk4nZJqztyLMcwUyoHHXnOTmm5aLmDWWpNyrJzZukId8aRaPUaUnGHyGyGtkvr\nTr6IjnFT7WxTL2eFs6BFZjDUGYx0x3IMskDNC83uEEWBct5l9EjKsmOcLn2yKRcyVtudYGcsFXeI\nuFUq1WIWVVGkBe0Ct+FFsKxoqzdzHNZjxQq3KR+Y8wYFu/BEptkdUSlkUFVn6QhZE+Met6Fyu+1O\ntDN2VmlyCE3TVOCngKeBAfBdjUbjpbmvfznwXkABbgJ/q9FoJM70tgt6inlnx6yqCrVyVl52LnAb\nXoQHWzycFlslGS+KW+Zf3dPqDFmp5hx//yz/mrir1TNuK/fBaru7equFYZiOjaqw8epxvwvINhqN\nNwE/jKWkAdA0TQF+BvhfG43G1wD/FXjE74NGkVZnRLmYQXVY0AOzalzRRuyJii9vUIZxHeF0Fvw8\n0uN2x1g36A7GruS4kEuTz6aE8wZFxunSp3lWyjmMSdupKHhV3G8GngFoNBofB94w97UngF3gH2ia\n9t+AeqPRaPh5yKjiZjCITb2cZaybtHuyN9MJXkPlIJWKUzx53LJ63xVeFApYhr5o+VeRcbr0aR4R\na4+8Ku4q0Jz7sz4JnwOsA28CfhJ4G/A/aZr2td4fMZoMRzr9oe5KocD8uEhxrDuRaXWGKEDZpQUN\nUqk4xUsBYE3QNhpRcdtfbLNSydHuybY7pzhd+jSPiN0+XhN8TaAy92e10WjYkrMLvGh72ZqmPYPl\nkX/kpA/c2Kic9OXIYe9w3Vgrufrdzm9VgZuYKTXwM4nbGQN0h2MqpSxntmqO/80jfWsW/EA3QzmT\nuJ3zaJK1uXy+7up3q5aytHpjecYOuL5rbfk6u1lx9bttrZd4/pX7pHMZNiYbw4IibmesG1Yk8+KZ\nqqvf7eI5624ZK4owZ+JVcT8LvBP4ZU3T3gh8Zu5rLwNlTdNeMylY+xrg5077wO3tlsdHEZNrt62A\nRFZVXP1u2Unc4tqNfS6tBfcibmxUYnfGAPebA6qlrLvfbWxVk9+61wr8TOJ4zvd2OgDow5Gr361W\nynJvvyfP2AHXb+8DkMJ09bsVMtaF8dIreyh6cMuJ4njGze4Qw4R8RnX1u6Um9UbXbx0EeiZ+jACv\nofIPAX1N057FKkz7IU3T3q1p2ndPqse/E/hPmqb9KfBqo9H4bc9PGFHcDgaxEXWovYiMdYO2w7Wp\n81SmbXfihL5EpulykJBNvZxjINvuHGHPfPByxiDvCyd4TUeIWK/hyeNuNBom8J5Df/3C3Nc/Anyl\nj+eKPJ4vO1k45Ri7gM9N7hVmbXcy/+qMZmdEIZcmkz59beo8K5XZhSfb7k7GSwEgyMVEbpj1cHsz\njuJQnCY5Bbcr+mxWptad9AZPw6sFDbLtzg1Wd4S7yw7kEgw3eJlHAHIIixumHSguz3jadidQcZpU\n3CHhNVReyKXJZlRpQTtg2kLjor/YZqUyWYko2+5OxO5fdatQQNw5zyLipa0R5jxuqbhPxWtUA6z7\nQiTjSAjF/Yu/10A34tXO4HbBiI0Swoi9a3ea/NSvfJqDTrwuUD8vYtBznnuDMe9/5gs8f3UvkM8T\nhU5vhGl6j2pAsErlwx+7xu/8ybXYRUqa3SHZtEou4y4dUQthXvmfv7jDz3/4OQaj4IrdRMDrnQyW\nLIvUdieE4v7gb3+Bn/zVz8aqiGW2btLbhdfsDBnrwQjJ737iOr/9x9f40ff/GTcnFcJxwO3c4XmC\nLur58y/u8Ad/fosf+XfP8iefvxPIZ4qAV08Qgp+e1uoO+dBHX+b/+eVP88H/8kKsjP1Wd0il6Hxt\nqk06pVIpZrgfYFTj1//oKh/6by/yY//pUxwI5GX6xe3Sp3lEK1ATQnF/mbbJZ17a5V/+wqfYa/aX\n/TiB0OoMyWVTri1osMIyJrNwu1+u3W6hqgq7zT7//D9+kueuxcMrnOWsvIXKIbgw7tU7VvufaZr8\nzP/3eT78sXh4hb6Mo4DnlV+7Y7XipFSFj3zqJv/2V+Jh7JumSbMz8iTHYBlIQSmU0djgxr02KVXh\n6u0WP/qBT3Jzux3IZy8bL4OEbESrJRBCcf/T7/xK3vo/nuP6vTY/+oE/45U70e8f9FrQAzPrLogL\nr9sfc2evy1OPrvHd73w9o7HOT/zSp/nop2/5/uxl4y9UHmw17rXbLVRF4ce+/2tYq+b40Edf5ud/\n6/nAoibLwstSBptK0VqJGNRld3UyG+EH3/1lPPXoKp99eZd/8cHoG/v9oc5YNzwpFLCUSlBtdze2\n2+iGyde98TLf/DWPWMb+B+Nh7Ltd+jRP0PeFX4RQ3KmUynd8nca3f+1jHLSH/Mtf+FSkQ7qmadLq\njjwpFJgPMfr3Bl+5axlBj1+s81VPnuH/+GtfSj6b4j/89hf4b39+0/fnL5MgvMEglIpuGLx6t8X5\njRJPXFrhH/+tN3DlTIVnP3uHn/7153x//jLxOkMbrJWIQW67u3bbkuWnH1vnB771ad76pee5sW0Z\n+51+dIsM/RigEGzaxzaOHr+4wjvf/Ajf887XMxob/MQvfZrnI668vSx9shFtMZEQihusoqy//JWX\n+Gtve5zBSOezL+0u+5E80x2M0Q3TlwUNwbyI9gS3xy7WAXjiYp0f+Y6/AMAnnr/n+/OXSbM7Ip1S\nKOQ8pCPsqEYASuXWTpfh2ODKGWsSUq2c4x/+jS/j/HqJT72wHWmv20/LHdhtd0OMANIGV+80Wank\nWK3mSakq3/GOJ/jaLz3PfnvIizcOfH/+svCyfW2eeoCybBtHj0/uizc+eYb3fNNT6IbJp17Y8f35\ny8TL0icb0eZrCKO4bV57aQWAe/u9JT+Jd7y2gtkEakHfsV/ElenfnV0rUStn2Y7wGYOVs6qW3Bf0\nwKztLkjj6JGz1enf5TIpHjlbxQR2DqIbym35CJWD5anohkm7688jvt8acNAeTo0jsIx97ZKlYCJ9\nX0zOuOY1QhegoX/1TpNcJsWFrdk5azG4k6dLn3zIMcgc97Gs1/IAkVYqfsKLMFfUE4gF3aRcyLC5\nUnjg7zfqBXab/Wh7g90hlYK3F3HadhfAGdvG0ZWzD84e3qhHX5abfmU5oAvPNo6uzBlHYMkxRP2M\nvad8ILj862Coc2unw+WtMil1ZgwX82lK+XSkz9jvnVwLMKoRBMIp7kIuTbWYYft+dIXEzreV8l6r\nRINpPWh2h+wc9LlytvKQV7pZL2CasBvRwp7R2GA4MigVvI/SXCnnaHZHvo2Xq7ebpFMKFzbKD/z9\nxsRYuhdhWe76lOV6JRhZtqv2H3nIOJoo7kifsVVU5lWWg+qQeOVuC9N82DgC2FwpsHPQwzCi2Snh\n905Op1SqxYz0uE/C9gaj2qfZH1iDC7zkXgEy6RSlfNq3dWdX5z9y5uEXMeqeSn9oXXaFrHfFbUc2\nDnxceHb7zMXNCunUg69T1M8YoDfQyWVSqKr7dAQE5w1eneRerxyS5VI+TSGXZjvC6Qi7GjzvUZaD\nGi07i2o8vLVqo15grJvCKC639If+7mSwzvm+IGOSxVTcKwV0w2SvGU0h6dlKxcdiBWvEnj8L+uoJ\nL+JmxD2V3uRFzPt4EYPIW9ntMyeecZQV93Ds74wD8AZN0+Ta7SYb9TzlwoMek6IobNYLbO/3AimA\nWwYzQ9/bfVEOqO3umgNDP6rRI9s48mvoD0cGvcHyJ8qJqbhr0b7w/FrQYFl3vcGYwdC7kNgVoo8c\nEfqaeYPR9FT6QbyIAeStpoVpR1x25UKGfDYVWTkG65z9nbF/j3v7oE+nPz5SjsGqJRiNDV+Rk2Uy\nNfSz3gwkVVGol7O+5z5cvd2kmEs/VA8D0Y8e2Wec9+FMibQlTEjFbQtOVKsY7bBM0Y+QBFAparfP\n2AI3z0bEz3hqQS/7jG8fXZgG895gX4jwmhd6Q91XeDGIiudpCPcI4whmshxZpTIIQKlUchz4aLvr\n9kfcvd87sh4GZtGjqN4XftOXEGz1vl+EVNxRt+660xfRXz4FvAvJUe0z81SLGXKZ6HqDPZ/hRZg/\nY++e2rU7TbIZlXNrpSO/vlEvMBjp0+rsKDHWDUZjw9cZ5ydjf/3kX2eRo6NlOer3xcwI9Xdf+Gm7\ns8PkxxpHcTnjACJ0IvRyi624I5pPCSKM63dAyHHtMzaKorBRz3NvvxdJb3AW+vJx2flsuxsMdW7u\ndLi8VTm2eGvqDUZQloO47JRJGNdfVKOJAlzaOlpxb0Y9/zrUyWZUUqr369hvSuLq7aOr9m1WKjnS\nKSW6ijuAuqOgFxP5QUjFXStnyaTVyOZfewGEZfzuMp62zxzjccPEGxzqkdxJHaRx5PVFtNtnjsu9\nQrQ9lSAKAMG69L223RmmybW7Lc6sFY+9dKdnfBC9Mwb/dQTgP4x7msetqgprtULk7+S8xzoCmDvj\nAEZR+0VIxa0qChuTStEoYrcq+S1OAz8et517jbdS8WMc2W13/i+7k4wjawhLFHODQRhHMJNlL8Vj\nd3a7DIb6sQoFYLWaI6VG2RvUfeW3wf9iomu3m1SLGVarD9fD2GzWC7R7o2nfeZToB1ETI4vTTmej\nlqc7GNOOoDfot/cV/FnQpmly9Zj2mXminJIIonIf7LY7f+mIkzzuKLeEBVE0Bf6KAK8dM3hlnpSq\nslbNR1KOwfa4fUY1fPRyNztDdpsDrpytnjg+OMqTAGeGvndZDqrtLgjEVdwRrhT12/sK1lIHVVE8\nWXc7k/aZk7wUmFXvR/GM/fa+2lhtd/o0SuKGq3daFI5pn7FZreZRFSWSHncQUQ3wFz26ekJL4zwb\nKwWa3ZGn/47LZKwbDH0WAEIwxtFJkSOIiRHqw0Catt3J4rTjiXIYN4iclap6X4l41YEnCHNDFSJ4\nxn57X2281hJ0+yPu7nW5cubo9hmbdEpltZqLrByD/1C5n+jRtdtNUqrCxc3yid8X1bkEduuoH4UC\n/jokHBtHUb6Th2MyafWh6YZu8dt2FxTCKu5IW3dD3bcFDUyqcYeuq76nE5BOCC+CtdBFIXqXHcxV\nPOeDyb+6taKn42RPuezAuvAO2kMGo+VPXHJDUMVpXvOvY93g1Xttzq+XyGZOfoao3hdB5F7tf5/L\npjx5g6d1oNhEOgo6COpOzmGYJq3OcgvUhFXcUR2xN+t99XfZgSUkY92g47IY5Nop7TM2UfYGgwh9\ngXdv8KqDwjQbO5S+E7FztpWKn0FCMJ9/dXfZ3drpMBobRw63Ocy0CDBi90U3IMUN1jm7lWPTNLl6\np8VqNUftlJWX9kTLSEboAqgjgPkxyVJxH0lUCyGC6H218dJnbJgm1+6c3D4zz0a9wP3WgNE4et6g\n395X8D5UwUlhmk1UUxLdgAoAax77X6dV+y7OOGotYUEsv7Cpl7O0uiNGY+dtd/dbA5qd4ZEjew+T\ny6aolbKRu5PBrjtazp0M8DMffo4PPPMF3z/fRljFnUmnWKlEzxsMKrwI3pZg7Bz06Q91Lp/ibdtE\nNjcYQB0BzDxut2Hc6/falPLpE9tnbDYje8bBFABm0irlgvuViNfvtgEcyXJUOySCNPRtWT7oOD/n\n6/esM760dXINgc1GvcDuwcD3KtxFohvWCuBgPW7nZzwa6/zp5+9xY7vj++fbCKu4wRKSvWa0hCSo\ngh6Atar7qMPNbetFPL9x9AjOw0S1sjyI3lewqr4Bdlwo1eFI5979Hhc2yicWptlEVqkEVAAIlizv\nHPRd7XO+udNGgWPHyc5TyKWpFDMRlONgWu5gJstuDMSbO5YyObxL/jg26gUM02RPgMpqp/QDaAWz\nsQ11N3J2e7eLYZpccHgnO0FwxZ3HxPIio0JQva8AZ9eLANze6Tr+N7ZVd97FiwjRC+MG0fsKVttd\nuZDh1q5za/jWbgcT58ZRVMO4QcvyaGyw03T2LpumyY3tDhv1AjmH/5036gXXxsGymUY1ApBl28C5\n7UKWb7g09KcpzAgZoUHNfAA4u26fsfM7+abLO9kJQivuKFaKBtX7CnB21RISN0rF9rgvrLtUKhE6\n46B6X23OrhXZ3u85zvO7fRGL+TSlfDpyhVNBtSoBnLWVyo4zWW52hrR7I8cKBaz7QjdM9loRMvQD\n9Li9GPo3tztkMyrr9eNnEcwTxQhdEJvBbLwY+rZxlCCPO3qV5UG1d4BVDLJWzbmyoG9ud6x/V8s7\n+v4ohnGDDH2BpVRME+7uOTsDLy/i5kqBnYPe0vs/3dAbjMkG0PsKcG5tolQceipuI0fAVPlESZZ7\nAXrcbg39sW5we7fD+fUSqoOUD0QzQhfEgpF5XBv6OwnzuKPYNxhksQlYSmW/PXQ0H3isG9zZ63Jh\nveQo9wpQLmQo5tJsRzAdEcRlBzOl4vTCm3rcDqMaYF14Y90UYiWgU4KaRwAzj/uWQ4/7phfjaJqS\niKAsL8HQv3e/x1g3Ob/uXKFEMgoa4BmDN0O/Vs6eOH7aLWIr7igKSYChcpgLMTp4Ge/sdtEN07Vl\nZy90iYo3GGTuFWZ5K6dK5cZ2m9VqjmLe+YsYRVnuD4JpoQEr4pBSFcdKxYvHHcVe7iAjdODO0PcS\nOaqWsmQzamKjGuDO0O/2x+w1B46L/5witOKuFDLks6lIXXZBFkLALG/lREhu7LgrNLHZWCkwGhue\ntjctgyDv2+vpAAAgAElEQVR7X2G+qOf0MG67N2K/PXTlpUA00z5BDa0Aa9jP5kqBW7tdR5MAb+60\nSacUtk6YA3+YzRXrXYnUfRFC2gecGfpeiqYUe3PjQc/1RMdlEWQdAcA5F4b+TftOdhGdc4LQinsq\nJPv9yAhJUL2vNm6Uiv0iurXuojbsJuh0xGo1Ry6TcnjZeSs0iVpledAFgGDJcm8w5uCUcZGGaXJz\np8OZ1ZKr/HqtnCWdUqOVfw1oAqCNK0PfqyzXCvQGemQ2N84q94M2jsK7k09DaMUNVk5lMNJpdqMh\nJEH2voJVCAHOqnFnFrS7FzFqeaugLWhFUTizVuTOXu/UVqJZoYm3M46Kxx1kRbnNrOr5ZFne2e8x\nHBlc2HR3xqqisFHPR2q0bFDLL2xcGfo7HcqFDNVTRp0eZlZZHo1aglmOOxhZdmPou223c4rwijtq\nucGg86+VYpZKMePoRbyx3aZaylItunsRo3bGQfa+2pxbKzLWjVM94hseLeiVSo6UqkTmsgs69wpz\nBWqnyPIND8V/Nhv1Ap3+mE4/Iob+QA9Wjtedtd0Nhjrb93tc2HBeyGoTtftiaugH5HG7MvS3O9YQ\nIRFC5ZqmqZqm/XtN0z6madpHNE17zTHf9zOapv0LPw84rSyPmKcSlHUH1oW3fXBy+0FvMGbnoO/p\nstuMWItH0O0dMN9nfLJSubndRlWUaSTEKaqqsD4pAowC09xrQJcdzLzB08K4s3SE+/BiFKNHQRn5\nYHWJODH0p0OEXNZqQPRawqaGvs9NgvM4MfStIUJtNlYK5E7ZbucWrx73u4Bso9F4E/DDwHsPf4Om\nad8LPAX4Sk5HLf/aHYwDWX4xz7m1IqYJd05oP7jlcnThPCtV2xuMxhkH3d4Bzop67GleW6sFMmn3\nL+JGPU+7N3JU8btsZpGj4C6cM6vOQuU3PKZ8IHqz93sBzdyfx4mhPw3hukxHQPTu5KDbR8GZoX/Q\nGdLpjwPPb4N3xf1m4BmARqPxceAN81/UNO1NwFcAPw24i8McImreYFDLL+ZxolS85l4BUqrKWi0f\nmaiG3d4RZP71nIOinvutAb3B2HOFaJS8wf4wmJWe81h9xvlTvcGbOx3yk+91ix2hu3ff+fSwZTFd\nfhGgcQTODP1p0ZQHj3u9VkAhOlHQoEPl4PBO9pHyOQ2virsKNOf+rGuapgJomnYW+KfA38en0gZr\ncL6qRMgbDGj5xTzTStETPJUb97yHF8HyVJrd0fTCFpkw8q8bdavP+NYJFrTX/Pb8z4BoKO6pcRSC\nLB90hnSPyUGPxgZ3druc95B7hWh53EFPALRxMuzG7TKieTJplZVqLjIdEr2BTjqlkkkHGAV1cieH\nVJgG4FVimsD8rj210WjYK7y+FVgHfgs4AxQ1TXu+0Wh84KQP3Ng4fnXfai3Pfmd44veIQn+os7la\nDPRZn0pb/5l228efwb3JtKinX7t17EVw0jNd2Krw3NU9SKeFP2djcqFfOFd3XRF7Euc2ytzZ67K+\nfvTWr4PP3QHgda9ZP/GMjvvaIxdXABgYJ/+3EIFUdheAzfVyoM/62MUVPvfyHj0dLh/xuVdvHWCY\nJo9dXPF0xpWqpbjb/bHwZ2zuWUZivZoP9Flf+5p1+K9f5KB3/Bnc3uuysVLg0oWVYz/npGc6s1bi\n+Wt7rK6VSam+/bNQGekGpUKw99rKaol0SmG72T/2c3dbVtvj09pW4LLoVXE/C7wT+GVN094IfMb+\nQqPR+EngJwE0TfvbwGtPU9oA29utY79Wzqe5sd3h3r2mJyt8UYx1g+FIJ6MqJ/4+bjFNk1w2xbVb\nB8d+7tVbB1YOtdmjfcTXNzYqJz5TZvLyXbt+n7zgvQb7kw1TnVaPQTe4EaKb9TzX77b44tXd6W7j\neb5wdQ+Aai517FmeeM6TnOOte81A5SMMtnctKRoNRoE+a71oTZv7/IvbrJUenjz32RfuAbBWzno7\nYyCXSbFzvyv8Gd+cRMkU0wz0WUtp611+8fr9Iz+33Rux1xzw9GvWPJ9xIZvCNOHqq3vUAjSew6Dd\nHZJLH//OemVzpcird1rH6qUXr98nnVJIm8aRP9uPMvd6RX8I6Gua9ixWYdoPaZr2bk3TvvuI7/U9\nOaVayjLWjWloSVTC6H0Fq/3g7GqRu3tddOPh3eTNzpBWd+SpQtTGfvmaXfGnpwXd+2pz9pSq55s7\nbbJpdRqOdYt9xq2O+K1KQY+JtDl7yrKRIAZWVEuZSMhxGN0RYLUe5rLH9xn7CZPbVKeyHIVz1gMt\nsrQ5u1akP9TZP2LipGGa3NrpcHbN3RAhp3iSmEajYQLvOfTXLxzxfe/38vmHsYWk2RkGLuRBYude\ngyzosTm7VuLanRY7+322Vh9sRZpOQPJQIWozf8ai0xsEt/xinnNzw26evLL6wNd0w+DWjpV7VT2G\nBqtRMo5CqCOA042jIPKC1VKWa7dbGKbpeOvVMgijyBJmhv6N7Ta6YTzU4eK3VgOgNpkVcdAdcsH7\no4aOYZgMhnpodzJsc2u381CEbnu/x3BshJLfhggMYIGZp3LaqMRl0w14+Mo8J1U9z6oXfXgpkxBm\nFJRKkDO05zlplKG1SclwvOf8KPLZFJm0KrwcQ/DT6WzKhQzVYubYop6b2x1qpSwVl0OE5qkWs+iG\nKXzbXRhtjTZn10qMdZOdI4r0ph63D1mOiqHfD6Gi3ObcCVMtwxp1ahMJxW2/xOILSfDDV2xOGmUY\nxKL2qLyIEPzQCpsza0UUjm7x8LKQ4TCKolAtZiJxxmFMp7M5u1Zi96DPcPRg6qs3GLPb7Pv2UqoR\nMfRn45EXa+jf2O5Mhgh5P+eo3MnTlE8oofLT7+QwWsEgIoq7OiliaQnuDQa9/GKesyeMMry50yGl\nKg+F0N0wU9xi51+nva8hKJRcJsVaLX/kSM4gjCOwzrnVHQq/NCes/CtYsmwCd/YePOebPoYIzWOP\n/BU9/xr0QqJ5jjP0TdPk5k57MkTI+/UflZqYsCJH4MzQT7THPc2nCP4ihikkG/U86ZTykFIxTJOb\n2x3OrhV9FUEUc2nSKUX4FzGs3lebc+slmp3hQ5uPgvC4wVIqY92cGnmi0hvooRQAwvH7jIPyUqJS\nSxD08ot5jjP095oDegPdv3E0caZE97iD3gw2z2mGfiGXYrX6cHdKEERCcc9eRLG9wTDDiylVZWul\nyO3dzgPe2u5Bn8FI961QFEWhUswK/yIGve/8MLOq50NKZadDKZ+mXvbX+hKZMG5IdQQwr1QOedy2\nl7LpT5ajUhMTxkQvm5mh/6AcT/dDB5SOED1CN4schSPLRxn6o7HB3b0e54+ZBxEEkVDclYjkX8P0\nuGHWfnC/NetdDjKXUp0obpHDuP0Qc1ZwdN5qONK5d7/L+XVv07zmiUotQVh1BHD8spGb221rk5KP\n3CtApRgxbzAEWZ4Z+t0H3ucbARSyguVtZtOq8Ge8DEP/9m4HwzRDqyiHiCjuciGDqogfxrULIcJo\nPYCHlcrd+11+/Y+uAnBpy38upVrKMhwbDEbi9suHmXuFOaUyCTEOhjr/8XcamCZc3PI//Wiaf41A\n9CiM8CJAvZwln01N5dg0TT7yqRt88cYBm6tFcj49/WmPsej3xYIN/RdvHvD7n7oBwEWf94WiKFRL\nWeHvZDu1tqg7+aAz5Bd//0UALvmMHJ2EuE3Rc6iKQiUC1bj9qXUXVohxlhts90a8/5kv0B/qfPXT\nZ3nqkTXfnz+ftwrLQvVLL8SCHpid8e3dLje22/y7X/sct3e7XN6q8A1vvOz786MQKjcMk8FIDy2q\noUwqml+926LVHfIff6fBnzW2KRcyfMc7nvD9+bWIhHH7IRazwoN9xh///F1+9Q9exsTkf3nLo9OF\nN36olrK8ereFaZrCTrQMY8vdPPOG/nPX9vjZD3+eZmfI069Z401PnQ3lZ0JEFDdYQiL6coYw+zJh\nJiS/+bFrNLsjctkU3/3O1/NVT54J5PPn81abx48wXiphrOibp5TPUC1l+eKNff7Z+/+M0djgbW+4\nwLe99bFAlhREIVQeZu+rzbm1IldvN/knP/dxmt0RT1yo8T3f+CSrHjaCHaYwKbQU2TgC6A500ikl\n0OUX89hG6M99+PM0uyNq5Szf+84nee3lYF5uu9CyOxhTyj88vlYEwuz0gdkZf+xzd/gvn7iOqir8\n1b/0GO/48ouhGjPRUdzFDNfvtRmOdLIBLyUPil7IFc9nVq32g2Z3xKXNMt/3rqemO46DwA7jihz+\nCju8CJZS+cKr+5Tyab7vG5/kS5/YCOyz7UE3Iodxw45qwKxArdUd8c43XeEbv/pKYDvso1Jo2R+O\nQz1j29Bvdkc89egq3/VXXj99x4NgPkInruIOV5ZtQ7/ZGbJey/N93/QUj56rhvKz5omO4p7zVNYD\nCPOEQS/kUHk2k+LrvvISCvCur3mETDrYnxMJbzDE9g6bv/RlF6gUs3z71z7GWs2/BzhPFELlYVfi\nAvwFbYMvXt/n7V9+kdcfGi8bBNVSlls7HeHDuGHK8fmNEm98/RZXzlR425dfDHz86/x94WeYS5jM\nDP3wZPnrv/ISd/a6fNtbH6OYX4xKjZ7i7o6EVdxhLb+Y59u/9rHQPjsKijvM3lebN7x2kze8djOU\nzy5FoNAyzMEgNlsrRX7g274ktM+vlbK8cqdFfxjOXPsg6A31QNfSHialqnzPNz4Z2ufPInTi1hKE\nXUcA8HVfcSm0zz6OSFSVw5yQCK1U9NByr4ugOrc4QFTC7H1dBKqiUCmJXWjZDTlytAhET/vYyy/C\nVChhEwlDP8Qx1MskOoo7AtOQeiHnrMImCqv6pt7ggkJSYVArZsX2UkJuuVsEoiuVsCcALoIoOFP9\nwXhSACgV91KIQm6wP9BDLZoKm0ohg6KI/SLOFjNE90WslLIMhrqw/fJhV+IugqrgQ1j6C8i9hk00\nnCk9stG5k4iO4hZ8cYBuWINLoqxQVFWhUshwILA3GPYkpEUguqcy3RMdC6Uipix342AcCR7VgEkB\nYITl+Diio7gFt+7iEPoCyxsU+0XUSafU0HpfF0FN8AuvH+K6yUUhulLpx8A4KubTpFRF2DOG8Cv3\nl0Vkbj/R5w/HwRMEyxvsDcaMxsayH+VIrN7X6F52IL4Ruog+7rARXXHbKZ+wRnEugulES0Hl2DBN\n+sNopy+PIzKKO51SKeXTwua4w15+sShsb1DUASFxsKCFN0IX0McdNuKnI2Ji6Jeywo6WHQzD29a4\nbCKjuMESElGXM4S9/GJRiF4E2BvqkQ4vQgRC5YPwp9OFTdkutBTUAO3HpE2pWsoyGOlTJSkSYY+g\nXibRUtzFLO3eiLEuXhg3DuFFENsbtHtfoxxeBPF3GcehqlxVxR57GoczBrFnP4Q9gnqZREtxT8O4\n4l14/Ri0KYHY+VfbS4lDeBHEPGOwLrwwl18simpR3LWTvRhENUDs2Q/9kDeDLZNIvZkiF5x0Y/Ii\nihzGXcS400VQLogb1QDrnKNuHIG1BKM30BmNRQzjxiRULnAtQVyiGkcRScUtYuHUIpZfLAKRw7iL\n2Ay2CNIplXJB3Gpca753tBUKREOWo35f2Ia+DJUvlmgp7kn+VcTCqbh4gyLPeI6LcQR2Na54Zwzx\nqNwH0WU5HkZopSRu9CjsbY3LJFqKW+DcYNSXX9hURA59xaBNyaZazNDpj4UrtLR7X+PgpdQE7pCw\nvcFixGV5NtFSvKhGX1aVi4HIOe649HFn0irFXFpM4ygmva8gbqHlIEbhRZGN0P5gTEpVQl0BvAgi\nESqXHvdyqRUjkLOKwYUnahi3P/VSYnDGgiqVXowqcUWuielNohqKoiz7UXxRLmZQEE+OYS59GeFN\ngscRKcVdEThU3o+TN1jM0O6O0A2xwrhxVCqihXHjVIkrdKh8MI5F7jWlqpQKYu6Xj8PM/eOIlOLO\nZVLksikhhaQbg+UXNtVSFhNo98bLfpQHiJNSEdUbtMOLcTKORLwvrK1V0ZdjsAwk0eQYrDsZol8A\neBSR0zI1QachxWH5hY2oF15cptOBuKHyfoyMI1GnAE4LAGPgcYN1X4hYaDmT5Xic8zyRU9yVUoZW\nd4Rhmst+lAeISwsNiKtUZn3c0X8RhQ2Vx6g4zV5MJNpO7sEwXp6gqAZSb2gVAMYhCnqYyP1G1WIW\nwzTp9MR6GeOw/MJGVI87Tt5g1e5/FSzEGLfeVxELLeO2/ELUNt3+QCefTUW+APAoIqe4RRzJaS+/\niINCAXFfxF5MNirBfP+rWGdsG0dxqNwH65w7PbEKLeMU1YD5O1k0Zyo+dQSHiZziFtEb7MfsRRTx\njMFSKtbyi+gr7mwmRT6b4kC4yy5mYdxJoaVI/fJxy70Km1obxGOQ0FFETnFXBFwj14/RRC+YjZYV\n7kUc6rFot7OplsTbXhWX0b02NQGVSlxm7tuI2KZrmib9wTg2xtFhPEmOpmkq8FPA08AA+K5Go/HS\n3NffDfwAMAY+C/y9RqMRSDWZHZYRacReXFb02VQFnYZktdDE50WslrJs7x9gGCaqKkYeLk4tdyBm\nLcFs5n48ZFnE9OVgpGMSnzv5MF497ncB2Uaj8Sbgh4H32l/QNK0A/DPgrY1G46uBGvBX/D6ojYj5\n116Mll+ANUQmm1GFMo4gXpX7YHmDpgntvjjnHLdQuYhpn27citMEXOYSp9bRo/CquN8MPAPQaDQ+\nDrxh7mt94KsajUZ/8uc00PP8hIcQsY0mTssvbKpFscK4du9rXBQKzIUYBZLl+OZfxTGO4jRlEeai\nGgLJcS9mcnwYr5JTBZpzf9Y1TVMbjYYxCYlvA2ia9v1AqdFo/N5pH7ixUXH0gwvlPAD9keH434RN\n5qZ1FBurJWGe6SjcPNtarcBLN/dZXy8L0U7RnXiltUpO6DMG5+d8dqMMgJpOC/M7jQ2TlKpw7mxN\niP/ux+H0vC5NitJGpjv5DxN1Ulx5drMizDMdhZtnK+bTdAe6ML/P3uS/+2q9KMwzBYlXxd0E5k9D\nbTQa036LSQ78x4DHgG9x8oHb2y1HP9g0TdIphd39ruN/Ezb3dtoAjEdjYZ7pMBsbFVfPVsimGOsm\n167fp1zIhPhkzthrWgGcFM5lZRm4Oec0VtnHq7f2ObeSD/OxHNPqDCnk0uxMZFpE3JyxMYmG3d1p\nCyM3O/e7AAz6Q2Ge6TBu74tKIcPeQU+Y3+f2Xes5TF0X5pkO48eg8Boqfxb4BgBN094IfObQ138a\nyAHfPBcyDwRFUYQbqhC3gQog3iztuPW+wny9hjhh3N4wHssvbETMcfdjtEnQplrK0uqNMAwxJlrG\n8U6ex+tv9SHg7ZqmPTv589+ZVJKXgT8D/i7wUeD3NU0D+DeNRuPX/D6sTbWY5cZ2B9M0hQjnxa0S\nFx688M6ulZb8NHN5wTjVEQioVHoDnfWaGN5/EIi4mKgXs6pymCwmMqHdG03lepnEac3yUXj6rSZ5\n7Pcc+usX5v5/qBJZLWUZ32nRG+gUBdi1GrcBLDDr5RalCLAXwxV9og2uiGvva7WYEaq1MW593PCg\nLIuguO2Wu7gUAB4mcgNYYG5cpCAvYzfG3qAoE6fi2N4hWmtjfxjP3tdqKUtboMVEvcEYVVHIxmj5\nhWiyHLdBQoeJpOSI1hIWp+UXNjXBzjhuyy/A+l0yaVUYjzuOkSOwDH3dMOn2xdgv3x/oFHLxWn4h\nWton7qHySCtucYQkPssvbGZnPFjyk1j0Y1hsoigK1WJWOOMobqHyqRHaFkOWrQLA+MgxzKKg4siy\nHSqPlyzbRFRxC5Z/jdHyC5uZ4hYjVB63aVM21VKWVneIKUAYN66VuMIZ+oP4ba0SbexpL2Zb7g4T\nScVdK+UAsYQkbi9iMZcmnVIEMo4sCzpuL2KtlGWsm1PDZJnEVXFPPW4B8q+GadIf6BRjFJ0DqJbF\nVNxxk2WbiCpuscIy3ZjN0AYrjFsrZYUJlfdiWAAIUCvbYdzly3J8oxoTQ1+AM+4P4lkAWBMuVD4m\npSpkYlQAOE8kf6uagNZd3C47sEKMBx0Zxg0TkXKDca3EFcnQj2sIN5e1+uVFOGOYOFO5dKwKAOeJ\npOIWKYw71g2GIyN2lx1YKYmxbk4vm2XSjemFJ5IRGseWOxArjBtXAxSYROiWf8YQvxXAh4mk4p6N\nPV1+GDeuLTQgVttdfzgmk1ZJpyIpsscivcHwESmMG+c2pVrJ2igowtjT3lCP5RnbRPYWrJWyHHRG\nSw/jxvWygznFLUBusDuI54soUsVzXL1BO4wr1hnHzxu0x562esvtRDEMk8FQj+WdbBNZxV0tZhnr\nxtLDuHG97GCuxUOAaty41hHMPO7lR4/iLssieNxxTfmAOC1hcY5q2ERWcU+rcZctJDG/7EAMj7s3\nGMeuhQbESkfEtaocxAnjxrWOAMQxQnv9+MqxTWQVd1WQXu44X3aiKJWxbjAaG7E843w2TS4jw7hh\nM7+9apnE2dAXJbUW5zvZJrKKW5SinjhfdqJUPE9fxJj1ytuIEsbtDXSyGZWUGtlr4VjEuy/iJ8vT\nwVhLTq3F+U62iewbKkoYNxmhr2WfcXwvO7DalVqd5W+vimsdAYgTxo2zNyjKMKE438k2kVXcoqyR\ni3OxST6bJptRl37ZxV1x14pZDNNcehi3OxjHUo5BnOr9OHuDouyXj/t9ARFW3KJ43HHcWjWPCEMV\nZsUm8bvsYG5AyBJl2TTNmHvcVhh32dGjfkxn7oM4NTFxdqZsIqu4RRGSuFt3tVKO5pLDuPba1Li+\niCKkJMa6gW6Y8ZVjQcK4tlKJ21pPgExapZRPL93Q78t2MHHJZ1NkM+rShSTOOSuwDKRlh3HjbhyJ\nEMbtxjwvOA3jClA4lc+mUNV4ztCuClBoGfc7GSKsuBVFoVrMCpB/TYY3uFylEu8XUQSPezYBMKbp\nCEFSa3FOR4Aly+3eiLFuLO0ZZHGa4NTK2eWHcQdjVEUhm4n0UR6LSEqlkI/nizjLvy7PCI17VEOU\nMG4vxgWAMDOQWt3lR+jifM6R1ja1Ug7DNOksOYxbyKViuz5uGsZdoqcS9xexWsoAMqoRNssO41oF\ngPGcuW9TFaDtLs6V+zaRVtwiFKh1ExD6AjE87nw2ni+iEGfcj/eQG1h+GHcw0jHM+BYAgjipNUWB\nXCae9wVEXHELceHFXHGLsMu4G/M6gkw6RTGXXrocQ/w9blheGHeWe42vQpmmfZYcoStk07GNgkJM\nFPeylIphmvRjvvd1tstYhNBXfM+5uuR++aScMSzvvkjSGS/bCI3zGUPEFfeyK0XjPEzBZtmXHVgv\nYkpVyKQjLa4nUitlaXeXF8btxryqHJY/9jQJinvZzhRIxS08yxaSJBRBZDMpCgKEcQu5eIe+auUs\nJssL4/YnQ27iWrkPyw/jJkJxL3ndsmGa9Ad6rA1QiIniXpaQJOFFhOVX48a9hQaWP+c5KVXlsLwh\nLEkYxVkpZlBY3p08GOqYxFuOIeKKexbGXU7oKwmXHczCuLqxnDBu3FtoYPmeShKM0GXvN0hChC6l\nqpSLmeVHQWMcOYKIK24rjJta+mUXZwsarAtvWWFc3TAYjPRYX3aw/P7X6YUX53awpRtH8Z/oBcvd\nL58UZyrSihugWsot3brLx1xIllkEmKTLDpZbr5FOqbEuALTDuMtOR8Td0K+WsvQGY0ZjfeE/OwkG\nKMRAcdeKGVpLCuMmIfQFc0plCbnBJIRwYflrJ7sJKOixw7jLjtDFX5aXF9lIyp0cecVdLeeWFsaN\n+7pJm+V63Mm47JbddpeEFhpYbqFlP2GyvIxzTkpUI/KKe5khxqQolWX2vybljCvF5c4rT4riri0x\njJuU/KsdPVrGfoOkpNYir7hFsO7iLiS16djTxUc1kmJBp1Mq5cJywrhj3WA0NmIvxyBGGDeuM/dt\npmcsU2uhEXnFLYLHHXelUl3i2NN+AuY729SWNPY0KXIM8ymJJaTWBjrZjEo6Fflr90SWuVEwKYrb\n02+naZoK/BTwNDAAvqvRaLw09/V3Av8EGAM/32g0fi6AZz2SpVrQ/WQIyTLzr0mJaoB1zjd3OozG\nxkKru5Ny2cFyd58nKR0By41qxN0I9Xo7vAvINhqNNwE/DLzX/oKmaRngXwNvB/4i8D2apm36fdDj\nmPZmLsm6U4BczENfywzjJuVFhPmUxGLPOSl5QViuUukmYAIgLHejYFKMUK+K+83AMwCNRuPjwBvm\nvvY64MVGo3HQaDRGwB8Bb/H1lCcwHRW5hHxKd6CTz6VRYzxD22ZZ26uS8iLC8mS5m5AWGlhe9Mg0\nzcR43OVCBlVRlmToJ8MI9frbVYHm3J91TdPURqNhTL52MPe1FlA77QM3NiqeHqS+UgKs1iyvn+GV\n4VinVMgs/Od6xc9zrtcL3NrpUF8pkkkv7oI3Vcu2PHemGvtzPr81+Xep1EJ/1xfvtAHYWCvF/oyv\njE0Ahrq50N91MNLRDZNaORf7MwaoV7K0+6OF/64jw/rve+F8nZQaX4fKq+JuAvP/RWylDZbSnv9a\nBbh/2gdub7c8Popl4W3f7/r6DC90eiPqldzCf64XNjYqvp6zOEkHvHRtj7VaPqjHOpW9/S4A/e4w\n9uecwrp0Xr21zyObpSAf60TuTp5XH+mxP2N9aBWl3d3pLPR3tb3PlKrE/ozBupPv7C3+Tm62B+Sz\nKfZ22wv9uV7wY9R4DZU/C3wDgKZpbwQ+M/e1LwCPa5q2omlaFitM/seen9ABywjjWqGv+C+/sFnW\nZqVegqrKlxXGTUrLHcyFcRcux/Hfdz5PtZRlODLoD8cL/blJSUd4/Q0/BLxd07RnJ3/+O5qmvRso\nNxqNn9U07R8Av4NlGLyv0WjcDuBZj6VWynJrwdW4g5GOYZqJuOxgeZuVeoMxqqKQy8T/wlvW2NMk\n1RGoikKllFl4q1KSzhgeLALML3BueG8wpl7OLeznLQtPJ9poNEzgPYf++oW5r/8G8Bs+nssVtpC0\nujUNP80AACAASURBVENWq4sJ4yalCMJmWdurLAs6hZKAAsBlVTwnUanc3est9GdOCwBjvvzCZmqE\ntodsrRQX8jPtKOjZtfifcSwmASxjelqS+otheYNuesNkhL7ACuMqyjLbweIf1QDrvhiM9IWGcZMy\n88FmGWmf4cjAMM1EnHEsFPcyPJWkbKGxWdZo2aTkrABUVaFaXPwSjCT1ysNyjNAkRjVgWc5U/O/k\nWCjuZVh3ibvsyovPvxqmST9BBYBgXXgyVB4uy6glSN4ZL8+ZSsKdHAvFvUwhWWThxTKpLCGM2x/o\nmEAh5pPp5qmWsgyGOoPh4rZX9QZjUqqy0DGry2QZhn43gVXlsBxnKi8VdzRYxlD7JFl3YIVxKwsO\n4069lHwyzhiWs1mpO0lHJKEAEJZj6PcnhlhSZHkZ43uTFNWIheKehXEXV/GctKpyWHwYN0kvos10\nzvOCjdAk5AVtltHamLRi1mIuTTqlLPROTtI8glgobjuMuy8LIUKlNgnjLqoaN0kvoo2df91vL9YI\nTYpCgbnFRAs19JOluBVFoVbKsr+EKGgS7uRYKG5VVVit5Ng96C/sZybtRQSmPfKLOucknvFa1VLc\nu83FnLFuGAxGeqKMo9XKYuUYkpdaA+u+2G8PGOvG6d8cAEmKgsZCcQOs1wrstwaMxosSkuS9iBt1\n68Lbloo7NNZrBQB29hd1xsm57Gxy2RTVYmZhcgyWLGfSKulUbK7cU1mvFTBN2FuQEZqkCF1spGij\nXsBkcZ5KEgunNuqWUtneX8zUqSSFvmymZ3yw6DNOjhyDdc67B32MyTapsOkO9ER1R8Ccob8wIzQ5\nshwbxb0+EZKdRSuVhLSDwRK8wUklbhIsaJtiPk0pn16CcZScMwZrTa1umNxvLSbPnaRBQjaLNkL7\nCZLl2CjuRXuD3cGYXDaFGuOdr4eZWdBSqYTJer3AzkEf0wzfG0zqGS9DlpN3xou/kyEZshwfxV2z\nrbvFeIP9BIa+yoUMuWyKnQVZ0ElbzGCzUcszGhsLab1L2pxym/Xa4rzBsW4wGhuJUCjzrNfsKOhi\nQ+X5BNzL8VHcC7aguwm0oBVFYaNWYHtfeoNhskhPRZ5x+EoliYWsAPVKjnRKWWBUQyebSUYBYGx+\nw2opSzatLsS6s9bHjRP3IoJlIA1GOq3eKPSflbSNSjbrC1TcSarEnWfD9gYX4HEn1ThSFYX1mpX2\nWQRJSkfERnErisJ6vbCQy240NtCNZKyPO8yivUEFyCcsjLtRX1yIMalKZaWaI6UuxhtMYsudzXo9\nT7s3mspZmHQT5EzFRnGDlVPpDsZ0+uF6g0m97GCmuBehVLoDnXwuhZqQGdo203oNGSoPjZSqslrN\nLUiOk9fWaLMoQ9+OgiZFjmOluBelVJJUvXgYu+BkUUoliWe8VsujsJhCy6QqbrDui4POkMEo3E1s\nSc1xw7wRGq4sJy0KGi/FvSClYoe+Evki2sbRgnKDSXkR50mnVFaqOZnjDpnpXIKQDaRkG0eLqSVI\n2hnHS3EvqOE/iRO9bGYed7iXnWma9IbJVNxgeSqLGOE7XTeZQFleVCdKsiN0iwmVz4Y1JUOOY6W4\n1xcUKk+adTdPNpOiVs6G/iIORjqmmUxPEKyinkWM8O0OxigK5DLJuPDmmaXWwpXlJE30OswsQifv\n5CCJl+JeWKg8WUJymI1agb3mAN0Izxu00xFJGKZwFItSKr3BmEI2jZKwAkBYXC93kqvKFzXCN2nD\nmmKluAu5NOVC+Ft/Eq+463kM02SvGd6c5yTnXmFxleVJrSOAucleIafWklxVDrMRvkaIQ5uSNvMh\nVoob7K0/vVCFJMk5K1hM3koaR4sZ4ZtkxV0uZMhnUwuL0CXXCJ2M8G2HN8I3afdFDBV3nrFush/i\n1p8kV5XDYvJWSXsRD7O+gMIpwzTpD/TEFPQcRplM9toOeaFL0mV5EZ0oSTvjGCruRXqDybzwFlGN\nm7QX8TC1UpZMyCN8+wMdk+SeMUxG+A7DHeHbG4xJqQqZdOyuW0csYoTvLLWWjDs5dpI0y1tJbzAs\nFmEcJT3HbXmD+cUYR/lknjEsZmiTvZAoiQWAsJgRvtMCwITIcuwU9yKVSlIVd71sz3mWxlGYbNQL\noY7wlWe8uAhdUg1QWEyhZdJkOXaKe30BLR794ZhsOhnr445CVS1vMNycVXIHg9jYF15YnkpvmOyo\nBiymsrw31BO3KGeeRYzwtWVZKu6IslrJoSpKqNPTrOUXyRCQ49ioF2h1R/SH4Wz9SZoFfRRh1xLY\nZ5zUXnkI3+M2DJPBUE+0cZROWQtdFuJxyz7uaGILSZiDK5LcQmMT9pQ6qbjnokchGaFJryOA8Ef4\nJs0TPI71kEf49gZj0ik1MQWAsfwtN+oF9ttDhiFt/bFyVsn1UmBx3mCSL7ywC6eSPNHLJuwRvkkb\nDHIcG/VCqCN8uwlra4yl4rat6DCEZKwbjMaGfBFr4Q4ISXrLHYQ/wlcaRxZhjvBNeiGrzfq0sjw8\nWU7SGcdScYeZt5IvokXYucHuYEwukyKlxlJEHTEd4SsVd6iEOcJXnrFF2PeFVNwxYDZ1KnhvUL6I\nFouxoJPrbdts1PPsNvsYRvCTvWSO22K6lzsEWU76lEWbMCN0SYyCuv5NNU0rAB8ENoAW8LcbjcbO\noe/5IeCvTv74W41G4//0+6BuCNXj7svLDqCUz1DMpUMLlXf7Y2rlXCifHSU26gWu3m6x3x6wWs0H\n+tl2/rWYkKEVxzE/F/51AX92d2D14MszDi/t002gHHvxuN8DfLrRaLwF+ADwj+e/qGnao8BfB76q\n0Wi8EXiHpmn/g+8ndcG0/zUEpXLQsQbl10rZwD87aqzX8+zs9wKf8zwaG3T6Y6rFTKCfG0XCXOhi\ny3KlmGxZDlOp2GdcTfgZV0tZsiGN8J2ecYLuZC+K+83AM5P//wzwtkNffxX4ukajYd/mGSDc9TuH\nqBQz5DLhbP05aFt5sFo5OUJyHBv1AsOxQbMT7NYf+/Pq0uOeUyrBX3j77QGlfDoxLTTHEWaEzt6I\nlfT7QlEU1uuFUO/keoIU94mxBU3TvhP4wUN/fRdoTv5/C6jNf7HRaIyBPU3TFOBfAZ9qNBovBvO4\nzrCExJrsZZpmoDOCpx63VCoP5K2CPI/ZGSfnRTyO9RA3KzU7Q2kcMRvhG2aETp6z1SVxa6dDpz+i\nlA8umpbEO/lExd1oNN4HvG/+7zRN+1WgMvljBdg//O80TcsDPw8cAH/PyYNsbFRO/yYXXNiscHO7\nQ76UDzSEMtCtQMIjF1YCf+awCfp5H7lYhz99lYFuBvrZL91tA3Busxq5M4Zgz/m1k6r6Zn8c6OcO\nRzqd/pjHLtYTf8YAW6tFdpv9wD+3O9BRFHj08mrkRiQHfRaXzlb5zEu7jBU10M8embetzz9Xi6Qs\ne8FLNv9Z4BuATwBfD3x0/osTT/vXgf/aaDR+zOmHbm+3PDzK8VQK1q/2/IvbPHquGtjn3tm2lIox\nGgf+zGGysVEJ/HnzKSuS8dKr93nyUj2wz3311gEAacWM1BlD8Ods6gaqonD9TjPQz7UrqIvZVOLP\nGGClkuPWTodXb9wPtDp5+36XciHD/b1OYJ+5CMI44/JktO4LV3epBdgxcuuu9ZyKbkRKlv0YGV4k\n9N8B79c07Q+BAVYhml1J/iKQAt4CZDRN+/rJv/lHjUbjTzw/pQfOr5cAuLHdDlRxNztDUqpCKUEV\njMdhn/H1iTETFNM6ggTlrI4jnVLZWi1wc7uDYZqoAaV9ZkWWyQkvnsT59RLPXd3jxnabxy8EZ4Qe\ndIasVeUZA5zbmNwX99p8+Ws3A/vcJBanudY+jUajB3z7EX//43N/LPh5qCC4csZS1tfutHjLlwT3\nufvtIbVyNrG7dedZqeSoFDO8cidYKzeJOauTuHKmwu3dLvfu9zizWgzkM/dl0dQDXD5jeT/X7rQC\nU9zDkU5vMKZWDs5xiDKXt6wzDvy+aA9QgGopOV0o0Uq6uODceomUqgQqJKZpctAZSC9lgqIoXN6q\nsHPQp90Lbme0XYlbl0oFmF141+40T/lO5zQ7sjtiHvuMXw3wvti3C9MS5AmeRKWYZa2a45U7zUBb\nSA86QyqlbKKmLMb2N82kVS5slLl+r81YD2YGcXcwZqybMoQ7h+2pvHo3uAvvoDMgnVITP+TGZnrG\nd4JLSUw9bmmEAnBmtUguk+JagHLcnJxxVRpHUy6fqdLsjqbyFwT7nWHi7uTYKm6Ay2fKjHWD27vd\nQD5vX3qCDxFG+Gu/bb2IMh1hcSkEj/tg4nFLWbZQVYWLW2Vu7XQYBLRVcH/aXyyNI5vLW2UguPui\nPxwzGOqJixzFXHHbee5gLrzm5EVMUhHEaVyZeIOvBOSpGKZJszNM3It4EoVcmq3VIq/cbQcWYpwO\nBpGyPOXKVgXThBv3golsyHkEDxP0nZzUSZbxVtxbwYYY9+UwhYdYq+Up5dNcC8iC7vRG6IZMRxzm\n8laZ3mAc2OSp/c6QTFpN1GKG07gcsBFqRzWkLM+YpdYCMo7aybyTY624L26WUBWFa3cDsu5kJe5D\nKIrC5TMV7t3vTYf9+0FOmjoau0vilYAuvGZHpiMOM19ZHgT7CVUqJ1ErZVmp5KTH7ZNYK+5MOsW5\n9RLX77YDWYs4s6DlizjPNLIRgKciQ7hHY+cGg7jwZDriaM6uFcmm1cAqy5sJ7C92wuWtCvvt4XRe\ngx/2p7sjknUnx1pxg5WDHY4Nbu/6n1wk25SOJsgQ475c4nIks8py/2fc7lrpCFk09SApVeXiZpmb\nOx1GY/8FavvtAblMSqYjDhHkfZFUQz/2ijsMpSIt6AeZnnEASqUpJ3odSTGfYaOe59qdlu8Ctemk\nKWkcPcSlMxV0w+TGdjCGftIUihOC7EQ5SOg8gsQo7iDyVgedIeVCJnLLAsJms16gkEsHZBzJOoLj\nuHymSqc/Zrfpb4tVEtcgOuVKQErFMEyaXZmOOIpA72Q7CpowQz/2GujiZhlFCci6a8sX8SisCWpl\n7ux26Q38FajN+ouT9SI64UpAkQ05UvZ4glIqre4Q05RnfBQrlRy1UjaYUHlnSD6bIpcNbmlJFIi9\n4s5lUpxbK/Hq3TaGjxDjaKzTHYxl6OsYLp+pYGItEPDDQXuIAlSKyZk77JRpiNHnhbcvl7gcy7n1\nEumU6vuMk1rt7JTLZyrsNQc0u/4mqB20B4k849grbrCEZDDSubvnfYLagRwReSJB5bn3O0PKRZmO\nOIqgvMGk9r46IZ1SubhZ4ua2v1HJcsriyQQxG143DFrdUSKjGom4HYMohtiXU5BOJChvsNlJpgXt\nhHIhw1o1zys+C9SSuAbRDZe3Kox1k5s+CtQOZCHriQRRNNzsjDBJZlQjGYo7AE9lVgSRPCFxwtZq\nkVw25cs4Gox0egM9kRa0U66cqdDqjrjf8t4Dm8Q1iG4IQqnIQUIncyWIOzmhFeWQEMV9aauMgr8B\nITMhkS/iUaiKwuXNMrd2vS9pOJBrEE/lUkBKJWlrEN0QRNonqf3FTlmp5CgXMoGccRKNo0S8ufls\nmjNrRV652/JcoLYvX8RTuXymiml6L1CbhhcTaEE7JYjK8iSuQXTD+fUyKVXx5Q3uS0P/RBRF4cqZ\nCjsHfdq9kafPSHIBYCIUN1h5q95A97ykoZngsIxTLp/xt7IvqT2ZbvBbr5HUNYhuyKRVzm+UuH7P\ne4HaQWeIqihUCjIdcRyzhSPeZDnJUxaTo7h9eir7sqr8VOyVfZ4VtywAPJWqvaTB42WXZC/FDVfO\nVBjrBrd3vXWiHLQHVEoZVFUucTkOv0boQYKnLCZHcQcgJNm0SiGXrEZ/N5xdLZLNeO+Blf3Fzri8\nVeGgPZyelxuSnBd0g5/7wjRNDjpDGTk6Bb9FgEne1pgYxX1pq4ICXL3tbbvSQXtArSzXIJ6Eqipc\n2qpwc7vDYOi+QE1W4jrjylnrwvMiy9LjdsaVs1b0yMsZ94c6w5GRSIXihvVanlI+zcu3PN7JnQEp\nVaGcwHREYhR3MZ/m/EaZl241XeetDMOk2RklMiTjlsfP1zBMk5duHbj+t7YFLXtfT+bx8zUAvnjd\n/RkndQ2iWy5ulslmVF64se/638rIkTMUReHxC3V2Dvqe2hsP2kOqpSxqAp2pxChugCcu1hiNDdfV\nou3eCMM0pQXtgMcv1gF44br7C+9ArkF0xKPna6RUxZNSkW1KzkinVF5zrsbN7Y7rquemnAXvmMcv\nWkao2/vCNE32E7x9LWGK25tSkRa0cx6/UEPBo+KWbUqOyGVSXD5T4ZU7LdcpiSQPrXDL4xcmkQ2X\nBpJsHXXOExe83cm9wZixbiT2jBOluB/3KCRym5JzSvkM5zdKvOwyJSHXILrjiQt1dMN9SkK23DnH\nNvTdpiSma1OlLJ/K5TMVsmn3KYnZ+t9kynGiFPdKJcdmvcCLNw5cDWKR407d8cTFOsOx4aoiV65B\ndIfX6FFS1yB64TXnvKUkpKHvnHRK5TXn3ackZoWsybyTE6W4wcqpdAdjVwsEZHjRHVOl4uLCk+FF\ndzw2DeO69wblGTsjl/WWkpCy7A47JfGiC1k+SHj6MnGK20tORa70dMc0JfGqizPuyPCiG8oFKyXx\n0s0DxymJJK9B9IqXlERTyrIrfBn6CZXl5CluDyHG/YSHZdyyUsmxUc/z4k3nKQlpHLnniQvuUhL2\nGkQpx87xUvW83xlSzKXJpGU6wgnTlISLM24mfMpi4hT35kqBWinLCzf2He80PmgPUBSoFJMpJF54\n4mKdTn/MLYcpCbnv3D1uPRU7qiH75J1jR4/cpCQO2rLI0g1eUhLTJS4JleXEKW5FUXj8Yp2D9tDx\nwpGDzpBqMSvnDrtgmpJwqFSaMi/oGrdVz3LcqXvcpiTGukG7N5Jy7BI7JfGyw5RE0iN0iVPcAE9M\niiEaDkMzBwlu9PeK25SEXIPonpVKjvVani/e2HeUkpDjTr3hJiUhh694Y5qScBjZOOgMKeXTZNKJ\nVGEJVdwuPJXeYMxgpMsX0SWbKwWqpSwvXHeWkjhoT9YgFpM3d9gPblISSV6D6IeZUjndCJUV5d5w\nO2PD2h2R3Ds5kYr7wkaZQi7t6EVMehGEVxRF4YmLdfbbQ7YP+qd+/0FnQLWUSeTcYT+4yXNPe18T\nGl70ip32cWLoz7oj5Bm7YZqSuHV6SmI0Nuj0x4k2jhKpuFVV4fELNe7d7526GlGOO/WOnZL44ilW\ntGmak3SEvOzc4iYlMV3iIo1QV6xW845TEnIWvHeeuFBnODJOXfMp52okVHHDrOn/tAtPrpr0jq1U\nTqsl6A91hmO5BtELWysFqsWMo5REktcg+sVpSuJARug8Y6ckTotsyMiRB8WtaVpB07Rf1TTto5qm\n/aamaevHfJ+qadpva5r2vf4fM3ic5rmlBe0dKyWROtXjllEN79hdEk5SEkleg+gXpymJpE/08oPT\n4Vhy/a83j/s9wKcbjcZbgA8A//iY7/tRoA44Hwq+QK6cqZJxMNx+X4ZlPGOlJOrcvd+bXmhHcZDw\nKUh+mRmhx8ty0tcg+sVpSiLpE7384DQlIZe4eFPcbwaemfz/Z4C3Hf4GTdO+FdAnXxfSvM+kVR49\nW+XGvTad/vHD7e0F7/LC88Y0JXFCm4c8Y3/YnspJKYl2b5ToNYh+cZqSuN8akE4plPJyp7wXnKQk\n9uR9cbLi1jTtOzVN++z8/4Aa0Jx8S2vy5/l/8xTwbuCfIqjStnnykVVM4BPP3zvy68ORzmde3KVa\nyrJWyy/24WLCk4+sAvDxz9899nv+rGGd/2Pna8d+j+R4Lm6WqZay/PcXthmOjp489cnGNgCvkWfs\nCUVRePKRVfbbw2O97nv7PV652+LRs1UUmY7wxJNXJvfF80ffF6Zp8snGNumUysWtyiIfTShONAsb\njcb7gPfN/52mab8K2CdWAQ5L8XcA54HfB64AQ03TrjYajd896WdtbCz+P8I3vvUxfu2PrvLsc3f4\ntne89qGvf+ST1+kOxnzrmx/nzFb0L7xlnPH6eplHz9X48xd3SOUyrFYfNID2mn0+/dLu/9/encfG\nUZ5xHP/uem1jx3YOZ23HTkJCTN4cju0Q5yCJ40SFUEDpgar+0UptUaHqoR6oEi2ooqJCbVVUKqG2\niFJoQBVVCy20UQRNy2XnIARK7MQhb5yDKImdwznsnI6P7R8zu7EdY7A9znjWv89f65nd1eNHu+8z\n886z73BD0Vgq5hVe8/iGgx95Xr34el58vYE9TWdZtWDKVfs31x8lHA7xmZXF5I7NuObxec2PHK+p\nKmZL/TG27j7B8gVTr9r/yrZDANxZeYMv8XnNj//htuWZPP9aA5t3HuWez5cSSel5blm//yRHT12g\nav5kpk+dcM3jGykGM5+zCbgD2AbcDlR332mt/VH8sTHmp0DTxxVtgBMnPvm9m71UNiOX9xuaeafu\nCNMn5fTYt75mPwALbsz1LT6vRKPZvv0Py0ry2d/YwstvNLBm6bQe+9Zv+ZCurhhL5+YHPsfgX54r\nbszlxdcbWFe9j5Kp43rsO3j0LHsPt1BePJGuyx2Bz7NfOc7PTqNgQiYbaxu5q3J6j+78zq4uNmw9\nSEZ6hJmFOcrxECyZk89r7x3mv1sOsMDk9dj3zzf3ArBoVjQpcjxYg7nG/QQw1xhTA9wDPAxgjLnP\nGLNm0JH4pKq8CIC3tjf22H701AXsoTPMmjqO/PGZfoSWNJbMLSAtNUz19sYeTSddsRg1tU2kRcIs\nmVPgY4TBlzc+k7nTxtNwuIUjzT2vD1bXOZ/tFWXJMaPhl1AoRFV5IR2dXWze0dRjX92+k7Scu8yS\nufmkp+quYENRVe58TnuPyRcutfOuPU7e+Axm9To4HW0GXLittRettV+01lZaa2+x1rlAaa39jbV2\nXa/nPmyt/YNXwQ6HkukTyM1JZ+uuY1xs60hsr6l1B7tyDXZDlZEeYfHsfE62XmLXgVOJ7fbgaY6f\nucjCWXlkqplnyOIHodXdBry29k7erj/GuKw05s0YvVOLXllaUkAkJcRbtY09mtRqap1CXqWDoyGb\nHM2iuGgs9QdO9bgR1Jb6Y7R3dLGirHDU9xCM2gVY4sLhEJVlhbS1dyYaqDo6u9i0o4kx10VYMDPq\nc4TJYeV8p6i82a2ovOUeHFVqsPNE+Y0TyRmTxuadTYkmtXd3H+diWwfLSwtJCY/6r/uQZWemUWHy\naDp5IdGkdvpsG7X7mplWkM3UUdww5aWq8kJiQLU7RsRiMaprG0kJh1hWotk5fZOBytJCwqFQYmpm\ne0MzrRfaubmkgNSIpr28MK0gm6l5WWxvaObMuTbOXWznf3tOMCk3M/GTMRmaSEqY5fMmcf5SR6KL\nPD7wVZZO8jO0pJKYynVzu7GukVhMlyK8tHBWHpnpETbWNdHR2cWHR89y6Pg5yoon6jfyqHADzu0R\ny4pzOXjsLAeaWhPXBDXt5Z1QKETV/CLnunZdE5t3HqWjM0Zlqaa9vBS/tPPm9iM0Np+n4XALc6eN\nJzou+J3kI8XMKeMomJDJu7tP0HrhMjV1TaSlhlk8J9/v0JJGWmoKS0sKaDl/mdq9zYkD0BVlOgAF\nFe6E+FH0SzX7qd9/ihlFORRFs3yOKrksmeM07lRvb0xMey2dp2kvL+WNy0g0qf3tDacDd4V77Vu8\n0b1J7Zn1H9DccolFs/PJSFefhpfiY/J/th3i7V3HmJCTTsn0XJ+jGhlUuF0l03PJzUln5/5TxIAV\npTrb9lpGeoTFc/I42XqJxubz3DQzSk7m6F39aLjEm9Tq9p0kKyOV8uI+bycgQ7Bs3iQiKSHq9p0E\nNE0+HIqiWRRPHsuewy20Xe5k+bxJhMOanQMV7oR4kxrAdWkpLJqtaa/hUNXt7E+D3fCIN6kBLJtX\nQGpEX3OvZWWkUuH+xrho4hhmFOZ8zCtkMOKXK0PAcvVpJOgb3U1laSGZ6RFWzi8iPU1NacNhWkE2\nZso4JkezmD1tvN/hJKVISphbKyaTlhpmpabJh80tFVNICYdYvWiK+jSGycJZeeTmpFMxK4+JSbDi\nn1dCH3cP32skNlJWwWnv6CQlJZx0tz70cyWk3jo6uwCuWs4wGYyUPMdiMdo7ukhLwsVARkqOwfmd\nfDIuuDKSctze0UVKOJR00+TRaPag/yF1U/Sin38Nv2Qs2CNNKBRKyqI90iRj0R5pdKnnasqIiIhI\ngKhwi4iIBIgKt4iISICocIuIiASICreIiEiAqHCLiIgEiAq3iIhIgKhwi4iIBIgKt4iISICocIuI\niASICreIiEiAqHCLiIgEiAq3iIhIgKhwi4iIBIgKt4iISICocIuIiASICreIiEiAqHCLiIgEiAq3\niIhIgKhwi4iIBIgKt4iISICocIuIiASICreIiEiAqHCLiIgEiAq3iIhIgKhwi4iIBIgKt4iISIBE\nBvoCY0wG8GcgCpwFvmqtbe71nNuBh9w/t1lrvzfUQEVERGRwZ9zfAmqttSuA54CfdN9pjMkGfgXc\naa29GThijIkOOVIREREZVOFeBrzqPn4VuKXX/qXADuAxY0w10GStPTH4EEVERCSu36lyY8zXgR/0\n2nwMaHUfnwXG9to/EVgFlAHngRpjzBZrbcPQwxURERnd+i3c1tqngae7bzPG/B3Idv/MBs70elkz\nznXt4+7zq4FyoL/CHYpGs/vZLV5Qjq8N5Xn4KcfDTzkeuQYzVb4JuMN9fDtQ3Wv/+0CJMSbXGBMB\nlgD1gw9RRERE4gbcVQ48ATxrjKkB2oAvARhj7gP2WmvXGWMeAP7tPv+v1tpdnkQrIiIyyoVisZjf\nMYiIiMgnpAVYREREAkSFW0REJEBUuEVERAJEhVtERCRABtNV7hljTBj4PVCK06F+j7V2n58xJQNj\nTCrwDHA9kA48AnwArAW6gJ3Ad6y16kwcImNMHvAe8Cmc3K5FOfaU+yuVNUAq8Fucn6SuRXn2Zb+K\nHQAAAtFJREFUhDsO/xGYiZPTe4FOlGNPGGMWA7+01q4yxhTTR16NMfcC3wA6gEestev7e0+/z7g/\nB6RZa5cCPwZ+7XM8yeLLwAl3PflPA7/Dye2D7rYQ8Fkf40sK7gHSkzgrBIaAx1COPWWMWQnc7I4R\nK4Eb0GfZa6uBMdba5cDPgJ+jHHvCGHM/8BTOCRT0MUYYYwqA7+IsF34b8AtjTFp/7+t34U6se26t\n3QpU+BtO0niBK3dnCwPtwE3W2vhiOa9w9RrzMnCP4qxr0OT+rRx7bzWwwxjzMrAO+BewQHn21EVg\nrDEmhLOE9WWUY6/sBe7CKdLQ9xixENhkrW231ra6rynt7039Ltw5XFn3HKDTnbaRIbDWnrfWnnPv\n1PYCzh3cuuf1HFevMS8DYIz5Gs6sxgZ3U4grX05Qjr0SBRYAXwC+CTyP8uy1TcB1wG6cGaTHUY49\nYa39B870d1z3vMbv9ZEDtPSx/SP5XSRbubLuOUDYWtvlVzDJxBgzBXgdeM5a+xecaypxfa0xLwNz\nN3CrMeYNnLX4n8UpMnHKsTeagQ3W2g5r7R7gEj0HNeV56O7HOeMzOJ/l53D6CeKUY+90H4dzcPLa\nuw5mA6f7exO/C3di3XNjzBKgzt9wkoMxJh/YANxvrV3rbn7fGFPlPu5rjXkZAGttlbV2pbV2FbAd\n+ArwqnLsuY04fRoYYwqBTOA15dlTY7gy83kap2lZ48Xw6Cuv7wCVxph0Y8xYYDZO49pH8rWrHHgJ\n56xlk/v33X4Gk0QexDkrecgYE7/W/X3gcbfpYRfwol/BJakY8EPgKeXYO9ba9caYFcaYd3BONL4N\nfIjy7KVHgT+5959IBR7A+aWEcuydeEf+VWOE21X+OFCD8xl/0Fp7ub8301rlIiIiAeL3VLmIiIgM\ngAq3iIhIgKhwi4iIBIgKt4iISICocIuIiASICreIiEiAqHCLiIgEyP8B4+c+MPU1rNEAAAAASUVO\nRK5CYII=\n",
       "text": [
        "<matplotlib.figure.Figure at 0x109da3d50>"
       ]
      }
     ],
     "prompt_number": 16
    },
    {
     "cell_type": "code",
     "collapsed": false,
     "input": [
      "a = FeatureSpace(featureList=['PeriodLS'],PeriodLS=mjd3)\n",
      "a=a.calculateFeature(data3)\n",
      "print a.result(method='array')/Period, a.result(method='array'), Period"
     ],
     "language": "python",
     "metadata": {},
     "outputs": [
      {
       "output_type": "stream",
       "stream": "stdout",
       "text": [
        "[ 0.99] [ 19.8] 20\n"
       ]
      }
     ],
     "prompt_number": 17
    },
    {
     "cell_type": "markdown",
     "metadata": {},
     "source": [
      "We can also confirm the validity of this result by folding the light curve as explained in [the introduction](#foldedLC)."
     ]
    },
    {
     "cell_type": "code",
     "collapsed": false,
     "input": [
      "T = 2 * a.result(method='array')\n",
      "new_b=np.mod(mjd3, T) / T;\n",
      "idx=np.argsort(2*new_b)\n",
      "plt.plot( new_b, data3,'b*')\n",
      "plt.gca().invert_yaxis()"
     ],
     "language": "python",
     "metadata": {},
     "outputs": [
      {
       "metadata": {},
       "output_type": "display_data",
       "png": "iVBORw0KGgoAAAANSUhEUgAAAewAAAFVCAYAAAAt79zdAAAABHNCSVQICAgIfAhkiAAAAAlwSFlz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\nS5KUAANbkqQEGNiSJCXg/wOj4klJXlwh6gAAAABJRU5ErkJggg==\n",
       "text": [
        "<matplotlib.figure.Figure at 0x10267b550>"
       ]
      }
     ],
     "prompt_number": 18
    },
    {
     "cell_type": "markdown",
     "metadata": {},
     "source": [
      "####  Period fit\n",
      " Returns the false alarm probability of the largest periodogram value. Let's test it for a normal distributed data and for a periodic one: \n"
     ]
    },
    {
     "cell_type": "code",
     "collapsed": false,
     "input": [
      "data2 = np.random.normal(size=1000)\n",
      "mjd2=np.arange(1000)\n",
      "a = FeatureSpace(featureList=['PeriodLS','Period_fit'], PeriodLS=mjd2)\n",
      "a=a.calculateFeature(data2)\n",
      "print \"Normal data:\", a.result(method='dict')\n",
      "\n",
      "a = FeatureSpace(featureList=['PeriodLS','Period_fit'], PeriodLS=mjd3)\n",
      "a=a.calculateFeature(data3)\n",
      "print \"Periodic data:\", a.result(method='dict')"
     ],
     "language": "python",
     "metadata": {},
     "outputs": [
      {
       "output_type": "stream",
       "stream": "stdout",
       "text": [
        "Normal data: {'Period_fit': 0.99999999961513941, 'PeriodLS': 2.5269814502529511}\n",
        "Periodic data:"
       ]
      },
      {
       "output_type": "stream",
       "stream": "stdout",
       "text": [
        " {'Period_fit': 1.3424890807317513e-12, 'PeriodLS': 19.800000000000001}\n"
       ]
      }
     ],
     "prompt_number": 19
    },
    {
     "cell_type": "markdown",
     "metadata": {},
     "source": [
      "####  Color B_R\n",
      "\n",
      "The color is defined as the difference between the average magnitude of the blue band and the red band observations. The value should be around cero."
     ]
    },
    {
     "cell_type": "code",
     "collapsed": false,
     "input": [
      "a = FeatureSpace(featureList=['B_R' ],B_R=second_data )\n",
      "a=a.calculateFeature(data)\n",
      "print a.result(method='dict')"
     ],
     "language": "python",
     "metadata": {},
     "outputs": [
      {
       "output_type": "stream",
       "stream": "stdout",
       "text": [
        "{'B_R': 0.20396976753857032}\n"
       ]
      }
     ],
     "prompt_number": 20
    },
    {
     "cell_type": "markdown",
     "metadata": {},
     "source": [
      "####  Stetson K, Stetson K_AC, Stetson J and Stetson L\n",
      "\n",
      "These three features are based on the Welch/Stetson variability index $I$ defined by the equation:\n",
      "$$ I = \\sqrt{\\frac{1}{n(n-1)}} \\sum_{i=1}^n {\\left( \\frac{b_i-\\hat{b}}{\\sigma_{b,i}}\\right) \\left( \\frac{v_i - \\hat{v}}{\\sigma_{v,i}} \\right)} $$\n",
      "\n",
      "where $b_i$ and $v_i$ are the apparent magnitudes obtained for the candidate star in two observations closely spaced in time on some occasion $i$, $\\sigma_{b,i}$ and $\\sigma_{v,i}$ are the standard errors of those magnitudes, $\\hat{b}$ and $\\hat{v}$ are the weighted mean magnitudes in the two filters, and $n$ is the number of observation pairs.\n",
      "\n",
      "Since a given frame pair may include data from two filters which did not have equal numbers of observations overall, the \"relative error\" is calculated as follows:\n",
      "\n",
      "$$ \\delta = \\sqrt{\\frac{n}{n-1}} \\frac{v-\\hat{v}}{\\sigma_v} $$\n",
      "\n",
      "allowing all residuals to be compared on an equal basis.\n",
      "\n",
      "- Stetson K\n",
      "\n",
      "Stetson K is a robust kurtosis measure:\n",
      "$$ \\frac{1/N \\sum_{i=1}^N |\\delta_i|}{\\sqrt{1/N \\sum_{i=1}^N \\delta_i^2}}$$\n",
      "\n",
      "where the index $i$ runs over all $N$ observations available for the star without regard to pairing. For a Gaussian magnitude distribution K should take a value close to $\\sqrt{2/\\pi} = 0.798$, let's test it:"
     ]
    },
    {
     "cell_type": "code",
     "collapsed": false,
     "input": [
      "data2 = np.random.normal(size=1000)\n",
      "a = FeatureSpace(featureList=['StetsonK' ] )\n",
      "a=a.calculateFeature(data2)\n",
      "print a.result(method='dict')"
     ],
     "language": "python",
     "metadata": {},
     "outputs": [
      {
       "output_type": "stream",
       "stream": "stdout",
       "text": [
        "{'StetsonK': 0.79181116249125483}\n"
       ]
      }
     ],
     "prompt_number": 21
    },
    {
     "cell_type": "markdown",
     "metadata": {},
     "source": [
      "- Stetson K_AC\n",
      "\n",
      "Stetson K applied to the autocorrelation function of the light curve."
     ]
    },
    {
     "cell_type": "code",
     "collapsed": false,
     "input": [
      "a = FeatureSpace(featureList=['StetsonK_AC' ] )\n",
      "a=a.calculateFeature(data2)\n",
      "print a.result(method='dict')"
     ],
     "language": "python",
     "metadata": {},
     "outputs": [
      {
       "output_type": "stream",
       "stream": "stdout",
       "text": [
        "{'StetsonK_AC': 1.1224569704895875}\n"
       ]
      }
     ],
     "prompt_number": 22
    },
    {
     "cell_type": "markdown",
     "metadata": {},
     "source": [
      "- Stetson J\n",
      "\n",
      "Stetson J is a robust version of the variability index. It is calculated based on two simultaneous light curves of a same star and is defined as:\n",
      "\n",
      "$$ J =  \\sum_{k=1}^n  sgn(P_k) \\sqrt{|P_k|}$$\n",
      "\n",
      "with $P_k = \\delta_{i_k} \\delta_{j_k} $\n",
      "\n",
      "For a Gaussian magnitude distribution, J should take a value close to zero:"
     ]
    },
    {
     "cell_type": "code",
     "collapsed": false,
     "input": [
      "data2 = np.random.normal(size=10000)\n",
      "data3 = np.random.normal(size=10000)\n",
      "a = FeatureSpace(featureList=['StetsonJ' ], StetsonJ=data3)\n",
      "a=a.calculateFeature(data2)\n",
      "print a.result(method='dict')"
     ],
     "language": "python",
     "metadata": {},
     "outputs": [
      {
       "output_type": "stream",
       "stream": "stdout",
       "text": [
        "{'StetsonJ': 0.0062268102750079142}\n"
       ]
      }
     ],
     "prompt_number": 23
    },
    {
     "cell_type": "markdown",
     "metadata": {},
     "source": [
      "- Stetson L\n",
      "\n",
      "Stetson L variability index describes the synchronous variability of different bands and is defined as:\n",
      "$$ L = \\frac{JK}{0.798} $$\n",
      "\n",
      "Again, for a Gaussian magnitude distribution, L should take a value close to zero:\n",
      "\n"
     ]
    },
    {
     "cell_type": "code",
     "collapsed": false,
     "input": [
      "data2 = np.random.normal(size=10000)\n",
      "data3 = np.random.normal(size=10000)\n",
      "a = FeatureSpace(featureList=['StetsonL' ], StetsonL=data3)\n",
      "a=a.calculateFeature(data2)\n",
      "print a.result(method='dict')"
     ],
     "language": "python",
     "metadata": {},
     "outputs": [
      {
       "output_type": "stream",
       "stream": "stdout",
       "text": [
        "{'StetsonL': -0.00082122231170401756}\n"
       ]
      }
     ],
     "prompt_number": 24
    },
    {
     "cell_type": "markdown",
     "metadata": {},
     "source": [
      "####  Variability index $\\eta$\n",
      "\n",
      "Variability index $\\eta$ is the ratio of the mean of the square of successive differences to the variance of data points. The index was originally proposed to check whether the successive data points are independent or not. In other words, the index was developed to check if any trends exist in the data (von Neumann 1941). It is defined as:\n",
      "$$\\eta=\\frac{1}{\\left(N-1 \\right)\\sigma^2}\\sum_{i=1}^{N-1} \\left( m_{i+1}-m_i \\right)^2 $$\n",
      "\n",
      "The variability index should take a value close to 2 for a normal distribution:"
     ]
    },
    {
     "cell_type": "code",
     "collapsed": false,
     "input": [
      "data2 = np.random.normal(size=10000)\n",
      "a = FeatureSpace(featureList=['VariabilityIndex' ] )\n",
      "a=a.calculateFeature(data2)\n",
      "print a.result(method='dict')"
     ],
     "language": "python",
     "metadata": {},
     "outputs": [
      {
       "output_type": "stream",
       "stream": "stdout",
       "text": [
        "{'VariabilityIndex': 2.0137657382656462}\n"
       ]
      }
     ],
     "prompt_number": 25
    },
    {
     "cell_type": "markdown",
     "metadata": {},
     "source": [
      "####  Variability index $\\eta^e$\n",
      "\n",
      "Although $\\eta$ is a poweful index for quantifying variability characteristics of a time series, it does not take into account unequal sampling. Thus $\\eta^e$ is defined as:\n",
      "\n",
      "$$ \\eta^e = \\bar{w} \\left( t_{N-1} - t_1 \\right)^2 \\frac{\\sum_{i=1}^{N-1} w_i \\left(m_{i+1} - m_i \\right)^2}{\\sigma^2 \\sum_{i=1}^{N-1} w_i} $$\n",
      "\n",
      "$$ w_i = \\frac{1}{\\left( t_{i+1} - t_i \\right)^2} $$"
     ]
    },
    {
     "cell_type": "code",
     "collapsed": false,
     "input": [
      "data2 = np.random.normal(size=10000)\n",
      "mjd2=np.arange(10000)\n",
      "a = FeatureSpace(featureList=['Eta_e' ], Eta_e = mjd2 )\n",
      "a=a.calculateFeature(data2)\n",
      "print a.result(method='dict')"
     ],
     "language": "python",
     "metadata": {},
     "outputs": [
      {
       "output_type": "stream",
       "stream": "stdout",
       "text": [
        "{'Eta_e': 1.9962638684299734}\n"
       ]
      }
     ],
     "prompt_number": 26
    },
    {
     "cell_type": "markdown",
     "metadata": {},
     "source": [
      "####  Small Kurtosis\n",
      "Small sample kurtosis of the magnitudes:\n",
      "$$ Kurtosis = \\frac{N \\left( N+1 \\right)}{\\left( N-1 \\right) \\left( N-2 \\right) \\left( N-3 \\right)} \\sum_{i=1}^N \\left( \\frac{m_i-\\hat{m}}{\\sigma} \\right)^4 - \\frac{3\\left( N-1 \\right)^2}{\\left( N-2 \\right) \\left( N-3 \\right)} $$\n",
      "\n",
      "For a normal distribution, the small kurtosis should be zero:"
     ]
    },
    {
     "cell_type": "code",
     "collapsed": false,
     "input": [
      "data2 = np.random.normal(size=10000)\n",
      "a = FeatureSpace(featureList=['SmallKurtosis' ] )\n",
      "a=a.calculateFeature(data2)\n",
      "print a.result(method='dict')"
     ],
     "language": "python",
     "metadata": {},
     "outputs": [
      {
       "output_type": "stream",
       "stream": "stdout",
       "text": [
        "{'SmallKurtosis': 0.077032669832612477}\n"
       ]
      }
     ],
     "prompt_number": 27
    },
    {
     "cell_type": "markdown",
     "metadata": {},
     "source": [
      "#### Skewness\n",
      "\n",
      "The skewness of a sample is defined as follow:\n",
      "$$ Skewness = \\frac{N}{\\left(N-1\\right)\\left(N-2\\right)} \\sum_{i=1}^N \\left( \\frac{m_i-\\hat{m}}{\\sigma}\\right)^3 $$\n",
      "\n",
      "For a normal distribution it should be equal to zero:"
     ]
    },
    {
     "cell_type": "code",
     "collapsed": false,
     "input": [
      "data2 = np.random.normal(size=10000)\n",
      "a = FeatureSpace(featureList=['Skew' ] )\n",
      "a=a.calculateFeature(data2)\n",
      "print a.result(method='dict')"
     ],
     "language": "python",
     "metadata": {},
     "outputs": [
      {
       "output_type": "stream",
       "stream": "stdout",
       "text": [
        "{'Skew': -0.015263184913179068}\n"
       ]
      }
     ],
     "prompt_number": 28
    },
    {
     "cell_type": "markdown",
     "metadata": {},
     "source": [
      "####  Median absolute deviation\n",
      "The median absolute deviation is defined as the median discrepancy of the data from the median data:\n",
      "$$Median Absolute Deviation = median\\left( |mag - median(mag)|\\right) $$\n",
      "It should take a value close to 0.675 for a normal distribution:"
     ]
    },
    {
     "cell_type": "code",
     "collapsed": false,
     "input": [
      "data2 = np.random.normal(size=10000)\n",
      "a = FeatureSpace(featureList=['MedianAbsDev' ] )\n",
      "a=a.calculateFeature(data2)\n",
      "print a.result(method='dict')"
     ],
     "language": "python",
     "metadata": {},
     "outputs": [
      {
       "output_type": "stream",
       "stream": "stdout",
       "text": [
        "{'MedianAbsDev': 0.6637373113274958}\n"
       ]
      }
     ],
     "prompt_number": 29
    },
    {
     "cell_type": "markdown",
     "metadata": {},
     "source": [
      "####  Amplitude\n",
      "The amplitude is defined as the half of the difference between the maximum and minimum magnitudes.\n",
      "For a sequence of numbers from 0 to 1000 the amplitude should be equal to 500:\n"
     ]
    },
    {
     "cell_type": "code",
     "collapsed": false,
     "input": [
      "data2 = range(1001)\n",
      "a = FeatureSpace(featureList=['Amplitude' ] )\n",
      "a=a.calculateFeature(data2)\n",
      "print a.result(method='dict')"
     ],
     "language": "python",
     "metadata": {},
     "outputs": [
      {
       "output_type": "stream",
       "stream": "stdout",
       "text": [
        "{'Amplitude': 500}\n"
       ]
      }
     ],
     "prompt_number": 30
    },
    {
     "cell_type": "markdown",
     "metadata": {},
     "source": [
      "####  Con\n",
      "Index introduced for the selection of variable stars from the OGLE database (Wozniak 2000). To calculate Con, we count the number of three consecutive data points that are brighter or fainter than $2\\sigma$ and normalize the number by $N-2$. \n",
      "\n",
      "For a normal distribution and by considering just one star, Con should take values close to 0.045:"
     ]
    },
    {
     "cell_type": "code",
     "collapsed": false,
     "input": [
      "data2 = np.random.normal(size=10000)\n",
      "a = FeatureSpace(featureList=['Con' ] , Con=1)\n",
      "a=a.calculateFeature(data2)\n",
      "print a.result(method='dict')"
     ],
     "language": "python",
     "metadata": {},
     "outputs": [
      {
       "output_type": "stream",
       "stream": "stdout",
       "text": [
        "{'Con': 0.045}\n"
       ]
      }
     ],
     "prompt_number": 31
    },
    {
     "cell_type": "markdown",
     "metadata": {},
     "source": [
      "####  Anderson-Darling test\n",
      "The Anderson-Darling test is a statistical test of whether a given sample of data is drawn from a given probability distribution. When applied to testing  if a normal distribution adequately describes a set of data, it is one of the most poweful statistical tools for detecting most departures from normality.\n",
      "\n",
      "For a normal distribution the Anderson-Darling statistic should take values close to 0.25:"
     ]
    },
    {
     "cell_type": "code",
     "collapsed": false,
     "input": [
      "b=[]\n",
      "for i in xrange(50):\n",
      "    data2 = np.random.normal(size=10000)\n",
      "    a = FeatureSpace(featureList=['AndersonDarling' ] )\n",
      "    a=a.calculateFeature(data2)\n",
      "    b.extend(a.result())\n",
      "    \n",
      "fig = plt.hist(b)"
     ],
     "language": "python",
     "metadata": {},
     "outputs": [
      {
       "metadata": {},
       "output_type": "display_data",
       "png": "iVBORw0KGgoAAAANSUhEUgAAAeMAAAFVCAYAAADc5IdQAAAABHNCSVQICAgIfAhkiAAAAAlwSFlz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\n",
       "text": [
        "<matplotlib.figure.Figure at 0x109a29190>"
       ]
      }
     ],
     "prompt_number": 32
    },
    {
     "cell_type": "markdown",
     "metadata": {},
     "source": [
      "####  Autocorrelation\n"
     ]
    },
    {
     "cell_type": "code",
     "collapsed": false,
     "input": [
      "data2 = np.random.normal(size=10000)\n",
      "a = FeatureSpace(featureList=['autocor'] )\n",
      "a=a.calculateFeature(data2)\n",
      "print a.result(method='dict')\n",
      "\n",
      "a = FeatureSpace(featureList=['autocor'] )\n",
      "a=a.calculateFeature(data3)\n",
      "print a.result(method='dict')"
     ],
     "language": "python",
     "metadata": {},
     "outputs": [
      {
       "output_type": "stream",
       "stream": "stdout",
       "text": [
        "{'autocor': 2}\n",
        "{'autocor': 2}\n"
       ]
      }
     ],
     "prompt_number": 33
    },
    {
     "cell_type": "markdown",
     "metadata": {},
     "source": [
      "####  Linear trend\n",
      "\n",
      "Slope of a linear fit to the light-curve. \n"
     ]
    },
    {
     "cell_type": "code",
     "collapsed": false,
     "input": [
      "data2 = np.random.normal(size=10000)\n",
      "mjd2=np.arange(10000)\n",
      "a = FeatureSpace(featureList=['LinearTrend'] ,LinearTrend = mjd2  )\n",
      "a=a.calculateFeature(data2)\n",
      "print a.result(method='dict')"
     ],
     "language": "python",
     "metadata": {},
     "outputs": [
      {
       "output_type": "stream",
       "stream": "stdout",
       "text": [
        "{'LinearTrend': -6.9491404661243439e-07}\n"
       ]
      }
     ],
     "prompt_number": 34
    },
    {
     "cell_type": "markdown",
     "metadata": {},
     "source": [
      "####  Max slope \n",
      "\n",
      "Maximum absolute magnitude slope between two consecutive observations\n"
     ]
    },
    {
     "cell_type": "code",
     "collapsed": false,
     "input": [
      "data2 = np.random.normal(size=10000)\n",
      "mjd2=np.arange(10000)\n",
      "a = FeatureSpace(featureList=['MaxSlope'] , MaxSlope = mjd2  )\n",
      "a=a.calculateFeature(data2)\n",
      "print a.result(method='dict')"
     ],
     "language": "python",
     "metadata": {},
     "outputs": [
      {
       "output_type": "stream",
       "stream": "stdout",
       "text": [
        "{'MaxSlope': 5.871198811036111}\n"
       ]
      }
     ],
     "prompt_number": 35
    },
    {
     "cell_type": "markdown",
     "metadata": {},
     "source": [
      "####  Beyond 1 std \n",
      "\n",
      "Percentage of points beyond one standard deviation from the weighted mean.\n",
      "\n",
      "For a normal distribution, it should take a value close to 0.32:"
     ]
    },
    {
     "cell_type": "code",
     "collapsed": false,
     "input": [
      "data2 = np.random.normal(size=10000)\n",
      "error2 = np.random.normal(loc=0.01, scale =0.01, size=10000)\n",
      "a = FeatureSpace(featureList=['Beyond1Std'] , Beyond1Std = error2 )\n",
      "a=a.calculateFeature(data2)\n",
      "print a.result(method='dict')"
     ],
     "language": "python",
     "metadata": {},
     "outputs": [
      {
       "output_type": "stream",
       "stream": "stdout",
       "text": [
        "{'Beyond1Std': 0.3242}\n"
       ]
      }
     ],
     "prompt_number": 36
    },
    {
     "cell_type": "markdown",
     "metadata": {},
     "source": [
      "####  Flux percentile ratio mid20, mid 35, mid 50, mid 65 and mid 80 \n",
      "\n",
      "In order to caracterize the sorted magnitudes distribution we use percentiles. If $F_{5,95}$ is the difference between $95\\%$ and $5\\%$ magnitude values, we calculate the following:\n",
      "- flux_percentile_ratio_mid20: ratio $F_{40,60}/F_{5,95}$ \n",
      "- flux_percentile_ratio_mid35: ratio $F_{32.5,67.5}/F_{5,95}$ \n",
      "- flux_percentile_ratio_mid50: ratio $F_{25,75}/F_{5,95}$\n",
      "- flux_percentile_ratio_mid65: ratio $F_{17.5,82.5}/F_{5,95}$ \n",
      "- flux_percentile_ratio_mid80: ratio $F_{10,90}/F_{5,95}$\n",
      "\n",
      "For the first feature for example, in the case of a normal distribution, this is equivalente to calculate $\\frac{erf^{-1}(2 \\cdot 0.6-1)-erf^{-1}(2 \\cdot 0.4-1)}{erf^{-1}(2 \\cdot 0.95-1)-erf^{-1}(2 \\cdot 0.05-1)}$. So, the expected values for each of the flux percentile features are:\n",
      "\n",
      "- flux_percentile_ratio_mid20 = 0.154\n",
      "- flux_percentile_ratio_mid35 = 0.275 \n",
      "- flux_percentile_ratio_mid50 = 0.410\n",
      "- flux_percentile_ratio_mid65 = 0.568\n",
      "- flux_percentile_ratio_mid80 = 0.779"
     ]
    },
    {
     "cell_type": "code",
     "collapsed": false,
     "input": [
      "data2 = np.random.normal(size=100000)\n",
      "a = FeatureSpace(featureList=['FluxPercentileRatioMid20','FluxPercentileRatioMid35','FluxPercentileRatioMid50','FluxPercentileRatioMid65','FluxPercentileRatioMid80'] )\n",
      "a=a.calculateFeature(data2)\n",
      "print a.result(method='dict')"
     ],
     "language": "python",
     "metadata": {},
     "outputs": [
      {
       "output_type": "stream",
       "stream": "stdout",
       "text": [
        "{'FluxPercentileRatioMid80': 0.78222392621827941, 'FluxPercentileRatioMid50': 0.41195302210508766, 'FluxPercentileRatioMid20': 0.15374229914850651, 'FluxPercentileRatioMid35': 0.27624963313863177, 'FluxPercentileRatioMid65': 0.57016115640336507}\n"
       ]
      }
     ],
     "prompt_number": 37
    },
    {
     "cell_type": "markdown",
     "metadata": {},
     "source": [
      "#### Range of a cumulative sum $R_{cs}$ \n",
      "\n",
      "$R_{cs}$ is the range of a cumulative sum (Ellaway 1978) of each light curve and is defined as:\n",
      "\n",
      "$$R_{cs} = max(S) - min(S)$$\n",
      "$$S_l = \\frac{1}{N \\sigma} \\sum_{i=1}^l \\left( m_i - \\bar{m} \\right) $$\n",
      "\n",
      "where max(min) is the maximum (minimum) value of S and $l=1,2, \\dots, N$. \n",
      "\n",
      "$R_{cs}$ should take a value close to zero for a normal distribution:"
     ]
    },
    {
     "cell_type": "code",
     "collapsed": false,
     "input": [
      "data2 = np.random.normal(size=10000)\n",
      "a = FeatureSpace(featureList=['Rcs'] )\n",
      "a=a.calculateFeature(data2)\n",
      "print a.result(method='dict')"
     ],
     "language": "python",
     "metadata": {},
     "outputs": [
      {
       "output_type": "stream",
       "stream": "stdout",
       "text": [
        "{'Rcs': 0.016603650867784904}\n"
       ]
      }
     ],
     "prompt_number": 38
    },
    {
     "cell_type": "markdown",
     "metadata": {},
     "source": [
      "#### Percent difference flux percentile WRONG\n"
     ]
    },
    {
     "cell_type": "code",
     "collapsed": false,
     "input": [
      "data2 = np.random.normal(size=10000)\n",
      "a = FeatureSpace(featureList=['PercentDifferenceFluxPercentile'] )\n",
      "a=a.calculateFeature(data2)\n",
      "print a.result(method='dict')"
     ],
     "language": "python",
     "metadata": {},
     "outputs": [
      {
       "output_type": "stream",
       "stream": "stdout",
       "text": [
        "{'PercentDifferenceFluxPercentile': 164.6880622062111}\n"
       ]
      }
     ],
     "prompt_number": 39
    },
    {
     "cell_type": "markdown",
     "metadata": {},
     "source": [
      "####   Mean variance $\\frac{\\sigma}{\\bar{m}}$ \n",
      "\n",
      "This is a simple variability index and is defined as the ratio of the standard deviation, $\\sigma$, to the mean magnitude, $\\bar{m}$. If a light curve has strong variability, $\\frac{\\sigma}{\\bar{m}}$ of the light curve is generally large.\n",
      "\n",
      "For a uniform distribution the mean-variance should take a value close to 0.577:"
     ]
    },
    {
     "cell_type": "code",
     "collapsed": false,
     "input": [
      "data2 = np.random.uniform(size=1000000)\n",
      "a = FeatureSpace(featureList=['meanvariance'] )\n",
      "a=a.calculateFeature(data2)\n",
      "print a.result(method='dict')"
     ],
     "language": "python",
     "metadata": {},
     "outputs": [
      {
       "output_type": "stream",
       "stream": "stdout",
       "text": [
        "{'meanvariance': 0.57695879312708742}\n"
       ]
      }
     ],
     "prompt_number": 40
    },
    {
     "cell_type": "markdown",
     "metadata": {},
     "source": [
      "####   Median buffer range percentage (MedianBRP)\n",
      "\n",
      "Fraction of photometric points within amplitude/10 of the median magnitude.\n"
     ]
    },
    {
     "cell_type": "code",
     "collapsed": false,
     "input": [
      "data2 = np.random.normal(size=1000000)\n",
      "a = FeatureSpace(featureList=['MedianBRP'] )\n",
      "a=a.calculateFeature(data2)\n",
      "print a.result(method='dict')"
     ],
     "language": "python",
     "metadata": {},
     "outputs": [
      {
       "output_type": "stream",
       "stream": "stdout",
       "text": [
        "{'MedianBRP': 0.645287}\n"
       ]
      }
     ],
     "prompt_number": 41
    },
    {
     "cell_type": "markdown",
     "metadata": {},
     "source": [
      "####   CAR features \n",
      "\n",
      "In order to model the irregular sampled times series we use CAR(1), a continious time auto regressive model. CAR(1) process has three parameters, it provides a natural and consistent way of estimating a characteristic time scale and variance of lightcurves. CAR(1) process is described by the following stochastic differential equation:\n",
      "\n",
      "$$ dX(t) = - \\frac{1}{\\tau} X(t)dt + \\sigma_C \\sqrt{dt} \\epsilon(t) + bdt, $$\n",
      "$$for \\: \\tau, \\sigma_C, t \\geq 0 $$\n",
      "\n",
      "where the mean value of the lightcurve $X(t)$ is $b\\tau$ and the variance is $\\frac{\\tau\\sigma_C^2}{2}$. $\\tau$ is the relaxation time of the process $X(T)$, it can be interpreted as describing the variability amplitude of the time series. $\\sigma_C$ can be interpreted as describing the variability of the time series on time scales shorter than $\\tau$. $\\epsilon(t)$ is a white noise process with zero mean and variance equal to one. The likelihood function of a CAR(1) model for a lightcurve with observations $x - \\{x_1, \\dots, x_n\\}$ observed at times $\\{t_1, \\dots, t_n\\}$ with measurements error variances $\\{\\delta_1^2, \\dots, \\delta_n^2\\}$ is:\n",
      "\n",
      "$$ p \\left( x|b,\\sigma_C,\\tau \\right) = \\prod_{i=1}^n \\frac{1}{[2 \\pi \\left( \\Omega_i + \\delta_i^2 \\right)]^{1/2}} exp \\{ -\\frac{1}{2} \\frac{\\left( \\hat{x}_i - x^*_i \\right)^2}{\\Omega_i + \\delta^2_i} \\} $$\n",
      "$$ x_i^* = x_i - b\\tau$$\n",
      "$$ \\hat{x}_0 = 0 $$\n",
      "$$ \\Omega_0 = \\frac{\\tau \\sigma^2_C}{2} $$\n",
      "$$ \\hat{x}_i = a_i\\hat{x}_{i-1} + \\frac{a_i \\Omega_{i-1}}{\\Omega_{i-1} + \\delta^2_{i-1}} \\left(x^*_{i-1} + \\hat{x}_{i-1} \\right) $$ \n",
      "$$ \\Omega_i = \\Omega_0 \\left( 1- a_i^2 \\right) + a_i^2 \\Omega_{i-1} \\left(1 - \\frac{\\Omega_{i-1}}{\\Omega_{i-1} + \\delta^2_{i-1}} \\right) $$\n",
      "$$ a_i = e^{-\\left(t_i-t_{i-1}\\right)/\\tau} $$\n",
      "\n",
      "To find the optimal parameters we maximize the likelihood with respect to $\\sigma_C$ and $\\tau$ and calculate $b$ as the mean magnitude of the lightcurve divided by $\\tau$.\n"
     ]
    },
    {
     "cell_type": "code",
     "collapsed": false,
     "input": [
      "data2 = np.random.normal(scale=3, size=10000)\n",
      "mjd2=np.arange(10000)\n",
      "error2 = np.random.normal(loc=0.01, scale =0.8, size=10000)\n",
      "a = FeatureSpace(featureList=['CAR_sigma', 'CAR_tau','CAR_tmean'] , CAR_sigma = [mjd2,error2] )\n",
      "a=a.calculateFeature(data2)\n",
      "print a.result(method='dict')"
     ],
     "language": "python",
     "metadata": {},
     "outputs": [
      {
       "output_type": "stream",
       "stream": "stdout",
       "text": [
        "{'CAR_sigma': 10.706252247722313, 'CAR_tmean': 0.1035150960748781, 'CAR_tau': 0.14649439800631872}\n"
       ]
      }
     ],
     "prompt_number": 42
    },
    {
     "cell_type": "code",
     "collapsed": false,
     "input": [
      "print np.var(data2), (15.95)**2 * 0.071/2"
     ],
     "language": "python",
     "metadata": {},
     "outputs": [
      {
       "output_type": "stream",
       "stream": "stdout",
       "text": [
        "8.89257857067 9.03128875\n"
       ]
      }
     ],
     "prompt_number": 43
    },
    {
     "cell_type": "code",
     "collapsed": false,
     "input": [
      "a = FeatureSpace(featureList=['CAR_sigma', 'CAR_tau','CAR_tmean'] , CAR_sigma = [mjd ,error] )\n",
      "a=a.calculateFeature(data)\n",
      "print a.result(method='dict')\n",
      "b = a.result(method='array')"
     ],
     "language": "python",
     "metadata": {},
     "outputs": [
      {
       "output_type": "stream",
       "stream": "stdout",
       "text": [
        "{'CAR_sigma': 0.013543431336667168, 'CAR_tmean': -0.003269252769445688, 'CAR_tau': 1282.7611738759078}\n"
       ]
      }
     ],
     "prompt_number": 44
    },
    {
     "cell_type": "markdown",
     "metadata": {},
     "source": [
      "####   Slotted Autocorrelation \n"
     ]
    },
    {
     "cell_type": "code",
     "collapsed": false,
     "input": [
      "data2 = np.random.normal(size=10000)\n",
      "mjd2=np.arange(10000)\n",
      "a = FeatureSpace(featureList=['SlottedA'] , SlottedA = mjd2)\n",
      "a=a.calculateFeature(data2)\n",
      "print a.result(method='dict')"
     ],
     "language": "python",
     "metadata": {},
     "outputs": [
      {
       "output_type": "stream",
       "stream": "stdout",
       "text": [
        "{'SlottedA': 8}\n"
       ]
      }
     ],
     "prompt_number": 45
    },
    {
     "cell_type": "code",
     "collapsed": false,
     "input": [],
     "language": "python",
     "metadata": {},
     "outputs": [],
     "prompt_number": 45
    }
   ],
   "metadata": {}
  }
 ]
}
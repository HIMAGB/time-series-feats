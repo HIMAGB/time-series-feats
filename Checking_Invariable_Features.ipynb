{
 "metadata": {
  "name": "",
  "signature": "sha256:b1ba1f5d56c0c91a219745d54fcb55f65a2b05f3bd1a528a99c22796647d637e"
 },
 "nbformat": 3,
 "nbformat_minor": 0,
 "worksheets": [
  {
   "cells": [
    {
     "cell_type": "code",
     "collapsed": false,
     "input": [
      "%matplotlib inline\n",
      "from Feature import FeatureSpace\n",
      "import numpy as np\n",
      "import matplotlib.pyplot as plt\n",
      "import seaborn as sns\n",
      "import statsmodels.graphics.tsaplots as tsaplots\n",
      "import pandas \n",
      "from import_lightcurve import LeerLC_MACHO\n",
      "from alignLC import Align_LC\n",
      "from PreprocessLC import Preprocess_LC\n",
      "from create_table import Table"
     ],
     "language": "python",
     "metadata": {},
     "outputs": [],
     "prompt_number": 1
    },
    {
     "cell_type": "code",
     "collapsed": false,
     "input": [
      "%load_ext autoreload\n",
      "%autoreload 2\n",
      "\n",
      "from IPython.display import Image\n",
      "\n",
      "%reload_ext autoreload"
     ],
     "language": "python",
     "metadata": {},
     "outputs": [],
     "prompt_number": 2
    },
    {
     "cell_type": "code",
     "collapsed": false,
     "input": [
      "lc_B = LeerLC_MACHO('lc_1.3444.614.B.mjd')  #58.6272.729 1.3444.614 1.4652.1527\n",
      "lc_R = LeerLC_MACHO('lc_1.3444.614.R.mjd')\n",
      "\n",
      "[data, mjd, error] = lc_B.leerLC()\n",
      "[data2, mjd2, error2] = lc_R.leerLC()\n",
      "\n",
      "#We preprocess the data\n",
      "preproccesed_data = Preprocess_LC(data, mjd, error)\n",
      "[data, mjd, error] = preproccesed_data.Preprocess()\n",
      "\n",
      "preproccesed_data = Preprocess_LC(data2, mjd2, error2)\n",
      "[second_data, mjd2, error2] = preproccesed_data.Preprocess()\n",
      "\n",
      "#We synchronize the data\n",
      "if len(data) != len(second_data):\n",
      "    [aligned_data, aligned_second_data] = Align_LC(mjd, mjd2, data, second_data, error, error2)"
     ],
     "language": "python",
     "metadata": {},
     "outputs": [],
     "prompt_number": 3
    },
    {
     "cell_type": "code",
     "collapsed": false,
     "input": [
      "def Shuffle(data, error, mjd, second_data, aligned_data, aligned_second_data):\n",
      "\n",
      "    N = len(data)\n",
      "    shuffle = np.arange(0, N)\n",
      "    index = np.random.permutation(shuffle)\n",
      "    index = np.sort(index[0:N/2])\n",
      "    \n",
      "    data_test = data[index]\n",
      "    mjd_test = mjd[index]\n",
      "    error_test = error[index]\n",
      "\n",
      "    N2 = len(second_data)\n",
      "    shuffle2 = np.arange(0, N2)\n",
      "    index2 = np.random.permutation(shuffle2)\n",
      "    index2 = np.sort(index2[0:N2/2])\n",
      "\n",
      "    second_data_test = second_data[index2]\n",
      "\n",
      "    N3 = len(aligned_data)\n",
      "    shuffle3 = np.arange(0, N3)\n",
      "    index3 = np.random.permutation(shuffle3)\n",
      "    index3 = np.sort(index3[0:N3/2])\n",
      "\n",
      "    aligned_data_test = aligned_data[index3]\n",
      "    aligned_second_data_test = aligned_second_data[index3]\n",
      "    \n",
      "    return data_test, mjd_test, error_test, second_data_test, aligned_data_test, aligned_second_data_test"
     ],
     "language": "python",
     "metadata": {},
     "outputs": [],
     "prompt_number": 4
    },
    {
     "cell_type": "heading",
     "level": 3,
     "metadata": {},
     "source": [
      "Sampled light curve"
     ]
    },
    {
     "cell_type": "code",
     "collapsed": false,
     "input": [
      "features_value=[]\n",
      "for i in xrange(50):\n",
      "    [data_test, mjd_test, error_test, second_data_test, aligned_data_test, aligned_second_data_test] = Shuffle(data, error, mjd, second_data, aligned_data, aligned_second_data)\n",
      "    print i\n",
      "    a = FeatureSpace(category='all',featureList=None, automean=[0,0], StetsonL=[aligned_second_data_test, aligned_data_test] ,  StetsonK_AC=mjd_test, B_R=second_data_test, Beyond1Std=error_test, StetsonJ=[aligned_second_data_test, aligned_data_test], MaxSlope=mjd_test, LinearTrend=mjd_test, Eta_B_R=[aligned_second_data_test, aligned_data_test], Eta_e=mjd_test, Q31B_R=[aligned_second_data_test, aligned_data_test], PeriodLS=mjd_test, CAR_sigma=[mjd_test, error_test], SlottedA = mjd_test)\n",
      "    a=a.calculateFeature(data_test)\n",
      "    features_value.append(a.result(method='array'))"
     ],
     "language": "python",
     "metadata": {},
     "outputs": [
      {
       "output_type": "stream",
       "stream": "stdout",
       "text": [
        "0\n",
        "1"
       ]
      },
      {
       "output_type": "stream",
       "stream": "stdout",
       "text": [
        "\n",
        "2"
       ]
      },
      {
       "output_type": "stream",
       "stream": "stdout",
       "text": [
        "\n",
        "3"
       ]
      },
      {
       "output_type": "stream",
       "stream": "stdout",
       "text": [
        "\n",
        "4"
       ]
      },
      {
       "output_type": "stream",
       "stream": "stdout",
       "text": [
        "\n",
        "5"
       ]
      },
      {
       "output_type": "stream",
       "stream": "stdout",
       "text": [
        "\n",
        "6"
       ]
      },
      {
       "output_type": "stream",
       "stream": "stdout",
       "text": [
        "\n",
        "7"
       ]
      },
      {
       "output_type": "stream",
       "stream": "stdout",
       "text": [
        "\n",
        "8"
       ]
      },
      {
       "output_type": "stream",
       "stream": "stdout",
       "text": [
        "\n",
        "9"
       ]
      },
      {
       "output_type": "stream",
       "stream": "stdout",
       "text": [
        "\n",
        "10"
       ]
      },
      {
       "output_type": "stream",
       "stream": "stdout",
       "text": [
        "\n",
        "11"
       ]
      },
      {
       "output_type": "stream",
       "stream": "stdout",
       "text": [
        "\n",
        "12"
       ]
      },
      {
       "output_type": "stream",
       "stream": "stdout",
       "text": [
        "\n",
        "13"
       ]
      },
      {
       "output_type": "stream",
       "stream": "stdout",
       "text": [
        "\n",
        "14"
       ]
      },
      {
       "output_type": "stream",
       "stream": "stdout",
       "text": [
        "\n",
        "15"
       ]
      },
      {
       "output_type": "stream",
       "stream": "stdout",
       "text": [
        "\n",
        "16"
       ]
      },
      {
       "output_type": "stream",
       "stream": "stdout",
       "text": [
        "\n",
        "17"
       ]
      },
      {
       "output_type": "stream",
       "stream": "stdout",
       "text": [
        "\n",
        "18"
       ]
      },
      {
       "output_type": "stream",
       "stream": "stdout",
       "text": [
        "\n",
        "19"
       ]
      },
      {
       "output_type": "stream",
       "stream": "stdout",
       "text": [
        "\n",
        "20"
       ]
      },
      {
       "output_type": "stream",
       "stream": "stdout",
       "text": [
        "\n",
        "21"
       ]
      },
      {
       "output_type": "stream",
       "stream": "stdout",
       "text": [
        "\n",
        "22"
       ]
      },
      {
       "output_type": "stream",
       "stream": "stdout",
       "text": [
        "\n",
        "23"
       ]
      },
      {
       "output_type": "stream",
       "stream": "stdout",
       "text": [
        "\n",
        "24"
       ]
      },
      {
       "output_type": "stream",
       "stream": "stdout",
       "text": [
        "\n",
        "25"
       ]
      },
      {
       "output_type": "stream",
       "stream": "stdout",
       "text": [
        "\n",
        "26"
       ]
      },
      {
       "output_type": "stream",
       "stream": "stdout",
       "text": [
        "\n",
        "27"
       ]
      },
      {
       "output_type": "stream",
       "stream": "stdout",
       "text": [
        "\n",
        "28"
       ]
      },
      {
       "output_type": "stream",
       "stream": "stdout",
       "text": [
        "\n",
        "29"
       ]
      },
      {
       "output_type": "stream",
       "stream": "stdout",
       "text": [
        "\n",
        "30"
       ]
      },
      {
       "output_type": "stream",
       "stream": "stdout",
       "text": [
        "\n",
        "31"
       ]
      },
      {
       "output_type": "stream",
       "stream": "stdout",
       "text": [
        "\n",
        "32"
       ]
      },
      {
       "output_type": "stream",
       "stream": "stdout",
       "text": [
        "\n",
        "33"
       ]
      },
      {
       "output_type": "stream",
       "stream": "stdout",
       "text": [
        "\n",
        "34"
       ]
      },
      {
       "output_type": "stream",
       "stream": "stdout",
       "text": [
        "\n",
        "35"
       ]
      },
      {
       "output_type": "stream",
       "stream": "stdout",
       "text": [
        "\n",
        "36"
       ]
      },
      {
       "output_type": "stream",
       "stream": "stdout",
       "text": [
        "\n",
        "37"
       ]
      },
      {
       "output_type": "stream",
       "stream": "stdout",
       "text": [
        "\n",
        "38"
       ]
      },
      {
       "output_type": "stream",
       "stream": "stdout",
       "text": [
        "\n",
        "39"
       ]
      },
      {
       "output_type": "stream",
       "stream": "stdout",
       "text": [
        "\n",
        "40"
       ]
      },
      {
       "output_type": "stream",
       "stream": "stdout",
       "text": [
        "\n",
        "41"
       ]
      },
      {
       "output_type": "stream",
       "stream": "stdout",
       "text": [
        "\n",
        "42"
       ]
      },
      {
       "output_type": "stream",
       "stream": "stdout",
       "text": [
        "\n",
        "43"
       ]
      },
      {
       "output_type": "stream",
       "stream": "stdout",
       "text": [
        "\n",
        "44"
       ]
      },
      {
       "output_type": "stream",
       "stream": "stdout",
       "text": [
        "\n",
        "45"
       ]
      },
      {
       "output_type": "stream",
       "stream": "stdout",
       "text": [
        "\n",
        "46"
       ]
      },
      {
       "output_type": "stream",
       "stream": "stdout",
       "text": [
        "\n",
        "47"
       ]
      },
      {
       "output_type": "stream",
       "stream": "stdout",
       "text": [
        "\n",
        "48"
       ]
      },
      {
       "output_type": "stream",
       "stream": "stdout",
       "text": [
        "\n",
        "49"
       ]
      },
      {
       "output_type": "stream",
       "stream": "stdout",
       "text": [
        "\n"
       ]
      },
      {
       "output_type": "stream",
       "stream": "stderr",
       "text": [
        "/Users/isadoranun/anaconda/lib/python2.7/site-packages/scipy/optimize/_minimize.py:369: RuntimeWarning: Method nelder-mead cannot handle constraints nor bounds.\n",
        "  RuntimeWarning)\n"
       ]
      }
     ],
     "prompt_number": 5
    },
    {
     "cell_type": "code",
     "collapsed": false,
     "input": [
      "features_value2 = np.asarray(features_value)\n",
      "means=[]\n",
      "stds=[]\n",
      "for i in xrange(39):\n",
      "    means.append(np.mean(features_value2[:,i]))\n",
      "    stds.append(np.std(features_value2[:,i]))"
     ],
     "language": "python",
     "metadata": {},
     "outputs": [],
     "prompt_number": 6
    },
    {
     "cell_type": "heading",
     "level": 3,
     "metadata": {},
     "source": [
      "Original light-curve"
     ]
    },
    {
     "cell_type": "code",
     "collapsed": false,
     "input": [
      "a2 = FeatureSpace(category='all',featureList=None, automean=[0,0], StetsonL=[aligned_second_data, aligned_data] , StetsonK_AC=mjd, B_R=second_data, Beyond1Std=error, StetsonJ=[aligned_second_data, aligned_data], MaxSlope=mjd, LinearTrend=mjd, Eta_B_R=[aligned_second_data, aligned_data], Eta_e=mjd, Q31B_R=[aligned_second_data, aligned_data], PeriodLS=mjd, CAR_sigma=[mjd, error], SlottedA = mjd)\n",
      "a2 =a2.calculateFeature(data)\n",
      "\n",
      "Table(a2)"
     ],
     "language": "python",
     "metadata": {},
     "outputs": [
      {
       "html": [
        "<table border=\"1\" cellpadding=\"3\" cellspacing=\"0\"  style=\"border:1px solid black;border-collapse:collapse;\"><tr><td  style=\"background-color:LightGray;\"><b>Feature</b></td><td  style=\"background-color:LightGray;\"><b>Value</b></td></tr><tr><td  style=\"background-color:Ivory;\">Amplitude</td><td  style=\"background-color:Ivory;\">0.266</td></tr><tr><td  style=\"background-color:AliceBlue;\">AndersonDarling</td><td  style=\"background-color:AliceBlue;\">1.000</td></tr><tr><td  style=\"background-color:Ivory;\">B_R</td><td  style=\"background-color:Ivory;\">-0.333</td></tr><tr><td  style=\"background-color:AliceBlue;\">Beyond1Std</td><td  style=\"background-color:AliceBlue;\">0.223</td></tr><tr><td  style=\"background-color:Ivory;\">Bmean</td><td  style=\"background-color:Ivory;\">-5.918</td></tr><tr><td  style=\"background-color:AliceBlue;\">CAR_sigma</td><td  style=\"background-color:AliceBlue;\">-0.219</td></tr><tr><td  style=\"background-color:Ivory;\">CAR_tau</td><td  style=\"background-color:Ivory;\">0.641</td></tr><tr><td  style=\"background-color:AliceBlue;\">CAR_tmean</td><td  style=\"background-color:AliceBlue;\">-9.231</td></tr><tr><td  style=\"background-color:Ivory;\">Con</td><td  style=\"background-color:Ivory;\">0.000</td></tr><tr><td  style=\"background-color:AliceBlue;\">Eta_B_R</td><td  style=\"background-color:AliceBlue;\">2.044</td></tr><tr><td  style=\"background-color:Ivory;\">Eta_e</td><td  style=\"background-color:Ivory;\">905.636</td></tr><tr><td  style=\"background-color:AliceBlue;\">FluxPercentileRatioMid20</td><td  style=\"background-color:AliceBlue;\">0.089</td></tr><tr><td  style=\"background-color:Ivory;\">FluxPercentileRatioMid35</td><td  style=\"background-color:Ivory;\">0.179</td></tr><tr><td  style=\"background-color:AliceBlue;\">FluxPercentileRatioMid50</td><td  style=\"background-color:AliceBlue;\">0.315</td></tr><tr><td  style=\"background-color:Ivory;\">FluxPercentileRatioMid65</td><td  style=\"background-color:Ivory;\">0.522</td></tr><tr><td  style=\"background-color:AliceBlue;\">FluxPercentileRatioMid80</td><td  style=\"background-color:AliceBlue;\">0.801</td></tr><tr><td  style=\"background-color:Ivory;\">LinearTrend</td><td  style=\"background-color:Ivory;\">0.000</td></tr><tr><td  style=\"background-color:AliceBlue;\">MaxSlope</td><td  style=\"background-color:AliceBlue;\">54.725</td></tr><tr><td  style=\"background-color:Ivory;\">MedianAbsDev</td><td  style=\"background-color:Ivory;\">0.054</td></tr><tr><td  style=\"background-color:AliceBlue;\">MedianBRP</td><td  style=\"background-color:AliceBlue;\">0.745</td></tr><tr><td  style=\"background-color:Ivory;\">PairSlopeTrend</td><td  style=\"background-color:Ivory;\">0.033</td></tr><tr><td  style=\"background-color:AliceBlue;\">PercentAmplitude</td><td  style=\"background-color:AliceBlue;\">-0.113</td></tr><tr><td  style=\"background-color:Ivory;\">PercentDifferenceFluxPercentile</td><td  style=\"background-color:Ivory;\">-0.075</td></tr><tr><td  style=\"background-color:AliceBlue;\">PeriodLS</td><td  style=\"background-color:AliceBlue;\">0.937</td></tr><tr><td  style=\"background-color:Ivory;\">Period_fit</td><td  style=\"background-color:Ivory;\">0.000</td></tr><tr><td  style=\"background-color:AliceBlue;\">Q31</td><td  style=\"background-color:AliceBlue;\">0.141</td></tr><tr><td  style=\"background-color:Ivory;\">Q31B_R</td><td  style=\"background-color:Ivory;\">0.106</td></tr><tr><td  style=\"background-color:AliceBlue;\">Rcs</td><td  style=\"background-color:AliceBlue;\">41.766</td></tr><tr><td  style=\"background-color:Ivory;\">Skew</td><td  style=\"background-color:Ivory;\">0.956</td></tr><tr><td  style=\"background-color:AliceBlue;\">SlottedA</td><td  style=\"background-color:AliceBlue;\">8.000</td></tr><tr><td  style=\"background-color:Ivory;\">SmallKurtosis</td><td  style=\"background-color:Ivory;\">1.379</td></tr><tr><td  style=\"background-color:AliceBlue;\">Std</td><td  style=\"background-color:AliceBlue;\">0.142</td></tr><tr><td  style=\"background-color:Ivory;\">StetsonJ</td><td  style=\"background-color:Ivory;\">0.554</td></tr><tr><td  style=\"background-color:AliceBlue;\">StetsonK</td><td  style=\"background-color:AliceBlue;\">0.761</td></tr><tr><td  style=\"background-color:Ivory;\">StetsonK_AC</td><td  style=\"background-color:Ivory;\">0.842</td></tr><tr><td  style=\"background-color:AliceBlue;\">StetsonL</td><td  style=\"background-color:AliceBlue;\">0.322</td></tr><tr><td  style=\"background-color:Ivory;\">autocor</td><td  style=\"background-color:Ivory;\">2.000</td></tr><tr><td  style=\"background-color:AliceBlue;\">automean</td><td  style=\"background-color:AliceBlue;\">-5.918</td></tr><tr><td  style=\"background-color:Ivory;\">meanvariance</td><td  style=\"background-color:Ivory;\">-0.024</td></tr></table>"
       ],
       "metadata": {},
       "output_type": "pyout",
       "prompt_number": 7,
       "text": [
        "<ipy_table.IpyTable at 0x109a03310>"
       ]
      }
     ],
     "prompt_number": 7
    },
    {
     "cell_type": "heading",
     "level": 3,
     "metadata": {},
     "source": [
      "Percentage difference"
     ]
    },
    {
     "cell_type": "code",
     "collapsed": false,
     "input": [
      "b = np.divide(np.abs((means - a2.result(method='array'))), stds) \n",
      "from ipy_table import *\n",
      "\n",
      "FeaturesList = [('Feature','Value')]\n",
      "\n",
      "for i in xrange(len(b)):\n",
      "\n",
      "    FeaturesList.append((a.result(method= 'features')[i], b[i]))\n",
      "\n",
      "make_table(FeaturesList)\n",
      "apply_theme('basic')\n",
      "set_global_style(float_format='%0.3f')"
     ],
     "language": "python",
     "metadata": {},
     "outputs": [
      {
       "html": [
        "<table border=\"1\" cellpadding=\"3\" cellspacing=\"0\"  style=\"border:1px solid black;border-collapse:collapse;\"><tr><td  style=\"background-color:LightGray;\"><b>Feature</b></td><td  style=\"background-color:LightGray;\"><b>Value</b></td></tr><tr><td  style=\"background-color:Ivory;\">Amplitude</td><td  style=\"background-color:Ivory;\">0.343</td></tr><tr><td  style=\"background-color:AliceBlue;\">AndersonDarling</td><td  style=\"background-color:AliceBlue;\">nan</td></tr><tr><td  style=\"background-color:Ivory;\">B_R</td><td  style=\"background-color:Ivory;\">0.330</td></tr><tr><td  style=\"background-color:AliceBlue;\">Beyond1Std</td><td  style=\"background-color:AliceBlue;\">0.056</td></tr><tr><td  style=\"background-color:Ivory;\">Bmean</td><td  style=\"background-color:Ivory;\">0.299</td></tr><tr><td  style=\"background-color:AliceBlue;\">CAR_sigma</td><td  style=\"background-color:AliceBlue;\">0.353</td></tr><tr><td  style=\"background-color:Ivory;\">CAR_tau</td><td  style=\"background-color:Ivory;\">0.098</td></tr><tr><td  style=\"background-color:AliceBlue;\">CAR_tmean</td><td  style=\"background-color:AliceBlue;\">0.278</td></tr><tr><td  style=\"background-color:Ivory;\">Con</td><td  style=\"background-color:Ivory;\">0.495</td></tr><tr><td  style=\"background-color:AliceBlue;\">Eta_B_R</td><td  style=\"background-color:AliceBlue;\">0.450</td></tr><tr><td  style=\"background-color:Ivory;\">Eta_e</td><td  style=\"background-color:Ivory;\">0.441</td></tr><tr><td  style=\"background-color:AliceBlue;\">FluxPercentileRatioMid20</td><td  style=\"background-color:AliceBlue;\">0.787</td></tr><tr><td  style=\"background-color:Ivory;\">FluxPercentileRatioMid35</td><td  style=\"background-color:Ivory;\">0.236</td></tr><tr><td  style=\"background-color:AliceBlue;\">FluxPercentileRatioMid50</td><td  style=\"background-color:AliceBlue;\">0.353</td></tr><tr><td  style=\"background-color:Ivory;\">FluxPercentileRatioMid65</td><td  style=\"background-color:Ivory;\">0.052</td></tr><tr><td  style=\"background-color:AliceBlue;\">FluxPercentileRatioMid80</td><td  style=\"background-color:AliceBlue;\">0.067</td></tr><tr><td  style=\"background-color:Ivory;\">LinearTrend</td><td  style=\"background-color:Ivory;\">0.132</td></tr><tr><td  style=\"background-color:AliceBlue;\">MaxSlope</td><td  style=\"background-color:AliceBlue;\">1.675</td></tr><tr><td  style=\"background-color:Ivory;\">MedianAbsDev</td><td  style=\"background-color:Ivory;\">0.242</td></tr><tr><td  style=\"background-color:AliceBlue;\">MedianBRP</td><td  style=\"background-color:AliceBlue;\">1.219</td></tr><tr><td  style=\"background-color:Ivory;\">PairSlopeTrend</td><td  style=\"background-color:Ivory;\">0.519</td></tr><tr><td  style=\"background-color:AliceBlue;\">PercentAmplitude</td><td  style=\"background-color:AliceBlue;\">0.954</td></tr><tr><td  style=\"background-color:Ivory;\">PercentDifferenceFluxPercentile</td><td  style=\"background-color:Ivory;\">0.352</td></tr><tr><td  style=\"background-color:AliceBlue;\">PeriodLS</td><td  style=\"background-color:AliceBlue;\">0.009</td></tr><tr><td  style=\"background-color:Ivory;\">Period_fit</td><td  style=\"background-color:Ivory;\">0.213</td></tr><tr><td  style=\"background-color:AliceBlue;\">Q31</td><td  style=\"background-color:AliceBlue;\">0.467</td></tr><tr><td  style=\"background-color:Ivory;\">Q31B_R</td><td  style=\"background-color:Ivory;\">0.222</td></tr><tr><td  style=\"background-color:AliceBlue;\">Rcs</td><td  style=\"background-color:AliceBlue;\">0.187</td></tr><tr><td  style=\"background-color:Ivory;\">Skew</td><td  style=\"background-color:Ivory;\">0.049</td></tr><tr><td  style=\"background-color:AliceBlue;\">SlottedA</td><td  style=\"background-color:AliceBlue;\">nan</td></tr><tr><td  style=\"background-color:Ivory;\">SmallKurtosis</td><td  style=\"background-color:Ivory;\">0.293</td></tr><tr><td  style=\"background-color:AliceBlue;\">Std</td><td  style=\"background-color:AliceBlue;\">0.178</td></tr><tr><td  style=\"background-color:Ivory;\">StetsonJ</td><td  style=\"background-color:Ivory;\">0.263</td></tr><tr><td  style=\"background-color:AliceBlue;\">StetsonK</td><td  style=\"background-color:AliceBlue;\">0.375</td></tr><tr><td  style=\"background-color:Ivory;\">StetsonK_AC</td><td  style=\"background-color:Ivory;\">2.049</td></tr><tr><td  style=\"background-color:AliceBlue;\">StetsonL</td><td  style=\"background-color:AliceBlue;\">0.152</td></tr><tr><td  style=\"background-color:Ivory;\">autocor</td><td  style=\"background-color:Ivory;\">nan</td></tr><tr><td  style=\"background-color:AliceBlue;\">automean</td><td  style=\"background-color:AliceBlue;\">0.299</td></tr><tr><td  style=\"background-color:Ivory;\">meanvariance</td><td  style=\"background-color:Ivory;\">0.183</td></tr></table>"
       ],
       "metadata": {},
       "output_type": "pyout",
       "prompt_number": 8,
       "text": [
        "<ipy_table.IpyTable at 0x109a03390>"
       ]
      }
     ],
     "prompt_number": 8
    },
    {
     "cell_type": "code",
     "collapsed": false,
     "input": [
      "meansa=np.asarray(means)\n",
      "stdsa = np.asarray(stds)\n",
      "for i in xrange(39):\n",
      "    print  100*stdsa[i]/means[i], a2.result(method= 'features')[i]  #, meansa[i], stdsa[i]"
     ],
     "language": "python",
     "metadata": {},
     "outputs": [
      {
       "output_type": "stream",
       "stream": "stdout",
       "text": [
        "2.5451556097 Amplitude\n",
        "0.0 AndersonDarling\n",
        "-2.21172930942 B_R\n",
        "3.47080285751 Beyond1Std\n",
        "-0.0714746549563 Bmean\n",
        "-80.5386093346 CAR_sigma\n",
        "60.7908281872 CAR_tau\n",
        "-252.958426151 CAR_tmean\n",
        "201.943680268 Con\n",
        "4.78982313126 Eta_B_R\n",
        "117.983069445 Eta_e\n",
        "6.8546974625 FluxPercentileRatioMid20\n",
        "6.88707593468 FluxPercentileRatioMid35\n",
        "6.02863084917 FluxPercentileRatioMid50\n",
        "4.59222697023 FluxPercentileRatioMid65\n",
        "2.3443006878 FluxPercentileRatioMid80\n",
        "77.083077559 LinearTrend\n",
        "91.993111729 MaxSlope\n",
        "5.83420976709 MedianAbsDev\n",
        "5.12369048743 MedianBRP\n",
        "-562.959214263 PairSlopeTrend\n",
        "-11.2906258146 PercentAmplitude\n",
        "-2.67718693916 PercentDifferenceFluxPercentile\n",
        "0.00123722557888 PeriodLS\n",
        "469.881881116 Period_fit\n",
        "6.47369828102 Q31\n",
        "5.29082241561 Q31B_R\n",
        "2.7557067118 Rcs\n",
        "11.6675624562 Skew\n",
        "0.0 SlottedA\n",
        "31.8425093594 SmallKurtosis\n",
        "2.69879931765 Std\n",
        "4.40875162236 StetsonJ\n",
        "1.51087940527 StetsonK\n",
        "2.51237954744 StetsonK_AC\n",
        "8.41884639496 StetsonL\n",
        "0.0 autocor\n",
        "-0.0714746549563 automean\n",
        "-2.74364455263 meanvariance\n"
       ]
      },
      {
       "ename": "IndexError",
       "evalue": "index 39 is out of bounds for axis 0 with size 39",
       "output_type": "pyerr",
       "traceback": [
        "\u001b[0;31m---------------------------------------------------------------------------\u001b[0m\n\u001b[0;31mIndexError\u001b[0m                                Traceback (most recent call last)",
        "\u001b[0;32m<ipython-input-12-7d15d49c72b9>\u001b[0m in \u001b[0;36m<module>\u001b[0;34m()\u001b[0m\n\u001b[1;32m      2\u001b[0m \u001b[0mstdsa\u001b[0m \u001b[0;34m=\u001b[0m \u001b[0mnp\u001b[0m\u001b[0;34m.\u001b[0m\u001b[0masarray\u001b[0m\u001b[0;34m(\u001b[0m\u001b[0mstds\u001b[0m\u001b[0;34m)\u001b[0m\u001b[0;34m\u001b[0m\u001b[0m\n\u001b[1;32m      3\u001b[0m \u001b[0;32mfor\u001b[0m \u001b[0mi\u001b[0m \u001b[0;32min\u001b[0m \u001b[0mxrange\u001b[0m\u001b[0;34m(\u001b[0m\u001b[0;36m40\u001b[0m\u001b[0;34m)\u001b[0m\u001b[0;34m:\u001b[0m\u001b[0;34m\u001b[0m\u001b[0m\n\u001b[0;32m----> 4\u001b[0;31m     \u001b[0;32mprint\u001b[0m  \u001b[0;36m100\u001b[0m\u001b[0;34m*\u001b[0m\u001b[0mstdsa\u001b[0m\u001b[0;34m[\u001b[0m\u001b[0mi\u001b[0m\u001b[0;34m]\u001b[0m\u001b[0;34m/\u001b[0m\u001b[0mmeans\u001b[0m\u001b[0;34m[\u001b[0m\u001b[0mi\u001b[0m\u001b[0;34m]\u001b[0m\u001b[0;34m,\u001b[0m \u001b[0ma2\u001b[0m\u001b[0;34m.\u001b[0m\u001b[0mresult\u001b[0m\u001b[0;34m(\u001b[0m\u001b[0mmethod\u001b[0m\u001b[0;34m=\u001b[0m \u001b[0;34m'features'\u001b[0m\u001b[0;34m)\u001b[0m\u001b[0;34m[\u001b[0m\u001b[0mi\u001b[0m\u001b[0;34m]\u001b[0m  \u001b[0;31m#, meansa[i], stdsa[i]\u001b[0m\u001b[0;34m\u001b[0m\u001b[0m\n\u001b[0m",
        "\u001b[0;31mIndexError\u001b[0m: index 39 is out of bounds for axis 0 with size 39"
       ]
      }
     ],
     "prompt_number": 12
    },
    {
     "cell_type": "code",
     "collapsed": false,
     "input": [
      "means[34]"
     ],
     "language": "python",
     "metadata": {},
     "outputs": [
      {
       "metadata": {},
       "output_type": "pyout",
       "prompt_number": 19,
       "text": [
        "0.80117655875614557"
       ]
      }
     ],
     "prompt_number": 19
    },
    {
     "cell_type": "code",
     "collapsed": false,
     "input": [
      "stds[34]"
     ],
     "language": "python",
     "metadata": {},
     "outputs": [
      {
       "metadata": {},
       "output_type": "pyout",
       "prompt_number": 18,
       "text": [
        "0.020128596001087774"
       ]
      }
     ],
     "prompt_number": 18
    },
    {
     "cell_type": "code",
     "collapsed": false,
     "input": [
      "b[34]"
     ],
     "language": "python",
     "metadata": {},
     "outputs": [
      {
       "metadata": {},
       "output_type": "pyout",
       "prompt_number": 17,
       "text": [
        "2.0488754879668436"
       ]
      }
     ],
     "prompt_number": 17
    },
    {
     "cell_type": "code",
     "collapsed": false,
     "input": [
      "a2.result(method='array')[34]"
     ],
     "language": "python",
     "metadata": {},
     "outputs": []
    },
    {
     "cell_type": "code",
     "collapsed": false,
     "input": [],
     "language": "python",
     "metadata": {},
     "outputs": []
    }
   ],
   "metadata": {}
  }
 ]
}
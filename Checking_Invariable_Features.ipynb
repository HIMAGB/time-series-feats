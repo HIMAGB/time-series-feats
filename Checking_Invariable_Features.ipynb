{
 "metadata": {
  "name": "",
  "signature": "sha256:d3ffd91fd542971425ff74e52cb0879183a9535ff9789c3dc21982a1b63f2235"
 },
 "nbformat": 3,
 "nbformat_minor": 0,
 "worksheets": [
  {
   "cells": [
    {
     "cell_type": "code",
     "collapsed": false,
     "input": [
      "%matplotlib inline\n",
      "from Feature import FeatureSpace\n",
      "import numpy as np\n",
      "import matplotlib.pyplot as plt\n",
      "import seaborn as sns\n",
      "import statsmodels.graphics.tsaplots as tsaplots\n",
      "import pandas \n",
      "from import_lightcurve import LeerLC_MACHO\n",
      "from alignLC import Align_LC\n",
      "from PreprocessLC import Preprocess_LC\n",
      "from create_table import Table"
     ],
     "language": "python",
     "metadata": {},
     "outputs": [],
     "prompt_number": 1
    },
    {
     "cell_type": "code",
     "collapsed": false,
     "input": [
      "lc_B = LeerLC_MACHO('lc_1.3444.614.B.mjd')  #58.6272.729 1.3444.614 1.4652.1527\n",
      "lc_R = LeerLC_MACHO('lc_1.3444.614.R.mjd')\n",
      "\n",
      "[data, mjd, error] = lc_B.leerLC()\n",
      "[data2, mjd2, error2] = lc_R.leerLC()\n",
      "\n",
      "#We preprocess the data\n",
      "preproccesed_data = Preprocess_LC(data, mjd, error)\n",
      "[data, mjd, error] = preproccesed_data.Preprocess()\n",
      "\n",
      "preproccesed_data = Preprocess_LC(data2, mjd2, error2)\n",
      "[second_data, mjd2, error2] = preproccesed_data.Preprocess()\n",
      "\n",
      "#We synchronize the data\n",
      "if len(data) != len(second_data):\n",
      "    [aligned_data, aligned_second_data] = Align_LC(mjd, mjd2, data, second_data, error, error2)"
     ],
     "language": "python",
     "metadata": {},
     "outputs": [],
     "prompt_number": 2
    },
    {
     "cell_type": "code",
     "collapsed": false,
     "input": [
      "N = len(data)\n",
      "index = np.arange(0, N, 2)\n",
      "data_test = data[index]\n",
      "mjd_test = mjd[index]\n",
      "error_test = error[index]\n",
      "\n",
      "N2 = len(second_data)\n",
      "index2 = np.arange(0, N2, 2)\n",
      "second_data_test = second_data[index2]\n",
      "mjd_test2 = mjd2[index2]\n",
      "error_test2 = error2[index2]\n",
      "\n",
      "N3 = len(aligned_data)\n",
      "index3 = np.arange(0, N3, 2)\n",
      "aligned_data_test = aligned_data[index3]\n",
      "aligned_second_data_test = aligned_second_data[index3]"
     ],
     "language": "python",
     "metadata": {},
     "outputs": [],
     "prompt_number": 9
    },
    {
     "cell_type": "heading",
     "level": 3,
     "metadata": {},
     "source": [
      "Sampled light curve"
     ]
    },
    {
     "cell_type": "code",
     "collapsed": false,
     "input": [
      "a = FeatureSpace(category='all',featureList=None, automean=[0,0], StetsonL=[aligned_second_data_test, aligned_data_test] ,  B_R=second_data_test, Beyond1Std=error_test, StetsonJ=[aligned_second_data_test, aligned_data_test], MaxSlope=mjd_test, LinearTrend=mjd_test, Eta_B_R=[aligned_second_data_test, aligned_data_test], Eta_e=mjd_test, Q31B_R=[aligned_second_data_test, aligned_data_test], PeriodLS=mjd_test, CAR_sigma=[mjd_test, error_test], SlottedA = mjd_test)\n",
      "a=a.calculateFeature(data_test)\n",
      "\n",
      "Table(a)"
     ],
     "language": "python",
     "metadata": {},
     "outputs": [
      {
       "html": [
        "<table border=\"1\" cellpadding=\"3\" cellspacing=\"0\"  style=\"border:1px solid black;border-collapse:collapse;\"><tr><td  style=\"background-color:LightGray;\"><b>Feature</b></td><td  style=\"background-color:LightGray;\"><b>Value</b></td></tr><tr><td  style=\"background-color:Ivory;\">Amplitude</td><td  style=\"background-color:Ivory;\">0.558</td></tr><tr><td  style=\"background-color:AliceBlue;\">AndersonDarling</td><td  style=\"background-color:AliceBlue;\">25.839</td></tr><tr><td  style=\"background-color:Ivory;\">B_R</td><td  style=\"background-color:Ivory;\">-0.343</td></tr><tr><td  style=\"background-color:AliceBlue;\">Beyond1Std</td><td  style=\"background-color:AliceBlue;\">0.209</td></tr><tr><td  style=\"background-color:Ivory;\">Bmean</td><td  style=\"background-color:Ivory;\">-5.920</td></tr><tr><td  style=\"background-color:AliceBlue;\">CAR_sigma</td><td  style=\"background-color:AliceBlue;\">-0.133</td></tr><tr><td  style=\"background-color:Ivory;\">CAR_tau</td><td  style=\"background-color:Ivory;\">1.680</td></tr><tr><td  style=\"background-color:AliceBlue;\">CAR_tmean</td><td  style=\"background-color:AliceBlue;\">-3.525</td></tr><tr><td  style=\"background-color:Ivory;\">Con</td><td  style=\"background-color:Ivory;\">0.000</td></tr><tr><td  style=\"background-color:AliceBlue;\">Eta_B_R</td><td  style=\"background-color:AliceBlue;\">1.712</td></tr><tr><td  style=\"background-color:Ivory;\">Eta_e</td><td  style=\"background-color:Ivory;\">35.627</td></tr><tr><td  style=\"background-color:AliceBlue;\">FluxPercentileRatioMid20</td><td  style=\"background-color:AliceBlue;\">0.095</td></tr><tr><td  style=\"background-color:Ivory;\">FluxPercentileRatioMid35</td><td  style=\"background-color:Ivory;\">0.171</td></tr><tr><td  style=\"background-color:AliceBlue;\">FluxPercentileRatioMid50</td><td  style=\"background-color:AliceBlue;\">0.317</td></tr><tr><td  style=\"background-color:Ivory;\">FluxPercentileRatioMid65</td><td  style=\"background-color:Ivory;\">0.503</td></tr><tr><td  style=\"background-color:AliceBlue;\">FluxPercentileRatioMid80</td><td  style=\"background-color:AliceBlue;\">0.814</td></tr><tr><td  style=\"background-color:Ivory;\">LinearTrend</td><td  style=\"background-color:Ivory;\">0.000</td></tr><tr><td  style=\"background-color:AliceBlue;\">MaxSlope</td><td  style=\"background-color:AliceBlue;\">2.733</td></tr><tr><td  style=\"background-color:Ivory;\">MedianAbsDev</td><td  style=\"background-color:Ivory;\">0.056</td></tr><tr><td  style=\"background-color:AliceBlue;\">MedianBRP</td><td  style=\"background-color:AliceBlue;\">0.722</td></tr><tr><td  style=\"background-color:Ivory;\">PairSlopeTrend</td><td  style=\"background-color:Ivory;\">0.167</td></tr><tr><td  style=\"background-color:AliceBlue;\">PercentAmplitude</td><td  style=\"background-color:AliceBlue;\">-0.103</td></tr><tr><td  style=\"background-color:Ivory;\">PercentDifferenceFluxPercentile</td><td  style=\"background-color:Ivory;\">-0.076</td></tr><tr><td  style=\"background-color:AliceBlue;\">PeriodLS</td><td  style=\"background-color:AliceBlue;\">0.937</td></tr><tr><td  style=\"background-color:Ivory;\">Period_fit</td><td  style=\"background-color:Ivory;\">0.000</td></tr><tr><td  style=\"background-color:AliceBlue;\">Q31</td><td  style=\"background-color:AliceBlue;\">0.143</td></tr><tr><td  style=\"background-color:Ivory;\">Q31B_R</td><td  style=\"background-color:Ivory;\">0.095</td></tr><tr><td  style=\"background-color:AliceBlue;\">Rcs</td><td  style=\"background-color:AliceBlue;\">41.193</td></tr><tr><td  style=\"background-color:Ivory;\">Skew</td><td  style=\"background-color:Ivory;\">0.834</td></tr><tr><td  style=\"background-color:AliceBlue;\">SlottedA</td><td  style=\"background-color:AliceBlue;\">8.000</td></tr><tr><td  style=\"background-color:Ivory;\">SmallKurtosis</td><td  style=\"background-color:Ivory;\">1.589</td></tr><tr><td  style=\"background-color:AliceBlue;\">Std</td><td  style=\"background-color:AliceBlue;\">0.143</td></tr><tr><td  style=\"background-color:Ivory;\">StetsonJ</td><td  style=\"background-color:Ivory;\">0.605</td></tr><tr><td  style=\"background-color:AliceBlue;\">StetsonK</td><td  style=\"background-color:AliceBlue;\">0.750</td></tr><tr><td  style=\"background-color:Ivory;\">StetsonK_AC</td><td  style=\"background-color:Ivory;\">1.415</td></tr><tr><td  style=\"background-color:AliceBlue;\">StetsonL</td><td  style=\"background-color:AliceBlue;\">0.366</td></tr><tr><td  style=\"background-color:Ivory;\">VariabilityIndex</td><td  style=\"background-color:Ivory;\">1.844</td></tr><tr><td  style=\"background-color:AliceBlue;\">autocor</td><td  style=\"background-color:AliceBlue;\">2.000</td></tr><tr><td  style=\"background-color:Ivory;\">automean</td><td  style=\"background-color:Ivory;\">-5.920</td></tr><tr><td  style=\"background-color:AliceBlue;\">meanvariance</td><td  style=\"background-color:AliceBlue;\">-0.024</td></tr></table>"
       ],
       "metadata": {},
       "output_type": "pyout",
       "prompt_number": 52,
       "text": [
        "<ipy_table.IpyTable at 0x10a376310>"
       ]
      }
     ],
     "prompt_number": 52
    },
    {
     "cell_type": "heading",
     "level": 3,
     "metadata": {},
     "source": [
      "Original light-curve"
     ]
    },
    {
     "cell_type": "code",
     "collapsed": false,
     "input": [
      "a2 = FeatureSpace(category='all',featureList=None, automean=[0,0], StetsonL=[aligned_second_data, aligned_data] ,  B_R=second_data, Beyond1Std=error, StetsonJ=[aligned_second_data, aligned_data], MaxSlope=mjd, LinearTrend=mjd, Eta_B_R=[aligned_second_data, aligned_data], Eta_e=mjd, Q31B_R=[aligned_second_data, aligned_data], PeriodLS=mjd, CAR_sigma=[mjd, error], SlottedA = mjd)\n",
      "a2 =a2.calculateFeature(data)\n",
      "\n",
      "Table(a2)"
     ],
     "language": "python",
     "metadata": {},
     "outputs": [
      {
       "html": [
        "<table border=\"1\" cellpadding=\"3\" cellspacing=\"0\"  style=\"border:1px solid black;border-collapse:collapse;\"><tr><td  style=\"background-color:LightGray;\"><b>Feature</b></td><td  style=\"background-color:LightGray;\"><b>Value</b></td></tr><tr><td  style=\"background-color:Ivory;\">Amplitude</td><td  style=\"background-color:Ivory;\">0.643</td></tr><tr><td  style=\"background-color:AliceBlue;\">AndersonDarling</td><td  style=\"background-color:AliceBlue;\">52.204</td></tr><tr><td  style=\"background-color:Ivory;\">B_R</td><td  style=\"background-color:Ivory;\">-0.333</td></tr><tr><td  style=\"background-color:AliceBlue;\">Beyond1Std</td><td  style=\"background-color:AliceBlue;\">0.223</td></tr><tr><td  style=\"background-color:Ivory;\">Bmean</td><td  style=\"background-color:Ivory;\">-5.918</td></tr><tr><td  style=\"background-color:AliceBlue;\">CAR_sigma</td><td  style=\"background-color:AliceBlue;\">-0.219</td></tr><tr><td  style=\"background-color:Ivory;\">CAR_tau</td><td  style=\"background-color:Ivory;\">0.641</td></tr><tr><td  style=\"background-color:AliceBlue;\">CAR_tmean</td><td  style=\"background-color:AliceBlue;\">-9.231</td></tr><tr><td  style=\"background-color:Ivory;\">Con</td><td  style=\"background-color:Ivory;\">0.000</td></tr><tr><td  style=\"background-color:AliceBlue;\">Eta_B_R</td><td  style=\"background-color:AliceBlue;\">2.044</td></tr><tr><td  style=\"background-color:Ivory;\">Eta_e</td><td  style=\"background-color:Ivory;\">905.636</td></tr><tr><td  style=\"background-color:AliceBlue;\">FluxPercentileRatioMid20</td><td  style=\"background-color:AliceBlue;\">0.089</td></tr><tr><td  style=\"background-color:Ivory;\">FluxPercentileRatioMid35</td><td  style=\"background-color:Ivory;\">0.179</td></tr><tr><td  style=\"background-color:AliceBlue;\">FluxPercentileRatioMid50</td><td  style=\"background-color:AliceBlue;\">0.315</td></tr><tr><td  style=\"background-color:Ivory;\">FluxPercentileRatioMid65</td><td  style=\"background-color:Ivory;\">0.522</td></tr><tr><td  style=\"background-color:AliceBlue;\">FluxPercentileRatioMid80</td><td  style=\"background-color:AliceBlue;\">0.801</td></tr><tr><td  style=\"background-color:Ivory;\">LinearTrend</td><td  style=\"background-color:Ivory;\">0.000</td></tr><tr><td  style=\"background-color:AliceBlue;\">MaxSlope</td><td  style=\"background-color:AliceBlue;\">54.725</td></tr><tr><td  style=\"background-color:Ivory;\">MedianAbsDev</td><td  style=\"background-color:Ivory;\">0.054</td></tr><tr><td  style=\"background-color:AliceBlue;\">MedianBRP</td><td  style=\"background-color:AliceBlue;\">0.745</td></tr><tr><td  style=\"background-color:Ivory;\">PairSlopeTrend</td><td  style=\"background-color:Ivory;\">0.033</td></tr><tr><td  style=\"background-color:AliceBlue;\">PercentAmplitude</td><td  style=\"background-color:AliceBlue;\">-0.113</td></tr><tr><td  style=\"background-color:Ivory;\">PercentDifferenceFluxPercentile</td><td  style=\"background-color:Ivory;\">-0.075</td></tr><tr><td  style=\"background-color:AliceBlue;\">PeriodLS</td><td  style=\"background-color:AliceBlue;\">0.937</td></tr><tr><td  style=\"background-color:Ivory;\">Period_fit</td><td  style=\"background-color:Ivory;\">0.000</td></tr><tr><td  style=\"background-color:AliceBlue;\">Q31</td><td  style=\"background-color:AliceBlue;\">0.141</td></tr><tr><td  style=\"background-color:Ivory;\">Q31B_R</td><td  style=\"background-color:Ivory;\">0.106</td></tr><tr><td  style=\"background-color:AliceBlue;\">Rcs</td><td  style=\"background-color:AliceBlue;\">41.766</td></tr><tr><td  style=\"background-color:Ivory;\">Skew</td><td  style=\"background-color:Ivory;\">0.956</td></tr><tr><td  style=\"background-color:AliceBlue;\">SlottedA</td><td  style=\"background-color:AliceBlue;\">8.000</td></tr><tr><td  style=\"background-color:Ivory;\">SmallKurtosis</td><td  style=\"background-color:Ivory;\">1.379</td></tr><tr><td  style=\"background-color:AliceBlue;\">Std</td><td  style=\"background-color:AliceBlue;\">0.142</td></tr><tr><td  style=\"background-color:Ivory;\">StetsonJ</td><td  style=\"background-color:Ivory;\">0.554</td></tr><tr><td  style=\"background-color:AliceBlue;\">StetsonK</td><td  style=\"background-color:AliceBlue;\">0.761</td></tr><tr><td  style=\"background-color:Ivory;\">StetsonK_AC</td><td  style=\"background-color:Ivory;\">1.414</td></tr><tr><td  style=\"background-color:AliceBlue;\">StetsonL</td><td  style=\"background-color:AliceBlue;\">0.322</td></tr><tr><td  style=\"background-color:Ivory;\">VariabilityIndex</td><td  style=\"background-color:Ivory;\">1.562</td></tr><tr><td  style=\"background-color:AliceBlue;\">autocor</td><td  style=\"background-color:AliceBlue;\">2.000</td></tr><tr><td  style=\"background-color:Ivory;\">automean</td><td  style=\"background-color:Ivory;\">-5.918</td></tr><tr><td  style=\"background-color:AliceBlue;\">meanvariance</td><td  style=\"background-color:AliceBlue;\">-0.024</td></tr></table>"
       ],
       "metadata": {},
       "output_type": "pyout",
       "prompt_number": 53,
       "text": [
        "<ipy_table.IpyTable at 0x10a376550>"
       ]
      }
     ],
     "prompt_number": 53
    },
    {
     "cell_type": "heading",
     "level": 3,
     "metadata": {},
     "source": [
      "Percentage difference"
     ]
    },
    {
     "cell_type": "code",
     "collapsed": false,
     "input": [
      "b = np.divide(np.abs((a.result(method='array') - a2.result(method='array'))), np.abs(a.result(method='array'))) * 100.0\n",
      "from ipy_table import *\n",
      "\n",
      "FeaturesList = [('Feature','Value')]\n",
      "\n",
      "for i in xrange(len(b)):\n",
      "\n",
      "    FeaturesList.append((a.result(method= 'features')[i], b[i]))\n",
      "\n",
      "make_table(FeaturesList)\n",
      "apply_theme('basic')\n",
      "set_global_style(float_format='%0.3f')"
     ],
     "language": "python",
     "metadata": {},
     "outputs": [
      {
       "html": [
        "<table border=\"1\" cellpadding=\"3\" cellspacing=\"0\"  style=\"border:1px solid black;border-collapse:collapse;\"><tr><td  style=\"background-color:LightGray;\"><b>Feature</b></td><td  style=\"background-color:LightGray;\"><b>Value</b></td></tr><tr><td  style=\"background-color:Ivory;\">Amplitude</td><td  style=\"background-color:Ivory;\">15.040</td></tr><tr><td  style=\"background-color:AliceBlue;\">AndersonDarling</td><td  style=\"background-color:AliceBlue;\">102.034</td></tr><tr><td  style=\"background-color:Ivory;\">B_R</td><td  style=\"background-color:Ivory;\">2.712</td></tr><tr><td  style=\"background-color:AliceBlue;\">Beyond1Std</td><td  style=\"background-color:AliceBlue;\">6.400</td></tr><tr><td  style=\"background-color:Ivory;\">Bmean</td><td  style=\"background-color:Ivory;\">0.033</td></tr><tr><td  style=\"background-color:AliceBlue;\">CAR_sigma</td><td  style=\"background-color:AliceBlue;\">64.957</td></tr><tr><td  style=\"background-color:Ivory;\">CAR_tau</td><td  style=\"background-color:Ivory;\">61.829</td></tr><tr><td  style=\"background-color:AliceBlue;\">CAR_tmean</td><td  style=\"background-color:AliceBlue;\">161.892</td></tr><tr><td  style=\"background-color:Ivory;\">Con</td><td  style=\"background-color:Ivory;\">nan</td></tr><tr><td  style=\"background-color:AliceBlue;\">Eta_B_R</td><td  style=\"background-color:AliceBlue;\">19.375</td></tr><tr><td  style=\"background-color:Ivory;\">Eta_e</td><td  style=\"background-color:Ivory;\">2441.961</td></tr><tr><td  style=\"background-color:AliceBlue;\">FluxPercentileRatioMid20</td><td  style=\"background-color:AliceBlue;\">6.354</td></tr><tr><td  style=\"background-color:Ivory;\">FluxPercentileRatioMid35</td><td  style=\"background-color:Ivory;\">4.592</td></tr><tr><td  style=\"background-color:AliceBlue;\">FluxPercentileRatioMid50</td><td  style=\"background-color:AliceBlue;\">0.738</td></tr><tr><td  style=\"background-color:Ivory;\">FluxPercentileRatioMid65</td><td  style=\"background-color:Ivory;\">3.774</td></tr><tr><td  style=\"background-color:AliceBlue;\">FluxPercentileRatioMid80</td><td  style=\"background-color:AliceBlue;\">1.525</td></tr><tr><td  style=\"background-color:Ivory;\">LinearTrend</td><td  style=\"background-color:Ivory;\">91.699</td></tr><tr><td  style=\"background-color:AliceBlue;\">MaxSlope</td><td  style=\"background-color:AliceBlue;\">1902.626</td></tr><tr><td  style=\"background-color:Ivory;\">MedianAbsDev</td><td  style=\"background-color:Ivory;\">2.679</td></tr><tr><td  style=\"background-color:AliceBlue;\">MedianBRP</td><td  style=\"background-color:AliceBlue;\">3.248</td></tr><tr><td  style=\"background-color:Ivory;\">PairSlopeTrend</td><td  style=\"background-color:Ivory;\">80.000</td></tr><tr><td  style=\"background-color:AliceBlue;\">PercentAmplitude</td><td  style=\"background-color:AliceBlue;\">9.789</td></tr><tr><td  style=\"background-color:Ivory;\">PercentDifferenceFluxPercentile</td><td  style=\"background-color:Ivory;\">0.723</td></tr><tr><td  style=\"background-color:AliceBlue;\">PeriodLS</td><td  style=\"background-color:AliceBlue;\">0.001</td></tr><tr><td  style=\"background-color:Ivory;\">Period_fit</td><td  style=\"background-color:Ivory;\">100.000</td></tr><tr><td  style=\"background-color:AliceBlue;\">Q31</td><td  style=\"background-color:AliceBlue;\">1.399</td></tr><tr><td  style=\"background-color:Ivory;\">Q31B_R</td><td  style=\"background-color:Ivory;\">11.579</td></tr><tr><td  style=\"background-color:AliceBlue;\">Rcs</td><td  style=\"background-color:AliceBlue;\">1.391</td></tr><tr><td  style=\"background-color:Ivory;\">Skew</td><td  style=\"background-color:Ivory;\">14.738</td></tr><tr><td  style=\"background-color:AliceBlue;\">SlottedA</td><td  style=\"background-color:AliceBlue;\">0.000</td></tr><tr><td  style=\"background-color:Ivory;\">SmallKurtosis</td><td  style=\"background-color:Ivory;\">13.203</td></tr><tr><td  style=\"background-color:AliceBlue;\">Std</td><td  style=\"background-color:AliceBlue;\">1.319</td></tr><tr><td  style=\"background-color:Ivory;\">StetsonJ</td><td  style=\"background-color:Ivory;\">8.484</td></tr><tr><td  style=\"background-color:AliceBlue;\">StetsonK</td><td  style=\"background-color:AliceBlue;\">1.394</td></tr><tr><td  style=\"background-color:Ivory;\">StetsonK_AC</td><td  style=\"background-color:Ivory;\">0.083</td></tr><tr><td  style=\"background-color:AliceBlue;\">StetsonL</td><td  style=\"background-color:AliceBlue;\">11.973</td></tr><tr><td  style=\"background-color:Ivory;\">VariabilityIndex</td><td  style=\"background-color:Ivory;\">15.278</td></tr><tr><td  style=\"background-color:AliceBlue;\">autocor</td><td  style=\"background-color:AliceBlue;\">0.000</td></tr><tr><td  style=\"background-color:Ivory;\">automean</td><td  style=\"background-color:Ivory;\">0.033</td></tr><tr><td  style=\"background-color:AliceBlue;\">meanvariance</td><td  style=\"background-color:AliceBlue;\">1.287</td></tr></table>"
       ],
       "metadata": {},
       "output_type": "pyout",
       "prompt_number": 65,
       "text": [
        "<ipy_table.IpyTable at 0x10a3915d0>"
       ]
      }
     ],
     "prompt_number": 65
    },
    {
     "cell_type": "code",
     "collapsed": false,
     "input": [
      "plt.figure(figsize=(20,8)) \n",
      "ax = plt.gca()\n",
      "plt.plot(a.result(method='array'), a2.result(method='array'), '*')\n",
      "#ax.set_yscale('log')\n",
      "#ax.set_xscale('log')\n",
      "plt.ylim(-10,50)"
     ],
     "language": "python",
     "metadata": {},
     "outputs": [
      {
       "metadata": {},
       "output_type": "pyout",
       "prompt_number": 86,
       "text": [
        "(-10, 50)"
       ]
      },
      {
       "metadata": {},
       "output_type": "display_data",
       "png": "[encoded data removed]",
       "text": [
        "<matplotlib.figure.Figure at 0x10b021110>"
       ]
      }
     ],
     "prompt_number": 86
    },
    {
     "cell_type": "code",
     "collapsed": false,
     "input": [],
     "language": "python",
     "metadata": {},
     "outputs": [],
     "prompt_number": 69
    },
    {
     "cell_type": "code",
     "collapsed": false,
     "input": [],
     "language": "python",
     "metadata": {},
     "outputs": []
    }
   ],
   "metadata": {}
  }
 ]
}
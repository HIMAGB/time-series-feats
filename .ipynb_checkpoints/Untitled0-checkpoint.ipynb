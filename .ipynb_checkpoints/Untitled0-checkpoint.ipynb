{
 "metadata": {
  "name": "",
  "signature": "sha256:2c71ad13afd20f9bf9c1778a55a21cabc548dcce15029fdfc2db49483fdf4ac6"
 },
 "nbformat": 3,
 "nbformat_minor": 0,
 "worksheets": []
}
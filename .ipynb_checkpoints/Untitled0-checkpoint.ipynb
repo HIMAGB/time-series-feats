{
 "metadata": {
  "name": "",
  "signature": "sha256:28f9b3383fb53bc88cbf408fe352d377fdfa2ff7b6eb47ef37bdf7320855da76"
 },
 "nbformat": 3,
 "nbformat_minor": 0,
 "worksheets": [
  {
   "cells": [
    {
     "cell_type": "code",
     "collapsed": false,
     "input": [
      "\n",
      "import numpy as np\n",
      "from scipy.optimize import minimize\n",
      "\n",
      "def CAR_Lik(parameters,t,x,error_vars):\n",
      "\n",
      "   sigma = parameters[0]\n",
      "   tau = parameters[1]\n",
      "   #b = parameters[1] #comment it to do 2 pars estimation\n",
      "   #tau = params(1,1);\n",
      "   #sigma = sqrt(2*var(x)/tau);\n",
      "\n",
      "   b = np.mean(x)/tau\n",
      "   epsilon = 1e-300\n",
      "   cte_neg = -np.infty\n",
      "   num_datos = np.size(x)\n",
      "\n",
      "   Omega = []\n",
      "   x_hat = []\n",
      "   a = []\n",
      "   x_ast = []\n",
      "\n",
      "   Omega.append((tau*(sigma**2))/2.)\n",
      "   x_hat.append(0.)\n",
      "   a.append(0.)\n",
      "   x_ast.append(x[0] - b*tau)\n",
      "\n",
      "   loglik = 0.\n",
      "\n",
      "   for i in range(1,num_datos):\n",
      "\n",
      "       a_new = np.exp(-(t[i]-t[i-1])/tau)\n",
      "       x_ast.append(x[i] - b*tau)\n",
      "       x_hat.append(a_new*x_hat[i-1] + (a_new*Omega[i-1]/(Omega[i-1] + error_vars[i-1]))*(x_ast[i-1]-x_hat[i-1]))\n",
      "       Omega.append(Omega[0]*(1-(a_new**2)) + ((a_new**2))*Omega[i-1]*( 1 - (Omega[i-1]/(Omega[i-1]+ error_vars[i-1]))))\n",
      "\n",
      "       loglik_inter = np.log( ((2*np.pi*(Omega[i] + error_vars[i]))**-0.5) * (np.exp( -0.5 * ( ((x_hat[i]-x_ast[i])**2) / (Omega[i] + error_vars[i]))) + epsilon))\n",
      "       loglik = loglik + loglik_inter\n",
      "\n",
      "       if(loglik <= cte_neg):\n",
      "           print('CAR lik se fue a inf')\n",
      "           return None\n",
      "\n",
      "   return -loglik #the minus one is to perfor maximization using the minimize function\n",
      "\n"
     ],
     "language": "python",
     "metadata": {},
     "outputs": [],
     "prompt_number": 9
    },
    {
     "cell_type": "code",
     "collapsed": false,
     "input": [
      "\n",
      "\n",
      "def CAR_features(LC):\n",
      "   x0 = [10,1]\n",
      "   bnds = ((0, 100), (0, 100))\n",
      "   res = minimize(CAR_Lik, x0, args=(LC[:,0],LC[:,1],LC[:,2]) ,method='nelder-mead',bounds = bnds)\n",
      "   sigma = res.x[0]\n",
      "   tau = res.x[1]\n",
      "   return sigma, tau\n",
      "\n"
     ],
     "language": "python",
     "metadata": {},
     "outputs": [],
     "prompt_number": 10
    },
    {
     "cell_type": "code",
     "collapsed": false,
     "input": [
      "data = np.random.uniform(-5,-1, 1000).reshape((1000,1))\n",
      "error= np.random.uniform(0.000001,1, 1000).reshape((1000,1))\n",
      "tiempo= np.random.uniform(40000,50000, 1000).reshape((1000,1))\n",
      "\n",
      "LC=np.hstack((tiempo, data, error))\n",
      "\n",
      "CAR_features(LC)"
     ],
     "language": "python",
     "metadata": {},
     "outputs": [
      {
       "metadata": {},
       "output_type": "pyout",
       "prompt_number": 11,
       "text": [
        "(10.0, 1.0)"
       ]
      }
     ],
     "prompt_number": 11
    },
    {
     "cell_type": "code",
     "collapsed": false,
     "input": [
      "LC.shape"
     ],
     "language": "python",
     "metadata": {},
     "outputs": [
      {
       "metadata": {},
       "output_type": "pyout",
       "prompt_number": 12,
       "text": [
        "(1000, 3)"
       ]
      }
     ],
     "prompt_number": 12
    },
    {
     "cell_type": "code",
     "collapsed": false,
     "input": [],
     "language": "python",
     "metadata": {},
     "outputs": []
    }
   ],
   "metadata": {}
  }
 ]
}
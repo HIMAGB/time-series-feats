{
 "metadata": {
  "name": "",
  "signature": "sha256:ca49bbe450bd488aca4d6c559545b130924c4c840141bf7935acbda2f1036dd5"
 },
 "nbformat": 3,
 "nbformat_minor": 0,
 "worksheets": [
  {
   "cells": [
    {
     "cell_type": "code",
     "collapsed": false,
     "input": [
      "%matplotlib inline\n",
      "from Feature import FeatureSpace\n",
      "import numpy as np\n",
      "import matplotlib.pyplot as plt\n",
      "import seaborn as sns\n",
      "import statsmodels.graphics.tsaplots as tsaplots\n",
      "import pandas \n",
      "from import_lightcurve import LeerLC_MACHO\n",
      "from alignLC import Align_LC\n",
      "from PreprocessLC import Preprocess_LC\n",
      "from create_table import Table"
     ],
     "language": "python",
     "metadata": {},
     "outputs": [],
     "prompt_number": 1
    },
    {
     "cell_type": "code",
     "collapsed": false,
     "input": [
      "lc_B = LeerLC_MACHO('lc_1.3444.614.B.mjd')  #58.6272.729 1.3444.614 1.4652.1527\n",
      "lc_R = LeerLC_MACHO('lc_1.3444.614.R.mjd')\n",
      "\n",
      "[data, mjd, error] = lc_B.leerLC()\n",
      "[data2, mjd2, error2] = lc_R.leerLC()\n",
      "\n",
      "#We preprocess the data\n",
      "preproccesed_data = Preprocess_LC(data, mjd, error)\n",
      "[data, mjd, error] = preproccesed_data.Preprocess()\n",
      "\n",
      "preproccesed_data = Preprocess_LC(data2, mjd2, error2)\n",
      "[second_data, mjd2, error2] = preproccesed_data.Preprocess()\n",
      "\n",
      "#We synchronize the data\n",
      "if len(data) != len(second_data):\n",
      "    [aligned_data, aligned_second_data] = Align_LC(mjd, mjd2, data, second_data, error, error2)"
     ],
     "language": "python",
     "metadata": {},
     "outputs": [],
     "prompt_number": 2
    },
    {
     "cell_type": "code",
     "collapsed": false,
     "input": [
      "def Shuffle(data, error, mjd, second_data, aligned_data, aligned_second_data):\n",
      "\n",
      "    N = len(data)\n",
      "    shuffle = np.arange(0, N)\n",
      "    index = np.random.permutation(shuffle)\n",
      "    index = np.sort(index[0:N/2])\n",
      "    \n",
      "    data_test = data[index]\n",
      "    mjd_test = mjd[index]\n",
      "    error_test = error[index]\n",
      "\n",
      "    N2 = len(second_data)\n",
      "    shuffle2 = np.arange(0, N2)\n",
      "    index2 = np.random.permutation(shuffle2)\n",
      "    index2 = np.sort(index2[0:N2/2])\n",
      "\n",
      "    second_data_test = second_data[index2]\n",
      "\n",
      "    N3 = len(aligned_data)\n",
      "    shuffle3 = np.arange(0, N3)\n",
      "    index3 = np.random.permutation(shuffle3)\n",
      "    index3 = np.sort(index3[0:N3/2])\n",
      "\n",
      "    aligned_data_test = aligned_data[index3]\n",
      "    aligned_second_data_test = aligned_second_data[index3]\n",
      "    \n",
      "    return data_test, mjd_test, error_test, second_data_test, aligned_data_test, aligned_second_data_test"
     ],
     "language": "python",
     "metadata": {},
     "outputs": [],
     "prompt_number": 198
    },
    {
     "cell_type": "heading",
     "level": 3,
     "metadata": {},
     "source": [
      "Sampled light curve"
     ]
    },
    {
     "cell_type": "code",
     "collapsed": false,
     "input": [
      "features_value=[]\n",
      "for i in xrange(50):\n",
      "    [data_test, mjd_test, error_test, second_data_test, aligned_data_test, aligned_second_data_test] = Shuffle(data, error, mjd, second_data, aligned_data, aligned_second_data)\n",
      "\n",
      "    a = FeatureSpace(category='all',featureList=None, automean=[0,0], StetsonL=[aligned_second_data_test, aligned_data_test] ,  B_R=second_data_test, Beyond1Std=error_test, StetsonJ=[aligned_second_data_test, aligned_data_test], MaxSlope=mjd_test, LinearTrend=mjd_test, Eta_B_R=[aligned_second_data_test, aligned_data_test], Eta_e=mjd_test, Q31B_R=[aligned_second_data_test, aligned_data_test], PeriodLS=mjd_test, CAR_sigma=[mjd_test, error_test], SlottedA = mjd_test)\n",
      "    a=a.calculateFeature(data_test)\n",
      "    features_value.append(a.result(method='array'))"
     ],
     "language": "python",
     "metadata": {},
     "outputs": [
      {
       "output_type": "stream",
       "stream": "stdout",
       "text": [
        "CAR lik se fue a inf\n"
       ]
      }
     ],
     "prompt_number": 199
    },
    {
     "cell_type": "code",
     "collapsed": false,
     "input": [
      "features_value2 = np.asarray(features_value)\n",
      "means=[]\n",
      "stds=[]\n",
      "for i in xrange(40):\n",
      "    means.append(np.mean(features_value2[:,i]))\n",
      "    stds.append(np.std(features_value2[:,i]))\n",
      "print means, stds"
     ],
     "language": "python",
     "metadata": {},
     "outputs": [
      {
       "output_type": "stream",
       "stream": "stdout",
       "text": [
        "[0.64249999999999996, 52.204286327828342, -0.33325502453332162, 0.22278056951423786, -5.9179891122278061, 10.0, 0.5, -11.835978224455612, 0.00028523489932885909, 2.0125299885886716, 0.014055357469906122, 0.089285714285714468, 0.17857142857142894, 0.31473214285714318, 0.52232142857142927, 0.80133928571428659, 6.173658576812161e-06, 0.32380587845349568, 0.054499999999999993, 0.74539363484087118, -0.014666666666666668, -0.11308575739793783, -0.075111073853633914, 0.93697445905023924, 3.1076457440339972e-113, 0.14100000000000001, 0.10600000000000076, 41.76653313890543, 0.95646986755938046, 8.0, 1.3794786801255117, 0.14157317495929828, 0.55385318769314551, 0.76093506917809861, 1.4138091861013355, 0.32183544397369113, 2.0035301763817968, 2.0, -5.9179891122278061, -0.023922513589418139] [1.1102230246251565e-16, 2.4674562030711679e-13, 3.5820825871949852e-16, 0.0, 8.5191081270478713e-16, 0.0, 0.0, 1.7038216254095743e-15, 0.00043137450107994766, 0.07627544406610022, 0.050523140228571753, 0.0, 0.0, 5.5511151231257827e-17, 1.1102230246251565e-16, 0.0, 1.6160358665552182e-21, 0.50917892875301485, 0.0, 1.1102230246251565e-16, 0.098015871730608564, 1.3877787807814457e-17, 0.0, 1.1102230246251565e-16, 0.0, 0.0, 0.0, 0.0008387026087935197, 5.1315368121395307e-15, 0.0, 7.0547313563589106e-15, 0.0, 2.3182137340672761e-16, 5.4253453831123974e-16, 8.9187596118019001e-08, 2.016820280180126e-16, 0.052556758326346584, 0.0, 8.5191081270478713e-16, 3.3277766121280747e-18]\n"
       ]
      }
     ],
     "prompt_number": 200
    },
    {
     "cell_type": "heading",
     "level": 3,
     "metadata": {},
     "source": [
      "Original light-curve"
     ]
    },
    {
     "cell_type": "code",
     "collapsed": false,
     "input": [
      "a2 = FeatureSpace(category='all',featureList=None, automean=[0,0], StetsonL=[aligned_second_data, aligned_data] ,  B_R=second_data, Beyond1Std=error, StetsonJ=[aligned_second_data, aligned_data], MaxSlope=mjd, LinearTrend=mjd, Eta_B_R=[aligned_second_data, aligned_data], Eta_e=mjd, Q31B_R=[aligned_second_data, aligned_data], PeriodLS=mjd, CAR_sigma=[mjd, error], SlottedA = mjd)\n",
      "a2 =a2.calculateFeature(data)\n",
      "\n",
      "Table(a2)"
     ],
     "language": "python",
     "metadata": {},
     "outputs": [
      {
       "html": [
        "<table border=\"1\" cellpadding=\"3\" cellspacing=\"0\"  style=\"border:1px solid black;border-collapse:collapse;\"><tr><td  style=\"background-color:LightGray;\"><b>Feature</b></td><td  style=\"background-color:LightGray;\"><b>Value</b></td></tr><tr><td  style=\"background-color:Ivory;\">Amplitude</td><td  style=\"background-color:Ivory;\">0.266</td></tr><tr><td  style=\"background-color:AliceBlue;\">AndersonDarling</td><td  style=\"background-color:AliceBlue;\">1.000</td></tr><tr><td  style=\"background-color:Ivory;\">B_R</td><td  style=\"background-color:Ivory;\">-0.333</td></tr><tr><td  style=\"background-color:AliceBlue;\">Beyond1Std</td><td  style=\"background-color:AliceBlue;\">0.223</td></tr><tr><td  style=\"background-color:Ivory;\">Bmean</td><td  style=\"background-color:Ivory;\">-5.918</td></tr><tr><td  style=\"background-color:AliceBlue;\">CAR_sigma</td><td  style=\"background-color:AliceBlue;\">-0.219</td></tr><tr><td  style=\"background-color:Ivory;\">CAR_tau</td><td  style=\"background-color:Ivory;\">0.641</td></tr><tr><td  style=\"background-color:AliceBlue;\">CAR_tmean</td><td  style=\"background-color:AliceBlue;\">-9.231</td></tr><tr><td  style=\"background-color:Ivory;\">Con</td><td  style=\"background-color:Ivory;\">0.000</td></tr><tr><td  style=\"background-color:AliceBlue;\">Eta_B_R</td><td  style=\"background-color:AliceBlue;\">2.044</td></tr><tr><td  style=\"background-color:Ivory;\">Eta_e</td><td  style=\"background-color:Ivory;\">905.636</td></tr><tr><td  style=\"background-color:AliceBlue;\">FluxPercentileRatioMid20</td><td  style=\"background-color:AliceBlue;\">0.089</td></tr><tr><td  style=\"background-color:Ivory;\">FluxPercentileRatioMid35</td><td  style=\"background-color:Ivory;\">0.179</td></tr><tr><td  style=\"background-color:AliceBlue;\">FluxPercentileRatioMid50</td><td  style=\"background-color:AliceBlue;\">0.315</td></tr><tr><td  style=\"background-color:Ivory;\">FluxPercentileRatioMid65</td><td  style=\"background-color:Ivory;\">0.522</td></tr><tr><td  style=\"background-color:AliceBlue;\">FluxPercentileRatioMid80</td><td  style=\"background-color:AliceBlue;\">0.801</td></tr><tr><td  style=\"background-color:Ivory;\">LinearTrend</td><td  style=\"background-color:Ivory;\">0.000</td></tr><tr><td  style=\"background-color:AliceBlue;\">MaxSlope</td><td  style=\"background-color:AliceBlue;\">54.725</td></tr><tr><td  style=\"background-color:Ivory;\">MedianAbsDev</td><td  style=\"background-color:Ivory;\">0.054</td></tr><tr><td  style=\"background-color:AliceBlue;\">MedianBRP</td><td  style=\"background-color:AliceBlue;\">0.745</td></tr><tr><td  style=\"background-color:Ivory;\">PairSlopeTrend</td><td  style=\"background-color:Ivory;\">0.033</td></tr><tr><td  style=\"background-color:AliceBlue;\">PercentAmplitude</td><td  style=\"background-color:AliceBlue;\">-0.113</td></tr><tr><td  style=\"background-color:Ivory;\">PercentDifferenceFluxPercentile</td><td  style=\"background-color:Ivory;\">-0.075</td></tr><tr><td  style=\"background-color:AliceBlue;\">PeriodLS</td><td  style=\"background-color:AliceBlue;\">0.937</td></tr><tr><td  style=\"background-color:Ivory;\">Period_fit</td><td  style=\"background-color:Ivory;\">0.000</td></tr><tr><td  style=\"background-color:AliceBlue;\">Q31</td><td  style=\"background-color:AliceBlue;\">0.141</td></tr><tr><td  style=\"background-color:Ivory;\">Q31B_R</td><td  style=\"background-color:Ivory;\">0.106</td></tr><tr><td  style=\"background-color:AliceBlue;\">Rcs</td><td  style=\"background-color:AliceBlue;\">41.766</td></tr><tr><td  style=\"background-color:Ivory;\">Skew</td><td  style=\"background-color:Ivory;\">0.956</td></tr><tr><td  style=\"background-color:AliceBlue;\">SlottedA</td><td  style=\"background-color:AliceBlue;\">8.000</td></tr><tr><td  style=\"background-color:Ivory;\">SmallKurtosis</td><td  style=\"background-color:Ivory;\">1.379</td></tr><tr><td  style=\"background-color:AliceBlue;\">Std</td><td  style=\"background-color:AliceBlue;\">0.142</td></tr><tr><td  style=\"background-color:Ivory;\">StetsonJ</td><td  style=\"background-color:Ivory;\">0.554</td></tr><tr><td  style=\"background-color:AliceBlue;\">StetsonK</td><td  style=\"background-color:AliceBlue;\">0.761</td></tr><tr><td  style=\"background-color:Ivory;\">StetsonK_AC</td><td  style=\"background-color:Ivory;\">1.414</td></tr><tr><td  style=\"background-color:AliceBlue;\">StetsonL</td><td  style=\"background-color:AliceBlue;\">0.322</td></tr><tr><td  style=\"background-color:Ivory;\">VariabilityIndex</td><td  style=\"background-color:Ivory;\">1.562</td></tr><tr><td  style=\"background-color:AliceBlue;\">autocor</td><td  style=\"background-color:AliceBlue;\">2.000</td></tr><tr><td  style=\"background-color:Ivory;\">automean</td><td  style=\"background-color:Ivory;\">-5.918</td></tr><tr><td  style=\"background-color:AliceBlue;\">meanvariance</td><td  style=\"background-color:AliceBlue;\">-0.024</td></tr></table>"
       ],
       "metadata": {},
       "output_type": "pyout",
       "prompt_number": 550,
       "text": [
        "<ipy_table.IpyTable at 0x12d14cd90>"
       ]
      }
     ],
     "prompt_number": 550
    },
    {
     "cell_type": "heading",
     "level": 3,
     "metadata": {},
     "source": [
      "Percentage difference"
     ]
    },
    {
     "cell_type": "code",
     "collapsed": false,
     "input": [
      "b = np.divide(np.abs((means - a2.result(method='array'))), stds) \n",
      "from ipy_table import *\n",
      "\n",
      "FeaturesList = [('Feature','Value')]\n",
      "\n",
      "for i in xrange(len(b)):\n",
      "\n",
      "    FeaturesList.append((a.result(method= 'features')[i], b[i]))\n",
      "\n",
      "make_table(FeaturesList)\n",
      "apply_theme('basic')\n",
      "set_global_style(float_format='%0.3f')"
     ],
     "language": "python",
     "metadata": {},
     "outputs": [
      {
       "html": [
        "<table border=\"1\" cellpadding=\"3\" cellspacing=\"0\"  style=\"border:1px solid black;border-collapse:collapse;\"><tr><td  style=\"background-color:LightGray;\"><b>Feature</b></td><td  style=\"background-color:LightGray;\"><b>Value</b></td></tr><tr><td  style=\"background-color:Ivory;\">Amplitude</td><td  style=\"background-color:Ivory;\">1.000</td></tr><tr><td  style=\"background-color:AliceBlue;\">AndersonDarling</td><td  style=\"background-color:AliceBlue;\">0.288</td></tr><tr><td  style=\"background-color:Ivory;\">B_R</td><td  style=\"background-color:Ivory;\">0.465</td></tr><tr><td  style=\"background-color:AliceBlue;\">Beyond1Std</td><td  style=\"background-color:AliceBlue;\">nan</td></tr><tr><td  style=\"background-color:Ivory;\">Bmean</td><td  style=\"background-color:Ivory;\">1.043</td></tr><tr><td  style=\"background-color:AliceBlue;\">CAR_sigma</td><td  style=\"background-color:AliceBlue;\">inf</td></tr><tr><td  style=\"background-color:Ivory;\">CAR_tau</td><td  style=\"background-color:Ivory;\">inf</td></tr><tr><td  style=\"background-color:AliceBlue;\">CAR_tmean</td><td  style=\"background-color:AliceBlue;\">1529079870626351.250</td></tr><tr><td  style=\"background-color:Ivory;\">Con</td><td  style=\"background-color:Ivory;\">0.661</td></tr><tr><td  style=\"background-color:AliceBlue;\">Eta_B_R</td><td  style=\"background-color:AliceBlue;\">0.412</td></tr><tr><td  style=\"background-color:Ivory;\">Eta_e</td><td  style=\"background-color:Ivory;\">17924.898</td></tr><tr><td  style=\"background-color:AliceBlue;\">FluxPercentileRatioMid20</td><td  style=\"background-color:AliceBlue;\">nan</td></tr><tr><td  style=\"background-color:Ivory;\">FluxPercentileRatioMid35</td><td  style=\"background-color:Ivory;\">nan</td></tr><tr><td  style=\"background-color:AliceBlue;\">FluxPercentileRatioMid50</td><td  style=\"background-color:AliceBlue;\">1.000</td></tr><tr><td  style=\"background-color:Ivory;\">FluxPercentileRatioMid65</td><td  style=\"background-color:Ivory;\">1.000</td></tr><tr><td  style=\"background-color:AliceBlue;\">FluxPercentileRatioMid80</td><td  style=\"background-color:AliceBlue;\">nan</td></tr><tr><td  style=\"background-color:Ivory;\">LinearTrend</td><td  style=\"background-color:Ivory;\">0.524</td></tr><tr><td  style=\"background-color:AliceBlue;\">MaxSlope</td><td  style=\"background-color:AliceBlue;\">106.842</td></tr><tr><td  style=\"background-color:Ivory;\">MedianAbsDev</td><td  style=\"background-color:Ivory;\">nan</td></tr><tr><td  style=\"background-color:AliceBlue;\">MedianBRP</td><td  style=\"background-color:AliceBlue;\">1.000</td></tr><tr><td  style=\"background-color:Ivory;\">PairSlopeTrend</td><td  style=\"background-color:Ivory;\">0.490</td></tr><tr><td  style=\"background-color:AliceBlue;\">PercentAmplitude</td><td  style=\"background-color:AliceBlue;\">1.000</td></tr><tr><td  style=\"background-color:Ivory;\">PercentDifferenceFluxPercentile</td><td  style=\"background-color:Ivory;\">nan</td></tr><tr><td  style=\"background-color:AliceBlue;\">PeriodLS</td><td  style=\"background-color:AliceBlue;\">1.000</td></tr><tr><td  style=\"background-color:Ivory;\">Period_fit</td><td  style=\"background-color:Ivory;\">nan</td></tr><tr><td  style=\"background-color:AliceBlue;\">Q31</td><td  style=\"background-color:AliceBlue;\">nan</td></tr><tr><td  style=\"background-color:Ivory;\">Q31B_R</td><td  style=\"background-color:Ivory;\">nan</td></tr><tr><td  style=\"background-color:AliceBlue;\">Rcs</td><td  style=\"background-color:AliceBlue;\">1.049</td></tr><tr><td  style=\"background-color:Ivory;\">Skew</td><td  style=\"background-color:Ivory;\">0.281</td></tr><tr><td  style=\"background-color:AliceBlue;\">SlottedA</td><td  style=\"background-color:AliceBlue;\">nan</td></tr><tr><td  style=\"background-color:Ivory;\">SmallKurtosis</td><td  style=\"background-color:Ivory;\">0.692</td></tr><tr><td  style=\"background-color:AliceBlue;\">Std</td><td  style=\"background-color:AliceBlue;\">nan</td></tr><tr><td  style=\"background-color:Ivory;\">StetsonJ</td><td  style=\"background-color:Ivory;\">0.479</td></tr><tr><td  style=\"background-color:AliceBlue;\">StetsonK</td><td  style=\"background-color:AliceBlue;\">0.614</td></tr><tr><td  style=\"background-color:Ivory;\">StetsonK_AC</td><td  style=\"background-color:Ivory;\">0.910</td></tr><tr><td  style=\"background-color:AliceBlue;\">StetsonL</td><td  style=\"background-color:AliceBlue;\">0.000</td></tr><tr><td  style=\"background-color:Ivory;\">VariabilityIndex</td><td  style=\"background-color:Ivory;\">8.395</td></tr><tr><td  style=\"background-color:AliceBlue;\">autocor</td><td  style=\"background-color:AliceBlue;\">nan</td></tr><tr><td  style=\"background-color:Ivory;\">automean</td><td  style=\"background-color:Ivory;\">1.043</td></tr><tr><td  style=\"background-color:AliceBlue;\">meanvariance</td><td  style=\"background-color:AliceBlue;\">1.043</td></tr></table>"
       ],
       "metadata": {},
       "output_type": "pyout",
       "prompt_number": 201,
       "text": [
        "<ipy_table.IpyTable at 0x10e6b2610>"
       ]
      }
     ],
     "prompt_number": 201
    },
    {
     "cell_type": "code",
     "collapsed": false,
     "input": [
      "from scipy import stats\n",
      "stats.anderson(data_test)"
     ],
     "language": "python",
     "metadata": {},
     "outputs": [
      {
       "metadata": {},
       "output_type": "pyout",
       "prompt_number": 133,
       "text": [
        "(27.342095838239629,\n",
        " array([ 0.572,  0.652,  0.782,  0.912,  1.085]),\n",
        " array([ 15. ,  10. ,   5. ,   2.5,   1. ]))"
       ]
      }
     ],
     "prompt_number": 133
    },
    {
     "cell_type": "code",
     "collapsed": false,
     "input": [
      "stats.anderson(data)"
     ],
     "language": "python",
     "metadata": {},
     "outputs": [
      {
       "metadata": {},
       "output_type": "pyout",
       "prompt_number": 134,
       "text": [
        "(52.204286327828413,\n",
        " array([ 0.574,  0.654,  0.784,  0.915,  1.088]),\n",
        " array([ 15. ,  10. ,   5. ,   2.5,   1. ]))"
       ]
      }
     ],
     "prompt_number": 134
    },
    {
     "cell_type": "code",
     "collapsed": false,
     "input": [
      "Nn=300000\n",
      "pavlos = np.random.randn(Nn)\n",
      "pavlosprotopapas = np.sort(pavlos)\n",
      "a=stats.anderson(pavlosprotopapas)\n",
      "print a[0]\n",
      "print a[0]*a[0]/Nn+1-Nn"
     ],
     "language": "python",
     "metadata": {},
     "outputs": [
      {
       "output_type": "stream",
       "stream": "stdout",
       "text": [
        "0.446053727879\n",
        "-299998.999999\n"
       ]
      }
     ],
     "prompt_number": 241
    },
    {
     "cell_type": "code",
     "collapsed": false,
     "input": [
      "meansa=np.asarray(means)\n",
      "stdsa = np.asarray(stds)\n",
      "for i in xrange(40):\n",
      "    print  100*stdsa[i]/means[i], a2.result(method= 'features')[i]  #, meansa[i], stdsa[i]"
     ],
     "language": "python",
     "metadata": {},
     "outputs": [
      {
       "output_type": "stream",
       "stream": "stdout",
       "text": [
        "1.72797357918e-14 Amplitude\n",
        "4.72653947911e-13 AndersonDarling\n",
        "-1.07487729321e-13 B_R\n",
        "0.0 Beyond1Std\n",
        "-1.43952750934e-14 Bmean\n",
        "0.0 CAR_sigma\n",
        "0.0 CAR_tau\n",
        "-1.43952750934e-14 CAR_tmean\n",
        "151.234825084 Con\n",
        "3.79002770138 Eta_B_R\n",
        "359.45823745 Eta_e\n",
        "0.0 FluxPercentileRatioMid20\n",
        "0.0 FluxPercentileRatioMid35\n",
        "1.76375856394e-14 FluxPercentileRatioMid50\n",
        "2.12555519244e-14 FluxPercentileRatioMid65\n",
        "0.0 FluxPercentileRatioMid80\n",
        "2.61763077185e-14 LinearTrend\n",
        "157.248204135 MaxSlope\n",
        "0.0 MedianAbsDev\n",
        "1.48944527124e-14 MedianBRP\n",
        "-668.290034527 PairSlopeTrend\n",
        "-1.2271914808e-14 PercentAmplitude\n",
        "-0.0 PercentDifferenceFluxPercentile\n",
        "1.18490212183e-14 PeriodLS\n",
        "0.0 Period_fit\n",
        "0.0 Q31\n",
        "0.0 Q31B_R\n",
        "0.00200807332034 Rcs\n",
        "5.36507943029e-13 Skew\n",
        "0.0 SlottedA\n",
        "5.11405609815e-13 SmallKurtosis\n",
        "0.0 Std\n",
        "4.18561052925e-14 StetsonJ\n",
        "7.1298401176e-14 StetsonK\n",
        "6.30831918443e-06 StetsonK_AC\n",
        "6.26661953475e-14 StetsonL\n",
        "2.62320772334 VariabilityIndex\n",
        "0.0 autocor\n",
        "-1.43952750934e-14 automean\n",
        "-1.39106478075e-14 meanvariance\n"
       ]
      }
     ],
     "prompt_number": 239
    },
    {
     "cell_type": "code",
     "collapsed": false,
     "input": [
      "features_maxslope=[]\n",
      "for i in xrange(10000):\n",
      "    [data_test, mjd_test, error_test, second_data_test, aligned_data_test, aligned_second_data_test] = Shuffle(data, error, mjd, second_data, aligned_data, aligned_second_data)\n",
      "\n",
      "    a = FeatureSpace(featureList=['MaxSlope'], automean=[0,0], StetsonL=[aligned_second_data_test, aligned_data_test] ,  B_R=second_data_test, Beyond1Std=error_test, StetsonJ=[aligned_second_data_test, aligned_data_test], MaxSlope=mjd_test, LinearTrend=mjd_test, Eta_B_R=[aligned_second_data_test, aligned_data_test], Eta_e=mjd_test, Q31B_R=[aligned_second_data_test, aligned_data_test], PeriodLS=mjd_test, CAR_sigma=[mjd_test, error_test], SlottedA = mjd_test)\n",
      "    a=a.calculateFeature(data_test)\n",
      "    features_maxslope.append(a.result(method='array'))"
     ],
     "language": "python",
     "metadata": {},
     "outputs": [],
     "prompt_number": 562
    },
    {
     "cell_type": "code",
     "collapsed": false,
     "input": [
      "print np.mean(features_maxslope), np.std(features_maxslope)"
     ],
     "language": "python",
     "metadata": {},
     "outputs": [
      {
       "output_type": "stream",
       "stream": "stdout",
       "text": [
        "[array([ 0.08967374]), array([ 0.14193014]), array([ 0.18967916]), array([ 0.11487172]), array([ 0.25370076]), array([ 0.11884339]), array([ 0.13274532]), array([ 0.12569832]), array([ 1.29093922]), array([ 0.07720437]), array([ 0.60568181]), array([ 0.06048094]), array([ 0.12842114]), array([ 0.0694743]), array([ 0.06272428]), array([ 0.06079507]), array([ 0.04508695]), array([ 0.06955122]), array([ 0.0670373]), array([ 0.53725549]), array([ 0.09032411]), array([ 0.07737281]), array([ 0.10557206]), array([ 0.08539645]), array([ 0.05440148]), array([ 0.05055648]), array([ 0.04787257]), array([ 0.28279612]), array([ 0.23119378]), array([ 0.04660137])]\n",
        "0.394022117846 1.73009601004\n"
       ]
      }
     ],
     "prompt_number": 565
    },
    {
     "cell_type": "code",
     "collapsed": false,
     "input": [
      "print np.divide(np.abs((np.mean(features_maxslope) - 54.725)), np.std(features_maxslope)) "
     ],
     "language": "python",
     "metadata": {},
     "outputs": [
      {
       "output_type": "stream",
       "stream": "stdout",
       "text": [
        "31.403446726\n"
       ]
      }
     ],
     "prompt_number": 564
    },
    {
     "cell_type": "code",
     "collapsed": false,
     "input": [
      "print mjd_test[:20]"
     ],
     "language": "python",
     "metadata": {},
     "outputs": [
      {
       "output_type": "stream",
       "stream": "stdout",
       "text": [
        "[ 49163.195116  49648.334387  51089.466771  50239.614225  49534.198495\n",
        "  50038.379792  48941.356863  49547.199248  50301.640856  49061.393819\n",
        "  49162.580833  49082.309687  49752.434282  49464.274375  49605.627824\n",
        "  48841.441516  49446.339815  50145.292014  48854.455266  50046.350023]\n"
       ]
      }
     ],
     "prompt_number": 567
    },
    {
     "cell_type": "code",
     "collapsed": false,
     "input": [
      "N = len(data)\n",
      "shuffle = np.arange(0, N)\n",
      "index = np.random.permutation(shuffle)\n",
      "index = np.sort(index[0:N/2])\n",
      "print index\n"
     ],
     "language": "python",
     "metadata": {},
     "outputs": [
      {
       "output_type": "stream",
       "stream": "stdout",
       "text": [
        "[   0    1    3    4    5    7   10   12   15   17   20   21   22   23   24\n",
        "   26   29   32   33   34   35   36   38   43   44   45   50   51   53   54\n",
        "   57   59   61   62   65   66   67   71   72   75   77   79   82   83   89\n",
        "   90   93   94   95   96   98   99  102  106  107  108  109  112  115  116\n",
        "  117  118  119  120  122  123  125  127  128  129  130  131  133  134  136\n",
        "  138  140  142  143  145  146  147  149  150  151  153  158  159  161  163\n",
        "  165  168  170  172  175  178  180  181  182  183  184  185  186  188  189\n",
        "  190  191  192  195  196  198  199  200  201  206  208  209  210  215  219\n",
        "  220  225  228  229  230  231  241  242  244  245  246  248  257  258  261\n",
        "  263  266  267  270  272  274  275  277  279  280  285  288  289  290  292\n",
        "  295  299  300  301  305  307  312  316  319  320  325  327  329  330  331\n",
        "  332  333  335  336  337  341  343  346  349  355  356  357  360  363  364\n",
        "  366  368  369  370  371  372  374  375  377  378  379  380  381  383  384\n",
        "  385  386  388  392  393  394  395  396  397  398  399  400  402  403  404\n",
        "  408  409  410  411  412  413  414  415  416  418  421  422  423  424  425\n",
        "  427  429  430  431  435  436  437  438  439  440  444  446  451  452  453\n",
        "  456  458  459  464  466  467  471  473  474  475  477  478  482  486  487\n",
        "  491  492  493  494  497  498  499  501  503  504  505  509  512  516  517\n",
        "  519  520  521  523  533  535  537  538  539  541  542  545  546  547  548\n",
        "  549  550  553  554  558  559  560  562  567  573  574  575  577  581  585\n",
        "  587  588  589  590  592  594  595  597  604  607  608  610  611  615  618\n",
        "  625  626  627  629  632  635  637  640  642  643  647  648  649  652  653\n",
        "  655  656  657  658  660  662  666  667  668  671  673  674  676  678  679\n",
        "  684  686  687  688  689  690  692  693  701  702  703  704  705  706  707\n",
        "  710  713  715  716  717  718  722  723  724  726  732  733  734  736  737\n",
        "  739  740  741  742  745  747  749  750  751  753  756  757  758  775  776\n",
        "  778  780  784  785  789  793  796  799  800  801  802  803  805  807  809\n",
        "  813  817  820  823  826  828  830  831  832  833  835  836  837  841  843\n",
        "  845  847  848  849  850  851  853  854  856  858  859  861  862  863  865\n",
        "  866  871  874  877  878  880  882  885  887  890  891  892  893  895  896\n",
        "  898  900  901  902  903  904  911  913  923  924  925  926  927  929  930\n",
        "  931  932  934  939  940  942  943  944  945  947  949  951  960  966  967\n",
        "  968  973  974  975  976  977  979  981  982  984  986  987  991  992  993\n",
        "  997 1002 1004 1006 1007 1009 1010 1011 1016 1017 1025 1026 1027 1028 1029\n",
        " 1031 1033 1034 1037 1038 1039 1040 1041 1044 1045 1047 1048 1050 1052 1054\n",
        " 1055 1056 1059 1063 1067 1068 1070 1071 1072 1073 1075 1077 1080 1081 1082\n",
        " 1084 1085 1087 1088 1092 1093 1094 1095 1099 1104 1105 1107 1109 1110 1111\n",
        " 1112 1113 1114 1115 1116 1117 1118 1119 1120 1122 1123 1125 1126 1127 1135\n",
        " 1136 1137 1138 1141 1145 1146 1147 1148 1153 1156 1157 1158 1160 1161 1164\n",
        " 1168 1170 1172 1173 1176 1177 1178 1179 1183 1186 1187 1192]\n"
       ]
      }
     ],
     "prompt_number": 572
    },
    {
     "cell_type": "code",
     "collapsed": false,
     "input": [],
     "language": "python",
     "metadata": {},
     "outputs": []
    }
   ],
   "metadata": {}
  }
 ]
}
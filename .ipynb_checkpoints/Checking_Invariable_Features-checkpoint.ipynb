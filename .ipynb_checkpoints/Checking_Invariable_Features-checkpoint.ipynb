{
 "metadata": {
  "name": "",
  "signature": "sha256:a885541d43ce012e73a3e3e3420841f92b1d893f1892400968f9e05a27c79b53"
 },
 "nbformat": 3,
 "nbformat_minor": 0,
 "worksheets": []
}
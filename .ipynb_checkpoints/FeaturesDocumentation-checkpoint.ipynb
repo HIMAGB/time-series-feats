{
 "metadata": {
  "name": "",
  "signature": "sha256:ce8e780a79b46b9aae63daf2e453bfb967cb09220dd95d7b86d850af46306772"
 },
 "nbformat": 3,
 "nbformat_minor": 0,
 "worksheets": [
  {
   "cells": [
    {
     "cell_type": "code",
     "collapsed": false,
     "input": [
      "from IPython.core.display import HTML\n",
      "css_file = './custom.css'\n",
      "HTML(open(css_file, \"r\").read())"
     ],
     "language": "python",
     "metadata": {
      "hide": true
     },
     "outputs": [
      {
       "html": [
        "<link href='http://fonts.googleapis.com/css?family=Alegreya+Sans:100,300,400,500,700,800,900,100italic,300italic,400italic,500italic,700italic,800italic,900italic' rel='stylesheet' type='text/css'>\n",
        "<link href='http://fonts.googleapis.com/css?family=Arvo:400,700,400italic' rel='stylesheet' type='text/css'>\n",
        "<link href='http://fonts.googleapis.com/css?family=PT+Mono' rel='stylesheet' type='text/css'>\n",
        "<link href='http://fonts.googleapis.com/css?family=Shadows+Into+Light' rel='stylesheet' type='text/css'>\n",
        "<link href='http://fonts.googleapis.com/css?family=Philosopher:400,700,400italic,700italic' rel='stylesheet' type='text/css'>\n",
        "\n",
        "\n",
        "<style>\n",
        "\n",
        "@font-face {\n",
        "    font-family: \"Computer Modern\";\n",
        "    src: url('http://mirrors.ctan.org/fonts/cm-unicode/fonts/otf/cmunss.otf');\n",
        "}\n",
        "\n",
        "#notebook_panel { /* main background */\n",
        "    background: #888;\n",
        "    color: #f6f6f6;\n",
        "}\n",
        "\n",
        "div.cell { /* set cell width to about 80 chars */\n",
        "    width: 1000px;\n",
        "}\n",
        "\n",
        "\n",
        "div #notebook { /* centre the content */\n",
        "    background: #fff; /* white background for content */\n",
        "    width: 1100px;\n",
        "    margin: auto;\n",
        "    padding-left: 1em;\n",
        "}\n",
        "\n",
        "\n",
        "#notebook li { /* More space between bullet points */\n",
        "margin-top:0.8em;\n",
        "}\n",
        "\n",
        "/* draw border around running cells */\n",
        "div.cell.border-box-sizing.code_cell.running {\n",
        "    border: 3px solid #111;\n",
        "}\n",
        "\n",
        "/* Put a solid color box around each cell and its output, visually linking them together */\n",
        "div.cell.code_cell {\n",
        "    background-color: rgba(171,165,131,0.3); \n",
        "    border-radius: 10px; /* rounded borders */\n",
        "    padding: 1em;\n",
        "    margin-top: 1em;\n",
        "}\n",
        "\n",
        "div.text_cell_render{\n",
        "    font-family: 'Alvo' sans-serif;\n",
        "    line-height: 130%;\n",
        "    font-size: 115%;\n",
        "    width:900px;\n",
        "    margin-left:auto;\n",
        "    margin-right:auto;\n",
        "}\n",
        "\n",
        "/* Formatting for header cells */\n",
        ".text_cell_render h1 {\n",
        "    font-family: 'Alvo', sans-serif;\n",
        "    font-weight: 400;\n",
        "    font-size: 40pt;\n",
        "    line-height: 100%;\n",
        "    color: black;\n",
        "    margin-bottom: 0.1em;\n",
        "    margin-top: 0.1em;\n",
        "    text-align: center;\n",
        "    display: block;\n",
        "    background-color:  #ADD8E6; \n",
        "    border-radius: 10px; /* rounded borders */\n",
        "    padding: 1em;\n",
        "    margin-top: 1em;\n",
        "}\n",
        "\n",
        ".text_cell_render h2 {\n",
        "    font-family: 'Alvo', sans-serif;\n",
        "    font-weight: 700;\n",
        "    font-size: 24pt;\n",
        "    line-height: 100%;\n",
        "    color: black;\n",
        "    margin-bottom: 0.1em;\n",
        "    margin-top: 0.1em;\n",
        "    display: block;\n",
        "    background-color:   #ACC4E6; \n",
        "    border-radius: 10px; /* rounded borders */\n",
        "    padding: 1em;\n",
        "    margin-top: 1em;\n",
        "}    \n",
        "\n",
        ".text_cell_render h3 {\n",
        "    font-family: 'Alvo', sans-serif;\n",
        "    margin-top:12px;\n",
        "    margin-bottom: 3px;\n",
        "    /*font-style: italic;*/\n",
        "    color: #E56717;\n",
        "}\n",
        "\n",
        ".text_cell_render h4 {\n",
        "    font-family: 'Alvo', sans-serif;\n",
        "    font-weight: 800;\n",
        "    font-size: 13pt;   \n",
        "    margin-top:12px;\n",
        "    margin-bottom: 3px;\n",
        "    color:#FF9949;\n",
        "}\n",
        "\n",
        ".text_cell_render h5 {\n",
        "    font-family: 'Alvo', sans-serif;\n",
        "    font-weight: 800;\n",
        "    font-size: 12pt;   \n",
        "    margin-top:12px;\n",
        "    margin-bottom: 3px;\n",
        "    color:  #6495ED;\n",
        "    font-style: normal;\n",
        "\n",
        "    \n",
        "}\n",
        "\n",
        ".text_cell_render h6 {\n",
        "    font-family: 'PT Mono', sans-serif;\n",
        "    font-weight: 300;\n",
        "    font-size: 10pt;\n",
        "    color: grey;\n",
        "    margin-bottom: 1px;\n",
        "    margin-top: 1px;\n",
        "}\n",
        "\n",
        ".CodeMirror{\n",
        "        font-family: \"PT Mono\";\n",
        "        font-size: 100%;\n",
        "}\n",
        "\n",
        "div.prompt { /* remove In/Out prompt */\n",
        "    display: none;\n",
        "}\n",
        "\n",
        "div.output_subarea { /* remove margin in front of output */\n",
        "    border: none;\n",
        "}\n",
        "\n",
        "</style>\n",
        "\n"
       ],
       "metadata": {},
       "output_type": "pyout",
       "prompt_number": 332,
       "text": [
        "<IPython.core.display.HTML at 0x10c52dc10>"
       ]
      }
     ],
     "prompt_number": 332
    },
    {
     "cell_type": "code",
     "collapsed": false,
     "input": [
      "%load_ext nbtoc\n",
      "%nbtoc"
     ],
     "language": "python",
     "metadata": {
      "hide": true
     },
     "outputs": [
      {
       "output_type": "stream",
       "stream": "stdout",
       "text": [
        "The nbtoc extension is already loaded. To reload it, use:\n",
        "  %reload_ext nbtoc\n"
       ]
      },
      {
       "html": [
        "<!-- extracted from https://gist.github.com/magican/5574556 -->\n",
        "<div id=\"toc-wrapper\">\n",
        "    <div class=\"header\">Contents <a href=\"#\" class=\"hide-btn\">[hide]</a></div>\n",
        "    <div id=\"toc\"></div>\n",
        "</div>\n",
        " \n",
        "<style>\n",
        "  #toc {\n",
        "    overflow-y: scroll;\n",
        "    max-height: 300px;\n",
        "  }\n",
        "  #toc-wrapper {\n",
        "    position: fixed; top: 120px; max-width:430px; right: 20px;\n",
        "    border: thin solid rgba(0, 0, 0, 0.38); opacity: .8;\n",
        "    border-radius: 5px; background-color: #fff; padding:10px;\n",
        "    z-index: 100;\n",
        "  }\n",
        "  #toc-wrapper.closed {\n",
        "      min-width: 100px;\n",
        "      width: auto;\n",
        "      transition: width;\n",
        "  }\n",
        "  #toc-wrapper:hover{\n",
        "      opacity:1;\n",
        "  }\n",
        "  #toc-wrapper .header {\n",
        "      font-size:18px; font-weight: bold;\n",
        "  }\n",
        "  #toc-wrapper .hide-btn {\n",
        "      font-size: 14px;\n",
        "  }\n",
        " \n",
        "</style>\n",
        "\n",
        "<style>\n",
        "  ol.nested {\n",
        "    counter-reset: item;\n",
        "    list-style: none;\n",
        "  }\n",
        "  li.nested {\n",
        "        display: block;\n",
        "    }\n",
        "  li.nested:before {\n",
        "        counter-increment: item;\n",
        "        content: counters(item, \".\")\" \";\n",
        "    }\n",
        "</style>\n"
       ],
       "metadata": {},
       "output_type": "display_data"
      },
      {
       "javascript": [
        "// adapted from https://gist.github.com/magican/5574556\n",
        "\n",
        "function clone_anchor(element) {\n",
        "  // clone link\n",
        "  var h = element.find(\"div.text_cell_render\").find(':header').first();\n",
        "  var a = h.find('a').clone();\n",
        "  var new_a = $(\"<a>\");\n",
        "  new_a.attr(\"href\", a.attr(\"href\"));\n",
        "  // get the text *excluding* the link text, whatever it may be\n",
        "  var hclone = h.clone();\n",
        "  hclone.children().remove();\n",
        "  new_a.text(hclone.text());\n",
        "  return new_a;\n",
        "}\n",
        "\n",
        "function ol_depth(element) {\n",
        "  // get depth of nested ol\n",
        "  var d = 0;\n",
        "  while (element.prop(\"tagName\").toLowerCase() == 'ol') {\n",
        "    d += 1;\n",
        "    element = element.parent();\n",
        "  }\n",
        "  return d;\n",
        "}\n",
        "\n",
        "function table_of_contents(threshold) {\n",
        "  if (threshold === undefined) {\n",
        "    threshold = 4;\n",
        "  }\n",
        "  var cells = IPython.notebook.get_cells();\n",
        "  \n",
        "  var ol = $(\"<ol/>\");\n",
        "  $(\"#toc\").empty().append(ol);\n",
        "  \n",
        "  for (var i=0; i < cells.length; i++) {\n",
        "    var cell = cells[i];\n",
        "    \n",
        "    if (cell.cell_type !== 'heading') continue;\n",
        "    \n",
        "    var level = cell.level;\n",
        "    if (level > threshold) continue;\n",
        "    \n",
        "    var depth = ol_depth(ol);\n",
        "\n",
        "    // walk down levels\n",
        "    for (; depth < level; depth++) {\n",
        "      var new_ol = $(\"<ol/>\");\n",
        "      ol.append(new_ol);\n",
        "      ol = new_ol;\n",
        "    }\n",
        "    // walk up levels\n",
        "    for (; depth > level; depth--) {\n",
        "      ol = ol.parent();\n",
        "    }\n",
        "    //\n",
        "    ol.append(\n",
        "      $(\"<li/>\").append(clone_anchor(cell.element))\n",
        "    );\n",
        "  }\n",
        "\n",
        "  $('#toc-wrapper .header').click(function(){\n",
        "    $('#toc').slideToggle();\n",
        "    $('#toc-wrapper').toggleClass('closed');\n",
        "    if ($('#toc-wrapper').hasClass('closed')){\n",
        "      $('#toc-wrapper .hide-btn').text('[show]');\n",
        "    } else {\n",
        "      $('#toc-wrapper .hide-btn').text('[hide]');\n",
        "    }\n",
        "    return false;\n",
        "  })\n",
        "\n",
        "  $(window).resize(function(){\n",
        "    $('#toc').css({maxHeight: $(window).height() - 200})\n",
        "  })\n",
        "\n",
        "  $(window).trigger('resize')\n",
        "}\n",
        "\n",
        "table_of_contents();\n",
        "\n",
        "\n"
       ],
       "metadata": {},
       "output_type": "display_data"
      }
     ],
     "prompt_number": 333
    },
    {
     "cell_type": "heading",
     "level": 1,
     "metadata": {},
     "source": [
      "Feature Analysis for Time Series "
     ]
    },
    {
     "cell_type": "markdown",
     "metadata": {},
     "source": [
      "<center>**Authors:** Isadora Nun, Pavlos Protopapas\n",
      "\n",
      "**Contributors:** Karim Pichara, Daniel Acu\u00f1a, Nicol\u00e1s Castro, Cristobal Mackenzie, Andr\u00e9s Riveros and Ming Zhu<center>"
     ]
    },
    {
     "cell_type": "heading",
     "level": 2,
     "metadata": {},
     "source": [
      "Introduction"
     ]
    },
    {
     "cell_type": "markdown",
     "metadata": {},
     "source": [
      "In time-domain astronomy, where data is in the form of light-curves, a typical classification method uses features of the light-curves and applies sophisticated machine learning to classify objects in a multidimensional features space. Features are numerical descriptors that aim to characterize and distinguish different variability classes. They can go from basic statistical measures as the mean or the standard deviation to time-series characteristics as the autocorrelation.\n",
      "\n",
      "In this document we present a library with a compilation of some of the existing light-curves features. The main idea is to create a collaborative and open tool where every user can characterize or analize an astronomical photometric data base but also contribute with the library by adding new features."
     ]
    },
    {
     "cell_type": "code",
     "collapsed": false,
     "input": [
      "%load_ext autoreload\n",
      "%autoreload 2\n",
      "\n",
      "from IPython.display import Image\n",
      "\n",
      "%reload_ext autoreload"
     ],
     "language": "python",
     "metadata": {},
     "outputs": [
      {
       "output_type": "stream",
       "stream": "stdout",
       "text": [
        "The autoreload extension is already loaded. To reload it, use:\n",
        "  %reload_ext autoreload\n"
       ]
      }
     ],
     "prompt_number": 334
    },
    {
     "cell_type": "code",
     "collapsed": false,
     "input": [
      "from IPython.display import YouTubeVideo\n",
      "YouTubeVideo('qMx4ozpSRuE',  width=750, height=360, align='right')"
     ],
     "language": "python",
     "metadata": {},
     "outputs": [
      {
       "html": [
        "\n",
        "        <iframe\n",
        "            width=\"750\"\n",
        "            height=360\"\n",
        "            src=\"https://www.youtube.com/embed/qMx4ozpSRuE?align=right\"\n",
        "            frameborder=\"0\"\n",
        "            allowfullscreen\n",
        "        ></iframe>\n",
        "        "
       ],
       "metadata": {},
       "output_type": "pyout",
       "prompt_number": 2,
       "text": [
        "<IPython.lib.display.YouTubeVideo at 0x1023b32d0>"
       ]
      }
     ],
     "prompt_number": 2
    },
    {
     "cell_type": "heading",
     "level": 2,
     "metadata": {},
     "source": [
      "The library"
     ]
    },
    {
     "cell_type": "heading",
     "level": 3,
     "metadata": {},
     "source": [
      "Library structure"
     ]
    },
    {
     "cell_type": "markdown",
     "metadata": {},
     "source": [
      "The library is coded in python and can be downloaded for free from the github website https://github.com/isadoranun/time-series-feats.git\n",
      "It receives as input the magnitude of the light-curve and it is composed by two main parts. The first one, Feature.py, is a wrapper class that allows the user to select the category of the features to be calculated or to specify a list of them. The second one, FeatureFunciontLib.py, contains the actual code for calculating the features. Each feature has its own class with at least two functions:\n",
      "\n",
      "**init:** receives the necessary inputs (other than the magnitude) for the feature calculation (ex: observational error, observational time, magnitude in a different color band, etc.). It also defines the feature category, \"times-series\" or \"basic\". \n",
      "\n",
      "**fit:**  returns the calculated feature. The output can only take one value.\n",
      "\n",
      "The following code is an example of a class in FeatureFunciontLib.py that calculates the color feature (difference of the mean magnitude in two different bands) :\n",
      "\n",
      "class B_R(Base):\n",
      "        \n",
      "       #Lightcurve average color  \n",
      "       #mean(B) - mean(R)\n",
      "    \n",
      "        def __init__(self, second_data):\n",
      "        self.category='timeSeries'\n",
      "        if second_data is None:\n",
      "            print \"please provide another data series to compute B_R\"\n",
      "            sys.exit(1)\n",
      "        self.data2 = second_data\n",
      "      \n",
      "        def fit(self, data):\n",
      "        return np.mean(data) - np.mean(self.data2)\n",
      "\n",
      "It is important to specify the extra inputs when"
     ]
    },
    {
     "cell_type": "heading",
     "level": 3,
     "metadata": {},
     "source": [
      "Importing a light curve"
     ]
    },
    {
     "cell_type": "markdown",
     "metadata": {},
     "source": [
      "In order to analize a light curve, it is first necessary to open the file that contains it. This file should be an array composed by at least four vectors: magnitude in two different bands, time of measurement and the associated observational error. For example, the function LeerLC_MACHO() receives a MACHO id as an input and returns the following output:\n",
      "- data: magnitude measurement (blue band)\n",
      "- mjd: time of measurement (blue band)\n",
      "- error: associated observational error (blue band)\n",
      "- second_data: magnitude measurement (red band)\n",
      "\n",
      "A demostration of how to import a MACHO light curve is presented below:"
     ]
    },
    {
     "cell_type": "code",
     "collapsed": false,
     "input": [
      "%matplotlib inline\n",
      "from Feature import FeatureSpace\n",
      "import numpy as np\n",
      "import matplotlib.pyplot as plt\n",
      "import seaborn as sns\n",
      "import statsmodels.graphics.tsaplots as tsaplots\n",
      "from  statsmodels.tsa import stattools\n",
      "import pandas \n",
      "from import_lightcurve import LeerLC_MACHO\n",
      "from alignLC import Align_LC\n",
      "from PreprocessLC import Preprocess_LC\n",
      "from create_table import Table"
     ],
     "language": "python",
     "metadata": {},
     "outputs": [],
     "prompt_number": 335
    },
    {
     "cell_type": "code",
     "collapsed": false,
     "input": [
      "lc_B = LeerLC_MACHO('lc_1.3444.614.B.mjd')  #58.6272.729 1.3444.614 1.4652.1527\n",
      "lc_R = LeerLC_MACHO('lc_1.3444.614.R.mjd')\n",
      "\n",
      "[data, mjd, error] = lc_B.leerLC()\n",
      "[data2, mjd2, error2] = lc_R.leerLC()\n",
      "\n",
      "#We preprocess the data\n",
      "preproccesed_data = Preprocess_LC(data, mjd, error)\n",
      "[data, mjd, error] = preproccesed_data.Preprocess()\n",
      "\n",
      "preproccesed_data = Preprocess_LC(data2, mjd2, error2)\n",
      "[second_data, mjd2, error2] = preproccesed_data.Preprocess()\n",
      "\n",
      "#We synchronize the data\n",
      "if len(data) != len(second_data):\n",
      "    [aligned_data, aligned_second_data, aligned_mjd] = Align_LC(mjd, mjd2, data, second_data, error, error2)"
     ],
     "language": "python",
     "metadata": {},
     "outputs": [],
     "prompt_number": 336
    },
    {
     "cell_type": "markdown",
     "metadata": {},
     "source": [
      "For a visual representation of the light curve, we can plot the data as follows: "
     ]
    },
    {
     "cell_type": "code",
     "collapsed": false,
     "input": [
      "Color = [ 1 ,0.498039, 0.313725];\n",
      "p = plt.plot(mjd, data, '*-', color=Color)\n",
      "plt.xlabel(\"MJD\")\n",
      "plt.ylabel(\"Magnitude\")\n",
      "plt.gca().invert_yaxis()\n",
      "print np.std(data)/np.mean(data)"
     ],
     "language": "python",
     "metadata": {},
     "outputs": [
      {
       "output_type": "stream",
       "stream": "stdout",
       "text": [
        "-0.0239225135894\n"
       ]
      },
      {
       "metadata": {},
       "output_type": "display_data",
       "png": "[encoded data removed]",
       "text": [
        "<matplotlib.figure.Figure at 0x10b3aeed0>"
       ]
      }
     ],
     "prompt_number": 106
    },
    {
     "cell_type": "markdown",
     "metadata": {},
     "source": [
      "Note: for periodic light curves we are able to transform the photometric time\n",
      "series into a single light-curve in which each period is mapped onto the same time axis as follows:\n",
      "$$ t'=\\{\\frac{t-t_0}{T}\\} $$\n",
      "\n",
      "where $T$ is the period, $t_0$ is an arbitrary starting point and the symbol {} represents the non-integer part of the fraction. This process produces a folded light curve on an x-axis of\n",
      "folded time that ranges from 0 to 1. The corresponding folded light curve of the previous example is shown next:"
     ]
    },
    {
     "cell_type": "code",
     "collapsed": false,
     "input": [
      "Color = [ 0.392157, 0.584314 ,0.929412];\n",
      "T = 2 * 0.93697446\n",
      "new_b=np.mod(mjd, T) / T;\n",
      "idx=np.argsort(2*new_b)\n",
      "plt.plot( new_b, data, '*', color = Color)\n",
      "plt.xlabel(\"Phase\")\n",
      "plt.ylabel(\"Magnitude\")\n",
      "plt.gca().invert_yaxis()"
     ],
     "language": "python",
     "metadata": {},
     "outputs": [
      {
       "metadata": {},
       "output_type": "display_data",
       "png": "[encoded data removed]",
       "text": [
        "<matplotlib.figure.Figure at 0x10b056750>"
       ]
      }
     ],
     "prompt_number": 107
    },
    {
     "cell_type": "heading",
     "level": 3,
     "metadata": {},
     "source": [
      "Choosing the features"
     ]
    },
    {
     "cell_type": "markdown",
     "metadata": {},
     "source": [
      "The library we created allows the user to choose the features of interest to be calculated or to calculate them all simultaneously. Also, the features can be calculated based on their category: \"basic\" or \"time series\". \n",
      "\n",
      "By default the library receives only the magnitude data as input. Some features need extra data as the times of measurement or the associated error, this must be specified as a parameter of the feature. \n",
      "\n",
      "The list of all the possible features with their corresponding categories and parameters is presented in the following table: "
     ]
    },
    {
     "cell_type": "code",
     "collapsed": false,
     "input": [
      "from ipy_table import *\n",
      "FeaturesList = [\n",
      "    ['Feature','Category','Parameter(s)'],['Amplitude','basic',''],['Anderson-Darling test','timeSeries',''],['B_R','timeSeries','second_data'],['Beyond1StdL','basic','error'],['Bmean','basic',''],['Con','timeSeries',''],['Eta_B_R','timeSeries','aligned_second_data, aligned_data, aligned_mjd'],['Eta_e','timeSeries','mjd'],['FluxPercentileRatioMid20','basic',''],['FluxPercentileRatioMid35','basic',''],['FluxPercentileRatioMid50','basic',''],['FluxPercentileRatioMid65','basic',''],['FluxPercentileRatioMid80','basic',''],['LinearTrend','timeSeries','mjd'],['MaxSlope','timeSeries','mjd'],['MedianAbsDev','basic',''],['MedianBRP','basic',''],['PairSlopeTrend','timeSeries',''],['PercentAmplitude','basic',''],['PercentDifferenceFluxPercentile','basic',''],['PeriodLS','timeSeries','mjd'],['Q31','basic',''],['Q31B_R','timeSeries','aligned_second_data, aligned_data'],['Rcs','timeSeries',''],['Skew','basic',''],['SmallKurtosis','basic',''],['Std' ,'basic',''],['StetsonJ','timeSeries','aligned_second_data, aligned_data'],['StetsonK','timeSeries',''], ['StetsonK_AC','timeSeries',''],['StetsonL','timeSeries','aligned_second_data, aligned_data'],['VariablityIndex','timeSeries',''],['autocor','timeSeries',''],['automean','basic','2 parameters'],['meanvariance','basic','']];\n",
      "make_table(FeaturesList)\n",
      "apply_theme('basic')\n",
      "set_global_style(float_format='%0.3E')"
     ],
     "language": "python",
     "metadata": {},
     "outputs": [
      {
       "html": [
        "<table border=\"1\" cellpadding=\"3\" cellspacing=\"0\"  style=\"border:1px solid black;border-collapse:collapse;\"><tr><td  style=\"background-color:LightGray;\"><b>Feature</b></td><td  style=\"background-color:LightGray;\"><b>Category</b></td><td  style=\"background-color:LightGray;\"><b>Parameter(s)</b></td></tr><tr><td  style=\"background-color:Ivory;\">Amplitude</td><td  style=\"background-color:Ivory;\">basic</td><td  style=\"background-color:Ivory;\"></td></tr><tr><td  style=\"background-color:AliceBlue;\">Anderson-Darling&nbsptest</td><td  style=\"background-color:AliceBlue;\">timeSeries</td><td  style=\"background-color:AliceBlue;\"></td></tr><tr><td  style=\"background-color:Ivory;\">B_R</td><td  style=\"background-color:Ivory;\">timeSeries</td><td  style=\"background-color:Ivory;\">second_data</td></tr><tr><td  style=\"background-color:AliceBlue;\">Beyond1StdL</td><td  style=\"background-color:AliceBlue;\">basic</td><td  style=\"background-color:AliceBlue;\">error</td></tr><tr><td  style=\"background-color:Ivory;\">Bmean</td><td  style=\"background-color:Ivory;\">basic</td><td  style=\"background-color:Ivory;\"></td></tr><tr><td  style=\"background-color:AliceBlue;\">Con</td><td  style=\"background-color:AliceBlue;\">timeSeries</td><td  style=\"background-color:AliceBlue;\"></td></tr><tr><td  style=\"background-color:Ivory;\">Eta_B_R</td><td  style=\"background-color:Ivory;\">timeSeries</td><td  style=\"background-color:Ivory;\">aligned_second_data,&nbspaligned_data,&nbspaligned_mjd</td></tr><tr><td  style=\"background-color:AliceBlue;\">Eta_e</td><td  style=\"background-color:AliceBlue;\">timeSeries</td><td  style=\"background-color:AliceBlue;\">mjd</td></tr><tr><td  style=\"background-color:Ivory;\">FluxPercentileRatioMid20</td><td  style=\"background-color:Ivory;\">basic</td><td  style=\"background-color:Ivory;\"></td></tr><tr><td  style=\"background-color:AliceBlue;\">FluxPercentileRatioMid35</td><td  style=\"background-color:AliceBlue;\">basic</td><td  style=\"background-color:AliceBlue;\"></td></tr><tr><td  style=\"background-color:Ivory;\">FluxPercentileRatioMid50</td><td  style=\"background-color:Ivory;\">basic</td><td  style=\"background-color:Ivory;\"></td></tr><tr><td  style=\"background-color:AliceBlue;\">FluxPercentileRatioMid65</td><td  style=\"background-color:AliceBlue;\">basic</td><td  style=\"background-color:AliceBlue;\"></td></tr><tr><td  style=\"background-color:Ivory;\">FluxPercentileRatioMid80</td><td  style=\"background-color:Ivory;\">basic</td><td  style=\"background-color:Ivory;\"></td></tr><tr><td  style=\"background-color:AliceBlue;\">LinearTrend</td><td  style=\"background-color:AliceBlue;\">timeSeries</td><td  style=\"background-color:AliceBlue;\">mjd</td></tr><tr><td  style=\"background-color:Ivory;\">MaxSlope</td><td  style=\"background-color:Ivory;\">timeSeries</td><td  style=\"background-color:Ivory;\">mjd</td></tr><tr><td  style=\"background-color:AliceBlue;\">MedianAbsDev</td><td  style=\"background-color:AliceBlue;\">basic</td><td  style=\"background-color:AliceBlue;\"></td></tr><tr><td  style=\"background-color:Ivory;\">MedianBRP</td><td  style=\"background-color:Ivory;\">basic</td><td  style=\"background-color:Ivory;\"></td></tr><tr><td  style=\"background-color:AliceBlue;\">PairSlopeTrend</td><td  style=\"background-color:AliceBlue;\">timeSeries</td><td  style=\"background-color:AliceBlue;\"></td></tr><tr><td  style=\"background-color:Ivory;\">PercentAmplitude</td><td  style=\"background-color:Ivory;\">basic</td><td  style=\"background-color:Ivory;\"></td></tr><tr><td  style=\"background-color:AliceBlue;\">PercentDifferenceFluxPercentile</td><td  style=\"background-color:AliceBlue;\">basic</td><td  style=\"background-color:AliceBlue;\"></td></tr><tr><td  style=\"background-color:Ivory;\">PeriodLS</td><td  style=\"background-color:Ivory;\">timeSeries</td><td  style=\"background-color:Ivory;\">mjd</td></tr><tr><td  style=\"background-color:AliceBlue;\">Q31</td><td  style=\"background-color:AliceBlue;\">basic</td><td  style=\"background-color:AliceBlue;\"></td></tr><tr><td  style=\"background-color:Ivory;\">Q31B_R</td><td  style=\"background-color:Ivory;\">timeSeries</td><td  style=\"background-color:Ivory;\">aligned_second_data,&nbspaligned_data</td></tr><tr><td  style=\"background-color:AliceBlue;\">Rcs</td><td  style=\"background-color:AliceBlue;\">timeSeries</td><td  style=\"background-color:AliceBlue;\"></td></tr><tr><td  style=\"background-color:Ivory;\">Skew</td><td  style=\"background-color:Ivory;\">basic</td><td  style=\"background-color:Ivory;\"></td></tr><tr><td  style=\"background-color:AliceBlue;\">SmallKurtosis</td><td  style=\"background-color:AliceBlue;\">basic</td><td  style=\"background-color:AliceBlue;\"></td></tr><tr><td  style=\"background-color:Ivory;\">Std</td><td  style=\"background-color:Ivory;\">basic</td><td  style=\"background-color:Ivory;\"></td></tr><tr><td  style=\"background-color:AliceBlue;\">StetsonJ</td><td  style=\"background-color:AliceBlue;\">timeSeries</td><td  style=\"background-color:AliceBlue;\">aligned_second_data,&nbspaligned_data</td></tr><tr><td  style=\"background-color:Ivory;\">StetsonK</td><td  style=\"background-color:Ivory;\">timeSeries</td><td  style=\"background-color:Ivory;\"></td></tr><tr><td  style=\"background-color:AliceBlue;\">StetsonK_AC</td><td  style=\"background-color:AliceBlue;\">timeSeries</td><td  style=\"background-color:AliceBlue;\"></td></tr><tr><td  style=\"background-color:Ivory;\">StetsonL</td><td  style=\"background-color:Ivory;\">timeSeries</td><td  style=\"background-color:Ivory;\">aligned_second_data,&nbspaligned_data</td></tr><tr><td  style=\"background-color:AliceBlue;\">VariablityIndex</td><td  style=\"background-color:AliceBlue;\">timeSeries</td><td  style=\"background-color:AliceBlue;\"></td></tr><tr><td  style=\"background-color:Ivory;\">autocor</td><td  style=\"background-color:Ivory;\">timeSeries</td><td  style=\"background-color:Ivory;\"></td></tr><tr><td  style=\"background-color:AliceBlue;\">automean</td><td  style=\"background-color:AliceBlue;\">basic</td><td  style=\"background-color:AliceBlue;\">2&nbspparameters</td></tr><tr><td  style=\"background-color:Ivory;\">meanvariance</td><td  style=\"background-color:Ivory;\">basic</td><td  style=\"background-color:Ivory;\"></td></tr></table>"
       ],
       "metadata": {},
       "output_type": "pyout",
       "prompt_number": 108,
       "text": [
        "<ipy_table.IpyTable at 0x10c320c50>"
       ]
      }
     ],
     "prompt_number": 108
    },
    {
     "cell_type": "markdown",
     "metadata": {},
     "source": [
      "Some examples of how to use the library are presented next:"
     ]
    },
    {
     "cell_type": "heading",
     "level": 4,
     "metadata": {},
     "source": [
      "- List of features as an input:"
     ]
    },
    {
     "cell_type": "code",
     "collapsed": false,
     "input": [
      "a = FeatureSpace(featureList=['Std','StetsonL'], StetsonL=[aligned_second_data, aligned_data])\n",
      "a=a.calculateFeature(data)\n",
      "\n",
      "Table(a)"
     ],
     "language": "python",
     "metadata": {},
     "outputs": [
      {
       "html": [
        "<table border=\"1\" cellpadding=\"3\" cellspacing=\"0\"  style=\"border:1px solid black;border-collapse:collapse;\"><tr><td  style=\"background-color:LightGray;\"><b>Feature</b></td><td  style=\"background-color:LightGray;\"><b>Value</b></td></tr><tr><td  style=\"background-color:Ivory;\">Std</td><td  style=\"background-color:Ivory;\">0.142</td></tr><tr><td  style=\"background-color:AliceBlue;\">StetsonL</td><td  style=\"background-color:AliceBlue;\">0.322</td></tr></table>"
       ],
       "metadata": {},
       "output_type": "pyout",
       "prompt_number": 109,
       "text": [
        "<ipy_table.IpyTable at 0x10c6446d0>"
       ]
      }
     ],
     "prompt_number": 109
    },
    {
     "cell_type": "heading",
     "level": 4,
     "metadata": {},
     "source": [
      "- Category as an input:\n"
     ]
    },
    {
     "cell_type": "code",
     "collapsed": false,
     "input": [
      "a = FeatureSpace(category=['timeSeries'], automean=[0,0], StetsonL=[aligned_second_data, aligned_data] ,  B_R=second_data, Beyond1Std=error, StetsonJ=[aligned_second_data, aligned_data], MaxSlope=mjd, LinearTrend=mjd, Eta_B_R=[aligned_second_data, aligned_data, aligned_mjd], Eta_e=mjd, Q31B_R=[aligned_second_data, aligned_data], PeriodLS=mjd, CAR_sigma = [mjd, error**2], SlottedA = mjd)\n",
      "a=a.calculateFeature(data)\n",
      "\n",
      "Table(a)"
     ],
     "language": "python",
     "metadata": {},
     "outputs": [
      {
       "html": [
        "<table border=\"1\" cellpadding=\"3\" cellspacing=\"0\"  style=\"border:1px solid black;border-collapse:collapse;\"><tr><td  style=\"background-color:LightGray;\"><b>Feature</b></td><td  style=\"background-color:LightGray;\"><b>Value</b></td></tr><tr><td  style=\"background-color:Ivory;\">AndersonDarling</td><td  style=\"background-color:Ivory;\">1.000</td></tr><tr><td  style=\"background-color:AliceBlue;\">B_R</td><td  style=\"background-color:AliceBlue;\">-0.333</td></tr><tr><td  style=\"background-color:Ivory;\">CAR_sigma</td><td  style=\"background-color:Ivory;\">1.539</td></tr><tr><td  style=\"background-color:AliceBlue;\">CAR_tau</td><td  style=\"background-color:AliceBlue;\">0.017</td></tr><tr><td  style=\"background-color:Ivory;\">CAR_tmean</td><td  style=\"background-color:Ivory;\">-352.772</td></tr><tr><td  style=\"background-color:AliceBlue;\">Con</td><td  style=\"background-color:AliceBlue;\">0.000</td></tr><tr><td  style=\"background-color:Ivory;\">Eta_B_R</td><td  style=\"background-color:Ivory;\">12930.685</td></tr><tr><td  style=\"background-color:AliceBlue;\">Eta_e</td><td  style=\"background-color:AliceBlue;\">905.636</td></tr><tr><td  style=\"background-color:Ivory;\">LinearTrend</td><td  style=\"background-color:Ivory;\">0.000</td></tr><tr><td  style=\"background-color:AliceBlue;\">MaxSlope</td><td  style=\"background-color:AliceBlue;\">54.725</td></tr><tr><td  style=\"background-color:Ivory;\">PairSlopeTrend</td><td  style=\"background-color:Ivory;\">0.033</td></tr><tr><td  style=\"background-color:AliceBlue;\">PeriodLS</td><td  style=\"background-color:AliceBlue;\">0.937</td></tr><tr><td  style=\"background-color:Ivory;\">Period_fit</td><td  style=\"background-color:Ivory;\">0.000</td></tr><tr><td  style=\"background-color:AliceBlue;\">Q31B_R</td><td  style=\"background-color:AliceBlue;\">0.106</td></tr><tr><td  style=\"background-color:Ivory;\">Rcs</td><td  style=\"background-color:Ivory;\">41.766</td></tr><tr><td  style=\"background-color:AliceBlue;\">SlottedA</td><td  style=\"background-color:AliceBlue;\">4.000</td></tr><tr><td  style=\"background-color:Ivory;\">StetsonJ</td><td  style=\"background-color:Ivory;\">0.554</td></tr><tr><td  style=\"background-color:AliceBlue;\">StetsonK</td><td  style=\"background-color:AliceBlue;\">0.761</td></tr><tr><td  style=\"background-color:Ivory;\">StetsonK_AC</td><td  style=\"background-color:Ivory;\">0.872</td></tr><tr><td  style=\"background-color:AliceBlue;\">StetsonL</td><td  style=\"background-color:AliceBlue;\">0.322</td></tr><tr><td  style=\"background-color:Ivory;\">autocor</td><td  style=\"background-color:Ivory;\">2.000</td></tr></table>"
       ],
       "metadata": {},
       "output_type": "pyout",
       "prompt_number": 110,
       "text": [
        "<ipy_table.IpyTable at 0x10c631190>"
       ]
      }
     ],
     "prompt_number": 110
    },
    {
     "cell_type": "heading",
     "level": 4,
     "metadata": {},
     "source": [
      "- All the features:"
     ]
    },
    {
     "cell_type": "code",
     "collapsed": false,
     "input": [
      "a = FeatureSpace(category='all',featureList=None, automean=[0,0], StetsonL=[aligned_second_data, aligned_data] ,  B_R=second_data, Beyond1Std=error, StetsonJ=[aligned_second_data, aligned_data], MaxSlope=mjd, LinearTrend=mjd, Eta_B_R=[aligned_second_data, aligned_data, aligned_mjd], Eta_e=mjd, Q31B_R=[aligned_second_data, aligned_data], PeriodLS=mjd, CAR_sigma=[mjd, error], SlottedA = mjd)\n",
      "a=a.calculateFeature(data)\n",
      "\n",
      "Table(a)"
     ],
     "language": "python",
     "metadata": {},
     "outputs": [
      {
       "html": [
        "<table border=\"1\" cellpadding=\"3\" cellspacing=\"0\"  style=\"border:1px solid black;border-collapse:collapse;\"><tr><td  style=\"background-color:LightGray;\"><b>Feature</b></td><td  style=\"background-color:LightGray;\"><b>Value</b></td></tr><tr><td  style=\"background-color:Ivory;\">Amplitude</td><td  style=\"background-color:Ivory;\">0.266</td></tr><tr><td  style=\"background-color:AliceBlue;\">AndersonDarling</td><td  style=\"background-color:AliceBlue;\">1.000</td></tr><tr><td  style=\"background-color:Ivory;\">B_R</td><td  style=\"background-color:Ivory;\">-0.333</td></tr><tr><td  style=\"background-color:AliceBlue;\">Beyond1Std</td><td  style=\"background-color:AliceBlue;\">0.223</td></tr><tr><td  style=\"background-color:Ivory;\">Bmean</td><td  style=\"background-color:Ivory;\">-5.918</td></tr><tr><td  style=\"background-color:AliceBlue;\">CAR_sigma</td><td  style=\"background-color:AliceBlue;\">-0.219</td></tr><tr><td  style=\"background-color:Ivory;\">CAR_tau</td><td  style=\"background-color:Ivory;\">0.641</td></tr><tr><td  style=\"background-color:AliceBlue;\">CAR_tmean</td><td  style=\"background-color:AliceBlue;\">-9.231</td></tr><tr><td  style=\"background-color:Ivory;\">Con</td><td  style=\"background-color:Ivory;\">0.000</td></tr><tr><td  style=\"background-color:AliceBlue;\">Eta_B_R</td><td  style=\"background-color:AliceBlue;\">12930.685</td></tr><tr><td  style=\"background-color:Ivory;\">Eta_e</td><td  style=\"background-color:Ivory;\">905.636</td></tr><tr><td  style=\"background-color:AliceBlue;\">FluxPercentileRatioMid20</td><td  style=\"background-color:AliceBlue;\">0.089</td></tr><tr><td  style=\"background-color:Ivory;\">FluxPercentileRatioMid35</td><td  style=\"background-color:Ivory;\">0.179</td></tr><tr><td  style=\"background-color:AliceBlue;\">FluxPercentileRatioMid50</td><td  style=\"background-color:AliceBlue;\">0.315</td></tr><tr><td  style=\"background-color:Ivory;\">FluxPercentileRatioMid65</td><td  style=\"background-color:Ivory;\">0.522</td></tr><tr><td  style=\"background-color:AliceBlue;\">FluxPercentileRatioMid80</td><td  style=\"background-color:AliceBlue;\">0.801</td></tr><tr><td  style=\"background-color:Ivory;\">LinearTrend</td><td  style=\"background-color:Ivory;\">0.000</td></tr><tr><td  style=\"background-color:AliceBlue;\">MaxSlope</td><td  style=\"background-color:AliceBlue;\">54.725</td></tr><tr><td  style=\"background-color:Ivory;\">MedianAbsDev</td><td  style=\"background-color:Ivory;\">0.054</td></tr><tr><td  style=\"background-color:AliceBlue;\">MedianBRP</td><td  style=\"background-color:AliceBlue;\">0.745</td></tr><tr><td  style=\"background-color:Ivory;\">PairSlopeTrend</td><td  style=\"background-color:Ivory;\">0.033</td></tr><tr><td  style=\"background-color:AliceBlue;\">PercentAmplitude</td><td  style=\"background-color:AliceBlue;\">-0.113</td></tr><tr><td  style=\"background-color:Ivory;\">PercentDifferenceFluxPercentile</td><td  style=\"background-color:Ivory;\">-0.075</td></tr><tr><td  style=\"background-color:AliceBlue;\">PeriodLS</td><td  style=\"background-color:AliceBlue;\">0.937</td></tr><tr><td  style=\"background-color:Ivory;\">Period_fit</td><td  style=\"background-color:Ivory;\">0.000</td></tr><tr><td  style=\"background-color:AliceBlue;\">Q31</td><td  style=\"background-color:AliceBlue;\">0.141</td></tr><tr><td  style=\"background-color:Ivory;\">Q31B_R</td><td  style=\"background-color:Ivory;\">0.106</td></tr><tr><td  style=\"background-color:AliceBlue;\">Rcs</td><td  style=\"background-color:AliceBlue;\">41.766</td></tr><tr><td  style=\"background-color:Ivory;\">Skew</td><td  style=\"background-color:Ivory;\">0.956</td></tr><tr><td  style=\"background-color:AliceBlue;\">SlottedA</td><td  style=\"background-color:AliceBlue;\">4.000</td></tr><tr><td  style=\"background-color:Ivory;\">SmallKurtosis</td><td  style=\"background-color:Ivory;\">1.379</td></tr><tr><td  style=\"background-color:AliceBlue;\">Std</td><td  style=\"background-color:AliceBlue;\">0.142</td></tr><tr><td  style=\"background-color:Ivory;\">StetsonJ</td><td  style=\"background-color:Ivory;\">0.554</td></tr><tr><td  style=\"background-color:AliceBlue;\">StetsonK</td><td  style=\"background-color:AliceBlue;\">0.761</td></tr><tr><td  style=\"background-color:Ivory;\">StetsonK_AC</td><td  style=\"background-color:Ivory;\">0.872</td></tr><tr><td  style=\"background-color:AliceBlue;\">StetsonL</td><td  style=\"background-color:AliceBlue;\">0.322</td></tr><tr><td  style=\"background-color:Ivory;\">autocor</td><td  style=\"background-color:Ivory;\">2.000</td></tr><tr><td  style=\"background-color:AliceBlue;\">automean</td><td  style=\"background-color:AliceBlue;\">-5.918</td></tr><tr><td  style=\"background-color:Ivory;\">meanvariance</td><td  style=\"background-color:Ivory;\">-0.024</td></tr></table>"
       ],
       "metadata": {},
       "output_type": "pyout",
       "prompt_number": 111,
       "text": [
        "<ipy_table.IpyTable at 0x10c6311d0>"
       ]
      }
     ],
     "prompt_number": 111
    },
    {
     "cell_type": "heading",
     "level": 2,
     "metadata": {},
     "source": [
      "The features"
     ]
    },
    {
     "cell_type": "markdown",
     "metadata": {},
     "source": [
      "The next section details the features that we have developed in order to describe the light curves. \n",
      "Every feature is described and tested with a suitable experiment to prove its validity.\n",
      "\n",
      "Note: Each feature was also tested to check its invariance to unequal sampling. The tests can be found in the following link. "
     ]
    },
    {
     "cell_type": "heading",
     "level": 4,
     "metadata": {},
     "source": [
      "Standard deviaton"
     ]
    },
    {
     "cell_type": "markdown",
     "metadata": {},
     "source": [
      "The standard deviation $\\sigma$ of the sample is defined as: \n",
      "\n",
      "$$\\sigma=\\sum_{i} \\frac{(y_{i}-\\hat{y})^2}{N-1}$$"
     ]
    },
    {
     "cell_type": "code",
     "collapsed": false,
     "input": [
      "a = FeatureSpace(featureList=['Std'])\n",
      "a=a.calculateFeature(data)\n",
      "print a.result(method='dict')"
     ],
     "language": "python",
     "metadata": {},
     "outputs": [
      {
       "output_type": "stream",
       "stream": "stdout",
       "text": [
        "{'Std': 0.14157317495929828}\n"
       ]
      }
     ],
     "prompt_number": 112
    },
    {
     "cell_type": "markdown",
     "metadata": {},
     "source": [
      "For example, a white noise time serie should have $\\sigma=1$"
     ]
    },
    {
     "cell_type": "code",
     "collapsed": false,
     "input": [
      "data2 = np.random.normal(size=1000000)\n",
      "a = FeatureSpace(featureList=['Std' ] )\n",
      "a=a.calculateFeature(data2)\n",
      "print a.result(method='dict')"
     ],
     "language": "python",
     "metadata": {},
     "outputs": [
      {
       "output_type": "stream",
       "stream": "stdout",
       "text": [
        "{'Std': 0.99980185875357153}\n"
       ]
      }
     ],
     "prompt_number": 113
    },
    {
     "cell_type": "heading",
     "level": 4,
     "metadata": {},
     "source": [
      "Period Lomb-Scargle"
     ]
    },
    {
     "cell_type": "markdown",
     "metadata": {},
     "source": [
      "The Lomb-Scargle (L-S) algorithm (Scargle, 1982) is a variation of the Discrete Fourier Transform (DFT), in which a time series is decomposed into a linear combination of sinusoidal functions. The basis of sinusoidal functions transforms the data from the time domain to the frequency domain. DFT techniques often assume evenly spaced data points in the time series, but this is rarely the case with astrophysical time-series data. Scargle has derived a formula for transform coefficients that is similiar to the DFT in the limit of evenly spaced observations. In addition, an adjustment of the values used to calculate the transform coefficients makes the transform invariant to time shifts.\n",
      "\n",
      "The Lomb-Scargle periodogram is optimized to identify sinusoidal-shaped periodic signals in time-series data. Particular applications include radial velocity data and searches for pulsating variable stars. L-S is not optimal for detecting signals from transiting exoplanets, where the shape of the periodic light curve is not sinusoidal.\n",
      "\n",
      "Next, we perform a test on synthetical data to confirm the accuracy of the period found by the L-S method:"
     ]
    },
    {
     "cell_type": "code",
     "collapsed": false,
     "input": [
      "Color = [ 1 ,0.498039, 0.313725];\n",
      "N=100\n",
      "mjd3 = np.arange(N)\n",
      "Period = 20\n",
      "cov = np.zeros([N,N])\n",
      "mean = np.zeros(N)\n",
      "for i in np.arange(N):\n",
      "    for j in np.arange(N):\n",
      "        #print (2.0*np.pi/Period) * (i-j)**2\n",
      "        cov[i,j] = np.exp( -(np.sin( (np.pi/Period) *(i-j))**2))\n",
      "#cov = np.diagflat((np.ones(10)))\n",
      "data3=np.random.multivariate_normal(mean, cov)\n",
      "plt.plot(mjd3,data3, color=Color)"
     ],
     "language": "python",
     "metadata": {},
     "outputs": [
      {
       "output_type": "stream",
       "stream": "stderr",
       "text": [
        "-c:12: RuntimeWarning: covariance is not positive-semidefinite.\n"
       ]
      },
      {
       "metadata": {},
       "output_type": "pyout",
       "prompt_number": 317,
       "text": [
        "[<matplotlib.lines.Line2D at 0x1178d6b10>]"
       ]
      },
      {
       "metadata": {},
       "output_type": "display_data",
       "png": "[encoded data removed]",
       "text": [
        "<matplotlib.figure.Figure at 0x115a25110>"
       ]
      }
     ],
     "prompt_number": 317
    },
    {
     "cell_type": "code",
     "collapsed": false,
     "input": [
      "a = FeatureSpace(featureList=['PeriodLS'],PeriodLS=mjd3)\n",
      "a=a.calculateFeature(data3)\n",
      "print a.result(method='array')/Period, a.result(method='array'), Period"
     ],
     "language": "python",
     "metadata": {},
     "outputs": [
      {
       "output_type": "stream",
       "stream": "stdout",
       "text": [
        "[ 0.99] [ 19.8] 20\n"
       ]
      }
     ],
     "prompt_number": 318
    },
    {
     "cell_type": "markdown",
     "metadata": {},
     "source": [
      "We can also confirm the validity of this result by folding the light curve as explained in [the introduction](#foldedLC)."
     ]
    },
    {
     "cell_type": "code",
     "collapsed": false,
     "input": [
      "Color = [ 0.392157, 0.584314 ,0.929412];\n",
      "T = 2 * a.result(method='array')\n",
      "new_b=np.mod(mjd3, T) / T;\n",
      "idx=np.argsort(2*new_b)\n",
      "plt.plot( new_b, data3,'*', color=Color)\n",
      "plt.gca().invert_yaxis()"
     ],
     "language": "python",
     "metadata": {},
     "outputs": [
      {
       "metadata": {},
       "output_type": "display_data",
       "png": "[encoded data removed]",
       "text": [
        "<matplotlib.figure.Figure at 0x115b94450>"
       ]
      }
     ],
     "prompt_number": 319
    },
    {
     "cell_type": "heading",
     "level": 4,
     "metadata": {},
     "source": [
      "Period fit"
     ]
    },
    {
     "cell_type": "markdown",
     "metadata": {},
     "source": [
      " Returns the false alarm probability of the largest periodogram value. Let's test it for a normal distributed data and for a periodic one: "
     ]
    },
    {
     "cell_type": "code",
     "collapsed": false,
     "input": [
      "data2 = np.random.normal(size=1000)\n",
      "mjd2=np.arange(1000)\n",
      "a = FeatureSpace(featureList=['PeriodLS','Period_fit'], PeriodLS=mjd2)\n",
      "a=a.calculateFeature(data2)\n",
      "print \"Normal data:\", a.result(method='dict')\n",
      "\n",
      "a = FeatureSpace(featureList=['PeriodLS','Period_fit'], PeriodLS=mjd3)\n",
      "a=a.calculateFeature(data3)\n",
      "print \"Periodic data:\", a.result(method='dict')"
     ],
     "language": "python",
     "metadata": {},
     "outputs": [
      {
       "output_type": "stream",
       "stream": "stdout",
       "text": [
        "Normal data: {'Period_fit': 1.0, 'PeriodLS': 2.9040697674418605}\n",
        "Periodic data:"
       ]
      },
      {
       "output_type": "stream",
       "stream": "stdout",
       "text": [
        " {'Period_fit': 6.3615750224273454e-16, 'PeriodLS': 19.800000000000001}\n"
       ]
      }
     ],
     "prompt_number": 320
    },
    {
     "cell_type": "heading",
     "level": 4,
     "metadata": {},
     "source": [
      "Color B_R"
     ]
    },
    {
     "cell_type": "markdown",
     "metadata": {},
     "source": [
      "The color is defined as the difference between the average magnitude of the blue band and the red band observations. The value should be around cero."
     ]
    },
    {
     "cell_type": "code",
     "collapsed": false,
     "input": [
      "a = FeatureSpace(featureList=['B_R' ],B_R=second_data )\n",
      "a=a.calculateFeature(data)\n",
      "print a.result(method='dict')"
     ],
     "language": "python",
     "metadata": {},
     "outputs": [
      {
       "output_type": "stream",
       "stream": "stdout",
       "text": [
        "{'B_R': -0.33325502453332145}\n"
       ]
      }
     ],
     "prompt_number": 321
    },
    {
     "cell_type": "heading",
     "level": 4,
     "metadata": {},
     "source": [
      "Autocorrelation\n"
     ]
    },
    {
     "cell_type": "code",
     "collapsed": false,
     "input": [
      "data2 = np.random.normal(size=10000)\n",
      "a = FeatureSpace(featureList=['autocor'] )\n",
      "a=a.calculateFeature(data2)\n",
      "print a.result(method='dict')\n",
      "\n",
      "a = FeatureSpace(featureList=['autocor'] )\n",
      "a=a.calculateFeature(data3)\n",
      "print a.result(method='dict')"
     ],
     "language": "python",
     "metadata": {},
     "outputs": [
      {
       "output_type": "stream",
       "stream": "stdout",
       "text": [
        "{'autocor': 2}\n",
        "{'autocor': 2}\n"
       ]
      }
     ],
     "prompt_number": 329
    },
    {
     "cell_type": "heading",
     "level": 4,
     "metadata": {},
     "source": [
      "Slotted Autocorrelation \n"
     ]
    },
    {
     "cell_type": "code",
     "collapsed": false,
     "input": [
      "data2 = np.random.normal(size=100)\n",
      "mjd2=np.arange(100)\n",
      "a = FeatureSpace(featureList=['SlottedA'] , SlottedA = mjd2)\n",
      "a=a.calculateFeature(data2)\n",
      "print a.result(method='dict')\n",
      "\n",
      "a = FeatureSpace(featureList=['SlottedA'] , SlottedA = mjd)\n",
      "a=a.calculateFeature(data)\n",
      "print a.result(method='dict')"
     ],
     "language": "python",
     "metadata": {},
     "outputs": [
      {
       "output_type": "stream",
       "stream": "stdout",
       "text": [
        "{'SlottedA': 4}\n",
        "{'SlottedA': 4}"
       ]
      },
      {
       "output_type": "stream",
       "stream": "stdout",
       "text": [
        "\n"
       ]
      }
     ],
     "prompt_number": 224
    },
    {
     "cell_type": "heading",
     "level": 4,
     "metadata": {},
     "source": [
      "Stetson K, Stetson K_AC, Stetson J and Stetson L"
     ]
    },
    {
     "cell_type": "markdown",
     "metadata": {},
     "source": [
      "These three features are based on the Welch/Stetson variability index $I$ defined by the equation:\n",
      "$$ I = \\sqrt{\\frac{1}{n(n-1)}} \\sum_{i=1}^n {\\left( \\frac{b_i-\\hat{b}}{\\sigma_{b,i}}\\right) \\left( \\frac{v_i - \\hat{v}}{\\sigma_{v,i}} \\right)} $$\n",
      "\n",
      "where $b_i$ and $v_i$ are the apparent magnitudes obtained for the candidate star in two observations closely spaced in time on some occasion $i$, $\\sigma_{b,i}$ and $\\sigma_{v,i}$ are the standard errors of those magnitudes, $\\hat{b}$ and $\\hat{v}$ are the weighted mean magnitudes in the two filters, and $n$ is the number of observation pairs.\n",
      "\n",
      "Since a given frame pair may include data from two filters which did not have equal numbers of observations overall, the \"relative error\" is calculated as follows:\n",
      "\n",
      "$$ \\delta = \\sqrt{\\frac{n}{n-1}} \\frac{v-\\hat{v}}{\\sigma_v} $$\n",
      "\n",
      "allowing all residuals to be compared on an equal basis. "
     ]
    },
    {
     "cell_type": "heading",
     "level": 5,
     "metadata": {},
     "source": [
      "- Stetson K"
     ]
    },
    {
     "cell_type": "markdown",
     "metadata": {},
     "source": [
      "Stetson K is a robust kurtosis measure:\n",
      "$$ \\frac{1/N \\sum_{i=1}^N |\\delta_i|}{\\sqrt{1/N \\sum_{i=1}^N \\delta_i^2}}$$\n",
      "\n",
      "where the index $i$ runs over all $N$ observations available for the star without regard to pairing. For a Gaussian magnitude distribution K should take a value close to $\\sqrt{2/\\pi} = 0.798$, let's test it:"
     ]
    },
    {
     "cell_type": "code",
     "collapsed": false,
     "input": [
      "data2 = np.random.normal(size=1000)\n",
      "a = FeatureSpace(featureList=['StetsonK' ] )\n",
      "a=a.calculateFeature(data2)\n",
      "print a.result(method='dict')"
     ],
     "language": "python",
     "metadata": {},
     "outputs": [
      {
       "output_type": "stream",
       "stream": "stdout",
       "text": [
        "{'StetsonK': 0.7924293315236256}\n"
       ]
      }
     ],
     "prompt_number": 80
    },
    {
     "cell_type": "heading",
     "level": 5,
     "metadata": {},
     "source": [
      "- Stetson K_AC"
     ]
    },
    {
     "cell_type": "markdown",
     "metadata": {},
     "source": [
      "Stetson K applied to the slotted autocorrelation function of the light curve."
     ]
    },
    {
     "cell_type": "code",
     "collapsed": false,
     "input": [
      "mjd2=np.arange(100)\n",
      "a = FeatureSpace(featureList=['StetsonK_AC' ])\n",
      "a=a.calculateFeature(data2)\n",
      "print a.result(method='dict')"
     ],
     "language": "python",
     "metadata": {},
     "outputs": [
      {
       "output_type": "stream",
       "stream": "stdout",
       "text": [
        "{'StetsonK_AC': 0.57197197819596424}\n"
       ]
      }
     ],
     "prompt_number": 81
    },
    {
     "cell_type": "heading",
     "level": 5,
     "metadata": {},
     "source": [
      "- Stetson J"
     ]
    },
    {
     "cell_type": "markdown",
     "metadata": {},
     "source": [
      "Stetson J is a robust version of the variability index. It is calculated based on two simultaneous light curves of a same star and is defined as:\n",
      "\n",
      "$$ J =  \\sum_{k=1}^n  sgn(P_k) \\sqrt{|P_k|}$$\n",
      "\n",
      "with $P_k = \\delta_{i_k} \\delta_{j_k} $\n",
      "\n",
      "For a Gaussian magnitude distribution, J should take a value close to zero:"
     ]
    },
    {
     "cell_type": "code",
     "collapsed": false,
     "input": [
      "data2 = np.random.normal(size=10000)\n",
      "data3 = np.random.normal(size=10000)\n",
      "a = FeatureSpace(featureList=['StetsonJ' ], StetsonJ=[data3, data2])\n",
      "a=a.calculateFeature(data2)\n",
      "print a.result(method='dict')"
     ],
     "language": "python",
     "metadata": {},
     "outputs": [
      {
       "output_type": "stream",
       "stream": "stdout",
       "text": [
        "{'StetsonJ': 0.0034382273692935166}\n"
       ]
      }
     ],
     "prompt_number": 326
    },
    {
     "cell_type": "heading",
     "level": 5,
     "metadata": {},
     "source": [
      "- Stetson L"
     ]
    },
    {
     "cell_type": "markdown",
     "metadata": {},
     "source": [
      "Stetson L variability index describes the synchronous variability of different bands and is defined as:\n",
      "$$ L = \\frac{JK}{0.798} $$\n",
      "\n",
      "Again, for a Gaussian magnitude distribution, L should take a value close to zero:"
     ]
    },
    {
     "cell_type": "code",
     "collapsed": false,
     "input": [
      "data2 = np.random.normal(size=10000)\n",
      "data3 = np.random.normal(size=10000)\n",
      "a = FeatureSpace(featureList=['StetsonL' ], StetsonL=[data3, data2])\n",
      "a=a.calculateFeature(data2)\n",
      "print a.result(method='dict')"
     ],
     "language": "python",
     "metadata": {},
     "outputs": [
      {
       "output_type": "stream",
       "stream": "stdout",
       "text": [
        "{'StetsonL': -0.0029759324160864792}\n"
       ]
      }
     ],
     "prompt_number": 25
    },
    {
     "cell_type": "heading",
     "level": 4,
     "metadata": {},
     "source": [
      "Variability index $\\eta$ REMOVED FROM THE LIBRARY"
     ]
    },
    {
     "cell_type": "markdown",
     "metadata": {},
     "source": [
      "Variability index $\\eta$ is the ratio of the mean of the square of successive differences to the variance of data points. The index was originally proposed to check whether the successive data points are independent or not. In other words, the index was developed to check if any trends exist in the data (von Neumann 1941). It is defined as:\n",
      "$$\\eta=\\frac{1}{\\left(N-1 \\right)\\sigma^2}\\sum_{i=1}^{N-1} \\left( m_{i+1}-m_i \\right)^2 $$\n",
      "\n",
      "The variability index should take a value close to 2 for a normal distribution:"
     ]
    },
    {
     "cell_type": "code",
     "collapsed": false,
     "input": [
      "data2 = np.random.normal(size=10000)\n",
      "a = FeatureSpace(featureList=['VariabilityIndex' ] )\n",
      "a=a.calculateFeature(data2)\n",
      "print a.result(method='dict')"
     ],
     "language": "python",
     "metadata": {},
     "outputs": [
      {
       "output_type": "stream",
       "stream": "stdout",
       "text": [
        "{'VariabilityIndex': 2.0094534000165694}\n"
       ]
      }
     ],
     "prompt_number": 26
    },
    {
     "cell_type": "heading",
     "level": 4,
     "metadata": {},
     "source": [
      "Variability index $\\eta^e$"
     ]
    },
    {
     "cell_type": "markdown",
     "metadata": {},
     "source": [
      "Although $\\eta$ is a poweful index for quantifying variability characteristics of a time series, it does not take into account unequal sampling. Thus $\\eta^e$ is defined as:\n",
      "\n",
      "$$ \\eta^e = \\bar{w} \\left( t_{N-1} - t_1 \\right)^2 \\frac{\\sum_{i=1}^{N-1} w_i \\left(m_{i+1} - m_i \\right)^2}{\\sigma^2 \\sum_{i=1}^{N-1} w_i} $$\n",
      "\n",
      "$$ w_i = \\frac{1}{\\left( t_{i+1} - t_i \\right)^2} $$"
     ]
    },
    {
     "cell_type": "code",
     "collapsed": false,
     "input": [
      "data2 = np.random.normal(size=10000)\n",
      "mjd2=np.arange(10000)\n",
      "a = FeatureSpace(featureList=['Eta_e' ], Eta_e = mjd2 )\n",
      "a=a.calculateFeature(data2)\n",
      "print a.result(method='dict')"
     ],
     "language": "python",
     "metadata": {},
     "outputs": [
      {
       "output_type": "stream",
       "stream": "stdout",
       "text": [
        "{'Eta_e': 2.0084720011770116}\n"
       ]
      }
     ],
     "prompt_number": 88
    },
    {
     "cell_type": "heading",
     "level": 4,
     "metadata": {},
     "source": [
      "Variability index $\\eta_{B-R}$"
     ]
    },
    {
     "cell_type": "markdown",
     "metadata": {},
     "source": [
      "$\\eta^e$ index calculated from the B \u2212 R light curve."
     ]
    },
    {
     "cell_type": "code",
     "collapsed": false,
     "input": [
      "data3 = np.random.normal(size=10000)\n",
      "a = FeatureSpace(featureList=['Eta_B_R' ], Eta_B_R = [data3, data2, mjd2] )\n",
      "a=a.calculateFeature(data2)\n",
      "print a.result(method='dict')"
     ],
     "language": "python",
     "metadata": {},
     "outputs": [
      {
       "output_type": "stream",
       "stream": "stdout",
       "text": [
        "{'Eta_B_R': 1.9911118806100956}\n"
       ]
      }
     ],
     "prompt_number": 89
    },
    {
     "cell_type": "heading",
     "level": 4,
     "metadata": {},
     "source": [
      "Small Kurtosis"
     ]
    },
    {
     "cell_type": "markdown",
     "metadata": {},
     "source": [
      "Small sample kurtosis of the magnitudes:\n",
      "$$ Kurtosis = \\frac{N \\left( N+1 \\right)}{\\left( N-1 \\right) \\left( N-2 \\right) \\left( N-3 \\right)} \\sum_{i=1}^N \\left( \\frac{m_i-\\hat{m}}{\\sigma} \\right)^4 - \\frac{3\\left( N-1 \\right)^2}{\\left( N-2 \\right) \\left( N-3 \\right)} $$\n",
      "\n",
      "For a normal distribution, the small kurtosis should be zero:"
     ]
    },
    {
     "cell_type": "code",
     "collapsed": false,
     "input": [
      "data2 = np.random.normal(size=10000)\n",
      "a = FeatureSpace(featureList=['SmallKurtosis' ] )\n",
      "a=a.calculateFeature(data2)\n",
      "print a.result(method='dict')"
     ],
     "language": "python",
     "metadata": {},
     "outputs": [
      {
       "output_type": "stream",
       "stream": "stdout",
       "text": [
        "{'SmallKurtosis': 0.024828668602925763}\n"
       ]
      }
     ],
     "prompt_number": 28
    },
    {
     "cell_type": "heading",
     "level": 4,
     "metadata": {},
     "source": [
      "Skewness"
     ]
    },
    {
     "cell_type": "markdown",
     "metadata": {},
     "source": [
      "The skewness of a sample is defined as follow:\n",
      "$$ Skewness = \\frac{N}{\\left(N-1\\right)\\left(N-2\\right)} \\sum_{i=1}^N \\left( \\frac{m_i-\\hat{m}}{\\sigma}\\right)^3 $$\n",
      "\n",
      "For a normal distribution it should be equal to zero:"
     ]
    },
    {
     "cell_type": "code",
     "collapsed": false,
     "input": [
      "data2 = np.random.normal(size=10000)\n",
      "a = FeatureSpace(featureList=['Skew' ] )\n",
      "a=a.calculateFeature(data2)\n",
      "print a.result(method='dict')"
     ],
     "language": "python",
     "metadata": {},
     "outputs": [
      {
       "output_type": "stream",
       "stream": "stdout",
       "text": [
        "{'Skew': 0.03607135358049564}\n"
       ]
      }
     ],
     "prompt_number": 29
    },
    {
     "cell_type": "heading",
     "level": 4,
     "metadata": {},
     "source": [
      "Median absolute deviation"
     ]
    },
    {
     "cell_type": "markdown",
     "metadata": {},
     "source": [
      "The median absolute deviation is defined as the median discrepancy of the data from the median data:\n",
      "$$Median Absolute Deviation = median\\left( |mag - median(mag)|\\right) $$\n",
      "It should take a value close to 0.675 for a normal distribution:"
     ]
    },
    {
     "cell_type": "code",
     "collapsed": false,
     "input": [
      "data2 = np.random.normal(size=10000)\n",
      "a = FeatureSpace(featureList=['MedianAbsDev' ] )\n",
      "a=a.calculateFeature(data2)\n",
      "print a.result(method='dict')"
     ],
     "language": "python",
     "metadata": {},
     "outputs": [
      {
       "output_type": "stream",
       "stream": "stdout",
       "text": [
        "{'MedianAbsDev': 0.66272885438817208}\n"
       ]
      }
     ],
     "prompt_number": 30
    },
    {
     "cell_type": "heading",
     "level": 4,
     "metadata": {},
     "source": [
      "Amplitude"
     ]
    },
    {
     "cell_type": "markdown",
     "metadata": {},
     "source": [
      "The amplitude is defined as the half of the difference between the mean of the maximum 5% and the mean of the minimum 5% magnitudes.\n",
      "For a sequence of numbers from 0 to 1000 the amplitude should be equal to 475.5:"
     ]
    },
    {
     "cell_type": "code",
     "collapsed": false,
     "input": [
      "data2 = range(1001)\n",
      "a = FeatureSpace(featureList=['Amplitude' ] )\n",
      "a=a.calculateFeature(data2)\n",
      "print a.result(method='dict')"
     ],
     "language": "python",
     "metadata": {},
     "outputs": [
      {
       "output_type": "stream",
       "stream": "stdout",
       "text": [
        "{'Amplitude': 475.5}\n"
       ]
      }
     ],
     "prompt_number": 21
    },
    {
     "cell_type": "heading",
     "level": 4,
     "metadata": {},
     "source": [
      "Con"
     ]
    },
    {
     "cell_type": "markdown",
     "metadata": {},
     "source": [
      "Index introduced for the selection of variable stars from the OGLE database (Wozniak 2000). To calculate Con, we count the number of three consecutive data points that are brighter or fainter than $2\\sigma$ and normalize the number by $N-2$. \n",
      "\n",
      "For a normal distribution and by considering just one star, Con should take values close to 0.045:"
     ]
    },
    {
     "cell_type": "code",
     "collapsed": false,
     "input": [
      "data2 = np.random.normal(size=10000)\n",
      "a = FeatureSpace(featureList=['Con' ] , Con=1)\n",
      "a=a.calculateFeature(data2)\n",
      "print a.result(method='dict')"
     ],
     "language": "python",
     "metadata": {},
     "outputs": [
      {
       "output_type": "stream",
       "stream": "stdout",
       "text": [
        "{'Con': 0.0431}\n"
       ]
      }
     ],
     "prompt_number": 32
    },
    {
     "cell_type": "heading",
     "level": 4,
     "metadata": {},
     "source": [
      "Anderson-Darling test"
     ]
    },
    {
     "cell_type": "markdown",
     "metadata": {},
     "source": [
      "The Anderson-Darling test is a statistical test of whether a given sample of data is drawn from a given probability distribution. When applied to testing  if a normal distribution adequately describes a set of data, it is one of the most poweful statistical tools for detecting most departures from normality.\n",
      "\n",
      "For a normal distribution the Anderson-Darling statistic should take values close to 0.25:"
     ]
    },
    {
     "cell_type": "code",
     "collapsed": false,
     "input": [
      "b=[]\n",
      "for i in xrange(5000):\n",
      "    data2 = np.random.normal(size=10000)\n",
      "    a = FeatureSpace(featureList=['AndersonDarling' ] )\n",
      "    a=a.calculateFeature(data2)\n",
      "    b.extend(a.result())\n",
      "    \n",
      "fig = plt.hist(b)"
     ],
     "language": "python",
     "metadata": {},
     "outputs": [
      {
       "metadata": {},
       "output_type": "display_data",
       "png": "[encoded data removed]",
       "text": [
        "<matplotlib.figure.Figure at 0x10a5bfc50>"
       ]
      }
     ],
     "prompt_number": 46
    },
    {
     "cell_type": "heading",
     "level": 4,
     "metadata": {},
     "source": [
      "Linear trend"
     ]
    },
    {
     "cell_type": "markdown",
     "metadata": {},
     "source": [
      "Slope of a linear fit to the light-curve. "
     ]
    },
    {
     "cell_type": "code",
     "collapsed": false,
     "input": [
      "data2 = np.random.normal(size=10000)\n",
      "mjd2=np.arange(10000)\n",
      "a = FeatureSpace(featureList=['LinearTrend'] ,LinearTrend = mjd2  )\n",
      "a=a.calculateFeature(data2)\n",
      "print a.result(method='dict')"
     ],
     "language": "python",
     "metadata": {},
     "outputs": [
      {
       "output_type": "stream",
       "stream": "stdout",
       "text": [
        "{'LinearTrend': 1.341387473099311e-06}\n"
       ]
      }
     ],
     "prompt_number": 35
    },
    {
     "cell_type": "heading",
     "level": 4,
     "metadata": {},
     "source": [
      "Max slope "
     ]
    },
    {
     "cell_type": "markdown",
     "metadata": {},
     "source": [
      "Maximum absolute magnitude slope between two consecutive observations"
     ]
    },
    {
     "cell_type": "code",
     "collapsed": false,
     "input": [
      "data2 = np.random.normal(size=10000)\n",
      "mjd2=np.arange(10000)\n",
      "a = FeatureSpace(featureList=['MaxSlope'] , MaxSlope = mjd2  )\n",
      "a=a.calculateFeature(data2)\n",
      "print a.result(method='dict')"
     ],
     "language": "python",
     "metadata": {},
     "outputs": [
      {
       "output_type": "stream",
       "stream": "stdout",
       "text": [
        "{'MaxSlope': 5.381101675594564}\n"
       ]
      }
     ],
     "prompt_number": 36
    },
    {
     "cell_type": "heading",
     "level": 4,
     "metadata": {},
     "source": [
      "Beyond 1 std "
     ]
    },
    {
     "cell_type": "markdown",
     "metadata": {},
     "source": [
      "Percentage of points beyond one standard deviation from the weighted mean.\n",
      "\n",
      "For a normal distribution, it should take a value close to 0.32:"
     ]
    },
    {
     "cell_type": "code",
     "collapsed": false,
     "input": [
      "data2 = np.random.normal(size=10000)\n",
      "error2 = np.random.normal(loc=0.01, scale =0.01, size=10000)\n",
      "a = FeatureSpace(featureList=['Beyond1Std'] , Beyond1Std = error2 )\n",
      "a=a.calculateFeature(data2)\n",
      "print a.result(method='dict')"
     ],
     "language": "python",
     "metadata": {},
     "outputs": [
      {
       "output_type": "stream",
       "stream": "stdout",
       "text": [
        "{'Beyond1Std': 0.3146}\n"
       ]
      }
     ],
     "prompt_number": 37
    },
    {
     "cell_type": "heading",
     "level": 4,
     "metadata": {},
     "source": [
      "Flux percentile ratio mid20, mid 35, mid 50, mid 65 and mid 80 "
     ]
    },
    {
     "cell_type": "markdown",
     "metadata": {},
     "source": [
      "In order to caracterize the sorted magnitudes distribution we use percentiles. If $F_{5,95}$ is the difference between $95\\%$ and $5\\%$ magnitude values, we calculate the following:\n",
      "- flux_percentile_ratio_mid20: ratio $F_{40,60}/F_{5,95}$ \n",
      "- flux_percentile_ratio_mid35: ratio $F_{32.5,67.5}/F_{5,95}$ \n",
      "- flux_percentile_ratio_mid50: ratio $F_{25,75}/F_{5,95}$\n",
      "- flux_percentile_ratio_mid65: ratio $F_{17.5,82.5}/F_{5,95}$ \n",
      "- flux_percentile_ratio_mid80: ratio $F_{10,90}/F_{5,95}$\n",
      "\n",
      "For the first feature for example, in the case of a normal distribution, this is equivalente to calculate $\\frac{erf^{-1}(2 \\cdot 0.6-1)-erf^{-1}(2 \\cdot 0.4-1)}{erf^{-1}(2 \\cdot 0.95-1)-erf^{-1}(2 \\cdot 0.05-1)}$. So, the expected values for each of the flux percentile features are:\n",
      "\n",
      "- flux_percentile_ratio_mid20 = 0.154\n",
      "- flux_percentile_ratio_mid35 = 0.275 \n",
      "- flux_percentile_ratio_mid50 = 0.410\n",
      "- flux_percentile_ratio_mid65 = 0.568\n",
      "- flux_percentile_ratio_mid80 = 0.779"
     ]
    },
    {
     "cell_type": "code",
     "collapsed": false,
     "input": [
      "data2 = np.random.normal(size=100000)\n",
      "a = FeatureSpace(featureList=['FluxPercentileRatioMid20','FluxPercentileRatioMid35','FluxPercentileRatioMid50','FluxPercentileRatioMid65','FluxPercentileRatioMid80'] )\n",
      "a=a.calculateFeature(data2)\n",
      "print a.result(method='dict')"
     ],
     "language": "python",
     "metadata": {},
     "outputs": [
      {
       "output_type": "stream",
       "stream": "stdout",
       "text": [
        "{'FluxPercentileRatioMid80': 0.77977697524327361, 'FluxPercentileRatioMid50': 0.40914549297613029, 'FluxPercentileRatioMid20': 0.1537749468444696, 'FluxPercentileRatioMid35': 0.27560487159782038, 'FluxPercentileRatioMid65': 0.56735470069931293}\n"
       ]
      }
     ],
     "prompt_number": 38
    },
    {
     "cell_type": "heading",
     "level": 4,
     "metadata": {},
     "source": [
      "Range of a cumulative sum $R_{cs}$ "
     ]
    },
    {
     "cell_type": "markdown",
     "metadata": {},
     "source": [
      "$R_{cs}$ is the range of a cumulative sum (Ellaway 1978) of each light curve and is defined as:\n",
      "\n",
      "$$R_{cs} = max(S) - min(S)$$\n",
      "$$S_l = \\frac{1}{N \\sigma} \\sum_{i=1}^l \\left( m_i - \\bar{m} \\right) $$\n",
      "\n",
      "where max(min) is the maximum (minimum) value of S and $l=1,2, \\dots, N$. \n",
      "\n",
      "$R_{cs}$ should take a value close to zero for a normal distribution:"
     ]
    },
    {
     "cell_type": "code",
     "collapsed": false,
     "input": [
      "data2 = np.random.normal(size=10000)\n",
      "a = FeatureSpace(featureList=['Rcs'] )\n",
      "a=a.calculateFeature(data2)\n",
      "print a.result(method='dict')"
     ],
     "language": "python",
     "metadata": {},
     "outputs": [
      {
       "output_type": "stream",
       "stream": "stdout",
       "text": [
        "{'Rcs': 0.012824174051199113}\n"
       ]
      }
     ],
     "prompt_number": 39
    },
    {
     "cell_type": "heading",
     "level": 4,
     "metadata": {},
     "source": [
      "Percent difference flux percentile WRONG\n"
     ]
    },
    {
     "cell_type": "code",
     "collapsed": false,
     "input": [
      "data2 = np.random.normal(size=10000)\n",
      "a = FeatureSpace(featureList=['PercentDifferenceFluxPercentile'] )\n",
      "a=a.calculateFeature(data2)\n",
      "print a.result(method='dict')"
     ],
     "language": "python",
     "metadata": {},
     "outputs": [
      {
       "output_type": "stream",
       "stream": "stdout",
       "text": [
        "{'PercentDifferenceFluxPercentile': -131.9067846119747}\n"
       ]
      }
     ],
     "prompt_number": 40
    },
    {
     "cell_type": "heading",
     "level": 4,
     "metadata": {},
     "source": [
      "Mean variance $\\frac{\\sigma}{\\bar{m}}$ "
     ]
    },
    {
     "cell_type": "markdown",
     "metadata": {},
     "source": [
      "This is a simple variability index and is defined as the ratio of the standard deviation, $\\sigma$, to the mean magnitude, $\\bar{m}$. If a light curve has strong variability, $\\frac{\\sigma}{\\bar{m}}$ of the light curve is generally large.\n",
      "\n",
      "For a uniform distribution the mean-variance should take a value close to 0.577:"
     ]
    },
    {
     "cell_type": "code",
     "collapsed": false,
     "input": [
      "data2 = np.random.uniform(size=1000000)\n",
      "a = FeatureSpace(featureList=['meanvariance'] )\n",
      "a=a.calculateFeature(data2)\n",
      "print a.result(method='dict')"
     ],
     "language": "python",
     "metadata": {},
     "outputs": [
      {
       "output_type": "stream",
       "stream": "stdout",
       "text": [
        "{'meanvariance': 0.57719151617820996}\n"
       ]
      }
     ],
     "prompt_number": 41
    },
    {
     "cell_type": "heading",
     "level": 4,
     "metadata": {},
     "source": [
      "Median buffer range percentage (MedianBRP)"
     ]
    },
    {
     "cell_type": "markdown",
     "metadata": {},
     "source": [
      "Fraction of photometric points within amplitude/10 of the median magnitude."
     ]
    },
    {
     "cell_type": "code",
     "collapsed": false,
     "input": [
      "data2 = np.random.normal(size=1000000)\n",
      "a = FeatureSpace(featureList=['MedianBRP'] )\n",
      "a=a.calculateFeature(data2)\n",
      "print a.result(method='dict')"
     ],
     "language": "python",
     "metadata": {},
     "outputs": [
      {
       "output_type": "stream",
       "stream": "stdout",
       "text": [
        "{'MedianBRP': 0.66238}\n"
       ]
      }
     ],
     "prompt_number": 42
    },
    {
     "cell_type": "heading",
     "level": 4,
     "metadata": {},
     "source": [
      "CAR features "
     ]
    },
    {
     "cell_type": "markdown",
     "metadata": {},
     "source": [
      "In order to model the irregular sampled times series we use CAR(1), a continious time auto regressive model. CAR(1) process has three parameters, it provides a natural and consistent way of estimating a characteristic time scale and variance of lightcurves. CAR(1) process is described by the following stochastic differential equation:\n",
      "\n",
      "$$ dX(t) = - \\frac{1}{\\tau} X(t)dt + \\sigma_C \\sqrt{dt} \\epsilon(t) + bdt, $$\n",
      "$$for \\: \\tau, \\sigma_C, t \\geq 0 $$\n",
      "\n",
      "where the mean value of the lightcurve $X(t)$ is $b\\tau$ and the variance is $\\frac{\\tau\\sigma_C^2}{2}$. $\\tau$ is the relaxation time of the process $X(T)$, it can be interpreted as describing the variability amplitude of the time series. $\\sigma_C$ can be interpreted as describing the variability of the time series on time scales shorter than $\\tau$. $\\epsilon(t)$ is a white noise process with zero mean and variance equal to one. The likelihood function of a CAR(1) model for a lightcurve with observations $x - \\{x_1, \\dots, x_n\\}$ observed at times $\\{t_1, \\dots, t_n\\}$ with measurements error variances $\\{\\delta_1^2, \\dots, \\delta_n^2\\}$ is:\n",
      "\n",
      "$$ p \\left( x|b,\\sigma_C,\\tau \\right) = \\prod_{i=1}^n \\frac{1}{[2 \\pi \\left( \\Omega_i + \\delta_i^2 \\right)]^{1/2}} exp \\{ -\\frac{1}{2} \\frac{\\left( \\hat{x}_i - x^*_i \\right)^2}{\\Omega_i + \\delta^2_i} \\} $$\n",
      "$$ x_i^* = x_i - b\\tau$$\n",
      "$$ \\hat{x}_0 = 0 $$\n",
      "$$ \\Omega_0 = \\frac{\\tau \\sigma^2_C}{2} $$\n",
      "$$ \\hat{x}_i = a_i\\hat{x}_{i-1} + \\frac{a_i \\Omega_{i-1}}{\\Omega_{i-1} + \\delta^2_{i-1}} \\left(x^*_{i-1} + \\hat{x}_{i-1} \\right) $$ \n",
      "$$ \\Omega_i = \\Omega_0 \\left( 1- a_i^2 \\right) + a_i^2 \\Omega_{i-1} \\left(1 - \\frac{\\Omega_{i-1}}{\\Omega_{i-1} + \\delta^2_{i-1}} \\right) $$\n",
      "$$ a_i = e^{-\\left(t_i-t_{i-1}\\right)/\\tau} $$\n",
      "\n",
      "To find the optimal parameters we maximize the likelihood with respect to $\\sigma_C$ and $\\tau$ and calculate $b$ as the mean magnitude of the lightcurve divided by $\\tau$."
     ]
    },
    {
     "cell_type": "code",
     "collapsed": false,
     "input": [
      "data2 = np.random.normal(scale=3, size=10000)\n",
      "mjd2=np.arange(10000)\n",
      "error2 = np.random.normal(loc=0.01, scale =0.8, size=10000)\n",
      "a = FeatureSpace(featureList=['CAR_sigma', 'CAR_tau','CAR_tmean'] , CAR_sigma = [mjd2,error2] )\n",
      "a=a.calculateFeature(data2)\n",
      "print a.result(method='dict')"
     ],
     "language": "python",
     "metadata": {},
     "outputs": [
      {
       "output_type": "stream",
       "stream": "stdout",
       "text": [
        "{'CAR_sigma': 14.292272756766003, 'CAR_tmean': 0.41469329223667617, 'CAR_tau': 0.084904534900860029}\n"
       ]
      }
     ],
     "prompt_number": 43
    },
    {
     "cell_type": "code",
     "collapsed": false,
     "input": [
      "print np.var(data2), (15.95)**2 * 0.071/2"
     ],
     "language": "python",
     "metadata": {},
     "outputs": [
      {
       "output_type": "stream",
       "stream": "stdout",
       "text": [
        "9.16413662612 9.03128875\n"
       ]
      }
     ],
     "prompt_number": 44
    },
    {
     "cell_type": "code",
     "collapsed": false,
     "input": [
      "a = FeatureSpace(featureList=['CAR_sigma', 'CAR_tau','CAR_tmean'] , CAR_sigma = [mjd ,error] )\n",
      "a=a.calculateFeature(data)\n",
      "print a.result(method='dict')\n",
      "b = a.result(method='array')"
     ],
     "language": "python",
     "metadata": {},
     "outputs": [
      {
       "output_type": "stream",
       "stream": "stdout",
       "text": [
        "{'CAR_sigma': -0.21928049298842511, 'CAR_tmean': -9.230698873903961, 'CAR_tau': 0.64112037377348619}\n"
       ]
      }
     ],
     "prompt_number": 45
    },
    {
     "cell_type": "code",
     "collapsed": false,
     "input": [
      "prod=New_slotted_autocorrelation3(data, mjd,T=4, K=1000)\n",
      "\n",
      "index = next((index for index,value in enumerate(prod[1:]) if value < np.exp(-1)), None)\n",
      "\n",
      "#print np.exp(-1), prod[0:20]\n",
      "print index\n",
      "plt.plot(prod, color ='blue')\n",
      "#plt.plot(stattools.acf(data), color = 'green')\n",
      "#SAC = New_slotted_autocorrelation(data, mjd,T, K)\n",
      "#plt.plot(SAC, color='magenta')"
     ],
     "language": "python",
     "metadata": {},
     "outputs": [
      {
       "output_type": "stream",
       "stream": "stdout",
       "text": [
        "0\n"
       ]
      },
      {
       "metadata": {},
       "output_type": "pyout",
       "prompt_number": 16,
       "text": [
        "[<matplotlib.lines.Line2D at 0x10a559210>]"
       ]
      },
      {
       "metadata": {},
       "output_type": "display_data",
       "png": "[encoded data removed]",
       "text": [
        "<matplotlib.figure.Figure at 0x109dd2690>"
       ]
      }
     ],
     "prompt_number": 16
    },
    {
     "cell_type": "code",
     "collapsed": false,
     "input": [
      "def slotted_autocorrelation(data, mjd, T, K):\n",
      "    \n",
      "        slots = []\n",
      "        slots.append(0)\n",
      "        Nslots = []\n",
      "        # make time start from 0\n",
      "        mjd = mjd - np.min(mjd)\n",
      "\n",
      "        # subtract mean from mag values\n",
      "        m = np.mean(data)\n",
      "        data = data - m\n",
      "\n",
      "        prod = np.zeros((K,1))\n",
      "        pairs = np.subtract.outer(mjd, mjd)\n",
      "        pairs[np.tril_indices_from(pairs)] = 10000000\n",
      "\n",
      "        ks = np.int64(np.floor(np.abs(pairs)/T + 0.5))\n",
      "        \n",
      "        idx = np.where(ks==0)\n",
      "        prod[0] = (sum(data**2) + sum(data[idx[0]]*data[idx[1]])) / (len(idx[0]) + len(data))\n",
      "        Nslots.append(len(idx[0]))\n",
      "        \n",
      "        for k in np.arange(1, K):\n",
      "            idx = np.where(ks==k)\n",
      "            if len(idx[0]) != 0:\n",
      "                prod[k] = sum(data[idx[0]]*data[idx[1]]) / (len(idx[0]))\n",
      "                slots.append(k)\n",
      "                Nslots.append(len(idx[0]))\n",
      "            else:\n",
      "                prod[k] = np.infty\n",
      "                Nslots.append(0)\n",
      "\n",
      "        \n",
      "        return prod/prod[0], np.asarray(slots), np.asarray(Nslots)\n"
     ],
     "language": "python",
     "metadata": {},
     "outputs": [],
     "prompt_number": 95
    },
    {
     "cell_type": "code",
     "collapsed": false,
     "input": [
      "[prod, slots, Nslots] = slotted_autocorrelation(data, mjd, T=4, K=200)\n",
      "plt.plot(prod[np.where(Nslots>20)])"
     ],
     "language": "python",
     "metadata": {},
     "outputs": [
      {
       "metadata": {},
       "output_type": "pyout",
       "prompt_number": 100,
       "text": [
        "[<matplotlib.lines.Line2D at 0x10c2fa3d0>]"
       ]
      },
      {
       "metadata": {},
       "output_type": "display_data",
       "png": "[encoded data removed]",
       "text": [
        "<matplotlib.figure.Figure at 0x10b359ad0>"
       ]
      }
     ],
     "prompt_number": 100
    },
    {
     "cell_type": "code",
     "collapsed": false,
     "input": [
      "import time\n",
      "start = time.time()\n",
      "a = FeatureSpace(category='all',featureList=None, automean=[0,0], StetsonL=[aligned_second_data, aligned_data] ,  B_R=second_data, Beyond1Std=error, StetsonJ=[aligned_second_data, aligned_data], MaxSlope=mjd, LinearTrend=mjd, Eta_B_R=[aligned_second_data, aligned_data, aligned_mjd], Eta_e=mjd, Q31B_R=[aligned_second_data, aligned_data], PeriodLS=mjd, CAR_sigma=[mjd, error], SlottedA = mjd)\n",
      "a=a.calculateFeature(data)\n",
      "end = time.time()\n",
      "print end - start"
     ],
     "language": "python",
     "metadata": {},
     "outputs": [
      {
       "output_type": "stream",
       "stream": "stdout",
       "text": [
        "5.39499497414\n"
       ]
      }
     ],
     "prompt_number": 123
    },
    {
     "cell_type": "code",
     "collapsed": false,
     "input": [
      "import time\n",
      "start = time.time()\n",
      "a = FeatureSpace(category='all',featureList=None, automean=[0,0], StetsonL=[aligned_second_data, aligned_data] ,  B_R=second_data, Beyond1Std=error, StetsonJ=[aligned_second_data, aligned_data], MaxSlope=mjd, LinearTrend=mjd, Eta_B_R=[aligned_second_data, aligned_data, aligned_mjd], Eta_e=mjd, Q31B_R=[aligned_second_data, aligned_data], PeriodLS=mjd, CAR_sigma=[mjd, error], SlottedA = mjd)\n",
      "a=a.calculateFeature(data)\n",
      "end = time.time()\n",
      "print end - start"
     ],
     "language": "python",
     "metadata": {},
     "outputs": [
      {
       "output_type": "stream",
       "stream": "stdout",
       "text": [
        "3.61090707779\n"
       ]
      }
     ],
     "prompt_number": 282
    },
    {
     "cell_type": "code",
     "collapsed": false,
     "input": [
      "3.60*20000000/60/60/300/80"
     ],
     "language": "python",
     "metadata": {},
     "outputs": [
      {
       "metadata": {},
       "output_type": "pyout",
       "prompt_number": 287,
       "text": [
        "0.8333333333333334"
       ]
      }
     ],
     "prompt_number": 287
    },
    {
     "cell_type": "code",
     "collapsed": false,
     "input": [
      "import time\n",
      "start = time.time()\n",
      "a = FeatureSpace(featureList=['SlottedA'], automean=[0,0], StetsonL=[aligned_second_data, aligned_data] ,  B_R=second_data, Beyond1Std=error, StetsonJ=[aligned_second_data, aligned_data], MaxSlope=mjd, LinearTrend=mjd, Eta_B_R=[aligned_second_data, aligned_data, aligned_mjd], Eta_e=mjd, Q31B_R=[aligned_second_data, aligned_data], PeriodLS=mjd, CAR_sigma=[mjd, error], SlottedA = mjd)\n",
      "a=a.calculateFeature(data)\n",
      "end = time.time()\n",
      "print end - start"
     ],
     "language": "python",
     "metadata": {},
     "outputs": [
      {
       "output_type": "stream",
       "stream": "stdout",
       "text": [
        "1.17231011391\n"
       ]
      }
     ],
     "prompt_number": 139
    },
    {
     "cell_type": "code",
     "collapsed": false,
     "input": [
      "import time\n",
      "start = time.time()\n",
      "a = FeatureSpace(featureList=['SlottedA'], automean=[0,0], StetsonL=[aligned_second_data, aligned_data] ,  B_R=second_data, Beyond1Std=error, StetsonJ=[aligned_second_data, aligned_data], MaxSlope=mjd, LinearTrend=mjd, Eta_B_R=[aligned_second_data, aligned_data, aligned_mjd], Eta_e=mjd, Q31B_R=[aligned_second_data, aligned_data], PeriodLS=mjd, CAR_sigma=[mjd, error], SlottedA = mjd)\n",
      "a=a.calculateFeature(data)\n",
      "end = time.time()\n",
      "print end - start"
     ],
     "language": "python",
     "metadata": {},
     "outputs": [
      {
       "output_type": "stream",
       "stream": "stdout",
       "text": [
        "0.658169984818\n"
       ]
      }
     ],
     "prompt_number": 290
    },
    {
     "cell_type": "code",
     "collapsed": false,
     "input": [
      "start = time.time()\n",
      "a = FeatureSpace(featureList=['CAR_sigma', 'CAR_tau','CAR_tmean'] , CAR_sigma = [mjd ,error] )\n",
      "a=a.calculateFeature(data)\n",
      "print a.result(method='dict')\n",
      "b = a.result(method='array')\n",
      "end = time.time()\n",
      "print end - start"
     ],
     "language": "python",
     "metadata": {},
     "outputs": [
      {
       "output_type": "stream",
       "stream": "stdout",
       "text": [
        "{'CAR_sigma': -0.21928049298842511, 'CAR_tmean': -9.230698873903961, 'CAR_tau': 0.64112037377348619}\n",
        "1.23227596283\n"
       ]
      }
     ],
     "prompt_number": 237
    },
    {
     "cell_type": "code",
     "collapsed": false,
     "input": [
      "start = time.time()\n",
      "a = FeatureSpace(featureList=['CAR_sigma', 'CAR_tau','CAR_tmean'] , CAR_sigma = [mjd ,error] )\n",
      "a=a.calculateFeature(data)\n",
      "b = a.result(method='array')\n",
      "end = time.time()\n",
      "print end - start"
     ],
     "language": "python",
     "metadata": {},
     "outputs": [
      {
       "output_type": "stream",
       "stream": "stdout",
       "text": [
        "1.23642396927\n"
       ]
      }
     ],
     "prompt_number": 286
    },
    {
     "cell_type": "code",
     "collapsed": false,
     "input": [
      "import time\n",
      "start = time.time()\n",
      "a = FeatureSpace(featureList=['SlottedA'], automean=[0,0], StetsonL=[aligned_second_data, aligned_data] ,  B_R=second_data, Beyond1Std=error, StetsonJ=[aligned_second_data, aligned_data], MaxSlope=mjd, LinearTrend=mjd, Eta_B_R=[aligned_second_data, aligned_data, aligned_mjd], Eta_e=mjd, Q31B_R=[aligned_second_data, aligned_data], PeriodLS=mjd, CAR_sigma=[mjd, error], SlottedA = mjd)\n",
      "a=a.calculateFeature(data)\n",
      "end = time.time()\n",
      "print end - start"
     ],
     "language": "python",
     "metadata": {},
     "outputs": [
      {
       "output_type": "stream",
       "stream": "stdout",
       "text": [
        "1.12900590897\n"
       ]
      }
     ],
     "prompt_number": 141
    },
    {
     "cell_type": "code",
     "collapsed": false,
     "input": [
      "start = time.time()\n",
      "median = np.median(data)\n",
      "\n",
      "devs=(abs(data - median))\n",
      "print np.median(devs)\n",
      "end = time.time()\n",
      "print end - start"
     ],
     "language": "python",
     "metadata": {},
     "outputs": [
      {
       "output_type": "stream",
       "stream": "stdout",
       "text": [
        "0.0545\n",
        "0.000691890716553\n"
       ]
      }
     ],
     "prompt_number": 231
    },
    {
     "cell_type": "code",
     "collapsed": false,
     "input": [
      "start = time.time()\n",
      "\n",
      "lag = 1\n",
      "N=len(data)\n",
      "std= np.std(data)\n",
      "m = np.mean(data)\n",
      "suma = 0\n",
      "\n",
      "for i in xrange(N-lag):\n",
      "    suma += (data[i]- m)*(data[i+lag] - m)\n",
      "\n",
      "end = time.time()\n",
      "print end - start"
     ],
     "language": "python",
     "metadata": {},
     "outputs": [
      {
       "output_type": "stream",
       "stream": "stdout",
       "text": [
        "0.00273203849792\n"
       ]
      }
     ],
     "prompt_number": 273
    },
    {
     "cell_type": "code",
     "collapsed": false,
     "input": [
      "start = time.time()\n",
      "\n",
      "N=len(data)\n",
      "std= np.std(data)\n",
      "m = np.mean(data)\n",
      "suma = 0\n",
      "\n",
      "S = sum((data[:N-lag]-m)*(data[lag:N]-m))\n",
      "\n",
      "end = time.time()\n",
      "print end - start"
     ],
     "language": "python",
     "metadata": {},
     "outputs": [
      {
       "output_type": "stream",
       "stream": "stdout",
       "text": [
        "0.000951051712036\n"
       ]
      }
     ],
     "prompt_number": 274
    },
    {
     "cell_type": "code",
     "collapsed": false,
     "input": [
      "a = FeatureSpace(featureList=['Bmean'], automean=[0,0], StetsonL=[aligned_second_data, aligned_data] ,  B_R=second_data, Beyond1Std=error, StetsonJ=[aligned_second_data, aligned_data], MaxSlope=mjd, LinearTrend=mjd, Eta_B_R=[aligned_second_data, aligned_data, aligned_mjd], Eta_e=mjd, Q31B_R=[aligned_second_data, aligned_data], PeriodLS=mjd, CAR_sigma=[mjd, error], SlottedA = mjd)\n",
      "a=a.calculateFeature(data)\n",
      "print a.result(method='dict')\n"
     ],
     "language": "python",
     "metadata": {},
     "outputs": [
      {
       "output_type": "stream",
       "stream": "stdout",
       "text": [
        "{'SlottedA': 4, 'PercentAmplitude': -0.11308575739793782, 'MaxSlope': 54.72525836116783, 'SmallKurtosis': 1.3794786801255068, 'automean': -5.9179891122278052, 'StetsonJ': 0.5538531876931454, 'StetsonK': 0.76093506917809894, 'Skew': 0.956469867559379, 'Bmean': -5.9179891122278052, 'StetsonL': 0.32183544397369113, 'Rcs': 41.765653338661188, 'FluxPercentileRatioMid65': 0.52232142857142916, 'AndersonDarling': 52.204286327828413, 'FluxPercentileRatioMid20': 0.089285714285714468, 'LinearTrend': 6.1736585768121618e-06, 'CAR_tmean': -9.230698873903961, 'FluxPercentileRatioMid50': 0.31473214285714324, 'Eta_e': 905.63620081228805, 'Q31': 0.14100000000000001, 'StetsonK_AC': 0.8673297341638867, 'CAR_tau': 0.64112037377348619, 'Std': 0.14157317495929828, 'Eta_B_R': 12930.685257570141, 'Beyond1Std': 0.22278056951423786, 'Q31B_R': 0.10600000000000076, 'PercentDifferenceFluxPercentile': -0.075111073853633914, 'Amplitude': 0.26600000000000001, 'B_R': -0.33325502453332145, 'autocor': 2, 'FluxPercentileRatioMid35': 0.17857142857142894, 'Con': 0.0, 'Period_fit': 3.1076457440339972e-113, 'PairSlopeTrend': 0.03333333333333333, 'MedianBRP': 0.7453936348408711, 'CAR_sigma': -0.21928049298842511, 'MedianAbsDev': 0.054499999999999993, 'FluxPercentileRatioMid80': 0.80133928571428659, 'PeriodLS': 0.93697445905023935, 'meanvariance': -0.023922513589418142}\n"
       ]
      }
     ],
     "prompt_number": 349
    },
    {
     "cell_type": "code",
     "collapsed": false,
     "input": [],
     "language": "python",
     "metadata": {},
     "outputs": []
    }
   ],
   "metadata": {}
  }
 ]
}
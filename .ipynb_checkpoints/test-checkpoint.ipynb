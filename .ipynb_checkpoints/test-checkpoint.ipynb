{
 "metadata": {
  "name": "",
  "signature": "sha256:0aa70aa0950f3302f1e07ca71a45bc95fe02684a8ce7fcd130d307788b51411e"
 },
 "nbformat": 3,
 "nbformat_minor": 0,
 "worksheets": [
  {
   "cells": [
    {
     "cell_type": "code",
     "collapsed": false,
     "input": [
      "from Feature import FeatureSpace\n",
      "import numpy as np\n"
     ],
     "language": "python",
     "metadata": {},
     "outputs": [
      {
       "output_type": "stream",
       "stream": "stderr",
       "text": [
        "/Users/npcastro/anaconda/lib/python2.7/site-packages/pytz/__init__.py:29: UserWarning: Module argparse was already imported from /Users/npcastro/anaconda/python.app/Contents/lib/python2.7/argparse.pyc, but /Users/npcastro/anaconda/lib/python2.7/site-packages is being added to sys.path\n",
        "  from pkg_resources import resource_stream\n"
       ]
      }
     ],
     "prompt_number": 1
    },
    {
     "cell_type": "code",
     "collapsed": false,
     "input": [
      "def LeerLC_MACHO(fid):\n",
      "    saltos_linea = 3\n",
      "    delimiter = ' '\n",
      "    for i in range(0,saltos_linea):\n",
      "        fid.next()\n",
      "    LC = []\n",
      "    for lines in fid:\n",
      "        str_line = lines.strip().split()\n",
      "        floats = map(float, str_line)\n",
      "        #numbers = (number for number in str_line.split())\n",
      "        LC.append(floats)\n",
      "    LC = np.asarray(LC)\n",
      "    return LC"
     ],
     "language": "python",
     "metadata": {},
     "outputs": [],
     "prompt_number": 2
    },
    {
     "cell_type": "markdown",
     "metadata": {},
     "source": [
      "##Get the data##"
     ]
    },
    {
     "cell_type": "code",
     "collapsed": false,
     "input": [
      "fid=open('lc_1.4418.1930.R.mjd','r')"
     ],
     "language": "python",
     "metadata": {},
     "outputs": [],
     "prompt_number": 3
    },
    {
     "cell_type": "code",
     "collapsed": false,
     "input": [
      "lc = LeerLC_MACHO(fid)"
     ],
     "language": "python",
     "metadata": {},
     "outputs": [],
     "prompt_number": 4
    },
    {
     "cell_type": "code",
     "collapsed": false,
     "input": [
      "data  = lc[:,1]"
     ],
     "language": "python",
     "metadata": {},
     "outputs": [],
     "prompt_number": 5
    },
    {
     "cell_type": "code",
     "collapsed": false,
     "input": [
      "error = lc[:,2]"
     ],
     "language": "python",
     "metadata": {},
     "outputs": [],
     "prompt_number": 6
    },
    {
     "cell_type": "code",
     "collapsed": false,
     "input": [
      "mjd = lc[:,0]"
     ],
     "language": "python",
     "metadata": {},
     "outputs": [],
     "prompt_number": 7
    },
    {
     "cell_type": "markdown",
     "metadata": {},
     "source": [
      "##Get the Feature##"
     ]
    },
    {
     "cell_type": "code",
     "collapsed": false,
     "input": [
      "a = FeatureSpace(category='all',featureList=None, automean=[0,0], StetsonL=data ,  B_R=data, Beyond1Std=error, StetsonJ=data, MaxSlope=mjd)\n",
      "print a.featureList\n",
      "a=a.calculateFeature(data)\n",
      "print a.result(method='')\n",
      "print a.result(method='dict')"
     ],
     "language": "python",
     "metadata": {},
     "outputs": [
      {
       "output_type": "stream",
       "stream": "stdout",
       "text": [
        "['Amplitude', 'B_R', 'Beyond1Std', 'Con', 'MaxSlope', 'MedianAbsDev', 'MedianBRP', 'PairSlopeTrend', 'Rcs', 'Skew', 'SmallKurtosis', 'Std', 'StestonK', 'StetsonJ', 'StetsonL', 'VariabilityIndex', 'autocor', 'automean', 'meanvariance']\n",
        "0.682584893508 0.324224276725\n",
        "[1.8894999999999997, 0.0, 0.18091451292246521, 0.0, 43.072443902129123, 0.1639999999999997, 0.8449304174950298, -0.03333333333333333, 13.452604657510831, 0.4883195700401093, 6.6283598700607014, 0.33645697463418989, 0.68190604212866845, 0.68258489350845652, 0.27733157067841124, 1.5418652248325386, 10403.747928999997, -4.5354373757455289, -0.074184019480344726]\n",
        "{'Std': 0.33645697463418989, 'MaxSlope': 43.072443902129123, 'SmallKurtosis': 6.6283598700607014, 'VariabilityIndex': 1.5418652248325386, 'StetsonJ': 0.68258489350845652, 'Skew': 0.4883195700401093, 'Beyond1Std': 0.18091451292246521, 'automean': -4.5354373757455289, 'StetsonL': 0.27733157067841124, 'Rcs': 13.452604657510831, 'PairSlopeTrend': -0.03333333333333333, 'MedianBRP': 0.8449304174950298, 'Amplitude': 1.8894999999999997, 'MedianAbsDev': 0.1639999999999997, 'B_R': 0.0, 'StestonK': 0.68190604212866845, 'autocor': 10403.747928999997, 'meanvariance': -0.074184019480344726, 'Con': 0.0}\n"
       ]
      }
     ],
     "prompt_number": 8
    },
    {
     "cell_type": "markdown",
     "metadata": {},
     "source": [
      "## Unit testing ##\n",
      "\n",
      "** StestonK should be around 0.798 for normal distribution **\n"
     ]
    },
    {
     "cell_type": "code",
     "collapsed": false,
     "input": [
      "data2 = np.random.normal(size=1000000)\n",
      "a = FeatureSpace(featureList=['StestonK' ] )\n",
      "a=a.calculateFeature(data2)\n",
      "print a.result(method='dict')"
     ],
     "language": "python",
     "metadata": {},
     "outputs": [
      {
       "output_type": "stream",
       "stream": "stdout",
       "text": [
        "{'StestonK': 0.79790306393879418}\n"
       ]
      }
     ],
     "prompt_number": 9
    },
    {
     "cell_type": "markdown",
     "metadata": {},
     "source": [
      "** Con with parameter 1 (1 consecutive star out of 2 sigma) should be 0.05 for normal distribution **"
     ]
    },
    {
     "cell_type": "code",
     "collapsed": false,
     "input": [
      "a = FeatureSpace(featureList=['Con' ], Con=1 )\n",
      "a=a.calculateFeature(data2)\n",
      "print a.result(method='dict')"
     ],
     "language": "python",
     "metadata": {},
     "outputs": [
      {
       "output_type": "stream",
       "stream": "stdout",
       "text": [
        "{'Con': 0.045559}\n"
       ]
      }
     ],
     "prompt_number": 10
    },
    {
     "cell_type": "markdown",
     "metadata": {},
     "source": [
      "**Variability Index should be 2 for normal distribution **"
     ]
    },
    {
     "cell_type": "code",
     "collapsed": false,
     "input": [
      "a = FeatureSpace(featureList=['VariabilityIndex' ] )\n",
      "a=a.calculateFeature(data2)\n",
      "print a.result(method='dict')"
     ],
     "language": "python",
     "metadata": {},
     "outputs": [
      {
       "output_type": "stream",
       "stream": "stdout",
       "text": [
        "{'VariabilityIndex': 2.0004272336951177}\n"
       ]
      }
     ],
     "prompt_number": 11
    },
    {
     "cell_type": "markdown",
     "metadata": {},
     "source": [
      "**B_R should be 0**"
     ]
    },
    {
     "cell_type": "code",
     "collapsed": false,
     "input": [
      "a = FeatureSpace(featureList=['B_R' ], B_R=data2 )\n",
      "a=a.calculateFeature(data2)\n",
      "print a.result(method='dict')"
     ],
     "language": "python",
     "metadata": {},
     "outputs": [
      {
       "output_type": "stream",
       "stream": "stdout",
       "text": [
        "{'B_R': 0.0}\n"
       ]
      }
     ],
     "prompt_number": 12
    },
    {
     "cell_type": "markdown",
     "metadata": {},
     "source": [
      "**mean variabce should be large**"
     ]
    },
    {
     "cell_type": "code",
     "collapsed": false,
     "input": [
      "a = FeatureSpace(featureList=['meanvariance' ] )\n",
      "a=a.calculateFeature(data2)\n",
      "print a.result(method='dict')"
     ],
     "language": "python",
     "metadata": {},
     "outputs": [
      {
       "output_type": "stream",
       "stream": "stdout",
       "text": [
        "{'meanvariance': 154417.61095433359}\n"
       ]
      }
     ],
     "prompt_number": 13
    },
    {
     "cell_type": "markdown",
     "metadata": {},
     "source": [
      "**RCs**"
     ]
    },
    {
     "cell_type": "code",
     "collapsed": false,
     "input": [
      "a = FeatureSpace(featureList=['Rcs' ] )\n",
      "a=a.calculateFeature(data2)\n",
      "print a.result(method='dict')\n",
      "\n",
      "data3 = np.random.normal(loc=0,scale=1, size=1000000)\n",
      "for i in xrange(1,1000000):\n",
      "    data3[i] =  0.95 * data3[i-1] + np.random.normal()\n",
      "    \n",
      "a=a.calculateFeature(data3)\n",
      "print a.result(method='dict')\n"
     ],
     "language": "python",
     "metadata": {},
     "outputs": [
      {
       "output_type": "stream",
       "stream": "stdout",
       "text": [
        "{'Rcs': 0.0011535548038206413}\n",
        "{'Rcs': 0.0082949788266332876}"
       ]
      },
      {
       "output_type": "stream",
       "stream": "stdout",
       "text": [
        "\n"
       ]
      }
     ],
     "prompt_number": 14
    },
    {
     "cell_type": "markdown",
     "metadata": {},
     "source": [
      "**Amplitude should be 500 for numbers 0..1000**"
     ]
    },
    {
     "cell_type": "code",
     "collapsed": false,
     "input": [
      "a = FeatureSpace(featureList=['Amplitude'])\n",
      "a = a.calculateFeature(data2)\n",
      "print a.result(method='dict')\n",
      "\n",
      "data3 = range(1001)\n",
      "a = a.calculateFeature(data3)\n",
      "print a.result(method='dict')"
     ],
     "language": "python",
     "metadata": {},
     "outputs": [
      {
       "output_type": "stream",
       "stream": "stdout",
       "text": [
        "{'Amplitude': 4.6765978748341714}\n",
        "{'Amplitude': 500}\n"
       ]
      }
     ],
     "prompt_number": 15
    },
    {
     "cell_type": "markdown",
     "metadata": {},
     "source": [
      "**Beyond1Std**"
     ]
    },
    {
     "cell_type": "code",
     "collapsed": false,
     "input": [
      "a = FeatureSpace(featureList=['Beyond1Std'], Beyond1Std=error)\n",
      "a = a.calculateFeature(data)\n",
      "print a.result(method='dict')"
     ],
     "language": "python",
     "metadata": {},
     "outputs": [
      {
       "output_type": "stream",
       "stream": "stdout",
       "text": [
        "{'Beyond1Std': 0.18091451292246521}\n"
       ]
      }
     ],
     "prompt_number": 16
    },
    {
     "cell_type": "markdown",
     "metadata": {},
     "source": [
      "**SmallKurtosis should be 0 for standard normal**"
     ]
    },
    {
     "cell_type": "code",
     "collapsed": false,
     "input": [
      "a = FeatureSpace(featureList=['SmallKurtosis'])\n",
      "a = a.calculateFeature(data2)\n",
      "print a.result(method='dict')"
     ],
     "language": "python",
     "metadata": {},
     "outputs": [
      {
       "output_type": "stream",
       "stream": "stdout",
       "text": [
        "{'SmallKurtosis': 0.0010596446226398548}\n"
       ]
      }
     ],
     "prompt_number": 17
    },
    {
     "cell_type": "markdown",
     "metadata": {},
     "source": [
      "**Std** should be 1 for standard normal"
     ]
    },
    {
     "cell_type": "code",
     "collapsed": false,
     "input": [
      "a = FeatureSpace(featureList=['Std'])\n",
      "a = a.calculateFeature(data2)\n",
      "print a.result(method='dict')"
     ],
     "language": "python",
     "metadata": {},
     "outputs": [
      {
       "output_type": "stream",
       "stream": "stdout",
       "text": [
        "{'Std': 0.99942874362537282}\n"
       ]
      }
     ],
     "prompt_number": 18
    },
    {
     "cell_type": "markdown",
     "metadata": {},
     "source": [
      "**Skewness should be 0 for standard normal**"
     ]
    },
    {
     "cell_type": "code",
     "collapsed": false,
     "input": [
      "a = FeatureSpace(featureList=['Skew'])\n",
      "a = a.calculateFeature(data2)\n",
      "print a.result(method='dict')"
     ],
     "language": "python",
     "metadata": {},
     "outputs": [
      {
       "output_type": "stream",
       "stream": "stdout",
       "text": [
        "{'Skew': -0.002425733445969966}\n"
       ]
      }
     ],
     "prompt_number": 19
    },
    {
     "cell_type": "markdown",
     "metadata": {},
     "source": [
      "**max_slope**"
     ]
    },
    {
     "cell_type": "code",
     "collapsed": false,
     "input": [
      "a = FeatureSpace(featureList=['MaxSlope'], MaxSlope=mjd)\n",
      "a = a.calculateFeature(data)\n",
      "print a.result(method='dict')"
     ],
     "language": "python",
     "metadata": {},
     "outputs": [
      {
       "output_type": "stream",
       "stream": "stdout",
       "text": [
        "{'MaxSlope': 43.072443902129123}\n"
       ]
      }
     ],
     "prompt_number": 20
    },
    {
     "cell_type": "markdown",
     "metadata": {},
     "source": [
      "**Median Absolute Deviation should be around 0.675 for standard normal**"
     ]
    },
    {
     "cell_type": "code",
     "collapsed": false,
     "input": [
      "a = FeatureSpace(featureList=['MedianAbsDev'])\n",
      "a = a.calculateFeature(data2)\n",
      "print a.result(method='dict')"
     ],
     "language": "python",
     "metadata": {},
     "outputs": [
      {
       "output_type": "stream",
       "stream": "stdout",
       "text": [
        "{'MedianAbsDev': 0.67460332677065959}\n"
       ]
      }
     ],
     "prompt_number": 21
    },
    {
     "cell_type": "markdown",
     "metadata": {},
     "source": [
      "**Median Buffer Range Percentage**"
     ]
    },
    {
     "cell_type": "code",
     "collapsed": false,
     "input": [
      "a = FeatureSpace(featureList=['MedianBRP'])\n",
      "a = a.calculateFeature(data2)\n",
      "print a.result(method='dict')"
     ],
     "language": "python",
     "metadata": {},
     "outputs": [
      {
       "output_type": "stream",
       "stream": "stdout",
       "text": [
        "{'MedianBRP': 0.650322}\n"
       ]
      }
     ],
     "prompt_number": 22
    },
    {
     "cell_type": "markdown",
     "metadata": {},
     "source": [
      "**Pair Slope Trend**"
     ]
    },
    {
     "cell_type": "code",
     "collapsed": false,
     "input": [
      "a = FeatureSpace(featureList=['PairSlopeTrend'])\n",
      "a = a.calculateFeature(data)\n",
      "print a.result(method='dict')"
     ],
     "language": "python",
     "metadata": {},
     "outputs": [
      {
       "output_type": "stream",
       "stream": "stdout",
       "text": [
        "{'PairSlopeTrend': -0.03333333333333333}\n"
       ]
      }
     ],
     "prompt_number": 23
    }
   ],
   "metadata": {}
  }
 ]
}
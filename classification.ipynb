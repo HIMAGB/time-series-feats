{
 "metadata": {
  "name": "",
  "signature": "sha256:20f485e4d1dd394b91ef045b69e631c9505d7c8cc6302f0f09944af48fb53c52"
 },
 "nbformat": 3,
 "nbformat_minor": 0,
 "worksheets": [
  {
   "cells": [
    {
     "cell_type": "code",
     "collapsed": false,
     "input": [
      "import numpy as np\n",
      "import scipy as sp\n",
      "import pandas as pd\n",
      "import matplotlib.pyplot as plt\n",
      "#import seaborn\n",
      "from sklearn.tree import DecisionTreeClassifier\n",
      "from sklearn.ensemble import RandomForestClassifier, GradientBoostingClassifier \n",
      "from sklearn import svm\n",
      "from sklearn.metrics import confusion_matrix, accuracy_score, mean_squared_error\n",
      "from sklearn.cross_validation import cross_val_score, KFold, train_test_split\n",
      "from sklearn.decomposition import PCA\n",
      "from sklearn.preprocessing import StandardScaler\n",
      "%matplotlib inline "
     ],
     "language": "python",
     "metadata": {},
     "outputs": [],
     "prompt_number": 27
    },
    {
     "cell_type": "markdown",
     "metadata": {},
     "source": [
      "### Describe data ###\n",
      "\n",
      "None Variable: 2\n",
      "Quasar: 3\n",
      "Be Stars: 4\n",
      "Cepheid: 5\n",
      "RR Lyrae: 6\n",
      "Eclipsing Binaries: 7\n",
      "MicroLensing: 8\n",
      "Long Periodic Variable: 9\n"
     ]
    },
    {
     "cell_type": "code",
     "collapsed": false,
     "input": [
      "data = pd.read_csv('New_training_slotted.csv',index_col=0)\n",
      "data = data.replace([np.inf, -np.inf], np.nan)\n",
      "data = data.dropna()\n",
      "data.head()"
     ],
     "language": "python",
     "metadata": {},
     "outputs": [
      {
       "html": [
        "<div style=\"max-height:1000px;max-width:1500px;overflow:auto;\">\n",
        "<table border=\"1\" class=\"dataframe\">\n",
        "  <thead>\n",
        "    <tr style=\"text-align: right;\">\n",
        "      <th></th>\n",
        "      <th>Amplitude</th>\n",
        "      <th>AndersonDarling2</th>\n",
        "      <th>AndersonDarling</th>\n",
        "      <th>B_R</th>\n",
        "      <th>Beyond1Std</th>\n",
        "      <th>Bmean</th>\n",
        "      <th>CAR_sigma</th>\n",
        "      <th>CAR_tau</th>\n",
        "      <th>CAR_tmean</th>\n",
        "      <th>Con</th>\n",
        "      <th>...</th>\n",
        "      <th>SmallKurtosis</th>\n",
        "      <th>Std</th>\n",
        "      <th>StetsonJ</th>\n",
        "      <th>StetsonK</th>\n",
        "      <th>StetsonK_AC</th>\n",
        "      <th>StetsonL</th>\n",
        "      <th>autocor</th>\n",
        "      <th>automean</th>\n",
        "      <th>meanvariance</th>\n",
        "      <th>Class</th>\n",
        "    </tr>\n",
        "    <tr>\n",
        "      <th>MACHO_Id</th>\n",
        "      <th></th>\n",
        "      <th></th>\n",
        "      <th></th>\n",
        "      <th></th>\n",
        "      <th></th>\n",
        "      <th></th>\n",
        "      <th></th>\n",
        "      <th></th>\n",
        "      <th></th>\n",
        "      <th></th>\n",
        "      <th></th>\n",
        "      <th></th>\n",
        "      <th></th>\n",
        "      <th></th>\n",
        "      <th></th>\n",
        "      <th></th>\n",
        "      <th></th>\n",
        "      <th></th>\n",
        "      <th></th>\n",
        "      <th></th>\n",
        "      <th></th>\n",
        "    </tr>\n",
        "  </thead>\n",
        "  <tbody>\n",
        "    <tr>\n",
        "      <th>1.3567.1310</th>\n",
        "      <td> 0.157</td>\n",
        "      <td> 27.181643</td>\n",
        "      <td> 1</td>\n",
        "      <td>-0.303913</td>\n",
        "      <td> 0.282718</td>\n",
        "      <td>-6.281767</td>\n",
        "      <td>-0.004241</td>\n",
        "      <td>  427.714933</td>\n",
        "      <td>-0.014687</td>\n",
        "      <td> 0.002521</td>\n",
        "      <td>...</td>\n",
        "      <td> 0.448066</td>\n",
        "      <td> 0.088777</td>\n",
        "      <td> 0.644246</td>\n",
        "      <td> 0.809746</td>\n",
        "      <td> 0.886473</td>\n",
        "      <td> 0.474310</td>\n",
        "      <td> 162</td>\n",
        "      <td>-6.281767</td>\n",
        "      <td>-0.014132</td>\n",
        "      <td> 4</td>\n",
        "    </tr>\n",
        "    <tr>\n",
        "      <th>1.4176.155</th>\n",
        "      <td> 0.138</td>\n",
        "      <td> 17.173779</td>\n",
        "      <td> 1</td>\n",
        "      <td>-0.335222</td>\n",
        "      <td> 0.386905</td>\n",
        "      <td>-7.107582</td>\n",
        "      <td>-0.023036</td>\n",
        "      <td>   29.774064</td>\n",
        "      <td>-0.238717</td>\n",
        "      <td> 0.000000</td>\n",
        "      <td>...</td>\n",
        "      <td>-0.497285</td>\n",
        "      <td> 0.085228</td>\n",
        "      <td> 0.770625</td>\n",
        "      <td> 0.846354</td>\n",
        "      <td> 0.900102</td>\n",
        "      <td> 0.724993</td>\n",
        "      <td> 274</td>\n",
        "      <td>-7.107582</td>\n",
        "      <td>-0.011991</td>\n",
        "      <td> 4</td>\n",
        "    </tr>\n",
        "    <tr>\n",
        "      <th>1.4410.291</th>\n",
        "      <td> 0.106</td>\n",
        "      <td>  9.093810</td>\n",
        "      <td> 1</td>\n",
        "      <td>-0.354688</td>\n",
        "      <td> 0.255854</td>\n",
        "      <td>-6.377084</td>\n",
        "      <td>-0.008782</td>\n",
        "      <td>   50.504459</td>\n",
        "      <td>-0.126268</td>\n",
        "      <td> 0.001738</td>\n",
        "      <td>...</td>\n",
        "      <td> 4.734700</td>\n",
        "      <td> 0.057066</td>\n",
        "      <td> 0.493912</td>\n",
        "      <td> 0.726139</td>\n",
        "      <td> 0.854988</td>\n",
        "      <td> 0.329324</td>\n",
        "      <td>  44</td>\n",
        "      <td>-6.377084</td>\n",
        "      <td>-0.008949</td>\n",
        "      <td> 4</td>\n",
        "    </tr>\n",
        "    <tr>\n",
        "      <th>1.4413.373</th>\n",
        "      <td> 0.116</td>\n",
        "      <td>  8.413155</td>\n",
        "      <td> 1</td>\n",
        "      <td>-0.390854</td>\n",
        "      <td> 0.254113</td>\n",
        "      <td>-6.417345</td>\n",
        "      <td>-0.060633</td>\n",
        "      <td>    1.273619</td>\n",
        "      <td>-5.038669</td>\n",
        "      <td> 0.000916</td>\n",
        "      <td>...</td>\n",
        "      <td> 3.211053</td>\n",
        "      <td> 0.058804</td>\n",
        "      <td> 0.416724</td>\n",
        "      <td> 0.750833</td>\n",
        "      <td> 0.817134</td>\n",
        "      <td> 0.305399</td>\n",
        "      <td>   4</td>\n",
        "      <td>-6.417345</td>\n",
        "      <td>-0.009163</td>\n",
        "      <td> 4</td>\n",
        "    </tr>\n",
        "    <tr>\n",
        "      <th>1.4530.136</th>\n",
        "      <td> 0.122</td>\n",
        "      <td> 39.458475</td>\n",
        "      <td> 1</td>\n",
        "      <td>-0.042179</td>\n",
        "      <td> 0.293537</td>\n",
        "      <td>-6.649899</td>\n",
        "      <td>-0.001678</td>\n",
        "      <td> 9127.480252</td>\n",
        "      <td>-0.000729</td>\n",
        "      <td> 0.008094</td>\n",
        "      <td>...</td>\n",
        "      <td>-0.377686</td>\n",
        "      <td> 0.071319</td>\n",
        "      <td> 0.690784</td>\n",
        "      <td> 0.828857</td>\n",
        "      <td> 0.902608</td>\n",
        "      <td> 0.565605</td>\n",
        "      <td> 209</td>\n",
        "      <td>-6.649899</td>\n",
        "      <td>-0.010725</td>\n",
        "      <td> 4</td>\n",
        "    </tr>\n",
        "  </tbody>\n",
        "</table>\n",
        "<p>5 rows \u00d7 41 columns</p>\n",
        "</div>"
       ],
       "metadata": {},
       "output_type": "pyout",
       "prompt_number": 28,
       "text": [
        "             Amplitude  AndersonDarling2  AndersonDarling       B_R  \\\n",
        "MACHO_Id                                                              \n",
        "1.3567.1310      0.157         27.181643                1 -0.303913   \n",
        "1.4176.155       0.138         17.173779                1 -0.335222   \n",
        "1.4410.291       0.106          9.093810                1 -0.354688   \n",
        "1.4413.373       0.116          8.413155                1 -0.390854   \n",
        "1.4530.136       0.122         39.458475                1 -0.042179   \n",
        "\n",
        "             Beyond1Std     Bmean  CAR_sigma      CAR_tau  CAR_tmean  \\\n",
        "MACHO_Id                                                               \n",
        "1.3567.1310    0.282718 -6.281767  -0.004241   427.714933  -0.014687   \n",
        "1.4176.155     0.386905 -7.107582  -0.023036    29.774064  -0.238717   \n",
        "1.4410.291     0.255854 -6.377084  -0.008782    50.504459  -0.126268   \n",
        "1.4413.373     0.254113 -6.417345  -0.060633     1.273619  -5.038669   \n",
        "1.4530.136     0.293537 -6.649899  -0.001678  9127.480252  -0.000729   \n",
        "\n",
        "                  Con    ...     SmallKurtosis       Std  StetsonJ  StetsonK  \\\n",
        "MACHO_Id                 ...                                                   \n",
        "1.3567.1310  0.002521    ...          0.448066  0.088777  0.644246  0.809746   \n",
        "1.4176.155   0.000000    ...         -0.497285  0.085228  0.770625  0.846354   \n",
        "1.4410.291   0.001738    ...          4.734700  0.057066  0.493912  0.726139   \n",
        "1.4413.373   0.000916    ...          3.211053  0.058804  0.416724  0.750833   \n",
        "1.4530.136   0.008094    ...         -0.377686  0.071319  0.690784  0.828857   \n",
        "\n",
        "             StetsonK_AC  StetsonL  autocor  automean  meanvariance  Class  \n",
        "MACHO_Id                                                                    \n",
        "1.3567.1310     0.886473  0.474310      162 -6.281767     -0.014132      4  \n",
        "1.4176.155      0.900102  0.724993      274 -7.107582     -0.011991      4  \n",
        "1.4410.291      0.854988  0.329324       44 -6.377084     -0.008949      4  \n",
        "1.4413.373      0.817134  0.305399        4 -6.417345     -0.009163      4  \n",
        "1.4530.136      0.902608  0.565605      209 -6.649899     -0.010725      4  \n",
        "\n",
        "[5 rows x 41 columns]"
       ]
      }
     ],
     "prompt_number": 28
    },
    {
     "cell_type": "code",
     "collapsed": false,
     "input": [
      "features = data.columns[:-1]\n",
      "data[features].describe()"
     ],
     "language": "python",
     "metadata": {},
     "outputs": [
      {
       "html": [
        "<div style=\"max-height:1000px;max-width:1500px;overflow:auto;\">\n",
        "<table border=\"1\" class=\"dataframe\">\n",
        "  <thead>\n",
        "    <tr style=\"text-align: right;\">\n",
        "      <th></th>\n",
        "      <th>Amplitude</th>\n",
        "      <th>AndersonDarling2</th>\n",
        "      <th>AndersonDarling</th>\n",
        "      <th>B_R</th>\n",
        "      <th>Beyond1Std</th>\n",
        "      <th>Bmean</th>\n",
        "      <th>CAR_sigma</th>\n",
        "      <th>CAR_tau</th>\n",
        "      <th>CAR_tmean</th>\n",
        "      <th>Con</th>\n",
        "      <th>...</th>\n",
        "      <th>SlottedA</th>\n",
        "      <th>SmallKurtosis</th>\n",
        "      <th>Std</th>\n",
        "      <th>StetsonJ</th>\n",
        "      <th>StetsonK</th>\n",
        "      <th>StetsonK_AC</th>\n",
        "      <th>StetsonL</th>\n",
        "      <th>autocor</th>\n",
        "      <th>automean</th>\n",
        "      <th>meanvariance</th>\n",
        "    </tr>\n",
        "  </thead>\n",
        "  <tbody>\n",
        "    <tr>\n",
        "      <th>count</th>\n",
        "      <td> 6017.000000</td>\n",
        "      <td> 6017.000000</td>\n",
        "      <td> 6017.000000</td>\n",
        "      <td> 6017.000000</td>\n",
        "      <td> 6017.000000</td>\n",
        "      <td> 6017.000000</td>\n",
        "      <td> 6017.000000</td>\n",
        "      <td> 6.017000e+03</td>\n",
        "      <td> 6.017000e+03</td>\n",
        "      <td> 6017.000000</td>\n",
        "      <td>...</td>\n",
        "      <td> 6017.000000</td>\n",
        "      <td> 6017.000000</td>\n",
        "      <td> 6017.000000</td>\n",
        "      <td> 6017.000000</td>\n",
        "      <td> 6017.000000</td>\n",
        "      <td> 6017.000000</td>\n",
        "      <td> 6017.000000</td>\n",
        "      <td> 6017.000000</td>\n",
        "      <td> 6017.000000</td>\n",
        "      <td> 6017.000000</td>\n",
        "    </tr>\n",
        "    <tr>\n",
        "      <th>mean</th>\n",
        "      <td>    0.526064</td>\n",
        "      <td>   20.476515</td>\n",
        "      <td>    0.998213</td>\n",
        "      <td>    0.205662</td>\n",
        "      <td>    0.241307</td>\n",
        "      <td>   -4.851102</td>\n",
        "      <td>   -0.079165</td>\n",
        "      <td> 6.270241e+05</td>\n",
        "      <td>-2.261038e+02</td>\n",
        "      <td>    0.002943</td>\n",
        "      <td>...</td>\n",
        "      <td>   14.081436</td>\n",
        "      <td>    4.534283</td>\n",
        "      <td>    0.254872</td>\n",
        "      <td>    0.259440</td>\n",
        "      <td>    0.709675</td>\n",
        "      <td>    0.631326</td>\n",
        "      <td>    0.165838</td>\n",
        "      <td>    5.688383</td>\n",
        "      <td>   -4.851102</td>\n",
        "      <td>   -0.062761</td>\n",
        "    </tr>\n",
        "    <tr>\n",
        "      <th>std</th>\n",
        "      <td>    0.335611</td>\n",
        "      <td>   18.977484</td>\n",
        "      <td>    0.025114</td>\n",
        "      <td>    0.528410</td>\n",
        "      <td>    0.069267</td>\n",
        "      <td>    1.308760</td>\n",
        "      <td>    1.396664</td>\n",
        "      <td> 2.286295e+07</td>\n",
        "      <td> 8.337244e+02</td>\n",
        "      <td>    0.008124</td>\n",
        "      <td>...</td>\n",
        "      <td>   48.935633</td>\n",
        "      <td>    3.872018</td>\n",
        "      <td>    0.161680</td>\n",
        "      <td>    0.247374</td>\n",
        "      <td>    0.066797</td>\n",
        "      <td>    0.108218</td>\n",
        "      <td>    0.202087</td>\n",
        "      <td>   19.618683</td>\n",
        "      <td>    1.308760</td>\n",
        "      <td>    0.053004</td>\n",
        "    </tr>\n",
        "    <tr>\n",
        "      <th>min</th>\n",
        "      <td>    0.020500</td>\n",
        "      <td>    0.234437</td>\n",
        "      <td>    0.341722</td>\n",
        "      <td>   -1.022921</td>\n",
        "      <td>    0.044944</td>\n",
        "      <td>  -10.851085</td>\n",
        "      <td>  -12.148201</td>\n",
        "      <td> 4.730000e-04</td>\n",
        "      <td>-1.091337e+04</td>\n",
        "      <td>    0.000000</td>\n",
        "      <td>...</td>\n",
        "      <td>    4.000000</td>\n",
        "      <td>   -1.515619</td>\n",
        "      <td>    0.011412</td>\n",
        "      <td>   -0.177488</td>\n",
        "      <td>    0.395244</td>\n",
        "      <td>    0.345848</td>\n",
        "      <td>   -0.114115</td>\n",
        "      <td>    2.000000</td>\n",
        "      <td>  -10.851085</td>\n",
        "      <td>   -1.050366</td>\n",
        "    </tr>\n",
        "    <tr>\n",
        "      <th>25%</th>\n",
        "      <td>    0.264750</td>\n",
        "      <td>    9.919820</td>\n",
        "      <td>    1.000000</td>\n",
        "      <td>   -0.163590</td>\n",
        "      <td>    0.197498</td>\n",
        "      <td>   -5.422929</td>\n",
        "      <td>   -0.216184</td>\n",
        "      <td> 4.864030e-02</td>\n",
        "      <td>-1.017045e+02</td>\n",
        "      <td>    0.000000</td>\n",
        "      <td>...</td>\n",
        "      <td>    4.000000</td>\n",
        "      <td>    2.063607</td>\n",
        "      <td>    0.130576</td>\n",
        "      <td>    0.076922</td>\n",
        "      <td>    0.665195</td>\n",
        "      <td>    0.550405</td>\n",
        "      <td>    0.035335</td>\n",
        "      <td>    2.000000</td>\n",
        "      <td>   -5.422929</td>\n",
        "      <td>   -0.087077</td>\n",
        "    </tr>\n",
        "    <tr>\n",
        "      <th>50%</th>\n",
        "      <td>    0.468000</td>\n",
        "      <td>   17.511339</td>\n",
        "      <td>    1.000000</td>\n",
        "      <td>    0.091729</td>\n",
        "      <td>    0.222509</td>\n",
        "      <td>   -4.662694</td>\n",
        "      <td>   -0.028808</td>\n",
        "      <td> 1.178915e+00</td>\n",
        "      <td>-3.684379e+00</td>\n",
        "      <td>    0.000000</td>\n",
        "      <td>...</td>\n",
        "      <td>    4.000000</td>\n",
        "      <td>    4.190577</td>\n",
        "      <td>    0.229995</td>\n",
        "      <td>    0.144861</td>\n",
        "      <td>    0.695010</td>\n",
        "      <td>    0.591189</td>\n",
        "      <td>    0.067886</td>\n",
        "      <td>    2.000000</td>\n",
        "      <td>   -4.662694</td>\n",
        "      <td>   -0.049279</td>\n",
        "    </tr>\n",
        "    <tr>\n",
        "      <th>75%</th>\n",
        "      <td>    0.723500</td>\n",
        "      <td>   26.068450</td>\n",
        "      <td>    1.000000</td>\n",
        "      <td>    0.404026</td>\n",
        "      <td>    0.263766</td>\n",
        "      <td>   -3.890333</td>\n",
        "      <td>    0.017883</td>\n",
        "      <td> 1.856603e+01</td>\n",
        "      <td>-2.640966e-01</td>\n",
        "      <td>    0.001702</td>\n",
        "      <td>...</td>\n",
        "      <td>    4.000000</td>\n",
        "      <td>    6.373528</td>\n",
        "      <td>    0.347982</td>\n",
        "      <td>    0.418432</td>\n",
        "      <td>    0.742582</td>\n",
        "      <td>    0.691274</td>\n",
        "      <td>    0.215481</td>\n",
        "      <td>    2.000000</td>\n",
        "      <td>   -3.890333</td>\n",
        "      <td>   -0.024189</td>\n",
        "    </tr>\n",
        "    <tr>\n",
        "      <th>max</th>\n",
        "      <td>    3.221250</td>\n",
        "      <td>  399.902208</td>\n",
        "      <td>    1.000000</td>\n",
        "      <td>    3.263769</td>\n",
        "      <td>    0.788321</td>\n",
        "      <td>   -1.577926</td>\n",
        "      <td>   25.646470</td>\n",
        "      <td> 1.380000e+09</td>\n",
        "      <td>-3.600000e-09</td>\n",
        "      <td>    0.143713</td>\n",
        "      <td>...</td>\n",
        "      <td>  660.000000</td>\n",
        "      <td>   49.025988</td>\n",
        "      <td>    1.718985</td>\n",
        "      <td>    1.414214</td>\n",
        "      <td>    0.928697</td>\n",
        "      <td>    0.925141</td>\n",
        "      <td>    1.772197</td>\n",
        "      <td>  369.000000</td>\n",
        "      <td>   -1.577926</td>\n",
        "      <td>   -0.001160</td>\n",
        "    </tr>\n",
        "  </tbody>\n",
        "</table>\n",
        "<p>8 rows \u00d7 40 columns</p>\n",
        "</div>"
       ],
       "metadata": {},
       "output_type": "pyout",
       "prompt_number": 29,
       "text": [
        "         Amplitude  AndersonDarling2  AndersonDarling          B_R  \\\n",
        "count  6017.000000       6017.000000      6017.000000  6017.000000   \n",
        "mean      0.526064         20.476515         0.998213     0.205662   \n",
        "std       0.335611         18.977484         0.025114     0.528410   \n",
        "min       0.020500          0.234437         0.341722    -1.022921   \n",
        "25%       0.264750          9.919820         1.000000    -0.163590   \n",
        "50%       0.468000         17.511339         1.000000     0.091729   \n",
        "75%       0.723500         26.068450         1.000000     0.404026   \n",
        "max       3.221250        399.902208         1.000000     3.263769   \n",
        "\n",
        "        Beyond1Std        Bmean    CAR_sigma       CAR_tau     CAR_tmean  \\\n",
        "count  6017.000000  6017.000000  6017.000000  6.017000e+03  6.017000e+03   \n",
        "mean      0.241307    -4.851102    -0.079165  6.270241e+05 -2.261038e+02   \n",
        "std       0.069267     1.308760     1.396664  2.286295e+07  8.337244e+02   \n",
        "min       0.044944   -10.851085   -12.148201  4.730000e-04 -1.091337e+04   \n",
        "25%       0.197498    -5.422929    -0.216184  4.864030e-02 -1.017045e+02   \n",
        "50%       0.222509    -4.662694    -0.028808  1.178915e+00 -3.684379e+00   \n",
        "75%       0.263766    -3.890333     0.017883  1.856603e+01 -2.640966e-01   \n",
        "max       0.788321    -1.577926    25.646470  1.380000e+09 -3.600000e-09   \n",
        "\n",
        "               Con     ...          SlottedA  SmallKurtosis          Std  \\\n",
        "count  6017.000000     ...       6017.000000    6017.000000  6017.000000   \n",
        "mean      0.002943     ...         14.081436       4.534283     0.254872   \n",
        "std       0.008124     ...         48.935633       3.872018     0.161680   \n",
        "min       0.000000     ...          4.000000      -1.515619     0.011412   \n",
        "25%       0.000000     ...          4.000000       2.063607     0.130576   \n",
        "50%       0.000000     ...          4.000000       4.190577     0.229995   \n",
        "75%       0.001702     ...          4.000000       6.373528     0.347982   \n",
        "max       0.143713     ...        660.000000      49.025988     1.718985   \n",
        "\n",
        "          StetsonJ     StetsonK  StetsonK_AC     StetsonL      autocor  \\\n",
        "count  6017.000000  6017.000000  6017.000000  6017.000000  6017.000000   \n",
        "mean      0.259440     0.709675     0.631326     0.165838     5.688383   \n",
        "std       0.247374     0.066797     0.108218     0.202087    19.618683   \n",
        "min      -0.177488     0.395244     0.345848    -0.114115     2.000000   \n",
        "25%       0.076922     0.665195     0.550405     0.035335     2.000000   \n",
        "50%       0.144861     0.695010     0.591189     0.067886     2.000000   \n",
        "75%       0.418432     0.742582     0.691274     0.215481     2.000000   \n",
        "max       1.414214     0.928697     0.925141     1.772197   369.000000   \n",
        "\n",
        "          automean  meanvariance  \n",
        "count  6017.000000   6017.000000  \n",
        "mean     -4.851102     -0.062761  \n",
        "std       1.308760      0.053004  \n",
        "min     -10.851085     -1.050366  \n",
        "25%      -5.422929     -0.087077  \n",
        "50%      -4.662694     -0.049279  \n",
        "75%      -3.890333     -0.024189  \n",
        "max      -1.577926     -0.001160  \n",
        "\n",
        "[8 rows x 40 columns]"
       ]
      }
     ],
     "prompt_number": 29
    },
    {
     "cell_type": "code",
     "collapsed": false,
     "input": [
      "print 'Data size:',len(data)"
     ],
     "language": "python",
     "metadata": {},
     "outputs": [
      {
       "output_type": "stream",
       "stream": "stdout",
       "text": [
        "Data size: 6017\n"
       ]
      }
     ],
     "prompt_number": 30
    },
    {
     "cell_type": "code",
     "collapsed": false,
     "input": [
      "print \"number of features: %i \" %(len(data.columns[:-1]))\n",
      "\n",
      "counts = pd.DataFrame(data.dropna().groupby(by='Class').CAR_sigma.count())\n",
      "counts.columns = ['count']\n",
      "counts"
     ],
     "language": "python",
     "metadata": {},
     "outputs": [
      {
       "output_type": "stream",
       "stream": "stdout",
       "text": [
        "number of features: 40 \n"
       ]
      },
      {
       "html": [
        "<div style=\"max-height:1000px;max-width:1500px;overflow:auto;\">\n",
        "<table border=\"1\" class=\"dataframe\">\n",
        "  <thead>\n",
        "    <tr style=\"text-align: right;\">\n",
        "      <th></th>\n",
        "      <th>count</th>\n",
        "    </tr>\n",
        "    <tr>\n",
        "      <th>Class</th>\n",
        "      <th></th>\n",
        "    </tr>\n",
        "  </thead>\n",
        "  <tbody>\n",
        "    <tr>\n",
        "      <th>2</th>\n",
        "      <td> 3924</td>\n",
        "    </tr>\n",
        "    <tr>\n",
        "      <th>3</th>\n",
        "      <td>   59</td>\n",
        "    </tr>\n",
        "    <tr>\n",
        "      <th>4</th>\n",
        "      <td>  127</td>\n",
        "    </tr>\n",
        "    <tr>\n",
        "      <th>5</th>\n",
        "      <td>  101</td>\n",
        "    </tr>\n",
        "    <tr>\n",
        "      <th>6</th>\n",
        "      <td>  610</td>\n",
        "    </tr>\n",
        "    <tr>\n",
        "      <th>7</th>\n",
        "      <td>  251</td>\n",
        "    </tr>\n",
        "    <tr>\n",
        "      <th>8</th>\n",
        "      <td>  580</td>\n",
        "    </tr>\n",
        "    <tr>\n",
        "      <th>9</th>\n",
        "      <td>  365</td>\n",
        "    </tr>\n",
        "  </tbody>\n",
        "</table>\n",
        "</div>"
       ],
       "metadata": {},
       "output_type": "pyout",
       "prompt_number": 31,
       "text": [
        "       count\n",
        "Class       \n",
        "2       3924\n",
        "3         59\n",
        "4        127\n",
        "5        101\n",
        "6        610\n",
        "7        251\n",
        "8        580\n",
        "9        365"
       ]
      }
     ],
     "prompt_number": 31
    },
    {
     "cell_type": "code",
     "collapsed": false,
     "input": [
      "y = data['Class']\n",
      "plt.scatter(data.iloc[:,4], data.iloc[:,10], c=y, s=50)"
     ],
     "language": "python",
     "metadata": {},
     "outputs": [
      {
       "metadata": {},
       "output_type": "pyout",
       "prompt_number": 32,
       "text": [
        "<matplotlib.collections.PathCollection at 0x10af06c90>"
       ]
      },
      {
       "metadata": {},
       "output_type": "display_data",
       "png": "[encoded data removed]",
       "text": [
        "<matplotlib.figure.Figure at 0x106449210>"
       ]
      }
     ],
     "prompt_number": 32
    },
    {
     "cell_type": "markdown",
     "metadata": {},
     "source": [
      "### Random forest classification ###"
     ]
    },
    {
     "cell_type": "code",
     "collapsed": false,
     "input": [
      "Xr, Xt, yr, yt = train_test_split(data[features], data['Class'], train_size=3017, test_size=3000, random_state=42)\n"
     ],
     "language": "python",
     "metadata": {},
     "outputs": [],
     "prompt_number": 34
    },
    {
     "cell_type": "code",
     "collapsed": false,
     "input": [
      "clf = RandomForestClassifier(n_estimators=300)\n",
      "clf.fit(Xr, yr)\n",
      "\n",
      "ypred = clf.predict(Xt)\n",
      "print 'confusion matrix: \\n' \n",
      "print (confusion_matrix(yt, ypred))\n",
      "print '\\n ========================================= \\n '\n",
      "print 'score of accuracy %f' % (clf.score(Xt, yt))\n"
     ],
     "language": "python",
     "metadata": {},
     "outputs": [
      {
       "output_type": "stream",
       "stream": "stdout",
       "text": [
        "confusion matrix: \n",
        "\n",
        "[[1924    0    0    0    1    2    5    2]\n",
        " [   3   16    7    0    0    0    4    1]\n",
        " [   2    3   62    0    1    2    1    0]\n",
        " [   0    0    0   53    0    1    1    0]\n",
        " [   8    0    0    0  285   12    0    0]\n",
        " [  12    0    0    0    6  116    0    3]\n",
        " [  11    0    0    0    0    0  271    0]\n",
        " [   0    0    0    0    0    0    2  183]]\n",
        "\n",
        " ========================================= \n",
        " \n",
        "score of accuracy 0.970000"
       ]
      },
      {
       "output_type": "stream",
       "stream": "stdout",
       "text": [
        "\n"
       ]
      }
     ],
     "prompt_number": 35
    },
    {
     "cell_type": "code",
     "collapsed": false,
     "input": [
      "scores = cross_val_score(clf, Xt, yt, cv=2)\n",
      "print(\"Accuracy: %0.2f (+/- %0.2f)\"\n",
      "      % (scores.mean(), scores.std()*2))"
     ],
     "language": "python",
     "metadata": {},
     "outputs": [
      {
       "output_type": "stream",
       "stream": "stdout",
       "text": [
        "Accuracy: 0.97 (+/- 0.00)\n"
       ]
      }
     ],
     "prompt_number": 36
    },
    {
     "cell_type": "code",
     "collapsed": false,
     "input": [
      "def plot_estimator(estimator, X, y):\n",
      "    estimator.fit(X, y)\n",
      "    x_min, x_max = X[:, 0].min() - .1, X[:, 0].max() + .1\n",
      "    y_min, y_max = X[:, 1].min() - .1, X[:, 1].max() + .1\n",
      "    xx, yy = np.meshgrid(np.linspace(x_min, x_max, 50),\n",
      "                         np.linspace(y_min, y_max, 50))\n",
      "    Z = estimator.predict(np.c_[xx.ravel(), yy.ravel()])\n",
      "\n",
      "    # Put the result into a color plot\n",
      "    Z = Z.reshape(xx.shape)\n",
      "    plt.figure(figsize=[8,10])\n",
      "    plt.pcolormesh(xx, yy, Z, alpha=0.15,cmap = 'hsv')\n",
      "\n",
      "    # Plot also the training points\n",
      "    plt.scatter(X[:, 0], X[:, 1], c = y, s=50)\n",
      "    plt.axis('tight')\n",
      "    plt.axis('off')\n",
      "    plt.tight_layout()"
     ],
     "language": "python",
     "metadata": {},
     "outputs": [],
     "prompt_number": 105
    },
    {
     "cell_type": "code",
     "collapsed": false,
     "input": [
      "plot_estimator(clf, data[features], data['Class'].values)"
     ],
     "language": "python",
     "metadata": {},
     "outputs": [
      {
       "ename": "ValueError",
       "evalue": "Input contains NaN, infinity or a value too large for dtype('float32').",
       "output_type": "pyerr",
       "traceback": [
        "\u001b[0;31m---------------------------------------------------------------------------\u001b[0m\n\u001b[0;31mValueError\u001b[0m                                Traceback (most recent call last)",
        "\u001b[0;32m<ipython-input-106-21150e44bc76>\u001b[0m in \u001b[0;36m<module>\u001b[0;34m()\u001b[0m\n\u001b[0;32m----> 1\u001b[0;31m \u001b[0mplot_estimator\u001b[0m\u001b[0;34m(\u001b[0m\u001b[0mclf\u001b[0m\u001b[0;34m,\u001b[0m \u001b[0mdata\u001b[0m\u001b[0;34m[\u001b[0m\u001b[0mfeatures\u001b[0m\u001b[0;34m]\u001b[0m\u001b[0;34m,\u001b[0m \u001b[0mdata\u001b[0m\u001b[0;34m[\u001b[0m\u001b[0;34m'Class'\u001b[0m\u001b[0;34m]\u001b[0m\u001b[0;34m.\u001b[0m\u001b[0mvalues\u001b[0m\u001b[0;34m)\u001b[0m\u001b[0;34m\u001b[0m\u001b[0m\n\u001b[0m",
        "\u001b[0;32m<ipython-input-105-9a3a7126659c>\u001b[0m in \u001b[0;36mplot_estimator\u001b[0;34m(estimator, X, y)\u001b[0m\n\u001b[1;32m      1\u001b[0m \u001b[0;32mdef\u001b[0m \u001b[0mplot_estimator\u001b[0m\u001b[0;34m(\u001b[0m\u001b[0mestimator\u001b[0m\u001b[0;34m,\u001b[0m \u001b[0mX\u001b[0m\u001b[0;34m,\u001b[0m \u001b[0my\u001b[0m\u001b[0;34m)\u001b[0m\u001b[0;34m:\u001b[0m\u001b[0;34m\u001b[0m\u001b[0m\n\u001b[0;32m----> 2\u001b[0;31m     \u001b[0mestimator\u001b[0m\u001b[0;34m.\u001b[0m\u001b[0mfit\u001b[0m\u001b[0;34m(\u001b[0m\u001b[0mX\u001b[0m\u001b[0;34m,\u001b[0m \u001b[0my\u001b[0m\u001b[0;34m)\u001b[0m\u001b[0;34m\u001b[0m\u001b[0m\n\u001b[0m\u001b[1;32m      3\u001b[0m     \u001b[0mx_min\u001b[0m\u001b[0;34m,\u001b[0m \u001b[0mx_max\u001b[0m \u001b[0;34m=\u001b[0m \u001b[0mX\u001b[0m\u001b[0;34m[\u001b[0m\u001b[0;34m:\u001b[0m\u001b[0;34m,\u001b[0m \u001b[0;36m0\u001b[0m\u001b[0;34m]\u001b[0m\u001b[0;34m.\u001b[0m\u001b[0mmin\u001b[0m\u001b[0;34m(\u001b[0m\u001b[0;34m)\u001b[0m \u001b[0;34m-\u001b[0m \u001b[0;36m.1\u001b[0m\u001b[0;34m,\u001b[0m \u001b[0mX\u001b[0m\u001b[0;34m[\u001b[0m\u001b[0;34m:\u001b[0m\u001b[0;34m,\u001b[0m \u001b[0;36m0\u001b[0m\u001b[0;34m]\u001b[0m\u001b[0;34m.\u001b[0m\u001b[0mmax\u001b[0m\u001b[0;34m(\u001b[0m\u001b[0;34m)\u001b[0m \u001b[0;34m+\u001b[0m \u001b[0;36m.1\u001b[0m\u001b[0;34m\u001b[0m\u001b[0m\n\u001b[1;32m      4\u001b[0m     \u001b[0my_min\u001b[0m\u001b[0;34m,\u001b[0m \u001b[0my_max\u001b[0m \u001b[0;34m=\u001b[0m \u001b[0mX\u001b[0m\u001b[0;34m[\u001b[0m\u001b[0;34m:\u001b[0m\u001b[0;34m,\u001b[0m \u001b[0;36m1\u001b[0m\u001b[0;34m]\u001b[0m\u001b[0;34m.\u001b[0m\u001b[0mmin\u001b[0m\u001b[0;34m(\u001b[0m\u001b[0;34m)\u001b[0m \u001b[0;34m-\u001b[0m \u001b[0;36m.1\u001b[0m\u001b[0;34m,\u001b[0m \u001b[0mX\u001b[0m\u001b[0;34m[\u001b[0m\u001b[0;34m:\u001b[0m\u001b[0;34m,\u001b[0m \u001b[0;36m1\u001b[0m\u001b[0;34m]\u001b[0m\u001b[0;34m.\u001b[0m\u001b[0mmax\u001b[0m\u001b[0;34m(\u001b[0m\u001b[0;34m)\u001b[0m \u001b[0;34m+\u001b[0m \u001b[0;36m.1\u001b[0m\u001b[0;34m\u001b[0m\u001b[0m\n\u001b[1;32m      5\u001b[0m     xx, yy = np.meshgrid(np.linspace(x_min, x_max, 50),\n",
        "\u001b[0;32m/Users/isadoranun/anaconda/lib/python2.7/site-packages/sklearn/ensemble/forest.pyc\u001b[0m in \u001b[0;36mfit\u001b[0;34m(self, X, y, sample_weight)\u001b[0m\n\u001b[1;32m    222\u001b[0m \u001b[0;34m\u001b[0m\u001b[0m\n\u001b[1;32m    223\u001b[0m         \u001b[0;31m# Convert data\u001b[0m\u001b[0;34m\u001b[0m\u001b[0;34m\u001b[0m\u001b[0m\n\u001b[0;32m--> 224\u001b[0;31m         \u001b[0mX\u001b[0m\u001b[0;34m,\u001b[0m \u001b[0;34m=\u001b[0m \u001b[0mcheck_arrays\u001b[0m\u001b[0;34m(\u001b[0m\u001b[0mX\u001b[0m\u001b[0;34m,\u001b[0m \u001b[0mdtype\u001b[0m\u001b[0;34m=\u001b[0m\u001b[0mDTYPE\u001b[0m\u001b[0;34m,\u001b[0m \u001b[0msparse_format\u001b[0m\u001b[0;34m=\u001b[0m\u001b[0;34m\"dense\"\u001b[0m\u001b[0;34m)\u001b[0m\u001b[0;34m\u001b[0m\u001b[0m\n\u001b[0m\u001b[1;32m    225\u001b[0m \u001b[0;34m\u001b[0m\u001b[0m\n\u001b[1;32m    226\u001b[0m         \u001b[0;31m# Remap output\u001b[0m\u001b[0;34m\u001b[0m\u001b[0;34m\u001b[0m\u001b[0m\n",
        "\u001b[0;32m/Users/isadoranun/anaconda/lib/python2.7/site-packages/sklearn/utils/validation.pyc\u001b[0m in \u001b[0;36mcheck_arrays\u001b[0;34m(*arrays, **options)\u001b[0m\n\u001b[1;32m    281\u001b[0m                     \u001b[0marray\u001b[0m \u001b[0;34m=\u001b[0m \u001b[0mnp\u001b[0m\u001b[0;34m.\u001b[0m\u001b[0masarray\u001b[0m\u001b[0;34m(\u001b[0m\u001b[0marray\u001b[0m\u001b[0;34m,\u001b[0m \u001b[0mdtype\u001b[0m\u001b[0;34m=\u001b[0m\u001b[0mdtype\u001b[0m\u001b[0;34m)\u001b[0m\u001b[0;34m\u001b[0m\u001b[0m\n\u001b[1;32m    282\u001b[0m                 \u001b[0;32mif\u001b[0m \u001b[0;32mnot\u001b[0m \u001b[0mallow_nans\u001b[0m\u001b[0;34m:\u001b[0m\u001b[0;34m\u001b[0m\u001b[0m\n\u001b[0;32m--> 283\u001b[0;31m                     \u001b[0m_assert_all_finite\u001b[0m\u001b[0;34m(\u001b[0m\u001b[0marray\u001b[0m\u001b[0;34m)\u001b[0m\u001b[0;34m\u001b[0m\u001b[0m\n\u001b[0m\u001b[1;32m    284\u001b[0m \u001b[0;34m\u001b[0m\u001b[0m\n\u001b[1;32m    285\u001b[0m             \u001b[0;32mif\u001b[0m \u001b[0;32mnot\u001b[0m \u001b[0mallow_nd\u001b[0m \u001b[0;32mand\u001b[0m \u001b[0marray\u001b[0m\u001b[0;34m.\u001b[0m\u001b[0mndim\u001b[0m \u001b[0;34m>=\u001b[0m \u001b[0;36m3\u001b[0m\u001b[0;34m:\u001b[0m\u001b[0;34m\u001b[0m\u001b[0m\n",
        "\u001b[0;32m/Users/isadoranun/anaconda/lib/python2.7/site-packages/sklearn/utils/validation.pyc\u001b[0m in \u001b[0;36m_assert_all_finite\u001b[0;34m(X)\u001b[0m\n\u001b[1;32m     41\u001b[0m             and not np.isfinite(X).all()):\n\u001b[1;32m     42\u001b[0m         raise ValueError(\"Input contains NaN, infinity\"\n\u001b[0;32m---> 43\u001b[0;31m                          \" or a value too large for %r.\" % X.dtype)\n\u001b[0m\u001b[1;32m     44\u001b[0m \u001b[0;34m\u001b[0m\u001b[0m\n\u001b[1;32m     45\u001b[0m \u001b[0;34m\u001b[0m\u001b[0m\n",
        "\u001b[0;31mValueError\u001b[0m: Input contains NaN, infinity or a value too large for dtype('float32')."
       ]
      }
     ],
     "prompt_number": 106
    },
    {
     "cell_type": "markdown",
     "metadata": {},
     "source": [
      "### pruning for $ \\textit{max_depths} $ for decision tree ###"
     ]
    },
    {
     "cell_type": "code",
     "collapsed": false,
     "input": [
      "\n",
      "kfold = KFold(Xr.shape[0], n_folds=10)\n",
      "accs = []\n",
      "max_depths = range(1, 20)\n",
      "for max_depth in max_depths:\n",
      "    k_accs = []\n",
      "    for train, test in kfold:\n",
      "        Xtrain, Xtest, ytrain, ytest = Xr[train], Xr[test], yr[train], yr[test]\n",
      "        clf = DecisionTreeClassifier(max_depth=max_depth)\n",
      "        clf.fit(Xtrain, ytrain)\n",
      "        ypred = clf.predict(Xtest)\n",
      "        k_accs.append(accuracy_score(ytest, ypred))\n",
      "    accs.append(np.mean(k_accs))\n",
      "# plot the accuracies as a function of max_depth\n",
      "plt.plot(max_depths, accs, linewidth=2.5)"
     ],
     "language": "python",
     "metadata": {},
     "outputs": [
      {
       "metadata": {},
       "output_type": "pyout",
       "prompt_number": 72,
       "text": [
        "[<matplotlib.lines.Line2D at 0x10be0bb50>]"
       ]
      },
      {
       "metadata": {},
       "output_type": "display_data",
       "png": "[encoded data removed]",
       "text": [
        "<matplotlib.figure.Figure at 0x10b407310>"
       ]
      }
     ],
     "prompt_number": 72
    },
    {
     "cell_type": "markdown",
     "metadata": {},
     "source": [
      "### Boosting to tune $ \\textit{number of trees} $ ###\n",
      "\n",
      "Boosting builds lots of small trees. Unlike Random Forests, each tree tries to make up for the deficiencies in the current ensemble. With Boosting, the number of trees is a tuning parameter. Using the same train/test split, we plot the variance of MSE against the number of trees."
     ]
    },
    {
     "cell_type": "code",
     "collapsed": false,
     "input": [
      "num_trees = range(100, 2000, 100)\n",
      "mses = []\n",
      "for num_tree in num_trees:\n",
      "    print (num_tree)\n",
      "    reg = RandomForestClassifier(n_estimators=num_tree)\n",
      "    reg.fit(Xr, yr)\n",
      "    ypred = reg.predict(Xt)\n",
      "    mses.append(mean_squared_error(yt, ypred))\n",
      "plt.plot(num_trees, mses)\n",
      "plt.xlabel(\"#-trees\")\n",
      "plt.ylabel(\"MSE\")"
     ],
     "language": "python",
     "metadata": {},
     "outputs": [
      {
       "output_type": "stream",
       "stream": "stdout",
       "text": [
        "100\n",
        "200"
       ]
      },
      {
       "output_type": "stream",
       "stream": "stdout",
       "text": [
        "\n",
        "300"
       ]
      },
      {
       "output_type": "stream",
       "stream": "stdout",
       "text": [
        "\n",
        "400"
       ]
      },
      {
       "output_type": "stream",
       "stream": "stdout",
       "text": [
        "\n",
        "500"
       ]
      },
      {
       "output_type": "stream",
       "stream": "stdout",
       "text": [
        "\n",
        "600"
       ]
      },
      {
       "output_type": "stream",
       "stream": "stdout",
       "text": [
        "\n",
        "700"
       ]
      },
      {
       "output_type": "stream",
       "stream": "stdout",
       "text": [
        "\n",
        "800"
       ]
      },
      {
       "output_type": "stream",
       "stream": "stdout",
       "text": [
        "\n",
        "900"
       ]
      },
      {
       "output_type": "stream",
       "stream": "stdout",
       "text": [
        "\n",
        "1000"
       ]
      },
      {
       "output_type": "stream",
       "stream": "stdout",
       "text": [
        "\n",
        "1100"
       ]
      },
      {
       "output_type": "stream",
       "stream": "stdout",
       "text": [
        "\n",
        "1200"
       ]
      },
      {
       "output_type": "stream",
       "stream": "stdout",
       "text": [
        "\n",
        "1300"
       ]
      },
      {
       "output_type": "stream",
       "stream": "stdout",
       "text": [
        "\n",
        "1400"
       ]
      },
      {
       "output_type": "stream",
       "stream": "stdout",
       "text": [
        "\n",
        "1500"
       ]
      },
      {
       "output_type": "stream",
       "stream": "stdout",
       "text": [
        "\n",
        "1600"
       ]
      },
      {
       "output_type": "stream",
       "stream": "stdout",
       "text": [
        "\n",
        "1700"
       ]
      },
      {
       "output_type": "stream",
       "stream": "stdout",
       "text": [
        "\n",
        "1800"
       ]
      },
      {
       "output_type": "stream",
       "stream": "stdout",
       "text": [
        "\n",
        "1900"
       ]
      },
      {
       "output_type": "stream",
       "stream": "stdout",
       "text": [
        "\n"
       ]
      },
      {
       "metadata": {},
       "output_type": "pyout",
       "prompt_number": 73,
       "text": [
        "<matplotlib.text.Text at 0x10b2b02d0>"
       ]
      },
      {
       "metadata": {},
       "output_type": "display_data",
       "png": "[encoded data removed]",
       "text": [
        "<matplotlib.figure.Figure at 0x10a5b2c90>"
       ]
      }
     ],
     "prompt_number": 73
    },
    {
     "cell_type": "markdown",
     "metadata": {},
     "source": [
      "### tuning for $ \\textit{max_features} $ ###"
     ]
    },
    {
     "cell_type": "code",
     "collapsed": false,
     "input": [
      "oob_scores = []\n",
      "mses = []\n",
      "num_feats = range(1, 33)\n",
      "for num_feat in num_feats:\n",
      "    clf = RandomForestClassifier(n_estimators=500, max_features=num_feat, oob_score=True)\n",
      "    clf.fit(Xr, yr)\n",
      "    ypred = clf.predict(Xt)\n",
      "    mses.append(mean_squared_error(yt, ypred))\n",
      "    oob_scores.append(clf.oob_score_)\n",
      "plt.plot(num_feats, mses, color='b', linewidth=2.5);\n",
      "plt.plot(num_feats, oob_scores, color='r', linewidth=2.5);\n",
      "plt.xlabel(\"features\")\n",
      "plt.ylabel(\"MSE (blue); OOB (red)\")"
     ],
     "language": "python",
     "metadata": {},
     "outputs": [
      {
       "metadata": {},
       "output_type": "pyout",
       "prompt_number": 74,
       "text": [
        "<matplotlib.text.Text at 0x10f7c0f90>"
       ]
      },
      {
       "metadata": {},
       "output_type": "display_data",
       "png": "[encoded data removed]",
       "text": [
        "<matplotlib.figure.Figure at 0x11043c6d0>"
       ]
      }
     ],
     "prompt_number": 74
    },
    {
     "cell_type": "markdown",
     "metadata": {},
     "source": [
      "### standard scale data to center around 0 ###"
     ]
    },
    {
     "cell_type": "code",
     "collapsed": false,
     "input": [
      "def stand_features(data, feature_names = 'all'):\n",
      "    if feature_names == 'all': \n",
      "        column_names = data.columns\n",
      "        data = pd.DataFrame(StandardScaler().fit_transform(data), columns=column_names)\n",
      "    else:\n",
      "        data[feature_names] = pd.DataFrame(StandardScaler().fit_transform(data), columns=feature_names)\n",
      "    return data       "
     ],
     "language": "python",
     "metadata": {},
     "outputs": [],
     "prompt_number": 56
    },
    {
     "cell_type": "code",
     "collapsed": false,
     "input": [
      "newData = stand_features(train)\n",
      "newData.head()"
     ],
     "language": "python",
     "metadata": {},
     "outputs": [
      {
       "ename": "AttributeError",
       "evalue": "'numpy.ndarray' object has no attribute 'columns'",
       "output_type": "pyerr",
       "traceback": [
        "\u001b[0;31m---------------------------------------------------------------------------\u001b[0m\n\u001b[0;31mAttributeError\u001b[0m                            Traceback (most recent call last)",
        "\u001b[0;32m<ipython-input-57-f299c776d488>\u001b[0m in \u001b[0;36m<module>\u001b[0;34m()\u001b[0m\n\u001b[0;32m----> 1\u001b[0;31m \u001b[0mnewData\u001b[0m \u001b[0;34m=\u001b[0m \u001b[0mstand_features\u001b[0m\u001b[0;34m(\u001b[0m\u001b[0mtrain\u001b[0m\u001b[0;34m)\u001b[0m\u001b[0;34m\u001b[0m\u001b[0m\n\u001b[0m\u001b[1;32m      2\u001b[0m \u001b[0mnewData\u001b[0m\u001b[0;34m.\u001b[0m\u001b[0mhead\u001b[0m\u001b[0;34m(\u001b[0m\u001b[0;34m)\u001b[0m\u001b[0;34m\u001b[0m\u001b[0m\n",
        "\u001b[0;32m<ipython-input-56-9f3c4a89cb56>\u001b[0m in \u001b[0;36mstand_features\u001b[0;34m(data, feature_names)\u001b[0m\n\u001b[1;32m      1\u001b[0m \u001b[0;32mdef\u001b[0m \u001b[0mstand_features\u001b[0m\u001b[0;34m(\u001b[0m\u001b[0mdata\u001b[0m\u001b[0;34m,\u001b[0m \u001b[0mfeature_names\u001b[0m \u001b[0;34m=\u001b[0m \u001b[0;34m'all'\u001b[0m\u001b[0;34m)\u001b[0m\u001b[0;34m:\u001b[0m\u001b[0;34m\u001b[0m\u001b[0m\n\u001b[1;32m      2\u001b[0m     \u001b[0;32mif\u001b[0m \u001b[0mfeature_names\u001b[0m \u001b[0;34m==\u001b[0m \u001b[0;34m'all'\u001b[0m\u001b[0;34m:\u001b[0m\u001b[0;34m\u001b[0m\u001b[0m\n\u001b[0;32m----> 3\u001b[0;31m         \u001b[0mcolumn_names\u001b[0m \u001b[0;34m=\u001b[0m \u001b[0mdata\u001b[0m\u001b[0;34m.\u001b[0m\u001b[0mcolumns\u001b[0m\u001b[0;34m\u001b[0m\u001b[0m\n\u001b[0m\u001b[1;32m      4\u001b[0m         \u001b[0mdata\u001b[0m \u001b[0;34m=\u001b[0m \u001b[0mpd\u001b[0m\u001b[0;34m.\u001b[0m\u001b[0mDataFrame\u001b[0m\u001b[0;34m(\u001b[0m\u001b[0mStandardScaler\u001b[0m\u001b[0;34m(\u001b[0m\u001b[0;34m)\u001b[0m\u001b[0;34m.\u001b[0m\u001b[0mfit_transform\u001b[0m\u001b[0;34m(\u001b[0m\u001b[0mdata\u001b[0m\u001b[0;34m)\u001b[0m\u001b[0;34m,\u001b[0m \u001b[0mcolumns\u001b[0m\u001b[0;34m=\u001b[0m\u001b[0mcolumn_names\u001b[0m\u001b[0;34m)\u001b[0m\u001b[0;34m\u001b[0m\u001b[0m\n\u001b[1;32m      5\u001b[0m     \u001b[0;32melse\u001b[0m\u001b[0;34m:\u001b[0m\u001b[0;34m\u001b[0m\u001b[0m\n",
        "\u001b[0;31mAttributeError\u001b[0m: 'numpy.ndarray' object has no attribute 'columns'"
       ]
      }
     ],
     "prompt_number": 57
    },
    {
     "cell_type": "code",
     "collapsed": false,
     "input": [
      "clf = RandomForestClassifier(n_estimators=100)\n",
      "clf.fit(Xr, yr)\n",
      "\n",
      "print clf.score(Xt, yt)"
     ],
     "language": "python",
     "metadata": {},
     "outputs": [
      {
       "output_type": "stream",
       "stream": "stdout",
       "text": [
        "0.962\n"
       ]
      }
     ],
     "prompt_number": 58
    },
    {
     "cell_type": "markdown",
     "metadata": {},
     "source": [
      "### random forest for feature importance ###"
     ]
    },
    {
     "cell_type": "markdown",
     "metadata": {},
     "source": [
      "** Features used at the top of the tree are used contribute to the final prediction decision of a larger fraction of the input samples. The expected fraction of the samples they contribute to can thus be used as an estimate of the relative importance of the features. **"
     ]
    },
    {
     "cell_type": "code",
     "collapsed": false,
     "input": [
      "# look up the specific algorithm\n",
      "importances = clf.feature_importances_\n",
      "sorted_idx = np.argsort(importances)\n",
      "\n",
      "plt.figure(figsize = [10,12])\n",
      "padding = np.arange(len(features)) + 0.2\n",
      "plt.barh(padding, importances[sorted_idx], align='center')\n",
      "plt.yticks(padding, features[sorted_idx])\n",
      "plt.xlabel(\"Relative Importance\")\n",
      "plt.title(\"Variable Importance\")\n",
      "plt.show()"
     ],
     "language": "python",
     "metadata": {},
     "outputs": [
      {
       "metadata": {},
       "output_type": "display_data",
       "png": "[encoded data removed]",
       "text": [
        "<matplotlib.figure.Figure at 0x10d142590>"
       ]
      }
     ],
     "prompt_number": 37
    },
    {
     "cell_type": "markdown",
     "metadata": {},
     "source": [
      "### SVM for classification ###\n",
      "\n",
      "    1. Linear Kernal: no real transformation on the data\n",
      "        Parameters: C (the ratio of how much emphasis we want to put on minimizing the error or maximizing the margin. Large C: Lower bias, higher variance, pro to overfitting)\n",
      "    2. Polynomial Kernal: of degre k on n original features yields O(n^k) expanded features\n",
      "        Parameters: C, degree(of the polynomial), gamma(coefficient of the polynomial)\n",
      "    3. RBF Kernal: normal, yield infinitely many expanded features\n",
      "        Parameters: gamma(1/gamma is the variance)"
     ]
    },
    {
     "cell_type": "code",
     "collapsed": false,
     "input": [
      "clf = svm.linearSVC()\n",
      "clf.fit(Xr, yr)\n",
      "print 'score of accuracy %f' % (clf.score(Xt, yt))"
     ],
     "language": "python",
     "metadata": {},
     "outputs": [
      {
       "ename": "AttributeError",
       "evalue": "'module' object has no attribute 'linearSVC'",
       "output_type": "pyerr",
       "traceback": [
        "\u001b[0;31m---------------------------------------------------------------------------\u001b[0m\n\u001b[0;31mAttributeError\u001b[0m                            Traceback (most recent call last)",
        "\u001b[0;32m<ipython-input-48-02d854a67da1>\u001b[0m in \u001b[0;36m<module>\u001b[0;34m()\u001b[0m\n\u001b[0;32m----> 1\u001b[0;31m \u001b[0mclf\u001b[0m \u001b[0;34m=\u001b[0m \u001b[0msvm\u001b[0m\u001b[0;34m.\u001b[0m\u001b[0mlinearSVC\u001b[0m\u001b[0;34m(\u001b[0m\u001b[0;34m)\u001b[0m\u001b[0;34m\u001b[0m\u001b[0m\n\u001b[0m\u001b[1;32m      2\u001b[0m \u001b[0mclf\u001b[0m\u001b[0;34m.\u001b[0m\u001b[0mfit\u001b[0m\u001b[0;34m(\u001b[0m\u001b[0mXr\u001b[0m\u001b[0;34m,\u001b[0m \u001b[0myr\u001b[0m\u001b[0;34m)\u001b[0m\u001b[0;34m\u001b[0m\u001b[0m\n\u001b[1;32m      3\u001b[0m \u001b[0;32mprint\u001b[0m \u001b[0;34m'score of accuracy %f'\u001b[0m \u001b[0;34m%\u001b[0m \u001b[0;34m(\u001b[0m\u001b[0mclf\u001b[0m\u001b[0;34m.\u001b[0m\u001b[0mscore\u001b[0m\u001b[0;34m(\u001b[0m\u001b[0mXt\u001b[0m\u001b[0;34m,\u001b[0m \u001b[0myt\u001b[0m\u001b[0;34m)\u001b[0m\u001b[0;34m)\u001b[0m\u001b[0;34m\u001b[0m\u001b[0m\n",
        "\u001b[0;31mAttributeError\u001b[0m: 'module' object has no attribute 'linearSVC'"
       ]
      }
     ],
     "prompt_number": 48
    },
    {
     "cell_type": "markdown",
     "metadata": {},
     "source": [
      "### deep learning ###"
     ]
    },
    {
     "cell_type": "code",
     "collapsed": false,
     "input": [
      "import theano\n",
      "import theano.tensor as T"
     ],
     "language": "python",
     "metadata": {},
     "outputs": [],
     "prompt_number": 4
    },
    {
     "cell_type": "code",
     "collapsed": false,
     "input": [
      "theano.__version__\n",
      "print theano.config.device"
     ],
     "language": "python",
     "metadata": {},
     "outputs": [
      {
       "output_type": "stream",
       "stream": "stdout",
       "text": [
        "cpu\n"
       ]
      }
     ],
     "prompt_number": 5
    },
    {
     "cell_type": "code",
     "collapsed": false,
     "input": [],
     "language": "python",
     "metadata": {},
     "outputs": []
    }
   ],
   "metadata": {}
  }
 ]
}